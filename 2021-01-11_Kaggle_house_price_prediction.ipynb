{
 "cells": [
  {
   "cell_type": "markdown",
   "metadata": {},
   "source": [
    "## Predicting house prices on the Kaggle dataset\n",
    "\n",
    "1. Data cleaning & feature engineering\n",
    "1. Regression\n",
    "1. Clustering to obtain house price bins, then classification: for fum"
   ]
  },
  {
   "cell_type": "markdown",
   "metadata": {},
   "source": [
    "### Get packages & data"
   ]
  },
  {
   "cell_type": "code",
   "execution_count": 1,
   "metadata": {},
   "outputs": [],
   "source": [
    "# get packages\n",
    "\n",
    "import mglearn\n",
    "import pandas as pd\n",
    "import numpy as np\n",
    "import matplotlib.pyplot as plt\n",
    "\n",
    "# show matplotlib plots nicely\n",
    "%matplotlib inline"
   ]
  },
  {
   "cell_type": "code",
   "execution_count": 2,
   "metadata": {},
   "outputs": [],
   "source": [
    "# get data\n",
    "\n",
    "# !kaggle competitions download -c house-prices-advanced-regression-techniques"
   ]
  },
  {
   "cell_type": "code",
   "execution_count": 3,
   "metadata": {},
   "outputs": [],
   "source": [
    "# I only really need the \"train\" data, ie data that has labels\n",
    "# (since I'm not trying to take part in the competition and predict the unlabelled data)\n",
    "train_original = pd.read_csv('data/train.csv')"
   ]
  },
  {
   "cell_type": "markdown",
   "metadata": {},
   "source": [
    "## Inspect data"
   ]
  },
  {
   "cell_type": "code",
   "execution_count": 4,
   "metadata": {
    "scrolled": false
   },
   "outputs": [
    {
     "data": {
      "text/html": [
       "<div>\n",
       "<style scoped>\n",
       "    .dataframe tbody tr th:only-of-type {\n",
       "        vertical-align: middle;\n",
       "    }\n",
       "\n",
       "    .dataframe tbody tr th {\n",
       "        vertical-align: top;\n",
       "    }\n",
       "\n",
       "    .dataframe thead th {\n",
       "        text-align: right;\n",
       "    }\n",
       "</style>\n",
       "<table border=\"1\" class=\"dataframe\">\n",
       "  <thead>\n",
       "    <tr style=\"text-align: right;\">\n",
       "      <th></th>\n",
       "      <th>Id</th>\n",
       "      <th>MSSubClass</th>\n",
       "      <th>MSZoning</th>\n",
       "      <th>LotFrontage</th>\n",
       "      <th>LotArea</th>\n",
       "      <th>Street</th>\n",
       "      <th>Alley</th>\n",
       "      <th>LotShape</th>\n",
       "      <th>LandContour</th>\n",
       "      <th>Utilities</th>\n",
       "      <th>...</th>\n",
       "      <th>PoolArea</th>\n",
       "      <th>PoolQC</th>\n",
       "      <th>Fence</th>\n",
       "      <th>MiscFeature</th>\n",
       "      <th>MiscVal</th>\n",
       "      <th>MoSold</th>\n",
       "      <th>YrSold</th>\n",
       "      <th>SaleType</th>\n",
       "      <th>SaleCondition</th>\n",
       "      <th>SalePrice</th>\n",
       "    </tr>\n",
       "  </thead>\n",
       "  <tbody>\n",
       "    <tr>\n",
       "      <th>0</th>\n",
       "      <td>1</td>\n",
       "      <td>60</td>\n",
       "      <td>RL</td>\n",
       "      <td>65.0</td>\n",
       "      <td>8450</td>\n",
       "      <td>Pave</td>\n",
       "      <td>NaN</td>\n",
       "      <td>Reg</td>\n",
       "      <td>Lvl</td>\n",
       "      <td>AllPub</td>\n",
       "      <td>...</td>\n",
       "      <td>0</td>\n",
       "      <td>NaN</td>\n",
       "      <td>NaN</td>\n",
       "      <td>NaN</td>\n",
       "      <td>0</td>\n",
       "      <td>2</td>\n",
       "      <td>2008</td>\n",
       "      <td>WD</td>\n",
       "      <td>Normal</td>\n",
       "      <td>208500</td>\n",
       "    </tr>\n",
       "    <tr>\n",
       "      <th>1</th>\n",
       "      <td>2</td>\n",
       "      <td>20</td>\n",
       "      <td>RL</td>\n",
       "      <td>80.0</td>\n",
       "      <td>9600</td>\n",
       "      <td>Pave</td>\n",
       "      <td>NaN</td>\n",
       "      <td>Reg</td>\n",
       "      <td>Lvl</td>\n",
       "      <td>AllPub</td>\n",
       "      <td>...</td>\n",
       "      <td>0</td>\n",
       "      <td>NaN</td>\n",
       "      <td>NaN</td>\n",
       "      <td>NaN</td>\n",
       "      <td>0</td>\n",
       "      <td>5</td>\n",
       "      <td>2007</td>\n",
       "      <td>WD</td>\n",
       "      <td>Normal</td>\n",
       "      <td>181500</td>\n",
       "    </tr>\n",
       "    <tr>\n",
       "      <th>2</th>\n",
       "      <td>3</td>\n",
       "      <td>60</td>\n",
       "      <td>RL</td>\n",
       "      <td>68.0</td>\n",
       "      <td>11250</td>\n",
       "      <td>Pave</td>\n",
       "      <td>NaN</td>\n",
       "      <td>IR1</td>\n",
       "      <td>Lvl</td>\n",
       "      <td>AllPub</td>\n",
       "      <td>...</td>\n",
       "      <td>0</td>\n",
       "      <td>NaN</td>\n",
       "      <td>NaN</td>\n",
       "      <td>NaN</td>\n",
       "      <td>0</td>\n",
       "      <td>9</td>\n",
       "      <td>2008</td>\n",
       "      <td>WD</td>\n",
       "      <td>Normal</td>\n",
       "      <td>223500</td>\n",
       "    </tr>\n",
       "    <tr>\n",
       "      <th>3</th>\n",
       "      <td>4</td>\n",
       "      <td>70</td>\n",
       "      <td>RL</td>\n",
       "      <td>60.0</td>\n",
       "      <td>9550</td>\n",
       "      <td>Pave</td>\n",
       "      <td>NaN</td>\n",
       "      <td>IR1</td>\n",
       "      <td>Lvl</td>\n",
       "      <td>AllPub</td>\n",
       "      <td>...</td>\n",
       "      <td>0</td>\n",
       "      <td>NaN</td>\n",
       "      <td>NaN</td>\n",
       "      <td>NaN</td>\n",
       "      <td>0</td>\n",
       "      <td>2</td>\n",
       "      <td>2006</td>\n",
       "      <td>WD</td>\n",
       "      <td>Abnorml</td>\n",
       "      <td>140000</td>\n",
       "    </tr>\n",
       "    <tr>\n",
       "      <th>4</th>\n",
       "      <td>5</td>\n",
       "      <td>60</td>\n",
       "      <td>RL</td>\n",
       "      <td>84.0</td>\n",
       "      <td>14260</td>\n",
       "      <td>Pave</td>\n",
       "      <td>NaN</td>\n",
       "      <td>IR1</td>\n",
       "      <td>Lvl</td>\n",
       "      <td>AllPub</td>\n",
       "      <td>...</td>\n",
       "      <td>0</td>\n",
       "      <td>NaN</td>\n",
       "      <td>NaN</td>\n",
       "      <td>NaN</td>\n",
       "      <td>0</td>\n",
       "      <td>12</td>\n",
       "      <td>2008</td>\n",
       "      <td>WD</td>\n",
       "      <td>Normal</td>\n",
       "      <td>250000</td>\n",
       "    </tr>\n",
       "  </tbody>\n",
       "</table>\n",
       "<p>5 rows × 81 columns</p>\n",
       "</div>"
      ],
      "text/plain": [
       "   Id  MSSubClass MSZoning  LotFrontage  LotArea Street Alley LotShape  \\\n",
       "0   1          60       RL         65.0     8450   Pave   NaN      Reg   \n",
       "1   2          20       RL         80.0     9600   Pave   NaN      Reg   \n",
       "2   3          60       RL         68.0    11250   Pave   NaN      IR1   \n",
       "3   4          70       RL         60.0     9550   Pave   NaN      IR1   \n",
       "4   5          60       RL         84.0    14260   Pave   NaN      IR1   \n",
       "\n",
       "  LandContour Utilities  ... PoolArea PoolQC Fence MiscFeature MiscVal MoSold  \\\n",
       "0         Lvl    AllPub  ...        0    NaN   NaN         NaN       0      2   \n",
       "1         Lvl    AllPub  ...        0    NaN   NaN         NaN       0      5   \n",
       "2         Lvl    AllPub  ...        0    NaN   NaN         NaN       0      9   \n",
       "3         Lvl    AllPub  ...        0    NaN   NaN         NaN       0      2   \n",
       "4         Lvl    AllPub  ...        0    NaN   NaN         NaN       0     12   \n",
       "\n",
       "  YrSold  SaleType  SaleCondition  SalePrice  \n",
       "0   2008        WD         Normal     208500  \n",
       "1   2007        WD         Normal     181500  \n",
       "2   2008        WD         Normal     223500  \n",
       "3   2006        WD        Abnorml     140000  \n",
       "4   2008        WD         Normal     250000  \n",
       "\n",
       "[5 rows x 81 columns]"
      ]
     },
     "metadata": {},
     "output_type": "display_data"
    }
   ],
   "source": [
    "display(train_original.head())"
   ]
  },
  {
   "cell_type": "code",
   "execution_count": 5,
   "metadata": {},
   "outputs": [
    {
     "name": "stdout",
     "output_type": "stream",
     "text": [
      "<class 'pandas.core.frame.DataFrame'>\n",
      "RangeIndex: 1460 entries, 0 to 1459\n",
      "Data columns (total 81 columns):\n",
      " #   Column         Non-Null Count  Dtype  \n",
      "---  ------         --------------  -----  \n",
      " 0   Id             1460 non-null   int64  \n",
      " 1   MSSubClass     1460 non-null   int64  \n",
      " 2   MSZoning       1460 non-null   object \n",
      " 3   LotFrontage    1201 non-null   float64\n",
      " 4   LotArea        1460 non-null   int64  \n",
      " 5   Street         1460 non-null   object \n",
      " 6   Alley          91 non-null     object \n",
      " 7   LotShape       1460 non-null   object \n",
      " 8   LandContour    1460 non-null   object \n",
      " 9   Utilities      1460 non-null   object \n",
      " 10  LotConfig      1460 non-null   object \n",
      " 11  LandSlope      1460 non-null   object \n",
      " 12  Neighborhood   1460 non-null   object \n",
      " 13  Condition1     1460 non-null   object \n",
      " 14  Condition2     1460 non-null   object \n",
      " 15  BldgType       1460 non-null   object \n",
      " 16  HouseStyle     1460 non-null   object \n",
      " 17  OverallQual    1460 non-null   int64  \n",
      " 18  OverallCond    1460 non-null   int64  \n",
      " 19  YearBuilt      1460 non-null   int64  \n",
      " 20  YearRemodAdd   1460 non-null   int64  \n",
      " 21  RoofStyle      1460 non-null   object \n",
      " 22  RoofMatl       1460 non-null   object \n",
      " 23  Exterior1st    1460 non-null   object \n",
      " 24  Exterior2nd    1460 non-null   object \n",
      " 25  MasVnrType     1452 non-null   object \n",
      " 26  MasVnrArea     1452 non-null   float64\n",
      " 27  ExterQual      1460 non-null   object \n",
      " 28  ExterCond      1460 non-null   object \n",
      " 29  Foundation     1460 non-null   object \n",
      " 30  BsmtQual       1423 non-null   object \n",
      " 31  BsmtCond       1423 non-null   object \n",
      " 32  BsmtExposure   1422 non-null   object \n",
      " 33  BsmtFinType1   1423 non-null   object \n",
      " 34  BsmtFinSF1     1460 non-null   int64  \n",
      " 35  BsmtFinType2   1422 non-null   object \n",
      " 36  BsmtFinSF2     1460 non-null   int64  \n",
      " 37  BsmtUnfSF      1460 non-null   int64  \n",
      " 38  TotalBsmtSF    1460 non-null   int64  \n",
      " 39  Heating        1460 non-null   object \n",
      " 40  HeatingQC      1460 non-null   object \n",
      " 41  CentralAir     1460 non-null   object \n",
      " 42  Electrical     1459 non-null   object \n",
      " 43  1stFlrSF       1460 non-null   int64  \n",
      " 44  2ndFlrSF       1460 non-null   int64  \n",
      " 45  LowQualFinSF   1460 non-null   int64  \n",
      " 46  GrLivArea      1460 non-null   int64  \n",
      " 47  BsmtFullBath   1460 non-null   int64  \n",
      " 48  BsmtHalfBath   1460 non-null   int64  \n",
      " 49  FullBath       1460 non-null   int64  \n",
      " 50  HalfBath       1460 non-null   int64  \n",
      " 51  BedroomAbvGr   1460 non-null   int64  \n",
      " 52  KitchenAbvGr   1460 non-null   int64  \n",
      " 53  KitchenQual    1460 non-null   object \n",
      " 54  TotRmsAbvGrd   1460 non-null   int64  \n",
      " 55  Functional     1460 non-null   object \n",
      " 56  Fireplaces     1460 non-null   int64  \n",
      " 57  FireplaceQu    770 non-null    object \n",
      " 58  GarageType     1379 non-null   object \n",
      " 59  GarageYrBlt    1379 non-null   float64\n",
      " 60  GarageFinish   1379 non-null   object \n",
      " 61  GarageCars     1460 non-null   int64  \n",
      " 62  GarageArea     1460 non-null   int64  \n",
      " 63  GarageQual     1379 non-null   object \n",
      " 64  GarageCond     1379 non-null   object \n",
      " 65  PavedDrive     1460 non-null   object \n",
      " 66  WoodDeckSF     1460 non-null   int64  \n",
      " 67  OpenPorchSF    1460 non-null   int64  \n",
      " 68  EnclosedPorch  1460 non-null   int64  \n",
      " 69  3SsnPorch      1460 non-null   int64  \n",
      " 70  ScreenPorch    1460 non-null   int64  \n",
      " 71  PoolArea       1460 non-null   int64  \n",
      " 72  PoolQC         7 non-null      object \n",
      " 73  Fence          281 non-null    object \n",
      " 74  MiscFeature    54 non-null     object \n",
      " 75  MiscVal        1460 non-null   int64  \n",
      " 76  MoSold         1460 non-null   int64  \n",
      " 77  YrSold         1460 non-null   int64  \n",
      " 78  SaleType       1460 non-null   object \n",
      " 79  SaleCondition  1460 non-null   object \n",
      " 80  SalePrice      1460 non-null   int64  \n",
      "dtypes: float64(3), int64(35), object(43)\n",
      "memory usage: 924.0+ KB\n"
     ]
    },
    {
     "data": {
      "text/plain": [
       "None"
      ]
     },
     "metadata": {},
     "output_type": "display_data"
    }
   ],
   "source": [
    "display(train_original.info())"
   ]
  },
  {
   "cell_type": "markdown",
   "metadata": {},
   "source": [
    "## Plan:\n",
    "\n",
    "### Data cleaning\n",
    "1. Drop needless columns: any column with fewer than 1300 non-null value\n",
    "1. Fill in null values in the other columns\n",
    "    1. Will need to explore data & figure out best ways to do this for each column\n",
    "1. Massage each non-numeric columns\n",
    "    1. Explore data\n",
    "    1. One-hot encode or do something else (or drop if doesn't seem useful)\n",
    "1. Massage numeric columns\n",
    "    1. Explore data, eg plots\n",
    "    1. Get rid of crazy outlyers?\n",
    "        1. Clip (eg log / sqrt)\n",
    "        1. Normalise (check what would be the best way to do this)\n",
    "\n",
    "### Modelling: Regression\n",
    "1. Explore cross-validation\n",
    "1. Explore different model performance metrics\n",
    "1. Explore crazy feature engineering, eg polynomials etc\n",
    "1. Explore if dimension reduction could be useful\n",
    "    1. eg PCA\n",
    "1. Try out various regression models\n",
    "    1. Linear regression\n",
    "    1. Ridge regression\n",
    "    1. Lasso regression\n",
    "    1. Tress for regression (?): decision, gradient-boosted, random forest\n",
    "\n",
    "### Modelling: Crazy classification\n",
    "1. Do clustering on house prices to see if there are \"meaningful\" / \"obvious\" classes\n",
    "    1. k-means or Agglomerative clustering\n",
    "1. Group house prices into bins, as discovered from clustering\n",
    "1. Try classification on the data\n",
    "    1. knn\n",
    "    1. Logistic regression\n",
    "    1. SVM\n",
    "    1. Trees for classification: decision, gradient-boosted, random forest"
   ]
  },
  {
   "cell_type": "markdown",
   "metadata": {},
   "source": [
    "## Data cleaning"
   ]
  },
  {
   "cell_type": "code",
   "execution_count": 6,
   "metadata": {},
   "outputs": [],
   "source": [
    "# drop columns that have fewer than 771 non-null values\n",
    "data = train_original.dropna(thresh = 771, axis=1)"
   ]
  },
  {
   "cell_type": "code",
   "execution_count": 7,
   "metadata": {},
   "outputs": [
    {
     "name": "stdout",
     "output_type": "stream",
     "text": [
      "<class 'pandas.core.frame.DataFrame'>\n",
      "RangeIndex: 1460 entries, 0 to 1459\n",
      "Data columns (total 76 columns):\n",
      " #   Column         Non-Null Count  Dtype  \n",
      "---  ------         --------------  -----  \n",
      " 0   Id             1460 non-null   int64  \n",
      " 1   MSSubClass     1460 non-null   int64  \n",
      " 2   MSZoning       1460 non-null   object \n",
      " 3   LotFrontage    1201 non-null   float64\n",
      " 4   LotArea        1460 non-null   int64  \n",
      " 5   Street         1460 non-null   object \n",
      " 6   LotShape       1460 non-null   object \n",
      " 7   LandContour    1460 non-null   object \n",
      " 8   Utilities      1460 non-null   object \n",
      " 9   LotConfig      1460 non-null   object \n",
      " 10  LandSlope      1460 non-null   object \n",
      " 11  Neighborhood   1460 non-null   object \n",
      " 12  Condition1     1460 non-null   object \n",
      " 13  Condition2     1460 non-null   object \n",
      " 14  BldgType       1460 non-null   object \n",
      " 15  HouseStyle     1460 non-null   object \n",
      " 16  OverallQual    1460 non-null   int64  \n",
      " 17  OverallCond    1460 non-null   int64  \n",
      " 18  YearBuilt      1460 non-null   int64  \n",
      " 19  YearRemodAdd   1460 non-null   int64  \n",
      " 20  RoofStyle      1460 non-null   object \n",
      " 21  RoofMatl       1460 non-null   object \n",
      " 22  Exterior1st    1460 non-null   object \n",
      " 23  Exterior2nd    1460 non-null   object \n",
      " 24  MasVnrType     1452 non-null   object \n",
      " 25  MasVnrArea     1452 non-null   float64\n",
      " 26  ExterQual      1460 non-null   object \n",
      " 27  ExterCond      1460 non-null   object \n",
      " 28  Foundation     1460 non-null   object \n",
      " 29  BsmtQual       1423 non-null   object \n",
      " 30  BsmtCond       1423 non-null   object \n",
      " 31  BsmtExposure   1422 non-null   object \n",
      " 32  BsmtFinType1   1423 non-null   object \n",
      " 33  BsmtFinSF1     1460 non-null   int64  \n",
      " 34  BsmtFinType2   1422 non-null   object \n",
      " 35  BsmtFinSF2     1460 non-null   int64  \n",
      " 36  BsmtUnfSF      1460 non-null   int64  \n",
      " 37  TotalBsmtSF    1460 non-null   int64  \n",
      " 38  Heating        1460 non-null   object \n",
      " 39  HeatingQC      1460 non-null   object \n",
      " 40  CentralAir     1460 non-null   object \n",
      " 41  Electrical     1459 non-null   object \n",
      " 42  1stFlrSF       1460 non-null   int64  \n",
      " 43  2ndFlrSF       1460 non-null   int64  \n",
      " 44  LowQualFinSF   1460 non-null   int64  \n",
      " 45  GrLivArea      1460 non-null   int64  \n",
      " 46  BsmtFullBath   1460 non-null   int64  \n",
      " 47  BsmtHalfBath   1460 non-null   int64  \n",
      " 48  FullBath       1460 non-null   int64  \n",
      " 49  HalfBath       1460 non-null   int64  \n",
      " 50  BedroomAbvGr   1460 non-null   int64  \n",
      " 51  KitchenAbvGr   1460 non-null   int64  \n",
      " 52  KitchenQual    1460 non-null   object \n",
      " 53  TotRmsAbvGrd   1460 non-null   int64  \n",
      " 54  Functional     1460 non-null   object \n",
      " 55  Fireplaces     1460 non-null   int64  \n",
      " 56  GarageType     1379 non-null   object \n",
      " 57  GarageYrBlt    1379 non-null   float64\n",
      " 58  GarageFinish   1379 non-null   object \n",
      " 59  GarageCars     1460 non-null   int64  \n",
      " 60  GarageArea     1460 non-null   int64  \n",
      " 61  GarageQual     1379 non-null   object \n",
      " 62  GarageCond     1379 non-null   object \n",
      " 63  PavedDrive     1460 non-null   object \n",
      " 64  WoodDeckSF     1460 non-null   int64  \n",
      " 65  OpenPorchSF    1460 non-null   int64  \n",
      " 66  EnclosedPorch  1460 non-null   int64  \n",
      " 67  3SsnPorch      1460 non-null   int64  \n",
      " 68  ScreenPorch    1460 non-null   int64  \n",
      " 69  PoolArea       1460 non-null   int64  \n",
      " 70  MiscVal        1460 non-null   int64  \n",
      " 71  MoSold         1460 non-null   int64  \n",
      " 72  YrSold         1460 non-null   int64  \n",
      " 73  SaleType       1460 non-null   object \n",
      " 74  SaleCondition  1460 non-null   object \n",
      " 75  SalePrice      1460 non-null   int64  \n",
      "dtypes: float64(3), int64(35), object(38)\n",
      "memory usage: 867.0+ KB\n"
     ]
    }
   ],
   "source": [
    "data.info()"
   ]
  },
  {
   "cell_type": "markdown",
   "metadata": {},
   "source": [
    "# Deal with null values in numeric columns"
   ]
  },
  {
   "cell_type": "code",
   "execution_count": 8,
   "metadata": {
    "scrolled": true
   },
   "outputs": [
    {
     "data": {
      "text/html": [
       "<div>\n",
       "<style scoped>\n",
       "    .dataframe tbody tr th:only-of-type {\n",
       "        vertical-align: middle;\n",
       "    }\n",
       "\n",
       "    .dataframe tbody tr th {\n",
       "        vertical-align: top;\n",
       "    }\n",
       "\n",
       "    .dataframe thead th {\n",
       "        text-align: right;\n",
       "    }\n",
       "</style>\n",
       "<table border=\"1\" class=\"dataframe\">\n",
       "  <thead>\n",
       "    <tr style=\"text-align: right;\">\n",
       "      <th></th>\n",
       "      <th>Id</th>\n",
       "      <th>MSSubClass</th>\n",
       "      <th>LotFrontage</th>\n",
       "      <th>LotArea</th>\n",
       "      <th>OverallQual</th>\n",
       "      <th>OverallCond</th>\n",
       "      <th>YearBuilt</th>\n",
       "      <th>YearRemodAdd</th>\n",
       "      <th>MasVnrArea</th>\n",
       "      <th>BsmtFinSF1</th>\n",
       "      <th>BsmtFinSF2</th>\n",
       "      <th>BsmtUnfSF</th>\n",
       "      <th>TotalBsmtSF</th>\n",
       "      <th>1stFlrSF</th>\n",
       "      <th>2ndFlrSF</th>\n",
       "      <th>LowQualFinSF</th>\n",
       "      <th>GrLivArea</th>\n",
       "      <th>BsmtFullBath</th>\n",
       "      <th>BsmtHalfBath</th>\n",
       "      <th>FullBath</th>\n",
       "      <th>HalfBath</th>\n",
       "      <th>BedroomAbvGr</th>\n",
       "      <th>KitchenAbvGr</th>\n",
       "      <th>TotRmsAbvGrd</th>\n",
       "      <th>Fireplaces</th>\n",
       "      <th>GarageYrBlt</th>\n",
       "      <th>GarageCars</th>\n",
       "      <th>GarageArea</th>\n",
       "      <th>WoodDeckSF</th>\n",
       "      <th>OpenPorchSF</th>\n",
       "      <th>EnclosedPorch</th>\n",
       "      <th>3SsnPorch</th>\n",
       "      <th>ScreenPorch</th>\n",
       "      <th>PoolArea</th>\n",
       "      <th>MiscVal</th>\n",
       "      <th>MoSold</th>\n",
       "      <th>YrSold</th>\n",
       "      <th>SalePrice</th>\n",
       "    </tr>\n",
       "  </thead>\n",
       "  <tbody>\n",
       "    <tr>\n",
       "      <th>count</th>\n",
       "      <td>1460.000000</td>\n",
       "      <td>1460.000000</td>\n",
       "      <td>1201.000000</td>\n",
       "      <td>1460.000000</td>\n",
       "      <td>1460.000000</td>\n",
       "      <td>1460.000000</td>\n",
       "      <td>1460.000000</td>\n",
       "      <td>1460.000000</td>\n",
       "      <td>1452.000000</td>\n",
       "      <td>1460.000000</td>\n",
       "      <td>1460.000000</td>\n",
       "      <td>1460.000000</td>\n",
       "      <td>1460.000000</td>\n",
       "      <td>1460.000000</td>\n",
       "      <td>1460.000000</td>\n",
       "      <td>1460.000000</td>\n",
       "      <td>1460.000000</td>\n",
       "      <td>1460.000000</td>\n",
       "      <td>1460.000000</td>\n",
       "      <td>1460.000000</td>\n",
       "      <td>1460.000000</td>\n",
       "      <td>1460.000000</td>\n",
       "      <td>1460.000000</td>\n",
       "      <td>1460.000000</td>\n",
       "      <td>1460.000000</td>\n",
       "      <td>1379.000000</td>\n",
       "      <td>1460.000000</td>\n",
       "      <td>1460.000000</td>\n",
       "      <td>1460.000000</td>\n",
       "      <td>1460.000000</td>\n",
       "      <td>1460.000000</td>\n",
       "      <td>1460.000000</td>\n",
       "      <td>1460.000000</td>\n",
       "      <td>1460.000000</td>\n",
       "      <td>1460.000000</td>\n",
       "      <td>1460.000000</td>\n",
       "      <td>1460.000000</td>\n",
       "      <td>1460.000000</td>\n",
       "    </tr>\n",
       "    <tr>\n",
       "      <th>mean</th>\n",
       "      <td>730.500000</td>\n",
       "      <td>56.897260</td>\n",
       "      <td>70.049958</td>\n",
       "      <td>10516.828082</td>\n",
       "      <td>6.099315</td>\n",
       "      <td>5.575342</td>\n",
       "      <td>1971.267808</td>\n",
       "      <td>1984.865753</td>\n",
       "      <td>103.685262</td>\n",
       "      <td>443.639726</td>\n",
       "      <td>46.549315</td>\n",
       "      <td>567.240411</td>\n",
       "      <td>1057.429452</td>\n",
       "      <td>1162.626712</td>\n",
       "      <td>346.992466</td>\n",
       "      <td>5.844521</td>\n",
       "      <td>1515.463699</td>\n",
       "      <td>0.425342</td>\n",
       "      <td>0.057534</td>\n",
       "      <td>1.565068</td>\n",
       "      <td>0.382877</td>\n",
       "      <td>2.866438</td>\n",
       "      <td>1.046575</td>\n",
       "      <td>6.517808</td>\n",
       "      <td>0.613014</td>\n",
       "      <td>1978.506164</td>\n",
       "      <td>1.767123</td>\n",
       "      <td>472.980137</td>\n",
       "      <td>94.244521</td>\n",
       "      <td>46.660274</td>\n",
       "      <td>21.954110</td>\n",
       "      <td>3.409589</td>\n",
       "      <td>15.060959</td>\n",
       "      <td>2.758904</td>\n",
       "      <td>43.489041</td>\n",
       "      <td>6.321918</td>\n",
       "      <td>2007.815753</td>\n",
       "      <td>180921.195890</td>\n",
       "    </tr>\n",
       "    <tr>\n",
       "      <th>std</th>\n",
       "      <td>421.610009</td>\n",
       "      <td>42.300571</td>\n",
       "      <td>24.284752</td>\n",
       "      <td>9981.264932</td>\n",
       "      <td>1.382997</td>\n",
       "      <td>1.112799</td>\n",
       "      <td>30.202904</td>\n",
       "      <td>20.645407</td>\n",
       "      <td>181.066207</td>\n",
       "      <td>456.098091</td>\n",
       "      <td>161.319273</td>\n",
       "      <td>441.866955</td>\n",
       "      <td>438.705324</td>\n",
       "      <td>386.587738</td>\n",
       "      <td>436.528436</td>\n",
       "      <td>48.623081</td>\n",
       "      <td>525.480383</td>\n",
       "      <td>0.518911</td>\n",
       "      <td>0.238753</td>\n",
       "      <td>0.550916</td>\n",
       "      <td>0.502885</td>\n",
       "      <td>0.815778</td>\n",
       "      <td>0.220338</td>\n",
       "      <td>1.625393</td>\n",
       "      <td>0.644666</td>\n",
       "      <td>24.689725</td>\n",
       "      <td>0.747315</td>\n",
       "      <td>213.804841</td>\n",
       "      <td>125.338794</td>\n",
       "      <td>66.256028</td>\n",
       "      <td>61.119149</td>\n",
       "      <td>29.317331</td>\n",
       "      <td>55.757415</td>\n",
       "      <td>40.177307</td>\n",
       "      <td>496.123024</td>\n",
       "      <td>2.703626</td>\n",
       "      <td>1.328095</td>\n",
       "      <td>79442.502883</td>\n",
       "    </tr>\n",
       "    <tr>\n",
       "      <th>min</th>\n",
       "      <td>1.000000</td>\n",
       "      <td>20.000000</td>\n",
       "      <td>21.000000</td>\n",
       "      <td>1300.000000</td>\n",
       "      <td>1.000000</td>\n",
       "      <td>1.000000</td>\n",
       "      <td>1872.000000</td>\n",
       "      <td>1950.000000</td>\n",
       "      <td>0.000000</td>\n",
       "      <td>0.000000</td>\n",
       "      <td>0.000000</td>\n",
       "      <td>0.000000</td>\n",
       "      <td>0.000000</td>\n",
       "      <td>334.000000</td>\n",
       "      <td>0.000000</td>\n",
       "      <td>0.000000</td>\n",
       "      <td>334.000000</td>\n",
       "      <td>0.000000</td>\n",
       "      <td>0.000000</td>\n",
       "      <td>0.000000</td>\n",
       "      <td>0.000000</td>\n",
       "      <td>0.000000</td>\n",
       "      <td>0.000000</td>\n",
       "      <td>2.000000</td>\n",
       "      <td>0.000000</td>\n",
       "      <td>1900.000000</td>\n",
       "      <td>0.000000</td>\n",
       "      <td>0.000000</td>\n",
       "      <td>0.000000</td>\n",
       "      <td>0.000000</td>\n",
       "      <td>0.000000</td>\n",
       "      <td>0.000000</td>\n",
       "      <td>0.000000</td>\n",
       "      <td>0.000000</td>\n",
       "      <td>0.000000</td>\n",
       "      <td>1.000000</td>\n",
       "      <td>2006.000000</td>\n",
       "      <td>34900.000000</td>\n",
       "    </tr>\n",
       "    <tr>\n",
       "      <th>25%</th>\n",
       "      <td>365.750000</td>\n",
       "      <td>20.000000</td>\n",
       "      <td>59.000000</td>\n",
       "      <td>7553.500000</td>\n",
       "      <td>5.000000</td>\n",
       "      <td>5.000000</td>\n",
       "      <td>1954.000000</td>\n",
       "      <td>1967.000000</td>\n",
       "      <td>0.000000</td>\n",
       "      <td>0.000000</td>\n",
       "      <td>0.000000</td>\n",
       "      <td>223.000000</td>\n",
       "      <td>795.750000</td>\n",
       "      <td>882.000000</td>\n",
       "      <td>0.000000</td>\n",
       "      <td>0.000000</td>\n",
       "      <td>1129.500000</td>\n",
       "      <td>0.000000</td>\n",
       "      <td>0.000000</td>\n",
       "      <td>1.000000</td>\n",
       "      <td>0.000000</td>\n",
       "      <td>2.000000</td>\n",
       "      <td>1.000000</td>\n",
       "      <td>5.000000</td>\n",
       "      <td>0.000000</td>\n",
       "      <td>1961.000000</td>\n",
       "      <td>1.000000</td>\n",
       "      <td>334.500000</td>\n",
       "      <td>0.000000</td>\n",
       "      <td>0.000000</td>\n",
       "      <td>0.000000</td>\n",
       "      <td>0.000000</td>\n",
       "      <td>0.000000</td>\n",
       "      <td>0.000000</td>\n",
       "      <td>0.000000</td>\n",
       "      <td>5.000000</td>\n",
       "      <td>2007.000000</td>\n",
       "      <td>129975.000000</td>\n",
       "    </tr>\n",
       "    <tr>\n",
       "      <th>50%</th>\n",
       "      <td>730.500000</td>\n",
       "      <td>50.000000</td>\n",
       "      <td>69.000000</td>\n",
       "      <td>9478.500000</td>\n",
       "      <td>6.000000</td>\n",
       "      <td>5.000000</td>\n",
       "      <td>1973.000000</td>\n",
       "      <td>1994.000000</td>\n",
       "      <td>0.000000</td>\n",
       "      <td>383.500000</td>\n",
       "      <td>0.000000</td>\n",
       "      <td>477.500000</td>\n",
       "      <td>991.500000</td>\n",
       "      <td>1087.000000</td>\n",
       "      <td>0.000000</td>\n",
       "      <td>0.000000</td>\n",
       "      <td>1464.000000</td>\n",
       "      <td>0.000000</td>\n",
       "      <td>0.000000</td>\n",
       "      <td>2.000000</td>\n",
       "      <td>0.000000</td>\n",
       "      <td>3.000000</td>\n",
       "      <td>1.000000</td>\n",
       "      <td>6.000000</td>\n",
       "      <td>1.000000</td>\n",
       "      <td>1980.000000</td>\n",
       "      <td>2.000000</td>\n",
       "      <td>480.000000</td>\n",
       "      <td>0.000000</td>\n",
       "      <td>25.000000</td>\n",
       "      <td>0.000000</td>\n",
       "      <td>0.000000</td>\n",
       "      <td>0.000000</td>\n",
       "      <td>0.000000</td>\n",
       "      <td>0.000000</td>\n",
       "      <td>6.000000</td>\n",
       "      <td>2008.000000</td>\n",
       "      <td>163000.000000</td>\n",
       "    </tr>\n",
       "    <tr>\n",
       "      <th>75%</th>\n",
       "      <td>1095.250000</td>\n",
       "      <td>70.000000</td>\n",
       "      <td>80.000000</td>\n",
       "      <td>11601.500000</td>\n",
       "      <td>7.000000</td>\n",
       "      <td>6.000000</td>\n",
       "      <td>2000.000000</td>\n",
       "      <td>2004.000000</td>\n",
       "      <td>166.000000</td>\n",
       "      <td>712.250000</td>\n",
       "      <td>0.000000</td>\n",
       "      <td>808.000000</td>\n",
       "      <td>1298.250000</td>\n",
       "      <td>1391.250000</td>\n",
       "      <td>728.000000</td>\n",
       "      <td>0.000000</td>\n",
       "      <td>1776.750000</td>\n",
       "      <td>1.000000</td>\n",
       "      <td>0.000000</td>\n",
       "      <td>2.000000</td>\n",
       "      <td>1.000000</td>\n",
       "      <td>3.000000</td>\n",
       "      <td>1.000000</td>\n",
       "      <td>7.000000</td>\n",
       "      <td>1.000000</td>\n",
       "      <td>2002.000000</td>\n",
       "      <td>2.000000</td>\n",
       "      <td>576.000000</td>\n",
       "      <td>168.000000</td>\n",
       "      <td>68.000000</td>\n",
       "      <td>0.000000</td>\n",
       "      <td>0.000000</td>\n",
       "      <td>0.000000</td>\n",
       "      <td>0.000000</td>\n",
       "      <td>0.000000</td>\n",
       "      <td>8.000000</td>\n",
       "      <td>2009.000000</td>\n",
       "      <td>214000.000000</td>\n",
       "    </tr>\n",
       "    <tr>\n",
       "      <th>max</th>\n",
       "      <td>1460.000000</td>\n",
       "      <td>190.000000</td>\n",
       "      <td>313.000000</td>\n",
       "      <td>215245.000000</td>\n",
       "      <td>10.000000</td>\n",
       "      <td>9.000000</td>\n",
       "      <td>2010.000000</td>\n",
       "      <td>2010.000000</td>\n",
       "      <td>1600.000000</td>\n",
       "      <td>5644.000000</td>\n",
       "      <td>1474.000000</td>\n",
       "      <td>2336.000000</td>\n",
       "      <td>6110.000000</td>\n",
       "      <td>4692.000000</td>\n",
       "      <td>2065.000000</td>\n",
       "      <td>572.000000</td>\n",
       "      <td>5642.000000</td>\n",
       "      <td>3.000000</td>\n",
       "      <td>2.000000</td>\n",
       "      <td>3.000000</td>\n",
       "      <td>2.000000</td>\n",
       "      <td>8.000000</td>\n",
       "      <td>3.000000</td>\n",
       "      <td>14.000000</td>\n",
       "      <td>3.000000</td>\n",
       "      <td>2010.000000</td>\n",
       "      <td>4.000000</td>\n",
       "      <td>1418.000000</td>\n",
       "      <td>857.000000</td>\n",
       "      <td>547.000000</td>\n",
       "      <td>552.000000</td>\n",
       "      <td>508.000000</td>\n",
       "      <td>480.000000</td>\n",
       "      <td>738.000000</td>\n",
       "      <td>15500.000000</td>\n",
       "      <td>12.000000</td>\n",
       "      <td>2010.000000</td>\n",
       "      <td>755000.000000</td>\n",
       "    </tr>\n",
       "  </tbody>\n",
       "</table>\n",
       "</div>"
      ],
      "text/plain": [
       "                Id   MSSubClass  LotFrontage        LotArea  OverallQual  \\\n",
       "count  1460.000000  1460.000000  1201.000000    1460.000000  1460.000000   \n",
       "mean    730.500000    56.897260    70.049958   10516.828082     6.099315   \n",
       "std     421.610009    42.300571    24.284752    9981.264932     1.382997   \n",
       "min       1.000000    20.000000    21.000000    1300.000000     1.000000   \n",
       "25%     365.750000    20.000000    59.000000    7553.500000     5.000000   \n",
       "50%     730.500000    50.000000    69.000000    9478.500000     6.000000   \n",
       "75%    1095.250000    70.000000    80.000000   11601.500000     7.000000   \n",
       "max    1460.000000   190.000000   313.000000  215245.000000    10.000000   \n",
       "\n",
       "       OverallCond    YearBuilt  YearRemodAdd   MasVnrArea   BsmtFinSF1  \\\n",
       "count  1460.000000  1460.000000   1460.000000  1452.000000  1460.000000   \n",
       "mean      5.575342  1971.267808   1984.865753   103.685262   443.639726   \n",
       "std       1.112799    30.202904     20.645407   181.066207   456.098091   \n",
       "min       1.000000  1872.000000   1950.000000     0.000000     0.000000   \n",
       "25%       5.000000  1954.000000   1967.000000     0.000000     0.000000   \n",
       "50%       5.000000  1973.000000   1994.000000     0.000000   383.500000   \n",
       "75%       6.000000  2000.000000   2004.000000   166.000000   712.250000   \n",
       "max       9.000000  2010.000000   2010.000000  1600.000000  5644.000000   \n",
       "\n",
       "        BsmtFinSF2    BsmtUnfSF  TotalBsmtSF     1stFlrSF     2ndFlrSF  \\\n",
       "count  1460.000000  1460.000000  1460.000000  1460.000000  1460.000000   \n",
       "mean     46.549315   567.240411  1057.429452  1162.626712   346.992466   \n",
       "std     161.319273   441.866955   438.705324   386.587738   436.528436   \n",
       "min       0.000000     0.000000     0.000000   334.000000     0.000000   \n",
       "25%       0.000000   223.000000   795.750000   882.000000     0.000000   \n",
       "50%       0.000000   477.500000   991.500000  1087.000000     0.000000   \n",
       "75%       0.000000   808.000000  1298.250000  1391.250000   728.000000   \n",
       "max    1474.000000  2336.000000  6110.000000  4692.000000  2065.000000   \n",
       "\n",
       "       LowQualFinSF    GrLivArea  BsmtFullBath  BsmtHalfBath     FullBath  \\\n",
       "count   1460.000000  1460.000000   1460.000000   1460.000000  1460.000000   \n",
       "mean       5.844521  1515.463699      0.425342      0.057534     1.565068   \n",
       "std       48.623081   525.480383      0.518911      0.238753     0.550916   \n",
       "min        0.000000   334.000000      0.000000      0.000000     0.000000   \n",
       "25%        0.000000  1129.500000      0.000000      0.000000     1.000000   \n",
       "50%        0.000000  1464.000000      0.000000      0.000000     2.000000   \n",
       "75%        0.000000  1776.750000      1.000000      0.000000     2.000000   \n",
       "max      572.000000  5642.000000      3.000000      2.000000     3.000000   \n",
       "\n",
       "          HalfBath  BedroomAbvGr  KitchenAbvGr  TotRmsAbvGrd   Fireplaces  \\\n",
       "count  1460.000000   1460.000000   1460.000000   1460.000000  1460.000000   \n",
       "mean      0.382877      2.866438      1.046575      6.517808     0.613014   \n",
       "std       0.502885      0.815778      0.220338      1.625393     0.644666   \n",
       "min       0.000000      0.000000      0.000000      2.000000     0.000000   \n",
       "25%       0.000000      2.000000      1.000000      5.000000     0.000000   \n",
       "50%       0.000000      3.000000      1.000000      6.000000     1.000000   \n",
       "75%       1.000000      3.000000      1.000000      7.000000     1.000000   \n",
       "max       2.000000      8.000000      3.000000     14.000000     3.000000   \n",
       "\n",
       "       GarageYrBlt   GarageCars   GarageArea   WoodDeckSF  OpenPorchSF  \\\n",
       "count  1379.000000  1460.000000  1460.000000  1460.000000  1460.000000   \n",
       "mean   1978.506164     1.767123   472.980137    94.244521    46.660274   \n",
       "std      24.689725     0.747315   213.804841   125.338794    66.256028   \n",
       "min    1900.000000     0.000000     0.000000     0.000000     0.000000   \n",
       "25%    1961.000000     1.000000   334.500000     0.000000     0.000000   \n",
       "50%    1980.000000     2.000000   480.000000     0.000000    25.000000   \n",
       "75%    2002.000000     2.000000   576.000000   168.000000    68.000000   \n",
       "max    2010.000000     4.000000  1418.000000   857.000000   547.000000   \n",
       "\n",
       "       EnclosedPorch    3SsnPorch  ScreenPorch     PoolArea       MiscVal  \\\n",
       "count    1460.000000  1460.000000  1460.000000  1460.000000   1460.000000   \n",
       "mean       21.954110     3.409589    15.060959     2.758904     43.489041   \n",
       "std        61.119149    29.317331    55.757415    40.177307    496.123024   \n",
       "min         0.000000     0.000000     0.000000     0.000000      0.000000   \n",
       "25%         0.000000     0.000000     0.000000     0.000000      0.000000   \n",
       "50%         0.000000     0.000000     0.000000     0.000000      0.000000   \n",
       "75%         0.000000     0.000000     0.000000     0.000000      0.000000   \n",
       "max       552.000000   508.000000   480.000000   738.000000  15500.000000   \n",
       "\n",
       "            MoSold       YrSold      SalePrice  \n",
       "count  1460.000000  1460.000000    1460.000000  \n",
       "mean      6.321918  2007.815753  180921.195890  \n",
       "std       2.703626     1.328095   79442.502883  \n",
       "min       1.000000  2006.000000   34900.000000  \n",
       "25%       5.000000  2007.000000  129975.000000  \n",
       "50%       6.000000  2008.000000  163000.000000  \n",
       "75%       8.000000  2009.000000  214000.000000  \n",
       "max      12.000000  2010.000000  755000.000000  "
      ]
     },
     "execution_count": 8,
     "metadata": {},
     "output_type": "execute_result"
    }
   ],
   "source": [
    "pd.options.display.max_columns = None\n",
    "data.describe()"
   ]
  },
  {
   "cell_type": "code",
   "execution_count": 9,
   "metadata": {
    "scrolled": true
   },
   "outputs": [
    {
     "data": {
      "text/plain": [
       "<matplotlib.axes._subplots.AxesSubplot at 0x7fd32f2b57f0>"
      ]
     },
     "execution_count": 9,
     "metadata": {},
     "output_type": "execute_result"
    },
    {
     "data": {
      "image/png": "[encoded data removed]",
      "text/plain": [
       "<Figure size 432x288 with 1 Axes>"
      ]
     },
     "metadata": {
      "needs_background": "light"
     },
     "output_type": "display_data"
    }
   ],
   "source": [
    "data.iloc[:,:-1].boxplot()\n",
    "# don't show the distribution for prices"
   ]
  },
  {
   "cell_type": "code",
   "execution_count": 10,
   "metadata": {},
   "outputs": [
    {
     "name": "stdout",
     "output_type": "stream",
     "text": [
      "<class 'pandas.core.frame.DataFrame'>\n",
      "RangeIndex: 1460 entries, 0 to 1459\n",
      "Data columns (total 38 columns):\n",
      " #   Column         Non-Null Count  Dtype  \n",
      "---  ------         --------------  -----  \n",
      " 0   Id             1460 non-null   int64  \n",
      " 1   MSSubClass     1460 non-null   int64  \n",
      " 2   LotFrontage    1201 non-null   float64\n",
      " 3   LotArea        1460 non-null   int64  \n",
      " 4   OverallQual    1460 non-null   int64  \n",
      " 5   OverallCond    1460 non-null   int64  \n",
      " 6   YearBuilt      1460 non-null   int64  \n",
      " 7   YearRemodAdd   1460 non-null   int64  \n",
      " 8   MasVnrArea     1452 non-null   float64\n",
      " 9   BsmtFinSF1     1460 non-null   int64  \n",
      " 10  BsmtFinSF2     1460 non-null   int64  \n",
      " 11  BsmtUnfSF      1460 non-null   int64  \n",
      " 12  TotalBsmtSF    1460 non-null   int64  \n",
      " 13  1stFlrSF       1460 non-null   int64  \n",
      " 14  2ndFlrSF       1460 non-null   int64  \n",
      " 15  LowQualFinSF   1460 non-null   int64  \n",
      " 16  GrLivArea      1460 non-null   int64  \n",
      " 17  BsmtFullBath   1460 non-null   int64  \n",
      " 18  BsmtHalfBath   1460 non-null   int64  \n",
      " 19  FullBath       1460 non-null   int64  \n",
      " 20  HalfBath       1460 non-null   int64  \n",
      " 21  BedroomAbvGr   1460 non-null   int64  \n",
      " 22  KitchenAbvGr   1460 non-null   int64  \n",
      " 23  TotRmsAbvGrd   1460 non-null   int64  \n",
      " 24  Fireplaces     1460 non-null   int64  \n",
      " 25  GarageYrBlt    1379 non-null   float64\n",
      " 26  GarageCars     1460 non-null   int64  \n",
      " 27  GarageArea     1460 non-null   int64  \n",
      " 28  WoodDeckSF     1460 non-null   int64  \n",
      " 29  OpenPorchSF    1460 non-null   int64  \n",
      " 30  EnclosedPorch  1460 non-null   int64  \n",
      " 31  3SsnPorch      1460 non-null   int64  \n",
      " 32  ScreenPorch    1460 non-null   int64  \n",
      " 33  PoolArea       1460 non-null   int64  \n",
      " 34  MiscVal        1460 non-null   int64  \n",
      " 35  MoSold         1460 non-null   int64  \n",
      " 36  YrSold         1460 non-null   int64  \n",
      " 37  SalePrice      1460 non-null   int64  \n",
      "dtypes: float64(3), int64(35)\n",
      "memory usage: 433.6 KB\n"
     ]
    },
    {
     "data": {
      "text/plain": [
       "None"
      ]
     },
     "metadata": {},
     "output_type": "display_data"
    },
    {
     "data": {
      "text/plain": [
       "['LotFrontage', 'MasVnrArea', 'GarageYrBlt']"
      ]
     },
     "metadata": {},
     "output_type": "display_data"
    }
   ],
   "source": [
    "# get a list of numeric columns that contain nan\n",
    "\n",
    "# select numeric columns\n",
    "data_num = data.select_dtypes(include=np.number)\n",
    "display(data_num.info())\n",
    "\n",
    "# list of columns that have nan\n",
    "num_cols_with_nan = data_num.columns[data_num.isna().any()].tolist()\n",
    "display(num_cols_with_nan)"
   ]
  },
  {
   "cell_type": "markdown",
   "metadata": {},
   "source": [
    "### LotFrontage"
   ]
  },
  {
   "cell_type": "code",
   "execution_count": 11,
   "metadata": {},
   "outputs": [
    {
     "data": {
      "text/plain": [
       "count    1201.000000\n",
       "mean       70.049958\n",
       "std        24.284752\n",
       "min        21.000000\n",
       "25%        59.000000\n",
       "50%        69.000000\n",
       "75%        80.000000\n",
       "max       313.000000\n",
       "Name: LotFrontage, dtype: float64"
      ]
     },
     "execution_count": 11,
     "metadata": {},
     "output_type": "execute_result"
    }
   ],
   "source": [
    "data['LotFrontage'].describe()"
   ]
  },
  {
   "cell_type": "code",
   "execution_count": 12,
   "metadata": {
    "scrolled": true
   },
   "outputs": [
    {
     "data": {
      "text/plain": [
       "<matplotlib.axes._subplots.AxesSubplot at 0x7fd32e71fc70>"
      ]
     },
     "execution_count": 12,
     "metadata": {},
     "output_type": "execute_result"
    },
    {
     "data": {
      "image/png": "[encoded data removed]",
      "text/plain": [
       "<Figure size 432x288 with 1 Axes>"
      ]
     },
     "metadata": {
      "needs_background": "light"
     },
     "output_type": "display_data"
    }
   ],
   "source": [
    "data['LotFrontage'].plot.box()\n",
    "# => let's replace nan with median value"
   ]
  },
  {
   "cell_type": "code",
   "execution_count": 13,
   "metadata": {},
   "outputs": [
    {
     "name": "stdout",
     "output_type": "stream",
     "text": [
      "69.0\n"
     ]
    },
    {
     "name": "stderr",
     "output_type": "stream",
     "text": [
      "/home/bkotryna/anaconda3/lib/python3.8/site-packages/pandas/core/generic.py:6245: SettingWithCopyWarning: \n",
      "A value is trying to be set on a copy of a slice from a DataFrame\n",
      "\n",
      "See the caveats in the documentation: https://pandas.pydata.org/pandas-docs/stable/user_guide/indexing.html#returning-a-view-versus-a-copy\n",
      "  self._update_inplace(new_data)\n"
     ]
    },
    {
     "data": {
      "text/plain": [
       "0"
      ]
     },
     "execution_count": 13,
     "metadata": {},
     "output_type": "execute_result"
    }
   ],
   "source": [
    "# median value\n",
    "med_LotFrontage = data['LotFrontage'].quantile(0.5)\n",
    "print(med_LotFrontage)\n",
    "\n",
    "# replace null values with median\n",
    "data['LotFrontage'].fillna(med_LotFrontage, inplace=True)\n",
    "\n",
    "# how many isnull values do we now have (hopefully, zero)\n",
    "data['LotFrontage'].isnull().sum()"
   ]
  },
  {
   "cell_type": "code",
   "execution_count": 14,
   "metadata": {
    "scrolled": true
   },
   "outputs": [
    {
     "data": {
      "text/plain": [
       "count    1460.000000\n",
       "mean       69.863699\n",
       "std        22.027677\n",
       "min        21.000000\n",
       "25%        60.000000\n",
       "50%        69.000000\n",
       "75%        79.000000\n",
       "max       313.000000\n",
       "Name: LotFrontage, dtype: float64"
      ]
     },
     "execution_count": 14,
     "metadata": {},
     "output_type": "execute_result"
    }
   ],
   "source": [
    "data['LotFrontage'].describe()"
   ]
  },
  {
   "cell_type": "markdown",
   "metadata": {},
   "source": [
    "### MasVnrArea\n",
    "Masonry veneer area in square feet"
   ]
  },
  {
   "cell_type": "code",
   "execution_count": 15,
   "metadata": {},
   "outputs": [
    {
     "data": {
      "text/plain": [
       "count    1452.000000\n",
       "mean      103.685262\n",
       "std       181.066207\n",
       "min         0.000000\n",
       "25%         0.000000\n",
       "50%         0.000000\n",
       "75%       166.000000\n",
       "max      1600.000000\n",
       "Name: MasVnrArea, dtype: float64"
      ]
     },
     "metadata": {},
     "output_type": "display_data"
    },
    {
     "name": "stdout",
     "output_type": "stream",
     "text": [
      "Number of null values in MasVnrArea is 8.\n"
     ]
    }
   ],
   "source": [
    "curr_column = 'MasVnrArea'\n",
    "\n",
    "display(data[curr_column].describe())\n",
    "\n",
    "# how many null values we have\n",
    "print(\"Number of null values in {} is {}.\".format(curr_column, data[curr_column].isnull().sum()))"
   ]
  },
  {
   "cell_type": "code",
   "execution_count": 16,
   "metadata": {},
   "outputs": [
    {
     "data": {
      "text/plain": [
       "<matplotlib.axes._subplots.AxesSubplot at 0x7fd32e691b50>"
      ]
     },
     "execution_count": 16,
     "metadata": {},
     "output_type": "execute_result"
    },
    {
     "data": {
      "image/png": "[encoded data removed]",
      "text/plain": [
       "<Figure size 432x288 with 1 Axes>"
      ]
     },
     "metadata": {
      "needs_background": "light"
     },
     "output_type": "display_data"
    }
   ],
   "source": [
    "data[curr_column].plot.box()\n",
    "# => replace nan with median value"
   ]
  },
  {
   "cell_type": "code",
   "execution_count": 17,
   "metadata": {},
   "outputs": [
    {
     "name": "stdout",
     "output_type": "stream",
     "text": [
      "0.0\n"
     ]
    },
    {
     "name": "stderr",
     "output_type": "stream",
     "text": [
      "/home/bkotryna/anaconda3/lib/python3.8/site-packages/pandas/core/generic.py:6245: SettingWithCopyWarning: \n",
      "A value is trying to be set on a copy of a slice from a DataFrame\n",
      "\n",
      "See the caveats in the documentation: https://pandas.pydata.org/pandas-docs/stable/user_guide/indexing.html#returning-a-view-versus-a-copy\n",
      "  self._update_inplace(new_data)\n"
     ]
    },
    {
     "data": {
      "text/plain": [
       "0"
      ]
     },
     "execution_count": 17,
     "metadata": {},
     "output_type": "execute_result"
    }
   ],
   "source": [
    "# median value\n",
    "med_value = data[curr_column].quantile(0.5)\n",
    "print(med_value)\n",
    "\n",
    "# replace null values with median\n",
    "data[curr_column].fillna(med_value, inplace=True)\n",
    "\n",
    "# how many isnull values do we now have (hopefully, zero)\n",
    "data[curr_column].isnull().sum()"
   ]
  },
  {
   "cell_type": "markdown",
   "metadata": {},
   "source": [
    "### GarageYrBlt"
   ]
  },
  {
   "cell_type": "code",
   "execution_count": 18,
   "metadata": {},
   "outputs": [
    {
     "data": {
      "text/plain": [
       "count    1379.000000\n",
       "mean     1978.506164\n",
       "std        24.689725\n",
       "min      1900.000000\n",
       "25%      1961.000000\n",
       "50%      1980.000000\n",
       "75%      2002.000000\n",
       "max      2010.000000\n",
       "Name: GarageYrBlt, dtype: float64"
      ]
     },
     "metadata": {},
     "output_type": "display_data"
    },
    {
     "name": "stdout",
     "output_type": "stream",
     "text": [
      "Number of null values in GarageYrBlt is 81.\n"
     ]
    },
    {
     "data": {
      "text/plain": [
       "<matplotlib.axes._subplots.AxesSubplot at 0x7fd32e55f5e0>"
      ]
     },
     "execution_count": 18,
     "metadata": {},
     "output_type": "execute_result"
    },
    {
     "data": {
      "image/png": "[encoded data removed]",
      "text/plain": [
       "<Figure size 432x288 with 1 Axes>"
      ]
     },
     "metadata": {
      "needs_background": "light"
     },
     "output_type": "display_data"
    }
   ],
   "source": [
    "curr_column = 'GarageYrBlt'\n",
    "\n",
    "display(data[curr_column].describe())\n",
    "\n",
    "# how many null values we have\n",
    "print(\"Number of null values in {} is {}.\".format(curr_column, data[curr_column].isnull().sum()))\n",
    "\n",
    "data[curr_column].plot.box()"
   ]
  },
  {
   "cell_type": "code",
   "execution_count": 19,
   "metadata": {},
   "outputs": [
    {
     "name": "stdout",
     "output_type": "stream",
     "text": [
      "1980.0\n"
     ]
    },
    {
     "name": "stderr",
     "output_type": "stream",
     "text": [
      "/home/bkotryna/anaconda3/lib/python3.8/site-packages/pandas/core/generic.py:6245: SettingWithCopyWarning: \n",
      "A value is trying to be set on a copy of a slice from a DataFrame\n",
      "\n",
      "See the caveats in the documentation: https://pandas.pydata.org/pandas-docs/stable/user_guide/indexing.html#returning-a-view-versus-a-copy\n",
      "  self._update_inplace(new_data)\n"
     ]
    },
    {
     "data": {
      "text/plain": [
       "0"
      ]
     },
     "execution_count": 19,
     "metadata": {},
     "output_type": "execute_result"
    }
   ],
   "source": [
    "# => could do either mean or median.\n",
    "# let's repeat previous approach & replace nan with median value\n",
    "\n",
    "# median value\n",
    "med_value = data[curr_column].quantile(0.5)\n",
    "print(med_value)\n",
    "\n",
    "# replace null values with median\n",
    "data[curr_column].fillna(med_value, inplace=True)\n",
    "\n",
    "# how many isnull values do we now have (hopefully, zero)\n",
    "data[curr_column].isnull().sum()"
   ]
  },
  {
   "cell_type": "markdown",
   "metadata": {},
   "source": [
    "# Deal with null values in non-numeric columns"
   ]
  },
  {
   "cell_type": "code",
   "execution_count": 20,
   "metadata": {},
   "outputs": [
    {
     "data": {
      "text/plain": [
       "count     1452\n",
       "unique       4\n",
       "top       None\n",
       "freq       864\n",
       "Name: MasVnrType, dtype: object"
      ]
     },
     "metadata": {},
     "output_type": "display_data"
    },
    {
     "data": {
      "text/plain": [
       "0    BrkFace\n",
       "1       None\n",
       "2    BrkFace\n",
       "3       None\n",
       "4    BrkFace\n",
       "Name: MasVnrType, dtype: object"
      ]
     },
     "metadata": {},
     "output_type": "display_data"
    }
   ],
   "source": [
    "display(data[\"MasVnrType\"].describe())\n",
    "display(data[\"MasVnrType\"].head())"
   ]
  },
  {
   "cell_type": "code",
   "execution_count": 21,
   "metadata": {},
   "outputs": [
    {
     "name": "stdout",
     "output_type": "stream",
     "text": [
      "<class 'pandas.core.frame.DataFrame'>\n",
      "RangeIndex: 1460 entries, 0 to 1459\n",
      "Data columns (total 38 columns):\n",
      " #   Column         Non-Null Count  Dtype \n",
      "---  ------         --------------  ----- \n",
      " 0   MSZoning       1460 non-null   object\n",
      " 1   Street         1460 non-null   object\n",
      " 2   LotShape       1460 non-null   object\n",
      " 3   LandContour    1460 non-null   object\n",
      " 4   Utilities      1460 non-null   object\n",
      " 5   LotConfig      1460 non-null   object\n",
      " 6   LandSlope      1460 non-null   object\n",
      " 7   Neighborhood   1460 non-null   object\n",
      " 8   Condition1     1460 non-null   object\n",
      " 9   Condition2     1460 non-null   object\n",
      " 10  BldgType       1460 non-null   object\n",
      " 11  HouseStyle     1460 non-null   object\n",
      " 12  RoofStyle      1460 non-null   object\n",
      " 13  RoofMatl       1460 non-null   object\n",
      " 14  Exterior1st    1460 non-null   object\n",
      " 15  Exterior2nd    1460 non-null   object\n",
      " 16  MasVnrType     1452 non-null   object\n",
      " 17  ExterQual      1460 non-null   object\n",
      " 18  ExterCond      1460 non-null   object\n",
      " 19  Foundation     1460 non-null   object\n",
      " 20  BsmtQual       1423 non-null   object\n",
      " 21  BsmtCond       1423 non-null   object\n",
      " 22  BsmtExposure   1422 non-null   object\n",
      " 23  BsmtFinType1   1423 non-null   object\n",
      " 24  BsmtFinType2   1422 non-null   object\n",
      " 25  Heating        1460 non-null   object\n",
      " 26  HeatingQC      1460 non-null   object\n",
      " 27  CentralAir     1460 non-null   object\n",
      " 28  Electrical     1459 non-null   object\n",
      " 29  KitchenQual    1460 non-null   object\n",
      " 30  Functional     1460 non-null   object\n",
      " 31  GarageType     1379 non-null   object\n",
      " 32  GarageFinish   1379 non-null   object\n",
      " 33  GarageQual     1379 non-null   object\n",
      " 34  GarageCond     1379 non-null   object\n",
      " 35  PavedDrive     1460 non-null   object\n",
      " 36  SaleType       1460 non-null   object\n",
      " 37  SaleCondition  1460 non-null   object\n",
      "dtypes: object(38)\n",
      "memory usage: 433.6+ KB\n"
     ]
    },
    {
     "data": {
      "text/plain": [
       "None"
      ]
     },
     "metadata": {},
     "output_type": "display_data"
    },
    {
     "data": {
      "text/plain": [
       "['MasVnrType',\n",
       " 'BsmtQual',\n",
       " 'BsmtCond',\n",
       " 'BsmtExposure',\n",
       " 'BsmtFinType1',\n",
       " 'BsmtFinType2',\n",
       " 'Electrical',\n",
       " 'GarageType',\n",
       " 'GarageFinish',\n",
       " 'GarageQual',\n",
       " 'GarageCond']"
      ]
     },
     "metadata": {},
     "output_type": "display_data"
    }
   ],
   "source": [
    "# get a list of \"object\" datatype columns that contain nan\n",
    "\n",
    "# select \"object\" columns\n",
    "data_obj = data.select_dtypes(include=object)\n",
    "display(data_obj.info())\n",
    "\n",
    "# list of columns that have nan\n",
    "obj_cols_with_nan = data_obj.columns[data_obj.isna().any()].tolist()\n",
    "display(obj_cols_with_nan)"
   ]
  },
  {
   "cell_type": "markdown",
   "metadata": {},
   "source": [
    "### MasVnrType"
   ]
  },
  {
   "cell_type": "code",
   "execution_count": 22,
   "metadata": {},
   "outputs": [
    {
     "data": {
      "text/plain": [
       "count     1452\n",
       "unique       4\n",
       "top       None\n",
       "freq       864\n",
       "Name: MasVnrType, dtype: object"
      ]
     },
     "metadata": {},
     "output_type": "display_data"
    },
    {
     "data": {
      "text/plain": [
       "array(['BrkFace', 'None', 'Stone', 'BrkCmn', nan], dtype=object)"
      ]
     },
     "metadata": {},
     "output_type": "display_data"
    },
    {
     "data": {
      "text/plain": [
       "None       864\n",
       "BrkFace    445\n",
       "Stone      128\n",
       "BrkCmn      15\n",
       "NaN          8\n",
       "Name: MasVnrType, dtype: int64"
      ]
     },
     "metadata": {},
     "output_type": "display_data"
    },
    {
     "name": "stdout",
     "output_type": "stream",
     "text": [
      "Number of null values in MasVnrType is 8.\n"
     ]
    }
   ],
   "source": [
    "# check out the first item from the \"has nan\" column list\n",
    "curr_column = obj_cols_with_nan[0]\n",
    "display(data[curr_column].describe())\n",
    "display(data[curr_column].unique())\n",
    "display(data[curr_column].value_counts(dropna=False))\n",
    "# => Obs! There clearly are missing values that don't come up as \"null\" in pandas!\n",
    "# => I'd check ALL \"object\" columns for value_counts() to catch all missing values\n",
    "\n",
    "# how many null values we have\n",
    "print(\"Number of null values in {} is {}.\".format(curr_column, data[curr_column].isnull().sum()))"
   ]
  },
  {
   "cell_type": "code",
   "execution_count": 23,
   "metadata": {},
   "outputs": [
    {
     "name": "stderr",
     "output_type": "stream",
     "text": [
      "/home/bkotryna/anaconda3/lib/python3.8/site-packages/pandas/core/frame.py:3990: SettingWithCopyWarning: \n",
      "A value is trying to be set on a copy of a slice from a DataFrame\n",
      "\n",
      "See the caveats in the documentation: https://pandas.pydata.org/pandas-docs/stable/user_guide/indexing.html#returning-a-view-versus-a-copy\n",
      "  return super().drop(\n"
     ]
    },
    {
     "name": "stdout",
     "output_type": "stream",
     "text": [
      "<class 'pandas.core.frame.DataFrame'>\n",
      "RangeIndex: 1460 entries, 0 to 1459\n",
      "Data columns (total 37 columns):\n",
      " #   Column         Non-Null Count  Dtype \n",
      "---  ------         --------------  ----- \n",
      " 0   MSZoning       1460 non-null   object\n",
      " 1   Street         1460 non-null   object\n",
      " 2   LotShape       1460 non-null   object\n",
      " 3   LandContour    1460 non-null   object\n",
      " 4   Utilities      1460 non-null   object\n",
      " 5   LotConfig      1460 non-null   object\n",
      " 6   LandSlope      1460 non-null   object\n",
      " 7   Neighborhood   1460 non-null   object\n",
      " 8   Condition1     1460 non-null   object\n",
      " 9   Condition2     1460 non-null   object\n",
      " 10  BldgType       1460 non-null   object\n",
      " 11  HouseStyle     1460 non-null   object\n",
      " 12  RoofStyle      1460 non-null   object\n",
      " 13  RoofMatl       1460 non-null   object\n",
      " 14  Exterior1st    1460 non-null   object\n",
      " 15  Exterior2nd    1460 non-null   object\n",
      " 16  ExterQual      1460 non-null   object\n",
      " 17  ExterCond      1460 non-null   object\n",
      " 18  Foundation     1460 non-null   object\n",
      " 19  BsmtQual       1423 non-null   object\n",
      " 20  BsmtCond       1423 non-null   object\n",
      " 21  BsmtExposure   1422 non-null   object\n",
      " 22  BsmtFinType1   1423 non-null   object\n",
      " 23  BsmtFinType2   1422 non-null   object\n",
      " 24  Heating        1460 non-null   object\n",
      " 25  HeatingQC      1460 non-null   object\n",
      " 26  CentralAir     1460 non-null   object\n",
      " 27  Electrical     1459 non-null   object\n",
      " 28  KitchenQual    1460 non-null   object\n",
      " 29  Functional     1460 non-null   object\n",
      " 30  GarageType     1379 non-null   object\n",
      " 31  GarageFinish   1379 non-null   object\n",
      " 32  GarageQual     1379 non-null   object\n",
      " 33  GarageCond     1379 non-null   object\n",
      " 34  PavedDrive     1460 non-null   object\n",
      " 35  SaleType       1460 non-null   object\n",
      " 36  SaleCondition  1460 non-null   object\n",
      "dtypes: object(37)\n",
      "memory usage: 422.2+ KB\n"
     ]
    },
    {
     "data": {
      "text/plain": [
       "None"
      ]
     },
     "metadata": {},
     "output_type": "display_data"
    }
   ],
   "source": [
    "# => too many None / nan values => drop this column\n",
    "data.drop(curr_column, axis=1, inplace=True)\n",
    "\n",
    "# update data_obj (not a great way of handling this whole dropping business, Im)\n",
    "data_obj = data.select_dtypes(include=object)\n",
    "display(data_obj.info())"
   ]
  },
  {
   "cell_type": "markdown",
   "metadata": {},
   "source": [
    "### BsmtQual\n",
    "Height of the basement"
   ]
  },
  {
   "cell_type": "code",
   "execution_count": 24,
   "metadata": {},
   "outputs": [
    {
     "data": {
      "text/plain": [
       "count     1423\n",
       "unique       4\n",
       "top         TA\n",
       "freq       649\n",
       "Name: BsmtQual, dtype: object"
      ]
     },
     "metadata": {},
     "output_type": "display_data"
    },
    {
     "data": {
      "text/plain": [
       "array(['Gd', 'TA', 'Ex', nan, 'Fa'], dtype=object)"
      ]
     },
     "metadata": {},
     "output_type": "display_data"
    },
    {
     "data": {
      "text/plain": [
       "TA     649\n",
       "Gd     618\n",
       "Ex     121\n",
       "NaN     37\n",
       "Fa      35\n",
       "Name: BsmtQual, dtype: int64"
      ]
     },
     "metadata": {},
     "output_type": "display_data"
    },
    {
     "name": "stdout",
     "output_type": "stream",
     "text": [
      "Number of null values in BsmtQual is 37.\n"
     ]
    }
   ],
   "source": [
    "curr_column = obj_cols_with_nan[1]\n",
    "display(data[curr_column].describe())\n",
    "display(data[curr_column].unique())\n",
    "display(data[curr_column].value_counts(dropna=False))\n",
    "\n",
    "# how many null values we have\n",
    "print(\"Number of null values in {} is {}.\".format(curr_column, data[curr_column].isnull().sum()))"
   ]
  },
  {
   "cell_type": "code",
   "execution_count": 25,
   "metadata": {},
   "outputs": [
    {
     "name": "stdout",
     "output_type": "stream",
     "text": [
      "Most frequent value is 'TA' and it appears 649 times.\n"
     ]
    }
   ],
   "source": [
    "# => what shall we do here?\n",
    "# => let's improvise and replace nan values with the most prevalent value, ie TA\n",
    "\n",
    "top_value = data[curr_column].value_counts(dropna=False).index.tolist()[0]\n",
    "top_count = data[curr_column].value_counts(dropna=False).tolist()[0]\n",
    "print(\"Most frequent value is '{}' and it appears {} times.\".format(top_value, top_count))"
   ]
  },
  {
   "cell_type": "code",
   "execution_count": 26,
   "metadata": {},
   "outputs": [
    {
     "data": {
      "text/plain": [
       "count     1460\n",
       "unique       4\n",
       "top         TA\n",
       "freq       686\n",
       "Name: BsmtQual, dtype: object"
      ]
     },
     "metadata": {},
     "output_type": "display_data"
    },
    {
     "data": {
      "text/plain": [
       "array(['Gd', 'TA', 'Ex', 'Fa'], dtype=object)"
      ]
     },
     "metadata": {},
     "output_type": "display_data"
    },
    {
     "data": {
      "text/plain": [
       "TA    686\n",
       "Gd    618\n",
       "Ex    121\n",
       "Fa     35\n",
       "Name: BsmtQual, dtype: int64"
      ]
     },
     "metadata": {},
     "output_type": "display_data"
    }
   ],
   "source": [
    "data[curr_column].fillna(top_value, inplace=True)\n",
    "\n",
    "display(data[curr_column].describe())\n",
    "display(data[curr_column].unique())\n",
    "display(data[curr_column].value_counts(dropna=False))"
   ]
  },
  {
   "cell_type": "markdown",
   "metadata": {},
   "source": [
    "### BsmtCond\n",
    "General condition of the basement"
   ]
  },
  {
   "cell_type": "code",
   "execution_count": 27,
   "metadata": {},
   "outputs": [
    {
     "data": {
      "text/plain": [
       "count     1423\n",
       "unique       4\n",
       "top         TA\n",
       "freq      1311\n",
       "Name: BsmtCond, dtype: object"
      ]
     },
     "metadata": {},
     "output_type": "display_data"
    },
    {
     "data": {
      "text/plain": [
       "array(['TA', 'Gd', nan, 'Fa', 'Po'], dtype=object)"
      ]
     },
     "metadata": {},
     "output_type": "display_data"
    },
    {
     "data": {
      "text/plain": [
       "TA     1311\n",
       "Gd       65\n",
       "Fa       45\n",
       "NaN      37\n",
       "Po        2\n",
       "Name: BsmtCond, dtype: int64"
      ]
     },
     "metadata": {},
     "output_type": "display_data"
    },
    {
     "name": "stdout",
     "output_type": "stream",
     "text": [
      "Number of null values in BsmtCond is 37.\n"
     ]
    }
   ],
   "source": [
    "curr_column = obj_cols_with_nan[2]\n",
    "display(data[curr_column].describe())\n",
    "display(data[curr_column].unique())\n",
    "display(data[curr_column].value_counts(dropna=False))\n",
    "\n",
    "# how many null values we have\n",
    "print(\"Number of null values in {} is {}.\".format(curr_column, data[curr_column].isnull().sum()))"
   ]
  },
  {
   "cell_type": "code",
   "execution_count": 28,
   "metadata": {},
   "outputs": [
    {
     "name": "stdout",
     "output_type": "stream",
     "text": [
      "Most frequent value is 'TA' and it appears 1311 times.\n"
     ]
    }
   ],
   "source": [
    "# the most prevalent value is really common. Feels quite safe to replace nan values with it\n",
    "\n",
    "top_value = data[curr_column].value_counts(dropna=False).index.tolist()[0]\n",
    "top_count = data[curr_column].value_counts(dropna=False).tolist()[0]\n",
    "print(\"Most frequent value is '{}' and it appears {} times.\".format(top_value, top_count))"
   ]
  },
  {
   "cell_type": "code",
   "execution_count": 29,
   "metadata": {},
   "outputs": [
    {
     "data": {
      "text/plain": [
       "count     1460\n",
       "unique       4\n",
       "top         TA\n",
       "freq      1348\n",
       "Name: BsmtCond, dtype: object"
      ]
     },
     "metadata": {},
     "output_type": "display_data"
    },
    {
     "data": {
      "text/plain": [
       "array(['TA', 'Gd', 'Fa', 'Po'], dtype=object)"
      ]
     },
     "metadata": {},
     "output_type": "display_data"
    },
    {
     "data": {
      "text/plain": [
       "TA    1348\n",
       "Gd      65\n",
       "Fa      45\n",
       "Po       2\n",
       "Name: BsmtCond, dtype: int64"
      ]
     },
     "metadata": {},
     "output_type": "display_data"
    }
   ],
   "source": [
    "data[curr_column].fillna(top_value, inplace=True)\n",
    "\n",
    "display(data[curr_column].describe())\n",
    "display(data[curr_column].unique())\n",
    "display(data[curr_column].value_counts(dropna=False))"
   ]
  },
  {
   "cell_type": "markdown",
   "metadata": {},
   "source": [
    "### BsmtExposure\n",
    "Walkout or garden level basement walls"
   ]
  },
  {
   "cell_type": "code",
   "execution_count": 30,
   "metadata": {},
   "outputs": [
    {
     "data": {
      "text/plain": [
       "count     1422\n",
       "unique       4\n",
       "top         No\n",
       "freq       953\n",
       "Name: BsmtExposure, dtype: object"
      ]
     },
     "metadata": {},
     "output_type": "display_data"
    },
    {
     "data": {
      "text/plain": [
       "array(['No', 'Gd', 'Mn', 'Av', nan], dtype=object)"
      ]
     },
     "metadata": {},
     "output_type": "display_data"
    },
    {
     "data": {
      "text/plain": [
       "No     953\n",
       "Av     221\n",
       "Gd     134\n",
       "Mn     114\n",
       "NaN     38\n",
       "Name: BsmtExposure, dtype: int64"
      ]
     },
     "metadata": {},
     "output_type": "display_data"
    },
    {
     "name": "stdout",
     "output_type": "stream",
     "text": [
      "Number of null values in BsmtExposure is 38.\n"
     ]
    }
   ],
   "source": [
    "curr_column = obj_cols_with_nan[3]\n",
    "display(data[curr_column].describe())\n",
    "display(data[curr_column].unique())\n",
    "display(data[curr_column].value_counts(dropna=False))\n",
    "\n",
    "# how many null values we have\n",
    "print(\"Number of null values in {} is {}.\".format(curr_column, data[curr_column].isnull().sum()))"
   ]
  },
  {
   "cell_type": "code",
   "execution_count": 31,
   "metadata": {},
   "outputs": [
    {
     "name": "stdout",
     "output_type": "stream",
     "text": [
      "Most frequent value is 'No' and it appears 953 times.\n"
     ]
    },
    {
     "data": {
      "text/plain": [
       "count     1460\n",
       "unique       4\n",
       "top         No\n",
       "freq       991\n",
       "Name: BsmtExposure, dtype: object"
      ]
     },
     "metadata": {},
     "output_type": "display_data"
    },
    {
     "data": {
      "text/plain": [
       "array(['No', 'Gd', 'Mn', 'Av'], dtype=object)"
      ]
     },
     "metadata": {},
     "output_type": "display_data"
    },
    {
     "data": {
      "text/plain": [
       "No    991\n",
       "Av    221\n",
       "Gd    134\n",
       "Mn    114\n",
       "Name: BsmtExposure, dtype: int64"
      ]
     },
     "metadata": {},
     "output_type": "display_data"
    }
   ],
   "source": [
    "# the most prevalent value is quite common. Feels quite safe to replace nan values with it\n",
    "\n",
    "top_value = data[curr_column].value_counts(dropna=False).index.tolist()[0]\n",
    "top_count = data[curr_column].value_counts(dropna=False).tolist()[0]\n",
    "print(\"Most frequent value is '{}' and it appears {} times.\".format(top_value, top_count))\n",
    "\n",
    "data[curr_column].fillna(top_value, inplace=True)\n",
    "\n",
    "display(data[curr_column].describe())\n",
    "display(data[curr_column].unique())\n",
    "display(data[curr_column].value_counts(dropna=False))"
   ]
  },
  {
   "cell_type": "markdown",
   "metadata": {},
   "source": [
    "### BsmtFinType1\n",
    "Quality of basement finished area"
   ]
  },
  {
   "cell_type": "code",
   "execution_count": 32,
   "metadata": {},
   "outputs": [
    {
     "data": {
      "text/plain": [
       "count     1423\n",
       "unique       6\n",
       "top        Unf\n",
       "freq       430\n",
       "Name: BsmtFinType1, dtype: object"
      ]
     },
     "metadata": {},
     "output_type": "display_data"
    },
    {
     "data": {
      "text/plain": [
       "array(['GLQ', 'ALQ', 'Unf', 'Rec', 'BLQ', nan, 'LwQ'], dtype=object)"
      ]
     },
     "metadata": {},
     "output_type": "display_data"
    },
    {
     "data": {
      "text/plain": [
       "Unf    430\n",
       "GLQ    418\n",
       "ALQ    220\n",
       "BLQ    148\n",
       "Rec    133\n",
       "LwQ     74\n",
       "NaN     37\n",
       "Name: BsmtFinType1, dtype: int64"
      ]
     },
     "metadata": {},
     "output_type": "display_data"
    },
    {
     "name": "stdout",
     "output_type": "stream",
     "text": [
      "Number of null values in BsmtFinType1 is 37.\n"
     ]
    }
   ],
   "source": [
    "curr_column = obj_cols_with_nan[4]\n",
    "display(data[curr_column].describe())\n",
    "display(data[curr_column].unique())\n",
    "display(data[curr_column].value_counts(dropna=False))\n",
    "\n",
    "# how many null values we have\n",
    "print(\"Number of null values in {} is {}.\".format(curr_column, data[curr_column].isnull().sum()))"
   ]
  },
  {
   "cell_type": "code",
   "execution_count": 33,
   "metadata": {},
   "outputs": [
    {
     "name": "stdout",
     "output_type": "stream",
     "text": [
      "Most frequent value is 'Unf' and it appears 430 times.\n"
     ]
    },
    {
     "data": {
      "text/plain": [
       "count     1460\n",
       "unique       6\n",
       "top        Unf\n",
       "freq       467\n",
       "Name: BsmtFinType1, dtype: object"
      ]
     },
     "metadata": {},
     "output_type": "display_data"
    },
    {
     "data": {
      "text/plain": [
       "array(['GLQ', 'ALQ', 'Unf', 'Rec', 'BLQ', 'LwQ'], dtype=object)"
      ]
     },
     "metadata": {},
     "output_type": "display_data"
    },
    {
     "data": {
      "text/plain": [
       "Unf    467\n",
       "GLQ    418\n",
       "ALQ    220\n",
       "BLQ    148\n",
       "Rec    133\n",
       "LwQ     74\n",
       "Name: BsmtFinType1, dtype: int64"
      ]
     },
     "metadata": {},
     "output_type": "display_data"
    }
   ],
   "source": [
    "# the most prevalent value is not majorly frequent Oh well, let's replace nan values with it anyway\n",
    "\n",
    "top_value = data[curr_column].value_counts(dropna=False).index.tolist()[0]\n",
    "top_count = data[curr_column].value_counts(dropna=False).tolist()[0]\n",
    "print(\"Most frequent value is '{}' and it appears {} times.\".format(top_value, top_count))\n",
    "\n",
    "data[curr_column].fillna(top_value, inplace=True)\n",
    "\n",
    "display(data[curr_column].describe())\n",
    "display(data[curr_column].unique())\n",
    "display(data[curr_column].value_counts(dropna=False))"
   ]
  },
  {
   "cell_type": "markdown",
   "metadata": {},
   "source": [
    "### BsmtFinType2\n",
    "Quality of second finished area (if present)"
   ]
  },
  {
   "cell_type": "code",
   "execution_count": 34,
   "metadata": {},
   "outputs": [
    {
     "data": {
      "text/plain": [
       "count     1422\n",
       "unique       6\n",
       "top        Unf\n",
       "freq      1256\n",
       "Name: BsmtFinType2, dtype: object"
      ]
     },
     "metadata": {},
     "output_type": "display_data"
    },
    {
     "data": {
      "text/plain": [
       "array(['Unf', 'BLQ', nan, 'ALQ', 'Rec', 'LwQ', 'GLQ'], dtype=object)"
      ]
     },
     "metadata": {},
     "output_type": "display_data"
    },
    {
     "data": {
      "text/plain": [
       "Unf    1256\n",
       "Rec      54\n",
       "LwQ      46\n",
       "NaN      38\n",
       "BLQ      33\n",
       "ALQ      19\n",
       "GLQ      14\n",
       "Name: BsmtFinType2, dtype: int64"
      ]
     },
     "metadata": {},
     "output_type": "display_data"
    },
    {
     "name": "stdout",
     "output_type": "stream",
     "text": [
      "Number of null values in BsmtFinType2 is 38.\n"
     ]
    }
   ],
   "source": [
    "curr_column = obj_cols_with_nan[5]\n",
    "display(data[curr_column].describe())\n",
    "display(data[curr_column].unique())\n",
    "display(data[curr_column].value_counts(dropna=False))\n",
    "\n",
    "# how many null values we have\n",
    "print(\"Number of null values in {} is {}.\".format(curr_column, data[curr_column].isnull().sum()))"
   ]
  },
  {
   "cell_type": "code",
   "execution_count": 35,
   "metadata": {},
   "outputs": [
    {
     "name": "stdout",
     "output_type": "stream",
     "text": [
      "Most frequent value is 'Unf' and it appears 1256 times.\n"
     ]
    },
    {
     "data": {
      "text/plain": [
       "count     1460\n",
       "unique       6\n",
       "top        Unf\n",
       "freq      1294\n",
       "Name: BsmtFinType2, dtype: object"
      ]
     },
     "metadata": {},
     "output_type": "display_data"
    },
    {
     "data": {
      "text/plain": [
       "array(['Unf', 'BLQ', 'ALQ', 'Rec', 'LwQ', 'GLQ'], dtype=object)"
      ]
     },
     "metadata": {},
     "output_type": "display_data"
    },
    {
     "data": {
      "text/plain": [
       "Unf    1294\n",
       "Rec      54\n",
       "LwQ      46\n",
       "BLQ      33\n",
       "ALQ      19\n",
       "GLQ      14\n",
       "Name: BsmtFinType2, dtype: int64"
      ]
     },
     "metadata": {},
     "output_type": "display_data"
    }
   ],
   "source": [
    "# the most prevalent value is very common. Feels very safe to replace nan values with it\n",
    "\n",
    "top_value = data[curr_column].value_counts(dropna=False).index.tolist()[0]\n",
    "top_count = data[curr_column].value_counts(dropna=False).tolist()[0]\n",
    "print(\"Most frequent value is '{}' and it appears {} times.\".format(top_value, top_count))\n",
    "\n",
    "data[curr_column].fillna(top_value, inplace=True)\n",
    "\n",
    "display(data[curr_column].describe())\n",
    "display(data[curr_column].unique())\n",
    "display(data[curr_column].value_counts(dropna=False))"
   ]
  },
  {
   "cell_type": "markdown",
   "metadata": {},
   "source": [
    "### Electrical"
   ]
  },
  {
   "cell_type": "code",
   "execution_count": 36,
   "metadata": {},
   "outputs": [
    {
     "data": {
      "text/plain": [
       "count      1459\n",
       "unique        5\n",
       "top       SBrkr\n",
       "freq       1334\n",
       "Name: Electrical, dtype: object"
      ]
     },
     "metadata": {},
     "output_type": "display_data"
    },
    {
     "data": {
      "text/plain": [
       "array(['SBrkr', 'FuseF', 'FuseA', 'FuseP', 'Mix', nan], dtype=object)"
      ]
     },
     "metadata": {},
     "output_type": "display_data"
    },
    {
     "data": {
      "text/plain": [
       "SBrkr    1334\n",
       "FuseA      94\n",
       "FuseF      27\n",
       "FuseP       3\n",
       "Mix         1\n",
       "NaN         1\n",
       "Name: Electrical, dtype: int64"
      ]
     },
     "metadata": {},
     "output_type": "display_data"
    },
    {
     "name": "stdout",
     "output_type": "stream",
     "text": [
      "Number of null values in Electrical is 1.\n"
     ]
    }
   ],
   "source": [
    "curr_column = obj_cols_with_nan[6]\n",
    "display(data[curr_column].describe())\n",
    "display(data[curr_column].unique())\n",
    "display(data[curr_column].value_counts(dropna=False))\n",
    "\n",
    "# how many null values we have\n",
    "print(\"Number of null values in {} is {}.\".format(curr_column, data[curr_column].isnull().sum()))"
   ]
  },
  {
   "cell_type": "code",
   "execution_count": 37,
   "metadata": {},
   "outputs": [
    {
     "name": "stdout",
     "output_type": "stream",
     "text": [
      "Most frequent value is 'SBrkr' and it appears 1334 times. That is 1% of the time\n"
     ]
    },
    {
     "data": {
      "text/plain": [
       "count      1460\n",
       "unique        5\n",
       "top       SBrkr\n",
       "freq       1335\n",
       "Name: Electrical, dtype: object"
      ]
     },
     "metadata": {},
     "output_type": "display_data"
    },
    {
     "data": {
      "text/plain": [
       "array(['SBrkr', 'FuseF', 'FuseA', 'FuseP', 'Mix'], dtype=object)"
      ]
     },
     "metadata": {},
     "output_type": "display_data"
    },
    {
     "data": {
      "text/plain": [
       "SBrkr    1335\n",
       "FuseA      94\n",
       "FuseF      27\n",
       "FuseP       3\n",
       "Mix         1\n",
       "Name: Electrical, dtype: int64"
      ]
     },
     "metadata": {},
     "output_type": "display_data"
    }
   ],
   "source": [
    "# the most prevalent value is very common. Feels very safe to replace nan values with it\n",
    "\n",
    "top_value = data[curr_column].value_counts(dropna=False).index.tolist()[0]\n",
    "top_count = data[curr_column].value_counts(dropna=False).tolist()[0]\n",
    "print(\"Most frequent value is '{}' and it appears {} times. That is {:.0f}% of the time\".format(top_value, top_count, top_count/len(data)))\n",
    "\n",
    "data[curr_column].fillna(top_value, inplace=True)\n",
    "\n",
    "display(data[curr_column].describe())\n",
    "display(data[curr_column].unique())\n",
    "display(data[curr_column].value_counts(dropna=False))"
   ]
  },
  {
   "cell_type": "code",
   "execution_count": 38,
   "metadata": {},
   "outputs": [
    {
     "name": "stdout",
     "output_type": "stream",
     "text": [
      "Most frequent value is 'SBrkr' and it appears 1334 times. That is 91 % of the time\n"
     ]
    }
   ],
   "source": [
    "print(\"Most frequent value is '{}' and it appears {} times. That is {:.0f} % of the time\".format(top_value, top_count, top_count/len(data)*100))"
   ]
  },
  {
   "cell_type": "markdown",
   "metadata": {},
   "source": [
    "## Boom, define functions to handle \"object\" columns with null values..."
   ]
  },
  {
   "cell_type": "code",
   "execution_count": 39,
   "metadata": {},
   "outputs": [],
   "source": [
    "def check_obj_column(n):\n",
    "\n",
    "    curr_column = obj_cols_with_nan[n]\n",
    "    display(data[curr_column].describe())\n",
    "    display(data[curr_column].unique())\n",
    "    display(data[curr_column].value_counts(dropna=False))\n",
    "\n",
    "    # how many null values we have\n",
    "    print(\"Number of null values in {} is {}.\".format(curr_column, data[curr_column].isnull().sum()))\n",
    "    \n",
    "    top_value = data[curr_column].value_counts(dropna=False).index.tolist()[0]\n",
    "    top_count = data[curr_column].value_counts(dropna=False).tolist()[0]\n",
    "    print(\"Most frequent value is '{}' and it appears {} times. That is {:.0f}% of the time.\".format(\n",
    "        top_value, top_count, top_count/len(data)*100))"
   ]
  },
  {
   "cell_type": "code",
   "execution_count": 40,
   "metadata": {},
   "outputs": [],
   "source": [
    "def replace_obj_nan_with_top_value(n):\n",
    "    # the most prevalent value is very common. Feels very safe to replace nan values with it\n",
    "\n",
    "    curr_column = obj_cols_with_nan[n]\n",
    "    top_value = data[curr_column].value_counts(dropna=False).index.tolist()[0]\n",
    "    \n",
    "    data[curr_column].fillna(top_value, inplace=True)\n",
    "\n",
    "    display(data[curr_column].describe())\n",
    "    display(data[curr_column].unique())\n",
    "    display(data[curr_column].value_counts(dropna=False))"
   ]
  },
  {
   "cell_type": "markdown",
   "metadata": {},
   "source": [
    "## ... then use these functions to go through null values in non-numeric columns quicker"
   ]
  },
  {
   "cell_type": "code",
   "execution_count": 41,
   "metadata": {},
   "outputs": [
    {
     "data": {
      "text/plain": [
       "count       1379\n",
       "unique         6\n",
       "top       Attchd\n",
       "freq         870\n",
       "Name: GarageType, dtype: object"
      ]
     },
     "metadata": {},
     "output_type": "display_data"
    },
    {
     "data": {
      "text/plain": [
       "array(['Attchd', 'Detchd', 'BuiltIn', 'CarPort', nan, 'Basment', '2Types'],\n",
       "      dtype=object)"
      ]
     },
     "metadata": {},
     "output_type": "display_data"
    },
    {
     "data": {
      "text/plain": [
       "Attchd     870\n",
       "Detchd     387\n",
       "BuiltIn     88\n",
       "NaN         81\n",
       "Basment     19\n",
       "CarPort      9\n",
       "2Types       6\n",
       "Name: GarageType, dtype: int64"
      ]
     },
     "metadata": {},
     "output_type": "display_data"
    },
    {
     "name": "stdout",
     "output_type": "stream",
     "text": [
      "Number of null values in GarageType is 81.\n",
      "Most frequent value is 'Attchd' and it appears 870 times. That is 60% of the time.\n"
     ]
    }
   ],
   "source": [
    "check_obj_column(7)"
   ]
  },
  {
   "cell_type": "code",
   "execution_count": 42,
   "metadata": {},
   "outputs": [
    {
     "data": {
      "text/plain": [
       "count       1460\n",
       "unique         6\n",
       "top       Attchd\n",
       "freq         951\n",
       "Name: GarageType, dtype: object"
      ]
     },
     "metadata": {},
     "output_type": "display_data"
    },
    {
     "data": {
      "text/plain": [
       "array(['Attchd', 'Detchd', 'BuiltIn', 'CarPort', 'Basment', '2Types'],\n",
       "      dtype=object)"
      ]
     },
     "metadata": {},
     "output_type": "display_data"
    },
    {
     "data": {
      "text/plain": [
       "Attchd     951\n",
       "Detchd     387\n",
       "BuiltIn     88\n",
       "Basment     19\n",
       "CarPort      9\n",
       "2Types       6\n",
       "Name: GarageType, dtype: int64"
      ]
     },
     "metadata": {},
     "output_type": "display_data"
    }
   ],
   "source": [
    "replace_obj_nan_with_top_value(7)"
   ]
  },
  {
   "cell_type": "code",
   "execution_count": 43,
   "metadata": {},
   "outputs": [
    {
     "data": {
      "text/plain": [
       "count     1379\n",
       "unique       3\n",
       "top        Unf\n",
       "freq       605\n",
       "Name: GarageFinish, dtype: object"
      ]
     },
     "metadata": {},
     "output_type": "display_data"
    },
    {
     "data": {
      "text/plain": [
       "array(['RFn', 'Unf', 'Fin', nan], dtype=object)"
      ]
     },
     "metadata": {},
     "output_type": "display_data"
    },
    {
     "data": {
      "text/plain": [
       "Unf    605\n",
       "RFn    422\n",
       "Fin    352\n",
       "NaN     81\n",
       "Name: GarageFinish, dtype: int64"
      ]
     },
     "metadata": {},
     "output_type": "display_data"
    },
    {
     "name": "stdout",
     "output_type": "stream",
     "text": [
      "Number of null values in GarageFinish is 81.\n",
      "Most frequent value is 'Unf' and it appears 605 times. That is 41% of the time.\n"
     ]
    }
   ],
   "source": [
    "check_obj_column(8)"
   ]
  },
  {
   "cell_type": "code",
   "execution_count": 44,
   "metadata": {},
   "outputs": [
    {
     "data": {
      "text/plain": [
       "count     1460\n",
       "unique       3\n",
       "top        Unf\n",
       "freq       686\n",
       "Name: GarageFinish, dtype: object"
      ]
     },
     "metadata": {},
     "output_type": "display_data"
    },
    {
     "data": {
      "text/plain": [
       "array(['RFn', 'Unf', 'Fin'], dtype=object)"
      ]
     },
     "metadata": {},
     "output_type": "display_data"
    },
    {
     "data": {
      "text/plain": [
       "Unf    686\n",
       "RFn    422\n",
       "Fin    352\n",
       "Name: GarageFinish, dtype: int64"
      ]
     },
     "metadata": {},
     "output_type": "display_data"
    }
   ],
   "source": [
    "replace_obj_nan_with_top_value(8)"
   ]
  },
  {
   "cell_type": "code",
   "execution_count": 45,
   "metadata": {},
   "outputs": [
    {
     "data": {
      "text/plain": [
       "count     1379\n",
       "unique       5\n",
       "top         TA\n",
       "freq      1311\n",
       "Name: GarageQual, dtype: object"
      ]
     },
     "metadata": {},
     "output_type": "display_data"
    },
    {
     "data": {
      "text/plain": [
       "array(['TA', 'Fa', 'Gd', nan, 'Ex', 'Po'], dtype=object)"
      ]
     },
     "metadata": {},
     "output_type": "display_data"
    },
    {
     "data": {
      "text/plain": [
       "TA     1311\n",
       "NaN      81\n",
       "Fa       48\n",
       "Gd       14\n",
       "Po        3\n",
       "Ex        3\n",
       "Name: GarageQual, dtype: int64"
      ]
     },
     "metadata": {},
     "output_type": "display_data"
    },
    {
     "name": "stdout",
     "output_type": "stream",
     "text": [
      "Number of null values in GarageQual is 81.\n",
      "Most frequent value is 'TA' and it appears 1311 times. That is 90% of the time.\n"
     ]
    }
   ],
   "source": [
    "check_obj_column(9)"
   ]
  },
  {
   "cell_type": "code",
   "execution_count": 46,
   "metadata": {},
   "outputs": [
    {
     "data": {
      "text/plain": [
       "count     1460\n",
       "unique       5\n",
       "top         TA\n",
       "freq      1392\n",
       "Name: GarageQual, dtype: object"
      ]
     },
     "metadata": {},
     "output_type": "display_data"
    },
    {
     "data": {
      "text/plain": [
       "array(['TA', 'Fa', 'Gd', 'Ex', 'Po'], dtype=object)"
      ]
     },
     "metadata": {},
     "output_type": "display_data"
    },
    {
     "data": {
      "text/plain": [
       "TA    1392\n",
       "Fa      48\n",
       "Gd      14\n",
       "Po       3\n",
       "Ex       3\n",
       "Name: GarageQual, dtype: int64"
      ]
     },
     "metadata": {},
     "output_type": "display_data"
    }
   ],
   "source": [
    "replace_obj_nan_with_top_value(9)"
   ]
  },
  {
   "cell_type": "code",
   "execution_count": 47,
   "metadata": {},
   "outputs": [
    {
     "data": {
      "text/plain": [
       "count     1379\n",
       "unique       5\n",
       "top         TA\n",
       "freq      1326\n",
       "Name: GarageCond, dtype: object"
      ]
     },
     "metadata": {},
     "output_type": "display_data"
    },
    {
     "data": {
      "text/plain": [
       "array(['TA', 'Fa', nan, 'Gd', 'Po', 'Ex'], dtype=object)"
      ]
     },
     "metadata": {},
     "output_type": "display_data"
    },
    {
     "data": {
      "text/plain": [
       "TA     1326\n",
       "NaN      81\n",
       "Fa       35\n",
       "Gd        9\n",
       "Po        7\n",
       "Ex        2\n",
       "Name: GarageCond, dtype: int64"
      ]
     },
     "metadata": {},
     "output_type": "display_data"
    },
    {
     "name": "stdout",
     "output_type": "stream",
     "text": [
      "Number of null values in GarageCond is 81.\n",
      "Most frequent value is 'TA' and it appears 1326 times. That is 91% of the time.\n"
     ]
    }
   ],
   "source": [
    "check_obj_column(10)"
   ]
  },
  {
   "cell_type": "code",
   "execution_count": 48,
   "metadata": {},
   "outputs": [
    {
     "data": {
      "text/plain": [
       "count     1460\n",
       "unique       5\n",
       "top         TA\n",
       "freq      1407\n",
       "Name: GarageCond, dtype: object"
      ]
     },
     "metadata": {},
     "output_type": "display_data"
    },
    {
     "data": {
      "text/plain": [
       "array(['TA', 'Fa', 'Gd', 'Po', 'Ex'], dtype=object)"
      ]
     },
     "metadata": {},
     "output_type": "display_data"
    },
    {
     "data": {
      "text/plain": [
       "TA    1407\n",
       "Fa      35\n",
       "Gd       9\n",
       "Po       7\n",
       "Ex       2\n",
       "Name: GarageCond, dtype: int64"
      ]
     },
     "metadata": {},
     "output_type": "display_data"
    }
   ],
   "source": [
    "replace_obj_nan_with_top_value(10)"
   ]
  },
  {
   "cell_type": "markdown",
   "metadata": {},
   "source": [
    "Now that we're done replacing \"object\" columns that officially have nan, let's inspect ALL \"object\" columns <br>\n",
    "(just to be sure they're not hiding any missing values (eg as \"missing\" rather than actual NaN))"
   ]
  },
  {
   "cell_type": "code",
   "execution_count": 49,
   "metadata": {},
   "outputs": [],
   "source": [
    "def check_any_column(curr_column):\n",
    "\n",
    "    display(data[curr_column].describe())\n",
    "    display(data[curr_column].unique())\n",
    "    display(data[curr_column].value_counts(dropna=False))\n",
    "\n",
    "#     how many null values we have\n",
    "#     print(\"Number of null values in {} is {}.\".format(curr_column, data[curr_column].isnull().sum()))"
   ]
  },
  {
   "cell_type": "code",
   "execution_count": 50,
   "metadata": {},
   "outputs": [
    {
     "name": "stdout",
     "output_type": "stream",
     "text": [
      "Number of columns to check is 37.\n",
      "\n",
      "\n",
      "*** Let's loop ***\n",
      "\n",
      "\n",
      "Information for column number 0 is below:\n"
     ]
    },
    {
     "data": {
      "text/plain": [
       "count     1460\n",
       "unique       5\n",
       "top         RL\n",
       "freq      1151\n",
       "Name: MSZoning, dtype: object"
      ]
     },
     "metadata": {},
     "output_type": "display_data"
    },
    {
     "data": {
      "text/plain": [
       "array(['RL', 'RM', 'C (all)', 'FV', 'RH'], dtype=object)"
      ]
     },
     "metadata": {},
     "output_type": "display_data"
    },
    {
     "data": {
      "text/plain": [
       "RL         1151\n",
       "RM          218\n",
       "FV           65\n",
       "RH           16\n",
       "C (all)      10\n",
       "Name: MSZoning, dtype: int64"
      ]
     },
     "metadata": {},
     "output_type": "display_data"
    },
    {
     "name": "stdout",
     "output_type": "stream",
     "text": [
      "Information for column number 1 is below:\n"
     ]
    },
    {
     "data": {
      "text/plain": [
       "count     1460\n",
       "unique       2\n",
       "top       Pave\n",
       "freq      1454\n",
       "Name: Street, dtype: object"
      ]
     },
     "metadata": {},
     "output_type": "display_data"
    },
    {
     "data": {
      "text/plain": [
       "array(['Pave', 'Grvl'], dtype=object)"
      ]
     },
     "metadata": {},
     "output_type": "display_data"
    },
    {
     "data": {
      "text/plain": [
       "Pave    1454\n",
       "Grvl       6\n",
       "Name: Street, dtype: int64"
      ]
     },
     "metadata": {},
     "output_type": "display_data"
    },
    {
     "name": "stdout",
     "output_type": "stream",
     "text": [
      "Information for column number 2 is below:\n"
     ]
    },
    {
     "data": {
      "text/plain": [
       "count     1460\n",
       "unique       4\n",
       "top        Reg\n",
       "freq       925\n",
       "Name: LotShape, dtype: object"
      ]
     },
     "metadata": {},
     "output_type": "display_data"
    },
    {
     "data": {
      "text/plain": [
       "array(['Reg', 'IR1', 'IR2', 'IR3'], dtype=object)"
      ]
     },
     "metadata": {},
     "output_type": "display_data"
    },
    {
     "data": {
      "text/plain": [
       "Reg    925\n",
       "IR1    484\n",
       "IR2     41\n",
       "IR3     10\n",
       "Name: LotShape, dtype: int64"
      ]
     },
     "metadata": {},
     "output_type": "display_data"
    },
    {
     "name": "stdout",
     "output_type": "stream",
     "text": [
      "Information for column number 3 is below:\n"
     ]
    },
    {
     "data": {
      "text/plain": [
       "count     1460\n",
       "unique       4\n",
       "top        Lvl\n",
       "freq      1311\n",
       "Name: LandContour, dtype: object"
      ]
     },
     "metadata": {},
     "output_type": "display_data"
    },
    {
     "data": {
      "text/plain": [
       "array(['Lvl', 'Bnk', 'Low', 'HLS'], dtype=object)"
      ]
     },
     "metadata": {},
     "output_type": "display_data"
    },
    {
     "data": {
      "text/plain": [
       "Lvl    1311\n",
       "Bnk      63\n",
       "HLS      50\n",
       "Low      36\n",
       "Name: LandContour, dtype: int64"
      ]
     },
     "metadata": {},
     "output_type": "display_data"
    },
    {
     "name": "stdout",
     "output_type": "stream",
     "text": [
      "Information for column number 4 is below:\n"
     ]
    },
    {
     "data": {
      "text/plain": [
       "count       1460\n",
       "unique         2\n",
       "top       AllPub\n",
       "freq        1459\n",
       "Name: Utilities, dtype: object"
      ]
     },
     "metadata": {},
     "output_type": "display_data"
    },
    {
     "data": {
      "text/plain": [
       "array(['AllPub', 'NoSeWa'], dtype=object)"
      ]
     },
     "metadata": {},
     "output_type": "display_data"
    },
    {
     "data": {
      "text/plain": [
       "AllPub    1459\n",
       "NoSeWa       1\n",
       "Name: Utilities, dtype: int64"
      ]
     },
     "metadata": {},
     "output_type": "display_data"
    },
    {
     "name": "stdout",
     "output_type": "stream",
     "text": [
      "Information for column number 5 is below:\n"
     ]
    },
    {
     "data": {
      "text/plain": [
       "count       1460\n",
       "unique         5\n",
       "top       Inside\n",
       "freq        1052\n",
       "Name: LotConfig, dtype: object"
      ]
     },
     "metadata": {},
     "output_type": "display_data"
    },
    {
     "data": {
      "text/plain": [
       "array(['Inside', 'FR2', 'Corner', 'CulDSac', 'FR3'], dtype=object)"
      ]
     },
     "metadata": {},
     "output_type": "display_data"
    },
    {
     "data": {
      "text/plain": [
       "Inside     1052\n",
       "Corner      263\n",
       "CulDSac      94\n",
       "FR2          47\n",
       "FR3           4\n",
       "Name: LotConfig, dtype: int64"
      ]
     },
     "metadata": {},
     "output_type": "display_data"
    },
    {
     "name": "stdout",
     "output_type": "stream",
     "text": [
      "Information for column number 6 is below:\n"
     ]
    },
    {
     "data": {
      "text/plain": [
       "count     1460\n",
       "unique       3\n",
       "top        Gtl\n",
       "freq      1382\n",
       "Name: LandSlope, dtype: object"
      ]
     },
     "metadata": {},
     "output_type": "display_data"
    },
    {
     "data": {
      "text/plain": [
       "array(['Gtl', 'Mod', 'Sev'], dtype=object)"
      ]
     },
     "metadata": {},
     "output_type": "display_data"
    },
    {
     "data": {
      "text/plain": [
       "Gtl    1382\n",
       "Mod      65\n",
       "Sev      13\n",
       "Name: LandSlope, dtype: int64"
      ]
     },
     "metadata": {},
     "output_type": "display_data"
    },
    {
     "name": "stdout",
     "output_type": "stream",
     "text": [
      "Information for column number 7 is below:\n"
     ]
    },
    {
     "data": {
      "text/plain": [
       "count      1460\n",
       "unique       25\n",
       "top       NAmes\n",
       "freq        225\n",
       "Name: Neighborhood, dtype: object"
      ]
     },
     "metadata": {},
     "output_type": "display_data"
    },
    {
     "data": {
      "text/plain": [
       "array(['CollgCr', 'Veenker', 'Crawfor', 'NoRidge', 'Mitchel', 'Somerst',\n",
       "       'NWAmes', 'OldTown', 'BrkSide', 'Sawyer', 'NridgHt', 'NAmes',\n",
       "       'SawyerW', 'IDOTRR', 'MeadowV', 'Edwards', 'Timber', 'Gilbert',\n",
       "       'StoneBr', 'ClearCr', 'NPkVill', 'Blmngtn', 'BrDale', 'SWISU',\n",
       "       'Blueste'], dtype=object)"
      ]
     },
     "metadata": {},
     "output_type": "display_data"
    },
    {
     "data": {
      "text/plain": [
       "NAmes      225\n",
       "CollgCr    150\n",
       "OldTown    113\n",
       "Edwards    100\n",
       "Somerst     86\n",
       "Gilbert     79\n",
       "NridgHt     77\n",
       "Sawyer      74\n",
       "NWAmes      73\n",
       "SawyerW     59\n",
       "BrkSide     58\n",
       "Crawfor     51\n",
       "Mitchel     49\n",
       "NoRidge     41\n",
       "Timber      38\n",
       "IDOTRR      37\n",
       "ClearCr     28\n",
       "StoneBr     25\n",
       "SWISU       25\n",
       "Blmngtn     17\n",
       "MeadowV     17\n",
       "BrDale      16\n",
       "Veenker     11\n",
       "NPkVill      9\n",
       "Blueste      2\n",
       "Name: Neighborhood, dtype: int64"
      ]
     },
     "metadata": {},
     "output_type": "display_data"
    },
    {
     "name": "stdout",
     "output_type": "stream",
     "text": [
      "Information for column number 8 is below:\n"
     ]
    },
    {
     "data": {
      "text/plain": [
       "count     1460\n",
       "unique       9\n",
       "top       Norm\n",
       "freq      1260\n",
       "Name: Condition1, dtype: object"
      ]
     },
     "metadata": {},
     "output_type": "display_data"
    },
    {
     "data": {
      "text/plain": [
       "array(['Norm', 'Feedr', 'PosN', 'Artery', 'RRAe', 'RRNn', 'RRAn', 'PosA',\n",
       "       'RRNe'], dtype=object)"
      ]
     },
     "metadata": {},
     "output_type": "display_data"
    },
    {
     "data": {
      "text/plain": [
       "Norm      1260\n",
       "Feedr       81\n",
       "Artery      48\n",
       "RRAn        26\n",
       "PosN        19\n",
       "RRAe        11\n",
       "PosA         8\n",
       "RRNn         5\n",
       "RRNe         2\n",
       "Name: Condition1, dtype: int64"
      ]
     },
     "metadata": {},
     "output_type": "display_data"
    },
    {
     "name": "stdout",
     "output_type": "stream",
     "text": [
      "Information for column number 9 is below:\n"
     ]
    },
    {
     "data": {
      "text/plain": [
       "count     1460\n",
       "unique       8\n",
       "top       Norm\n",
       "freq      1445\n",
       "Name: Condition2, dtype: object"
      ]
     },
     "metadata": {},
     "output_type": "display_data"
    },
    {
     "data": {
      "text/plain": [
       "array(['Norm', 'Artery', 'RRNn', 'Feedr', 'PosN', 'PosA', 'RRAn', 'RRAe'],\n",
       "      dtype=object)"
      ]
     },
     "metadata": {},
     "output_type": "display_data"
    },
    {
     "data": {
      "text/plain": [
       "Norm      1445\n",
       "Feedr        6\n",
       "Artery       2\n",
       "PosN         2\n",
       "RRNn         2\n",
       "RRAn         1\n",
       "PosA         1\n",
       "RRAe         1\n",
       "Name: Condition2, dtype: int64"
      ]
     },
     "metadata": {},
     "output_type": "display_data"
    },
    {
     "name": "stdout",
     "output_type": "stream",
     "text": [
      "Information for column number 10 is below:\n"
     ]
    },
    {
     "data": {
      "text/plain": [
       "count     1460\n",
       "unique       5\n",
       "top       1Fam\n",
       "freq      1220\n",
       "Name: BldgType, dtype: object"
      ]
     },
     "metadata": {},
     "output_type": "display_data"
    },
    {
     "data": {
      "text/plain": [
       "array(['1Fam', '2fmCon', 'Duplex', 'TwnhsE', 'Twnhs'], dtype=object)"
      ]
     },
     "metadata": {},
     "output_type": "display_data"
    },
    {
     "data": {
      "text/plain": [
       "1Fam      1220\n",
       "TwnhsE     114\n",
       "Duplex      52\n",
       "Twnhs       43\n",
       "2fmCon      31\n",
       "Name: BldgType, dtype: int64"
      ]
     },
     "metadata": {},
     "output_type": "display_data"
    },
    {
     "name": "stdout",
     "output_type": "stream",
     "text": [
      "Information for column number 11 is below:\n"
     ]
    },
    {
     "data": {
      "text/plain": [
       "count       1460\n",
       "unique         8\n",
       "top       1Story\n",
       "freq         726\n",
       "Name: HouseStyle, dtype: object"
      ]
     },
     "metadata": {},
     "output_type": "display_data"
    },
    {
     "data": {
      "text/plain": [
       "array(['2Story', '1Story', '1.5Fin', '1.5Unf', 'SFoyer', 'SLvl', '2.5Unf',\n",
       "       '2.5Fin'], dtype=object)"
      ]
     },
     "metadata": {},
     "output_type": "display_data"
    },
    {
     "data": {
      "text/plain": [
       "1Story    726\n",
       "2Story    445\n",
       "1.5Fin    154\n",
       "SLvl       65\n",
       "SFoyer     37\n",
       "1.5Unf     14\n",
       "2.5Unf     11\n",
       "2.5Fin      8\n",
       "Name: HouseStyle, dtype: int64"
      ]
     },
     "metadata": {},
     "output_type": "display_data"
    },
    {
     "name": "stdout",
     "output_type": "stream",
     "text": [
      "Information for column number 12 is below:\n"
     ]
    },
    {
     "data": {
      "text/plain": [
       "count      1460\n",
       "unique        6\n",
       "top       Gable\n",
       "freq       1141\n",
       "Name: RoofStyle, dtype: object"
      ]
     },
     "metadata": {},
     "output_type": "display_data"
    },
    {
     "data": {
      "text/plain": [
       "array(['Gable', 'Hip', 'Gambrel', 'Mansard', 'Flat', 'Shed'], dtype=object)"
      ]
     },
     "metadata": {},
     "output_type": "display_data"
    },
    {
     "data": {
      "text/plain": [
       "Gable      1141\n",
       "Hip         286\n",
       "Flat         13\n",
       "Gambrel      11\n",
       "Mansard       7\n",
       "Shed          2\n",
       "Name: RoofStyle, dtype: int64"
      ]
     },
     "metadata": {},
     "output_type": "display_data"
    },
    {
     "name": "stdout",
     "output_type": "stream",
     "text": [
      "Information for column number 13 is below:\n"
     ]
    },
    {
     "data": {
      "text/plain": [
       "count        1460\n",
       "unique          8\n",
       "top       CompShg\n",
       "freq         1434\n",
       "Name: RoofMatl, dtype: object"
      ]
     },
     "metadata": {},
     "output_type": "display_data"
    },
    {
     "data": {
      "text/plain": [
       "array(['CompShg', 'WdShngl', 'Metal', 'WdShake', 'Membran', 'Tar&Grv',\n",
       "       'Roll', 'ClyTile'], dtype=object)"
      ]
     },
     "metadata": {},
     "output_type": "display_data"
    },
    {
     "data": {
      "text/plain": [
       "CompShg    1434\n",
       "Tar&Grv      11\n",
       "WdShngl       6\n",
       "WdShake       5\n",
       "ClyTile       1\n",
       "Roll          1\n",
       "Membran       1\n",
       "Metal         1\n",
       "Name: RoofMatl, dtype: int64"
      ]
     },
     "metadata": {},
     "output_type": "display_data"
    },
    {
     "name": "stdout",
     "output_type": "stream",
     "text": [
      "Information for column number 14 is below:\n"
     ]
    },
    {
     "data": {
      "text/plain": [
       "count        1460\n",
       "unique         15\n",
       "top       VinylSd\n",
       "freq          515\n",
       "Name: Exterior1st, dtype: object"
      ]
     },
     "metadata": {},
     "output_type": "display_data"
    },
    {
     "data": {
      "text/plain": [
       "array(['VinylSd', 'MetalSd', 'Wd Sdng', 'HdBoard', 'BrkFace', 'WdShing',\n",
       "       'CemntBd', 'Plywood', 'AsbShng', 'Stucco', 'BrkComm', 'AsphShn',\n",
       "       'Stone', 'ImStucc', 'CBlock'], dtype=object)"
      ]
     },
     "metadata": {},
     "output_type": "display_data"
    },
    {
     "data": {
      "text/plain": [
       "VinylSd    515\n",
       "HdBoard    222\n",
       "MetalSd    220\n",
       "Wd Sdng    206\n",
       "Plywood    108\n",
       "CemntBd     61\n",
       "BrkFace     50\n",
       "WdShing     26\n",
       "Stucco      25\n",
       "AsbShng     20\n",
       "BrkComm      2\n",
       "Stone        2\n",
       "ImStucc      1\n",
       "CBlock       1\n",
       "AsphShn      1\n",
       "Name: Exterior1st, dtype: int64"
      ]
     },
     "metadata": {},
     "output_type": "display_data"
    },
    {
     "name": "stdout",
     "output_type": "stream",
     "text": [
      "Information for column number 15 is below:\n"
     ]
    },
    {
     "data": {
      "text/plain": [
       "count        1460\n",
       "unique         16\n",
       "top       VinylSd\n",
       "freq          504\n",
       "Name: Exterior2nd, dtype: object"
      ]
     },
     "metadata": {},
     "output_type": "display_data"
    },
    {
     "data": {
      "text/plain": [
       "array(['VinylSd', 'MetalSd', 'Wd Shng', 'HdBoard', 'Plywood', 'Wd Sdng',\n",
       "       'CmentBd', 'BrkFace', 'Stucco', 'AsbShng', 'Brk Cmn', 'ImStucc',\n",
       "       'AsphShn', 'Stone', 'Other', 'CBlock'], dtype=object)"
      ]
     },
     "metadata": {},
     "output_type": "display_data"
    },
    {
     "data": {
      "text/plain": [
       "VinylSd    504\n",
       "MetalSd    214\n",
       "HdBoard    207\n",
       "Wd Sdng    197\n",
       "Plywood    142\n",
       "CmentBd     60\n",
       "Wd Shng     38\n",
       "Stucco      26\n",
       "BrkFace     25\n",
       "AsbShng     20\n",
       "ImStucc     10\n",
       "Brk Cmn      7\n",
       "Stone        5\n",
       "AsphShn      3\n",
       "CBlock       1\n",
       "Other        1\n",
       "Name: Exterior2nd, dtype: int64"
      ]
     },
     "metadata": {},
     "output_type": "display_data"
    },
    {
     "name": "stdout",
     "output_type": "stream",
     "text": [
      "Information for column number 16 is below:\n"
     ]
    },
    {
     "data": {
      "text/plain": [
       "count     1460\n",
       "unique       4\n",
       "top         TA\n",
       "freq       906\n",
       "Name: ExterQual, dtype: object"
      ]
     },
     "metadata": {},
     "output_type": "display_data"
    },
    {
     "data": {
      "text/plain": [
       "array(['Gd', 'TA', 'Ex', 'Fa'], dtype=object)"
      ]
     },
     "metadata": {},
     "output_type": "display_data"
    },
    {
     "data": {
      "text/plain": [
       "TA    906\n",
       "Gd    488\n",
       "Ex     52\n",
       "Fa     14\n",
       "Name: ExterQual, dtype: int64"
      ]
     },
     "metadata": {},
     "output_type": "display_data"
    },
    {
     "name": "stdout",
     "output_type": "stream",
     "text": [
      "Information for column number 17 is below:\n"
     ]
    },
    {
     "data": {
      "text/plain": [
       "count     1460\n",
       "unique       5\n",
       "top         TA\n",
       "freq      1282\n",
       "Name: ExterCond, dtype: object"
      ]
     },
     "metadata": {},
     "output_type": "display_data"
    },
    {
     "data": {
      "text/plain": [
       "array(['TA', 'Gd', 'Fa', 'Po', 'Ex'], dtype=object)"
      ]
     },
     "metadata": {},
     "output_type": "display_data"
    },
    {
     "data": {
      "text/plain": [
       "TA    1282\n",
       "Gd     146\n",
       "Fa      28\n",
       "Ex       3\n",
       "Po       1\n",
       "Name: ExterCond, dtype: int64"
      ]
     },
     "metadata": {},
     "output_type": "display_data"
    },
    {
     "name": "stdout",
     "output_type": "stream",
     "text": [
      "Information for column number 18 is below:\n"
     ]
    },
    {
     "data": {
      "text/plain": [
       "count      1460\n",
       "unique        6\n",
       "top       PConc\n",
       "freq        647\n",
       "Name: Foundation, dtype: object"
      ]
     },
     "metadata": {},
     "output_type": "display_data"
    },
    {
     "data": {
      "text/plain": [
       "array(['PConc', 'CBlock', 'BrkTil', 'Wood', 'Slab', 'Stone'], dtype=object)"
      ]
     },
     "metadata": {},
     "output_type": "display_data"
    },
    {
     "data": {
      "text/plain": [
       "PConc     647\n",
       "CBlock    634\n",
       "BrkTil    146\n",
       "Slab       24\n",
       "Stone       6\n",
       "Wood        3\n",
       "Name: Foundation, dtype: int64"
      ]
     },
     "metadata": {},
     "output_type": "display_data"
    },
    {
     "name": "stdout",
     "output_type": "stream",
     "text": [
      "Information for column number 19 is below:\n"
     ]
    },
    {
     "data": {
      "text/plain": [
       "count     1460\n",
       "unique       4\n",
       "top         TA\n",
       "freq       686\n",
       "Name: BsmtQual, dtype: object"
      ]
     },
     "metadata": {},
     "output_type": "display_data"
    },
    {
     "data": {
      "text/plain": [
       "array(['Gd', 'TA', 'Ex', 'Fa'], dtype=object)"
      ]
     },
     "metadata": {},
     "output_type": "display_data"
    },
    {
     "data": {
      "text/plain": [
       "TA    686\n",
       "Gd    618\n",
       "Ex    121\n",
       "Fa     35\n",
       "Name: BsmtQual, dtype: int64"
      ]
     },
     "metadata": {},
     "output_type": "display_data"
    },
    {
     "name": "stdout",
     "output_type": "stream",
     "text": [
      "Information for column number 20 is below:\n"
     ]
    },
    {
     "data": {
      "text/plain": [
       "count     1460\n",
       "unique       4\n",
       "top         TA\n",
       "freq      1348\n",
       "Name: BsmtCond, dtype: object"
      ]
     },
     "metadata": {},
     "output_type": "display_data"
    },
    {
     "data": {
      "text/plain": [
       "array(['TA', 'Gd', 'Fa', 'Po'], dtype=object)"
      ]
     },
     "metadata": {},
     "output_type": "display_data"
    },
    {
     "data": {
      "text/plain": [
       "TA    1348\n",
       "Gd      65\n",
       "Fa      45\n",
       "Po       2\n",
       "Name: BsmtCond, dtype: int64"
      ]
     },
     "metadata": {},
     "output_type": "display_data"
    },
    {
     "name": "stdout",
     "output_type": "stream",
     "text": [
      "Information for column number 21 is below:\n"
     ]
    },
    {
     "data": {
      "text/plain": [
       "count     1460\n",
       "unique       4\n",
       "top         No\n",
       "freq       991\n",
       "Name: BsmtExposure, dtype: object"
      ]
     },
     "metadata": {},
     "output_type": "display_data"
    },
    {
     "data": {
      "text/plain": [
       "array(['No', 'Gd', 'Mn', 'Av'], dtype=object)"
      ]
     },
     "metadata": {},
     "output_type": "display_data"
    },
    {
     "data": {
      "text/plain": [
       "No    991\n",
       "Av    221\n",
       "Gd    134\n",
       "Mn    114\n",
       "Name: BsmtExposure, dtype: int64"
      ]
     },
     "metadata": {},
     "output_type": "display_data"
    },
    {
     "name": "stdout",
     "output_type": "stream",
     "text": [
      "Information for column number 22 is below:\n"
     ]
    },
    {
     "data": {
      "text/plain": [
       "count     1460\n",
       "unique       6\n",
       "top        Unf\n",
       "freq       467\n",
       "Name: BsmtFinType1, dtype: object"
      ]
     },
     "metadata": {},
     "output_type": "display_data"
    },
    {
     "data": {
      "text/plain": [
       "array(['GLQ', 'ALQ', 'Unf', 'Rec', 'BLQ', 'LwQ'], dtype=object)"
      ]
     },
     "metadata": {},
     "output_type": "display_data"
    },
    {
     "data": {
      "text/plain": [
       "Unf    467\n",
       "GLQ    418\n",
       "ALQ    220\n",
       "BLQ    148\n",
       "Rec    133\n",
       "LwQ     74\n",
       "Name: BsmtFinType1, dtype: int64"
      ]
     },
     "metadata": {},
     "output_type": "display_data"
    },
    {
     "name": "stdout",
     "output_type": "stream",
     "text": [
      "Information for column number 23 is below:\n"
     ]
    },
    {
     "data": {
      "text/plain": [
       "count     1460\n",
       "unique       6\n",
       "top        Unf\n",
       "freq      1294\n",
       "Name: BsmtFinType2, dtype: object"
      ]
     },
     "metadata": {},
     "output_type": "display_data"
    },
    {
     "data": {
      "text/plain": [
       "array(['Unf', 'BLQ', 'ALQ', 'Rec', 'LwQ', 'GLQ'], dtype=object)"
      ]
     },
     "metadata": {},
     "output_type": "display_data"
    },
    {
     "data": {
      "text/plain": [
       "Unf    1294\n",
       "Rec      54\n",
       "LwQ      46\n",
       "BLQ      33\n",
       "ALQ      19\n",
       "GLQ      14\n",
       "Name: BsmtFinType2, dtype: int64"
      ]
     },
     "metadata": {},
     "output_type": "display_data"
    },
    {
     "name": "stdout",
     "output_type": "stream",
     "text": [
      "Information for column number 24 is below:\n"
     ]
    },
    {
     "data": {
      "text/plain": [
       "count     1460\n",
       "unique       6\n",
       "top       GasA\n",
       "freq      1428\n",
       "Name: Heating, dtype: object"
      ]
     },
     "metadata": {},
     "output_type": "display_data"
    },
    {
     "data": {
      "text/plain": [
       "array(['GasA', 'GasW', 'Grav', 'Wall', 'OthW', 'Floor'], dtype=object)"
      ]
     },
     "metadata": {},
     "output_type": "display_data"
    },
    {
     "data": {
      "text/plain": [
       "GasA     1428\n",
       "GasW       18\n",
       "Grav        7\n",
       "Wall        4\n",
       "OthW        2\n",
       "Floor       1\n",
       "Name: Heating, dtype: int64"
      ]
     },
     "metadata": {},
     "output_type": "display_data"
    },
    {
     "name": "stdout",
     "output_type": "stream",
     "text": [
      "Information for column number 25 is below:\n"
     ]
    },
    {
     "data": {
      "text/plain": [
       "count     1460\n",
       "unique       5\n",
       "top         Ex\n",
       "freq       741\n",
       "Name: HeatingQC, dtype: object"
      ]
     },
     "metadata": {},
     "output_type": "display_data"
    },
    {
     "data": {
      "text/plain": [
       "array(['Ex', 'Gd', 'TA', 'Fa', 'Po'], dtype=object)"
      ]
     },
     "metadata": {},
     "output_type": "display_data"
    },
    {
     "data": {
      "text/plain": [
       "Ex    741\n",
       "TA    428\n",
       "Gd    241\n",
       "Fa     49\n",
       "Po      1\n",
       "Name: HeatingQC, dtype: int64"
      ]
     },
     "metadata": {},
     "output_type": "display_data"
    },
    {
     "name": "stdout",
     "output_type": "stream",
     "text": [
      "Information for column number 26 is below:\n"
     ]
    },
    {
     "data": {
      "text/plain": [
       "count     1460\n",
       "unique       2\n",
       "top          Y\n",
       "freq      1365\n",
       "Name: CentralAir, dtype: object"
      ]
     },
     "metadata": {},
     "output_type": "display_data"
    },
    {
     "data": {
      "text/plain": [
       "array(['Y', 'N'], dtype=object)"
      ]
     },
     "metadata": {},
     "output_type": "display_data"
    },
    {
     "data": {
      "text/plain": [
       "Y    1365\n",
       "N      95\n",
       "Name: CentralAir, dtype: int64"
      ]
     },
     "metadata": {},
     "output_type": "display_data"
    },
    {
     "name": "stdout",
     "output_type": "stream",
     "text": [
      "Information for column number 27 is below:\n"
     ]
    },
    {
     "data": {
      "text/plain": [
       "count      1460\n",
       "unique        5\n",
       "top       SBrkr\n",
       "freq       1335\n",
       "Name: Electrical, dtype: object"
      ]
     },
     "metadata": {},
     "output_type": "display_data"
    },
    {
     "data": {
      "text/plain": [
       "array(['SBrkr', 'FuseF', 'FuseA', 'FuseP', 'Mix'], dtype=object)"
      ]
     },
     "metadata": {},
     "output_type": "display_data"
    },
    {
     "data": {
      "text/plain": [
       "SBrkr    1335\n",
       "FuseA      94\n",
       "FuseF      27\n",
       "FuseP       3\n",
       "Mix         1\n",
       "Name: Electrical, dtype: int64"
      ]
     },
     "metadata": {},
     "output_type": "display_data"
    },
    {
     "name": "stdout",
     "output_type": "stream",
     "text": [
      "Information for column number 28 is below:\n"
     ]
    },
    {
     "data": {
      "text/plain": [
       "count     1460\n",
       "unique       4\n",
       "top         TA\n",
       "freq       735\n",
       "Name: KitchenQual, dtype: object"
      ]
     },
     "metadata": {},
     "output_type": "display_data"
    },
    {
     "data": {
      "text/plain": [
       "array(['Gd', 'TA', 'Ex', 'Fa'], dtype=object)"
      ]
     },
     "metadata": {},
     "output_type": "display_data"
    },
    {
     "data": {
      "text/plain": [
       "TA    735\n",
       "Gd    586\n",
       "Ex    100\n",
       "Fa     39\n",
       "Name: KitchenQual, dtype: int64"
      ]
     },
     "metadata": {},
     "output_type": "display_data"
    },
    {
     "name": "stdout",
     "output_type": "stream",
     "text": [
      "Information for column number 29 is below:\n"
     ]
    },
    {
     "data": {
      "text/plain": [
       "count     1460\n",
       "unique       7\n",
       "top        Typ\n",
       "freq      1360\n",
       "Name: Functional, dtype: object"
      ]
     },
     "metadata": {},
     "output_type": "display_data"
    },
    {
     "data": {
      "text/plain": [
       "array(['Typ', 'Min1', 'Maj1', 'Min2', 'Mod', 'Maj2', 'Sev'], dtype=object)"
      ]
     },
     "metadata": {},
     "output_type": "display_data"
    },
    {
     "data": {
      "text/plain": [
       "Typ     1360\n",
       "Min2      34\n",
       "Min1      31\n",
       "Mod       15\n",
       "Maj1      14\n",
       "Maj2       5\n",
       "Sev        1\n",
       "Name: Functional, dtype: int64"
      ]
     },
     "metadata": {},
     "output_type": "display_data"
    },
    {
     "name": "stdout",
     "output_type": "stream",
     "text": [
      "Information for column number 30 is below:\n"
     ]
    },
    {
     "data": {
      "text/plain": [
       "count       1460\n",
       "unique         6\n",
       "top       Attchd\n",
       "freq         951\n",
       "Name: GarageType, dtype: object"
      ]
     },
     "metadata": {},
     "output_type": "display_data"
    },
    {
     "data": {
      "text/plain": [
       "array(['Attchd', 'Detchd', 'BuiltIn', 'CarPort', 'Basment', '2Types'],\n",
       "      dtype=object)"
      ]
     },
     "metadata": {},
     "output_type": "display_data"
    },
    {
     "data": {
      "text/plain": [
       "Attchd     951\n",
       "Detchd     387\n",
       "BuiltIn     88\n",
       "Basment     19\n",
       "CarPort      9\n",
       "2Types       6\n",
       "Name: GarageType, dtype: int64"
      ]
     },
     "metadata": {},
     "output_type": "display_data"
    },
    {
     "name": "stdout",
     "output_type": "stream",
     "text": [
      "Information for column number 31 is below:\n"
     ]
    },
    {
     "data": {
      "text/plain": [
       "count     1460\n",
       "unique       3\n",
       "top        Unf\n",
       "freq       686\n",
       "Name: GarageFinish, dtype: object"
      ]
     },
     "metadata": {},
     "output_type": "display_data"
    },
    {
     "data": {
      "text/plain": [
       "array(['RFn', 'Unf', 'Fin'], dtype=object)"
      ]
     },
     "metadata": {},
     "output_type": "display_data"
    },
    {
     "data": {
      "text/plain": [
       "Unf    686\n",
       "RFn    422\n",
       "Fin    352\n",
       "Name: GarageFinish, dtype: int64"
      ]
     },
     "metadata": {},
     "output_type": "display_data"
    },
    {
     "name": "stdout",
     "output_type": "stream",
     "text": [
      "Information for column number 32 is below:\n"
     ]
    },
    {
     "data": {
      "text/plain": [
       "count     1460\n",
       "unique       5\n",
       "top         TA\n",
       "freq      1392\n",
       "Name: GarageQual, dtype: object"
      ]
     },
     "metadata": {},
     "output_type": "display_data"
    },
    {
     "data": {
      "text/plain": [
       "array(['TA', 'Fa', 'Gd', 'Ex', 'Po'], dtype=object)"
      ]
     },
     "metadata": {},
     "output_type": "display_data"
    },
    {
     "data": {
      "text/plain": [
       "TA    1392\n",
       "Fa      48\n",
       "Gd      14\n",
       "Po       3\n",
       "Ex       3\n",
       "Name: GarageQual, dtype: int64"
      ]
     },
     "metadata": {},
     "output_type": "display_data"
    },
    {
     "name": "stdout",
     "output_type": "stream",
     "text": [
      "Information for column number 33 is below:\n"
     ]
    },
    {
     "data": {
      "text/plain": [
       "count     1460\n",
       "unique       5\n",
       "top         TA\n",
       "freq      1407\n",
       "Name: GarageCond, dtype: object"
      ]
     },
     "metadata": {},
     "output_type": "display_data"
    },
    {
     "data": {
      "text/plain": [
       "array(['TA', 'Fa', 'Gd', 'Po', 'Ex'], dtype=object)"
      ]
     },
     "metadata": {},
     "output_type": "display_data"
    },
    {
     "data": {
      "text/plain": [
       "TA    1407\n",
       "Fa      35\n",
       "Gd       9\n",
       "Po       7\n",
       "Ex       2\n",
       "Name: GarageCond, dtype: int64"
      ]
     },
     "metadata": {},
     "output_type": "display_data"
    },
    {
     "name": "stdout",
     "output_type": "stream",
     "text": [
      "Information for column number 34 is below:\n"
     ]
    },
    {
     "data": {
      "text/plain": [
       "count     1460\n",
       "unique       3\n",
       "top          Y\n",
       "freq      1340\n",
       "Name: PavedDrive, dtype: object"
      ]
     },
     "metadata": {},
     "output_type": "display_data"
    },
    {
     "data": {
      "text/plain": [
       "array(['Y', 'N', 'P'], dtype=object)"
      ]
     },
     "metadata": {},
     "output_type": "display_data"
    },
    {
     "data": {
      "text/plain": [
       "Y    1340\n",
       "N      90\n",
       "P      30\n",
       "Name: PavedDrive, dtype: int64"
      ]
     },
     "metadata": {},
     "output_type": "display_data"
    },
    {
     "name": "stdout",
     "output_type": "stream",
     "text": [
      "Information for column number 35 is below:\n"
     ]
    },
    {
     "data": {
      "text/plain": [
       "count     1460\n",
       "unique       9\n",
       "top         WD\n",
       "freq      1267\n",
       "Name: SaleType, dtype: object"
      ]
     },
     "metadata": {},
     "output_type": "display_data"
    },
    {
     "data": {
      "text/plain": [
       "array(['WD', 'New', 'COD', 'ConLD', 'ConLI', 'CWD', 'ConLw', 'Con', 'Oth'],\n",
       "      dtype=object)"
      ]
     },
     "metadata": {},
     "output_type": "display_data"
    },
    {
     "data": {
      "text/plain": [
       "WD       1267\n",
       "New       122\n",
       "COD        43\n",
       "ConLD       9\n",
       "ConLw       5\n",
       "ConLI       5\n",
       "CWD         4\n",
       "Oth         3\n",
       "Con         2\n",
       "Name: SaleType, dtype: int64"
      ]
     },
     "metadata": {},
     "output_type": "display_data"
    },
    {
     "name": "stdout",
     "output_type": "stream",
     "text": [
      "Information for column number 36 is below:\n"
     ]
    },
    {
     "data": {
      "text/plain": [
       "count       1460\n",
       "unique         6\n",
       "top       Normal\n",
       "freq        1198\n",
       "Name: SaleCondition, dtype: object"
      ]
     },
     "metadata": {},
     "output_type": "display_data"
    },
    {
     "data": {
      "text/plain": [
       "array(['Normal', 'Abnorml', 'Partial', 'AdjLand', 'Alloca', 'Family'],\n",
       "      dtype=object)"
      ]
     },
     "metadata": {},
     "output_type": "display_data"
    },
    {
     "data": {
      "text/plain": [
       "Normal     1198\n",
       "Partial     125\n",
       "Abnorml     101\n",
       "Family       20\n",
       "Alloca       12\n",
       "AdjLand       4\n",
       "Name: SaleCondition, dtype: int64"
      ]
     },
     "metadata": {},
     "output_type": "display_data"
    }
   ],
   "source": [
    "data_obj = data.select_dtypes(include=object)\n",
    "print(\"Number of columns to check is {}.\\n\\n\".format(len(data_obj.columns)))\n",
    "\n",
    "print(\"*** Let's loop ***\\n\\n\")\n",
    "i = 0\n",
    "for curr_column in data_obj.columns.tolist():\n",
    "    print(\"Information for column number {} is below:\".format(i))\n",
    "    check_any_column(curr_column)\n",
    "    i += 1"
   ]
  },
  {
   "cell_type": "markdown",
   "metadata": {},
   "source": [
    "=>\n",
    "* all seem good and not hiding missing values\n",
    "* yay, Ig"
   ]
  },
  {
   "cell_type": "markdown",
   "metadata": {},
   "source": [
    "## Let's inspect numeric data"
   ]
  },
  {
   "cell_type": "code",
   "execution_count": 51,
   "metadata": {},
   "outputs": [
    {
     "name": "stdout",
     "output_type": "stream",
     "text": [
      "Number of columns to check is 38.\n",
      "\n",
      "\n",
      "*** Let's loop ***\n",
      "\n",
      "\n",
      "Information for column number 0 is below:\n"
     ]
    },
    {
     "data": {
      "text/plain": [
       "count    1460.000000\n",
       "mean      730.500000\n",
       "std       421.610009\n",
       "min         1.000000\n",
       "25%       365.750000\n",
       "50%       730.500000\n",
       "75%      1095.250000\n",
       "max      1460.000000\n",
       "Name: Id, dtype: float64"
      ]
     },
     "metadata": {},
     "output_type": "display_data"
    },
    {
     "data": {
      "text/plain": [
       "array([   1,    2,    3, ..., 1458, 1459, 1460])"
      ]
     },
     "metadata": {},
     "output_type": "display_data"
    },
    {
     "data": {
      "text/plain": [
       "1460    1\n",
       "479     1\n",
       "481     1\n",
       "482     1\n",
       "483     1\n",
       "       ..\n",
       "976     1\n",
       "977     1\n",
       "978     1\n",
       "979     1\n",
       "1       1\n",
       "Name: Id, Length: 1460, dtype: int64"
      ]
     },
     "metadata": {},
     "output_type": "display_data"
    },
    {
     "name": "stdout",
     "output_type": "stream",
     "text": [
      "Information for column number 1 is below:\n"
     ]
    },
    {
     "data": {
      "text/plain": [
       "count    1460.000000\n",
       "mean       56.897260\n",
       "std        42.300571\n",
       "min        20.000000\n",
       "25%        20.000000\n",
       "50%        50.000000\n",
       "75%        70.000000\n",
       "max       190.000000\n",
       "Name: MSSubClass, dtype: float64"
      ]
     },
     "metadata": {},
     "output_type": "display_data"
    },
    {
     "data": {
      "text/plain": [
       "array([ 60,  20,  70,  50, 190,  45,  90, 120,  30,  85,  80, 160,  75,\n",
       "       180,  40])"
      ]
     },
     "metadata": {},
     "output_type": "display_data"
    },
    {
     "data": {
      "text/plain": [
       "20     536\n",
       "60     299\n",
       "50     144\n",
       "120     87\n",
       "30      69\n",
       "160     63\n",
       "70      60\n",
       "80      58\n",
       "90      52\n",
       "190     30\n",
       "85      20\n",
       "75      16\n",
       "45      12\n",
       "180     10\n",
       "40       4\n",
       "Name: MSSubClass, dtype: int64"
      ]
     },
     "metadata": {},
     "output_type": "display_data"
    },
    {
     "name": "stdout",
     "output_type": "stream",
     "text": [
      "Information for column number 2 is below:\n"
     ]
    },
    {
     "data": {
      "text/plain": [
       "count    1460.000000\n",
       "mean       69.863699\n",
       "std        22.027677\n",
       "min        21.000000\n",
       "25%        60.000000\n",
       "50%        69.000000\n",
       "75%        79.000000\n",
       "max       313.000000\n",
       "Name: LotFrontage, dtype: float64"
      ]
     },
     "metadata": {},
     "output_type": "display_data"
    },
    {
     "data": {
      "text/plain": [
       "array([ 65.,  80.,  68.,  60.,  84.,  85.,  75.,  69.,  51.,  50.,  70.,\n",
       "        91.,  72.,  66., 101.,  57.,  44., 110.,  98.,  47., 108., 112.,\n",
       "        74., 115.,  61.,  48.,  33.,  52., 100.,  24.,  89.,  63.,  76.,\n",
       "        81.,  95.,  21.,  32.,  78., 121., 122.,  40., 105.,  73.,  77.,\n",
       "        64.,  94.,  34.,  90.,  55.,  88.,  82.,  71., 120., 107.,  92.,\n",
       "       134.,  62.,  86., 141.,  97.,  54.,  41.,  79., 174.,  99.,  67.,\n",
       "        83.,  43., 103.,  93.,  30., 129., 140.,  35.,  37., 118.,  87.,\n",
       "       116., 150., 111.,  49.,  96.,  59.,  36.,  56., 102.,  58.,  38.,\n",
       "       109., 130.,  53., 137.,  45., 106., 104.,  42.,  39., 144., 114.,\n",
       "       128., 149., 313., 168., 182., 138., 160., 152., 124., 153.,  46.])"
      ]
     },
     "metadata": {},
     "output_type": "display_data"
    },
    {
     "data": {
      "text/plain": [
       "69.0     270\n",
       "60.0     143\n",
       "70.0      70\n",
       "80.0      69\n",
       "50.0      57\n",
       "        ... \n",
       "33.0       1\n",
       "38.0       1\n",
       "138.0      1\n",
       "140.0      1\n",
       "137.0      1\n",
       "Name: LotFrontage, Length: 110, dtype: int64"
      ]
     },
     "metadata": {},
     "output_type": "display_data"
    },
    {
     "name": "stdout",
     "output_type": "stream",
     "text": [
      "Information for column number 3 is below:\n"
     ]
    },
    {
     "data": {
      "text/plain": [
       "count      1460.000000\n",
       "mean      10516.828082\n",
       "std        9981.264932\n",
       "min        1300.000000\n",
       "25%        7553.500000\n",
       "50%        9478.500000\n",
       "75%       11601.500000\n",
       "max      215245.000000\n",
       "Name: LotArea, dtype: float64"
      ]
     },
     "metadata": {},
     "output_type": "display_data"
    },
    {
     "data": {
      "text/plain": [
       "array([ 8450,  9600, 11250, ..., 17217, 13175,  9717])"
      ]
     },
     "metadata": {},
     "output_type": "display_data"
    },
    {
     "data": {
      "text/plain": [
       "7200     25\n",
       "9600     24\n",
       "6000     17\n",
       "10800    14\n",
       "9000     14\n",
       "         ..\n",
       "7094      1\n",
       "6130      1\n",
       "9337      1\n",
       "5232      1\n",
       "8190      1\n",
       "Name: LotArea, Length: 1073, dtype: int64"
      ]
     },
     "metadata": {},
     "output_type": "display_data"
    },
    {
     "name": "stdout",
     "output_type": "stream",
     "text": [
      "Information for column number 4 is below:\n"
     ]
    },
    {
     "data": {
      "text/plain": [
       "count    1460.000000\n",
       "mean        6.099315\n",
       "std         1.382997\n",
       "min         1.000000\n",
       "25%         5.000000\n",
       "50%         6.000000\n",
       "75%         7.000000\n",
       "max        10.000000\n",
       "Name: OverallQual, dtype: float64"
      ]
     },
     "metadata": {},
     "output_type": "display_data"
    },
    {
     "data": {
      "text/plain": [
       "array([ 7,  6,  8,  5,  9,  4, 10,  3,  1,  2])"
      ]
     },
     "metadata": {},
     "output_type": "display_data"
    },
    {
     "data": {
      "text/plain": [
       "5     397\n",
       "6     374\n",
       "7     319\n",
       "8     168\n",
       "4     116\n",
       "9      43\n",
       "3      20\n",
       "10     18\n",
       "2       3\n",
       "1       2\n",
       "Name: OverallQual, dtype: int64"
      ]
     },
     "metadata": {},
     "output_type": "display_data"
    },
    {
     "name": "stdout",
     "output_type": "stream",
     "text": [
      "Information for column number 5 is below:\n"
     ]
    },
    {
     "data": {
      "text/plain": [
       "count    1460.000000\n",
       "mean        5.575342\n",
       "std         1.112799\n",
       "min         1.000000\n",
       "25%         5.000000\n",
       "50%         5.000000\n",
       "75%         6.000000\n",
       "max         9.000000\n",
       "Name: OverallCond, dtype: float64"
      ]
     },
     "metadata": {},
     "output_type": "display_data"
    },
    {
     "data": {
      "text/plain": [
       "array([5, 8, 6, 7, 4, 2, 3, 9, 1])"
      ]
     },
     "metadata": {},
     "output_type": "display_data"
    },
    {
     "data": {
      "text/plain": [
       "5    821\n",
       "6    252\n",
       "7    205\n",
       "8     72\n",
       "4     57\n",
       "3     25\n",
       "9     22\n",
       "2      5\n",
       "1      1\n",
       "Name: OverallCond, dtype: int64"
      ]
     },
     "metadata": {},
     "output_type": "display_data"
    },
    {
     "name": "stdout",
     "output_type": "stream",
     "text": [
      "Information for column number 6 is below:\n"
     ]
    },
    {
     "data": {
      "text/plain": [
       "count    1460.000000\n",
       "mean     1971.267808\n",
       "std        30.202904\n",
       "min      1872.000000\n",
       "25%      1954.000000\n",
       "50%      1973.000000\n",
       "75%      2000.000000\n",
       "max      2010.000000\n",
       "Name: YearBuilt, dtype: float64"
      ]
     },
     "metadata": {},
     "output_type": "display_data"
    },
    {
     "data": {
      "text/plain": [
       "array([2003, 1976, 2001, 1915, 2000, 1993, 2004, 1973, 1931, 1939, 1965,\n",
       "       2005, 1962, 2006, 1960, 1929, 1970, 1967, 1958, 1930, 2002, 1968,\n",
       "       2007, 1951, 1957, 1927, 1920, 1966, 1959, 1994, 1954, 1953, 1955,\n",
       "       1983, 1975, 1997, 1934, 1963, 1981, 1964, 1999, 1972, 1921, 1945,\n",
       "       1982, 1998, 1956, 1948, 1910, 1995, 1991, 2009, 1950, 1961, 1977,\n",
       "       1985, 1979, 1885, 1919, 1990, 1969, 1935, 1988, 1971, 1952, 1936,\n",
       "       1923, 1924, 1984, 1926, 1940, 1941, 1987, 1986, 2008, 1908, 1892,\n",
       "       1916, 1932, 1918, 1912, 1947, 1925, 1900, 1980, 1989, 1992, 1949,\n",
       "       1880, 1928, 1978, 1922, 1996, 2010, 1946, 1913, 1937, 1942, 1938,\n",
       "       1974, 1893, 1914, 1906, 1890, 1898, 1904, 1882, 1875, 1911, 1917,\n",
       "       1872, 1905])"
      ]
     },
     "metadata": {},
     "output_type": "display_data"
    },
    {
     "data": {
      "text/plain": [
       "2006    67\n",
       "2005    64\n",
       "2004    54\n",
       "2007    49\n",
       "2003    45\n",
       "        ..\n",
       "1906     1\n",
       "1911     1\n",
       "1913     1\n",
       "1917     1\n",
       "1872     1\n",
       "Name: YearBuilt, Length: 112, dtype: int64"
      ]
     },
     "metadata": {},
     "output_type": "display_data"
    },
    {
     "name": "stdout",
     "output_type": "stream",
     "text": [
      "Information for column number 7 is below:\n"
     ]
    },
    {
     "data": {
      "text/plain": [
       "count    1460.000000\n",
       "mean     1984.865753\n",
       "std        20.645407\n",
       "min      1950.000000\n",
       "25%      1967.000000\n",
       "50%      1994.000000\n",
       "75%      2004.000000\n",
       "max      2010.000000\n",
       "Name: YearRemodAdd, dtype: float64"
      ]
     },
     "metadata": {},
     "output_type": "display_data"
    },
    {
     "data": {
      "text/plain": [
       "array([2003, 1976, 2002, 1970, 2000, 1995, 2005, 1973, 1950, 1965, 2006,\n",
       "       1962, 2007, 1960, 2001, 1967, 2004, 2008, 1997, 1959, 1990, 1955,\n",
       "       1983, 1980, 1966, 1963, 1987, 1964, 1972, 1996, 1998, 1989, 1953,\n",
       "       1956, 1968, 1981, 1992, 2009, 1982, 1961, 1993, 1999, 1985, 1979,\n",
       "       1977, 1969, 1958, 1991, 1971, 1952, 1975, 2010, 1984, 1986, 1994,\n",
       "       1988, 1954, 1957, 1951, 1978, 1974])"
      ]
     },
     "metadata": {},
     "output_type": "display_data"
    },
    {
     "data": {
      "text/plain": [
       "1950    178\n",
       "2006     97\n",
       "2007     76\n",
       "2005     73\n",
       "2004     62\n",
       "       ... \n",
       "2010      6\n",
       "1983      5\n",
       "1952      5\n",
       "1986      5\n",
       "1951      4\n",
       "Name: YearRemodAdd, Length: 61, dtype: int64"
      ]
     },
     "metadata": {},
     "output_type": "display_data"
    },
    {
     "name": "stdout",
     "output_type": "stream",
     "text": [
      "Information for column number 8 is below:\n"
     ]
    },
    {
     "data": {
      "text/plain": [
       "count    1460.000000\n",
       "mean      103.117123\n",
       "std       180.731373\n",
       "min         0.000000\n",
       "25%         0.000000\n",
       "50%         0.000000\n",
       "75%       164.250000\n",
       "max      1600.000000\n",
       "Name: MasVnrArea, dtype: float64"
      ]
     },
     "metadata": {},
     "output_type": "display_data"
    },
    {
     "data": {
      "text/plain": [
       "array([1.960e+02, 0.000e+00, 1.620e+02, 3.500e+02, 1.860e+02, 2.400e+02,\n",
       "       2.860e+02, 3.060e+02, 2.120e+02, 1.800e+02, 3.800e+02, 2.810e+02,\n",
       "       6.400e+02, 2.000e+02, 2.460e+02, 1.320e+02, 6.500e+02, 1.010e+02,\n",
       "       4.120e+02, 2.720e+02, 4.560e+02, 1.031e+03, 1.780e+02, 5.730e+02,\n",
       "       3.440e+02, 2.870e+02, 1.670e+02, 1.115e+03, 4.000e+01, 1.040e+02,\n",
       "       5.760e+02, 4.430e+02, 4.680e+02, 6.600e+01, 2.200e+01, 2.840e+02,\n",
       "       7.600e+01, 2.030e+02, 6.800e+01, 1.830e+02, 4.800e+01, 2.800e+01,\n",
       "       3.360e+02, 6.000e+02, 7.680e+02, 4.800e+02, 2.200e+02, 1.840e+02,\n",
       "       1.129e+03, 1.160e+02, 1.350e+02, 2.660e+02, 8.500e+01, 3.090e+02,\n",
       "       1.360e+02, 2.880e+02, 7.000e+01, 3.200e+02, 5.000e+01, 1.200e+02,\n",
       "       4.360e+02, 2.520e+02, 8.400e+01, 6.640e+02, 2.260e+02, 3.000e+02,\n",
       "       6.530e+02, 1.120e+02, 4.910e+02, 2.680e+02, 7.480e+02, 9.800e+01,\n",
       "       2.750e+02, 1.380e+02, 2.050e+02, 2.620e+02, 1.280e+02, 2.600e+02,\n",
       "       1.530e+02, 6.400e+01, 3.120e+02, 1.600e+01, 9.220e+02, 1.420e+02,\n",
       "       2.900e+02, 1.270e+02, 5.060e+02, 2.970e+02, 6.040e+02, 2.540e+02,\n",
       "       3.600e+01, 1.020e+02, 4.720e+02, 4.810e+02, 1.080e+02, 3.020e+02,\n",
       "       1.720e+02, 3.990e+02, 2.700e+02, 4.600e+01, 2.100e+02, 1.740e+02,\n",
       "       3.480e+02, 3.150e+02, 2.990e+02, 3.400e+02, 1.660e+02, 7.200e+01,\n",
       "       3.100e+01, 3.400e+01, 2.380e+02, 1.600e+03, 3.650e+02, 5.600e+01,\n",
       "       1.500e+02, 2.780e+02, 2.560e+02, 2.250e+02, 3.700e+02, 3.880e+02,\n",
       "       1.750e+02, 2.960e+02, 1.460e+02, 1.130e+02, 1.760e+02, 6.160e+02,\n",
       "       3.000e+01, 1.060e+02, 8.700e+02, 3.620e+02, 5.300e+02, 5.000e+02,\n",
       "       5.100e+02, 2.470e+02, 3.050e+02, 2.550e+02, 1.250e+02, 1.000e+02,\n",
       "       4.320e+02, 1.260e+02, 4.730e+02, 7.400e+01, 1.450e+02, 2.320e+02,\n",
       "       3.760e+02, 4.200e+01, 1.610e+02, 1.100e+02, 1.800e+01, 2.240e+02,\n",
       "       2.480e+02, 8.000e+01, 3.040e+02, 2.150e+02, 7.720e+02, 4.350e+02,\n",
       "       3.780e+02, 5.620e+02, 1.680e+02, 8.900e+01, 2.850e+02, 3.600e+02,\n",
       "       9.400e+01, 3.330e+02, 9.210e+02, 7.620e+02, 5.940e+02, 2.190e+02,\n",
       "       1.880e+02, 4.790e+02, 5.840e+02, 1.820e+02, 2.500e+02, 2.920e+02,\n",
       "       2.450e+02, 2.070e+02, 8.200e+01, 9.700e+01, 3.350e+02, 2.080e+02,\n",
       "       4.200e+02, 1.700e+02, 4.590e+02, 2.800e+02, 9.900e+01, 1.920e+02,\n",
       "       2.040e+02, 2.330e+02, 1.560e+02, 4.520e+02, 5.130e+02, 2.610e+02,\n",
       "       1.640e+02, 2.590e+02, 2.090e+02, 2.630e+02, 2.160e+02, 3.510e+02,\n",
       "       6.600e+02, 3.810e+02, 5.400e+01, 5.280e+02, 2.580e+02, 4.640e+02,\n",
       "       5.700e+01, 1.470e+02, 1.170e+03, 2.930e+02, 6.300e+02, 4.660e+02,\n",
       "       1.090e+02, 4.100e+01, 1.600e+02, 2.890e+02, 6.510e+02, 1.690e+02,\n",
       "       9.500e+01, 4.420e+02, 2.020e+02, 3.380e+02, 8.940e+02, 3.280e+02,\n",
       "       6.730e+02, 6.030e+02, 1.000e+00, 3.750e+02, 9.000e+01, 3.800e+01,\n",
       "       1.570e+02, 1.100e+01, 1.400e+02, 1.300e+02, 1.480e+02, 8.600e+02,\n",
       "       4.240e+02, 1.047e+03, 2.430e+02, 8.160e+02, 3.870e+02, 2.230e+02,\n",
       "       1.580e+02, 1.370e+02, 1.150e+02, 1.890e+02, 2.740e+02, 1.170e+02,\n",
       "       6.000e+01, 1.220e+02, 9.200e+01, 4.150e+02, 7.600e+02, 2.700e+01,\n",
       "       7.500e+01, 3.610e+02, 1.050e+02, 3.420e+02, 2.980e+02, 5.410e+02,\n",
       "       2.360e+02, 1.440e+02, 4.230e+02, 4.400e+01, 1.510e+02, 9.750e+02,\n",
       "       4.500e+02, 2.300e+02, 5.710e+02, 2.400e+01, 5.300e+01, 2.060e+02,\n",
       "       1.400e+01, 3.240e+02, 2.950e+02, 3.960e+02, 6.700e+01, 1.540e+02,\n",
       "       4.250e+02, 4.500e+01, 1.378e+03, 3.370e+02, 1.490e+02, 1.430e+02,\n",
       "       5.100e+01, 1.710e+02, 2.340e+02, 6.300e+01, 7.660e+02, 3.200e+01,\n",
       "       8.100e+01, 1.630e+02, 5.540e+02, 2.180e+02, 6.320e+02, 1.140e+02,\n",
       "       5.670e+02, 3.590e+02, 4.510e+02, 6.210e+02, 7.880e+02, 8.600e+01,\n",
       "       7.960e+02, 3.910e+02, 2.280e+02, 8.800e+01, 1.650e+02, 4.280e+02,\n",
       "       4.100e+02, 5.640e+02, 3.680e+02, 3.180e+02, 5.790e+02, 6.500e+01,\n",
       "       7.050e+02, 4.080e+02, 2.440e+02, 1.230e+02, 3.660e+02, 7.310e+02,\n",
       "       4.480e+02, 2.940e+02, 3.100e+02, 2.370e+02, 4.260e+02, 9.600e+01,\n",
       "       4.380e+02, 1.940e+02, 1.190e+02])"
      ]
     },
     "metadata": {},
     "output_type": "display_data"
    },
    {
     "data": {
      "text/plain": [
       "0.0      869\n",
       "72.0       8\n",
       "180.0      8\n",
       "108.0      8\n",
       "120.0      7\n",
       "        ... \n",
       "651.0      1\n",
       "337.0      1\n",
       "415.0      1\n",
       "293.0      1\n",
       "621.0      1\n",
       "Name: MasVnrArea, Length: 327, dtype: int64"
      ]
     },
     "metadata": {},
     "output_type": "display_data"
    },
    {
     "name": "stdout",
     "output_type": "stream",
     "text": [
      "Information for column number 9 is below:\n"
     ]
    },
    {
     "data": {
      "text/plain": [
       "count    1460.000000\n",
       "mean      443.639726\n",
       "std       456.098091\n",
       "min         0.000000\n",
       "25%         0.000000\n",
       "50%       383.500000\n",
       "75%       712.250000\n",
       "max      5644.000000\n",
       "Name: BsmtFinSF1, dtype: float64"
      ]
     },
     "metadata": {},
     "output_type": "display_data"
    },
    {
     "data": {
      "text/plain": [
       "array([ 706,  978,  486,  216,  655,  732, 1369,  859,    0,  851,  906,\n",
       "        998,  737,  733,  578,  646,  504,  840,  188,  234, 1218, 1277,\n",
       "       1018, 1153, 1213,  731,  643,  967,  747,  280,  179,  456, 1351,\n",
       "         24,  763,  182,  104, 1810,  384,  490,  649,  632,  941,  739,\n",
       "        912, 1013,  603, 1880,  565,  320,  462,  228,  336,  448, 1201,\n",
       "         33,  588,  600,  713, 1046,  648,  310, 1162,  520,  108,  569,\n",
       "       1200,  224,  705,  444,  250,  984,   35,  774,  419,  170, 1470,\n",
       "        938,  570,  300,  120,  116,  512,  567,  445,  695,  405, 1005,\n",
       "        668,  821,  432, 1300,  507,  679, 1332,  209,  680,  716, 1400,\n",
       "        416,  429,  222,   57,  660, 1016,  370,  351,  379, 1288,  360,\n",
       "        639,  495,  288, 1398,  477,  831, 1904,  436,  352,  611, 1086,\n",
       "        297,  626,  560,  390,  566, 1126, 1036, 1088,  641,  617,  662,\n",
       "        312, 1065,  787,  468,   36,  822,  378,  946,  341,   16,  550,\n",
       "        524,   56,  321,  842,  689,  625,  358,  402,   94, 1078,  329,\n",
       "        929,  697, 1573,  270,  922,  503, 1334,  361,  672,  506,  714,\n",
       "        403,  751,  226,  620,  546,  392,  421,  905,  904,  430,  614,\n",
       "        450,  210,  292,  795, 1285,  819,  420,  841,  281,  894, 1464,\n",
       "        700,  262, 1274,  518, 1236,  425,  692,  987,  970,   28,  256,\n",
       "       1619,   40,  846, 1124,  720,  828, 1249,  810,  213,  585,  129,\n",
       "        498, 1270,  573, 1410, 1082,  236,  388,  334,  874,  956,  773,\n",
       "        399,  162,  712,  609,  371,  540,   72,  623,  428,  350,  298,\n",
       "       1445,  218,  985,  631, 1280,  241,  690,  266,  777,  812,  786,\n",
       "       1116,  789, 1056,   50, 1128,  775, 1309, 1246,  986,  616, 1518,\n",
       "        664,  387,  471,  385,  365, 1767,  133,  642,  247,  331,  742,\n",
       "       1606,  916,  185,  544,  553,  326,  778,  386,  426,  368,  459,\n",
       "       1350, 1196,  630,  994,  168, 1261, 1567,  299,  897,  607,  836,\n",
       "        515,  374, 1231,  111,  356,  400,  698, 1247,  257,  380,   27,\n",
       "        141,  991,  650,  521, 1436, 2260,  719,  377, 1330,  348, 1219,\n",
       "        783,  969,  673, 1358, 1260,  144,  584,  554, 1002,  619,  180,\n",
       "        559,  308,  866,  895,  637,  604, 1302, 1071,  290,  728,    2,\n",
       "       1441,  943,  231,  414,  349,  442,  328,  594,  816, 1460, 1324,\n",
       "       1338,  685, 1422, 1283,   81,  454,  903,  605,  990,  206,  150,\n",
       "        457,   48,  871,   41,  674,  624,  480, 1154,  738,  493, 1121,\n",
       "        282,  500,  131, 1696,  806, 1361,  920, 1721,  187, 1138,  988,\n",
       "        193,  551,  767, 1186,  892,  311,  827,  543, 1003, 1059,  239,\n",
       "        945,   20, 1455,  965,  980,  863,  533, 1084, 1173,  523, 1148,\n",
       "        191, 1234,  375,  808,  724,  152, 1180,  252,  832,  575,  919,\n",
       "        439,  381,  438,  549,  612, 1163,  437,  394, 1416,  422,  762,\n",
       "        975, 1097,  251,  686,  656,  568,  539,  862,  197,  516,  663,\n",
       "        608, 1636,  784,  249, 1040,  483,  196,  572,  338,  330,  156,\n",
       "       1390,  513,  460,  659,  364,  564,  306,  505,  932,  750,   64,\n",
       "        633, 1170,  899,  902, 1238,  528, 1024, 1064,  285, 2188,  465,\n",
       "        322,  860,  599,  354,   63,  223,  301,  443,  489,  284,  294,\n",
       "        814,  165,  552,  833,  464,  936,  772, 1440,  748,  982,  398,\n",
       "        562,  484,  417,  699,  696,  896,  556, 1106,  651,  867,  854,\n",
       "       1646, 1074,  536, 1172,  915,  595, 1237,  273,  684,  324, 1165,\n",
       "        138, 1513,  317, 1012, 1022,  509,  900, 1085, 1104,  240,  383,\n",
       "        644,  397,  740,  837,  220,  586,  535,  410,   75,  824,  592,\n",
       "       1039,  510,  423,  661,  248,  704,  412, 1032,  219,  708,  415,\n",
       "       1004,  353,  702,  369,  622,  212,  645,  852, 1150, 1258,  275,\n",
       "        176,  296,  538, 1157,  492, 1198, 1387,  522,  658, 1216, 1480,\n",
       "       2096, 1159,  440, 1456,  883,  547,  788,  485,  340, 1220,  427,\n",
       "        344,  756, 1540,  666,  803, 1000,  885, 1386,  319,  534,  125,\n",
       "       1314,  602,  192,  593,  804, 1053,  532, 1158, 1014,  194,  167,\n",
       "        776, 5644,  694, 1572,  746, 1406,  925,  482,  189,  765,   80,\n",
       "       1443,  259,  735,  734, 1447,  548,  315, 1282,  408,  309,  203,\n",
       "        865,  204,  790, 1320,  769, 1070,  264,  759, 1373,  976,  781,\n",
       "         25, 1110,  404,  580,  678,  958, 1336, 1079,   49,  830])"
      ]
     },
     "metadata": {},
     "output_type": "display_data"
    },
    {
     "data": {
      "text/plain": [
       "0       467\n",
       "24       12\n",
       "16        9\n",
       "20        5\n",
       "686       5\n",
       "       ... \n",
       "1032      1\n",
       "1022      1\n",
       "599       1\n",
       "1018      1\n",
       "1904      1\n",
       "Name: BsmtFinSF1, Length: 637, dtype: int64"
      ]
     },
     "metadata": {},
     "output_type": "display_data"
    },
    {
     "name": "stdout",
     "output_type": "stream",
     "text": [
      "Information for column number 10 is below:\n"
     ]
    },
    {
     "data": {
      "text/plain": [
       "count    1460.000000\n",
       "mean       46.549315\n",
       "std       161.319273\n",
       "min         0.000000\n",
       "25%         0.000000\n",
       "50%         0.000000\n",
       "75%         0.000000\n",
       "max      1474.000000\n",
       "Name: BsmtFinSF2, dtype: float64"
      ]
     },
     "metadata": {},
     "output_type": "display_data"
    },
    {
     "data": {
      "text/plain": [
       "array([   0,   32,  668,  486,   93,  491,  506,  712,  362,   41,  169,\n",
       "        869,  150,  670,   28, 1080,  181,  768,  215,  374,  208,  441,\n",
       "        184,  279,  306,  180,  580,  690,  692,  228,  125, 1063,  620,\n",
       "        175,  820, 1474,  264,  479,  147,  232,  380,  544,  294,  258,\n",
       "        121,  391,  531,  344,  539,  713,  210,  311, 1120,  165,  532,\n",
       "         96,  495,  174, 1127,  139,  202,  645,  123,  551,  219,  606,\n",
       "        612,  480,  182,  132,  336,  468,  287,   35,  499,  723,  119,\n",
       "         40,  117,  239,   80,  472,   64, 1057,  127,  630,  128,  377,\n",
       "        764,  345, 1085,  435,  823,  500,  290,  324,  634,  411,  841,\n",
       "       1061,  466,  396,  354,  149,  193,  273,  465,  400,  682,  557,\n",
       "        230,  106,  791,  240,  547,  469,  177,  108,  600,  492,  211,\n",
       "        168, 1031,  438,  375,  144,   81,  906,  608,  276,  661,   68,\n",
       "        173,  972,  105,  420,  546,  334,  352,  872,  110,  627,  163,\n",
       "       1029])"
      ]
     },
     "metadata": {},
     "output_type": "display_data"
    },
    {
     "data": {
      "text/plain": [
       "0       1293\n",
       "180        5\n",
       "374        3\n",
       "551        2\n",
       "93         2\n",
       "        ... \n",
       "532        1\n",
       "544        1\n",
       "546        1\n",
       "547        1\n",
       "1474       1\n",
       "Name: BsmtFinSF2, Length: 144, dtype: int64"
      ]
     },
     "metadata": {},
     "output_type": "display_data"
    },
    {
     "name": "stdout",
     "output_type": "stream",
     "text": [
      "Information for column number 11 is below:\n"
     ]
    },
    {
     "data": {
      "text/plain": [
       "count    1460.000000\n",
       "mean      567.240411\n",
       "std       441.866955\n",
       "min         0.000000\n",
       "25%       223.000000\n",
       "50%       477.500000\n",
       "75%       808.000000\n",
       "max      2336.000000\n",
       "Name: BsmtUnfSF, dtype: float64"
      ]
     },
     "metadata": {},
     "output_type": "display_data"
    },
    {
     "data": {
      "text/plain": [
       "array([ 150,  284,  434,  540,  490,   64,  317,  216,  952,  140,  134,\n",
       "        177,  175, 1494,  520,  832,  426,    0,  468,  525, 1158,  637,\n",
       "       1777,  200,  204, 1566,  180,  486,  207,  649, 1228, 1234,  380,\n",
       "        408, 1117, 1097,   84,  326,  445,  383,  167,  465, 1296,   83,\n",
       "       1632,  736,  192,  612,  816,   32,  935,  321,  860, 1410,  148,\n",
       "        217,  530, 1346,  576,  318, 1143, 1035,  440,  747,  701,  343,\n",
       "        280,  404,  840,  724,  295, 1768,  448,   36, 1530, 1065,  384,\n",
       "       1288,  684, 1013,  402,  635,  163,  168,  176,  370,  350,  381,\n",
       "        410,  741, 1226, 1053,  641,  516,  793, 1139,  550,  905,  104,\n",
       "        310,  252, 1125,  203,  728,  732,  510,  899, 1362,   30,  958,\n",
       "        556,  413,  479,  297,  658,  262,  891, 1304,  519, 1907,  336,\n",
       "        107,  432,  403,  811,  396,  970,  506,  884,  400,  896,  253,\n",
       "        409,   93, 1200,  572,  774,  769, 1335,  340,  882,  779,  112,\n",
       "        470,  294, 1686,  360,  441,  354,  700,  725,  320,  554,  312,\n",
       "        968,  504, 1107,  577,  660,   99,  871,  474,  289,  600,  755,\n",
       "        625, 1121,  276,  186, 1424, 1140,  375,   92,  305, 1176,   78,\n",
       "        274,  311,  710,  686,  457, 1232, 1498, 1010,  160, 2336,  630,\n",
       "        638,  162,   70, 1357, 1194,  773,  483,  235,  125, 1390,  594,\n",
       "       1694,  488,  357,  626,  916, 1020, 1367,  798,  452,  392,  975,\n",
       "        361,  270,  602, 1482,  680,  606,   88,  342,  212, 1095,   96,\n",
       "        628, 1560,  744, 2121,  768,  386, 1468, 1145,  244,  698, 1079,\n",
       "        570,  476,  131,  184,  143, 1092,  324, 1541, 1470,  536,  319,\n",
       "        599,  622,  179,  292,  286,   80,  712,  291,  153, 1088, 1249,\n",
       "        166,  906,  604,  100,  818,  844,  596,  210, 1603,  115,  103,\n",
       "        673,  726,  995,  967,  721, 1656,  972,  460,  208,  191,  438,\n",
       "       1869,  371,  624,  552,  322,  598,  268,  130,  484,  785,  733,\n",
       "        953,  847,  333, 1580,  411,  982,  808, 1293,  939,  784,  595,\n",
       "        229,  114,  522,  735,  405,  117,  961, 1286,  672, 1141,  806,\n",
       "        165, 1064, 1063,  245, 1276,  892, 1008,  499, 1316,  463,  242,\n",
       "        444,  281,   35,  356,  988,  580,  651,  619,  544,  387,  901,\n",
       "        926,  135,  648,   75,  788, 1307, 1078, 1258,  273, 1436,  557,\n",
       "        930,  780,  813,  878,  122,  248,  588,  524,  288,  389,  424,\n",
       "       1375, 1626,  406,  298, 2153,  417,  739,  225,  611,  237,  290,\n",
       "        264,  238,  363,  190, 1969,  697,  414,  316,  466,  420,  254,\n",
       "        960,  397, 1191,  548,   50,  178, 1368,  169,  748,  689, 1264,\n",
       "        467,  605, 1257,  551,  678,  707,  880,  378,  223,  578,  969,\n",
       "        379,  765,  149,  912,  620, 1709,  132,  993,  197, 1374,   90,\n",
       "        195,  706, 1163,  367, 1122, 1515,   55, 1497,  450,  846,   23,\n",
       "        390,  861,  285, 1050,  331, 2042, 1237,  113,  742,  924,  512,\n",
       "        119,  314,  308,  293,  537,  126,  427,  309,  914,  173, 1774,\n",
       "        823,  485, 1116,  978,  636,  564,  108, 1184,  796,  366,  300,\n",
       "        542,  645,  664,  756,  247,  776,  849, 1392,   38, 1406,  111,\n",
       "        545,  121, 2046,  161,  261,  567, 1195,  874, 1342,  151,  989,\n",
       "       1073,  927,  219,  224,  526, 1164,  761,  461,  876,  859,  171,\n",
       "        718,  138,  941,  464,  250,   72,  508, 1584,  415,   82,  948,\n",
       "        893,  864, 1349,   76,  487,  652, 1240,  801,  279, 1030,  348,\n",
       "        234, 1198,  740,   89,  586,  323, 1836,  480,  456, 1935,  338,\n",
       "       1594,  102,  374, 1413,  491, 1129,  255, 1496,  650, 1926,  154,\n",
       "        999, 1734,  124, 1417,   15,  834, 1649,  936,  778, 1489,  442,\n",
       "       1434,  352,  458, 1221, 1099,  416, 1800,  227,  907,  528,  189,\n",
       "       1273,  563,  372,  702, 1090,  435,  198, 1372,  174, 1638,  894,\n",
       "        299,  105,  676, 1120,  431,  218,  110,  795, 1098, 1043,  481,\n",
       "        666,  142,  447,  783, 1670,  277,  412,  794,  239,  662, 1072,\n",
       "        717,  546,  430,  422,  188,  266, 1181, 1753,  964, 1450, 1905,\n",
       "       1480,  772, 1032,  220,  187,   29,  495,  640,  193,  196,  720,\n",
       "        918, 1428,   77, 1266, 1128,  692,  770,  750, 1442, 1007,  501,\n",
       "        691, 1550, 1680, 1330, 1710,  746,  814,  515,  571,  359,  355,\n",
       "        301,  668,  920, 1055, 1420, 1752,  304, 1302,  833,  133,  549,\n",
       "        705,  722,  799,  462,  429,  810,  155,  170,  230, 1459, 1082,\n",
       "        758, 1290, 1074,  251,  172,  868,  797,  365,  418,  730,  533,\n",
       "        671, 1012, 1528, 1005, 1373,  500,  762,  752,  399, 1042,   40,\n",
       "         26,  932,  278,  459,  568, 1502,  543,  574,  977,  449,  983,\n",
       "        731,  120,  538,  831,  994,  341,  879,  815, 1212,  866, 1630,\n",
       "        328,  141,  364, 1380,   81,  303,  940,  764, 1048,  334, 1689,\n",
       "        690,  792,  585,  473,  246, 1045, 1405,  201,   14,  841, 1104,\n",
       "        241,  925, 2002,   74,  661,  708, 1152,  256,  804,  812, 1085,\n",
       "        344,  425, 1616,  976,  496,  349,  971, 1393, 1622, 1352, 1795,\n",
       "       1017, 1588,  428,  803,  693,  858, 1284, 1203, 1652,   39,  539,\n",
       "       1217,  257,  715,  616,  240,  315, 1351, 1026, 1571,  156,   61,\n",
       "         95,  482, 1094,   60,  862,  221,  791,  398,  777,  503,  734,\n",
       "        709, 1252,  656, 1319, 1422,  560, 1573,  589,  877,  136])"
      ]
     },
     "metadata": {},
     "output_type": "display_data"
    },
    {
     "data": {
      "text/plain": [
       "0       118\n",
       "728       9\n",
       "384       8\n",
       "572       7\n",
       "600       7\n",
       "       ... \n",
       "731       1\n",
       "730       1\n",
       "726       1\n",
       "725       1\n",
       "2046      1\n",
       "Name: BsmtUnfSF, Length: 780, dtype: int64"
      ]
     },
     "metadata": {},
     "output_type": "display_data"
    },
    {
     "name": "stdout",
     "output_type": "stream",
     "text": [
      "Information for column number 12 is below:\n"
     ]
    },
    {
     "data": {
      "text/plain": [
       "count    1460.000000\n",
       "mean     1057.429452\n",
       "std       438.705324\n",
       "min         0.000000\n",
       "25%       795.750000\n",
       "50%       991.500000\n",
       "75%      1298.250000\n",
       "max      6110.000000\n",
       "Name: TotalBsmtSF, dtype: float64"
      ]
     },
     "metadata": {},
     "output_type": "display_data"
    },
    {
     "data": {
      "text/plain": [
       "array([ 856, 1262,  920,  756, 1145,  796, 1686, 1107,  952,  991, 1040,\n",
       "       1175,  912, 1494, 1253,  832, 1004,    0, 1114, 1029, 1158,  637,\n",
       "       1777, 1060, 1566,  900, 1704, 1484,  520,  649, 1228, 1234, 1398,\n",
       "       1561, 1117, 1097, 1297, 1057, 1088, 1350,  840,  938, 1150, 1752,\n",
       "       1434, 1656,  736,  955,  794,  816, 1842,  384, 1425,  970,  860,\n",
       "       1410,  780,  530, 1370,  576, 1143, 1947, 1453,  747, 1304, 2223,\n",
       "        845, 1086,  462,  672, 1768,  440,  896, 1237, 1563, 1065, 1288,\n",
       "        684,  612, 1013,  990, 1235,  876, 1214,  824,  680, 1588,  960,\n",
       "        458,  950, 1610,  741, 1226, 1053,  641,  789,  793, 1844,  994,\n",
       "       1264, 1809, 1028,  729, 1092, 1125, 1673,  728,  732, 1080, 1199,\n",
       "       1362, 1078,  660, 1008,  924,  992, 1063, 1267, 1461, 1907,  928,\n",
       "        864, 1734,  910, 1490, 1728,  715,  884,  969, 1710,  825, 1602,\n",
       "       1200,  572,  774, 1392, 1232, 1572, 1541,  882, 1149,  644, 1617,\n",
       "       1582,  720, 1064, 1606, 1202, 1151, 1052, 2216,  968,  504, 1188,\n",
       "       1593,  853,  725, 1431,  855, 1726, 1360,  755, 1713, 1121, 1196,\n",
       "        617,  848, 1424, 1140, 1100, 1157, 1212,  689, 1070, 1436,  686,\n",
       "        798, 1248, 1498, 1010,  713, 2392,  630, 1203,  483, 1373, 1194,\n",
       "       1462,  894, 1414,  996, 1694,  735,  540,  626,  948, 1845, 1020,\n",
       "       1367, 1444, 1573, 1302, 1314,  975, 1604,  963, 1482,  506,  926,\n",
       "       1422,  802,  740, 1095, 1385, 1152, 1240, 1560, 2121, 1160,  807,\n",
       "       1468, 1575,  625,  858,  698, 1079,  768,  795, 1416, 1003,  702,\n",
       "       1165, 1470, 2000,  700,  319,  861, 1896,  697,  972, 2136,  716,\n",
       "       1347, 1372, 1249, 1136, 1502, 1162,  710, 1719, 1383,  844,  596,\n",
       "       1056, 3206, 1358,  943, 1499, 1922, 1536, 1208, 1215,  967,  721,\n",
       "       1684,  536,  958, 1478,  764, 1848, 1869,  616,  624,  940, 1142,\n",
       "       1062,  888,  883, 1394, 1099, 1268,  953,  744,  608,  847,  683,\n",
       "        870, 1580, 1856,  982, 1026, 1293,  939,  784, 1256,  658, 1041,\n",
       "       1682,  804,  788, 1144,  961, 1260, 1310, 1141,  806, 1281, 1034,\n",
       "       1276, 1340, 1344,  988,  651, 1518,  907,  901,  765,  799,  648,\n",
       "       3094, 1440, 1258,  915, 1517,  930,  813, 1533,  872, 1242, 1364,\n",
       "        588,  709,  560, 1375, 1277, 1626, 1488,  808,  547, 1976, 2153,\n",
       "       1705, 1833, 1792, 1216,  999, 1113, 1073,  954,  264, 1269,  190,\n",
       "       3200,  866, 1501,  777, 1218, 1368, 1084, 2006, 1244, 3138, 1379,\n",
       "       1257, 1452,  528, 2035,  611,  707,  880, 1051, 1581, 1838, 1650,\n",
       "        723,  654, 1204, 1069, 1709,  998,  993, 1374, 1389, 1163, 1122,\n",
       "       1496,  846,  372, 1164, 1050, 2042, 1868, 1437,  742,  770, 1722,\n",
       "       1814, 1430, 1058,  908,  600,  965, 1032, 1299, 1120,  936,  783,\n",
       "       1822, 1522,  980, 1116,  978, 1156,  636, 1554, 1386,  811, 1520,\n",
       "       1952, 1766,  981, 1094, 2109,  525,  776, 1486, 1629, 1138, 2077,\n",
       "       1406, 1021, 1408,  738, 1477, 2046,  923, 1291, 1195, 1190,  874,\n",
       "        551, 1419, 2444, 1210,  927, 1112, 1391, 1800,  360, 1473, 1643,\n",
       "       1324,  270,  859,  718, 1176, 1311,  971, 1742,  941, 1698, 1584,\n",
       "       1595,  868, 1153,  893, 1349, 1337, 1720, 1479, 1030, 1318, 1252,\n",
       "        983, 1860,  836, 1935, 1614,  761, 1413,  956,  712,  650,  773,\n",
       "       1926,  731, 1417, 1024,  849, 1442, 1649, 1568,  778, 1489, 2078,\n",
       "       1454, 1516, 1067, 1559, 1127, 1390, 1273,  918, 1763, 1090, 1054,\n",
       "       1039, 1148, 1002, 1638,  105,  676, 1184, 1109,  892, 2217, 1505,\n",
       "       1059,  951, 2330, 1670, 1623, 1017, 1105, 1001,  546,  480, 1134,\n",
       "       1104, 1272, 1316, 1126, 1181, 1753,  964, 1466,  925, 1905, 1500,\n",
       "        585, 1632,  819, 1616, 1161,  828,  945,  979,  561,  696, 1330,\n",
       "        817, 1098, 1428,  673, 1241,  944, 1225, 1266, 1128,  485, 1930,\n",
       "       1396,  916,  822,  750, 1700, 1007, 1187,  691, 1574, 1680, 1346,\n",
       "        985, 1657,  602, 1022, 1082,  810, 1504, 1220, 1132, 1565, 1338,\n",
       "       1654, 1620, 1055,  800, 1306, 1475, 2524, 1992, 1193,  973,  854,\n",
       "        662, 1103, 1154,  942, 1048,  727,  690, 1096, 1459, 1251, 1247,\n",
       "       1074, 1271,  290,  655, 1463, 1836,  803,  833,  408,  533, 1012,\n",
       "       1552, 1005, 1530,  974, 1567, 1006, 1042, 1298,  704,  932, 1219,\n",
       "       1296, 1198,  959, 1261, 1598, 1683,  818, 1600, 2396, 1624,  831,\n",
       "       1224,  663,  879,  815, 1630, 2158,  931, 1660,  559, 1300, 1702,\n",
       "       1075, 1361, 1106, 1476, 1689, 2076,  792, 2110, 1405, 1192,  746,\n",
       "       1986,  841, 2002, 1332,  935, 1019,  661, 1309, 1328, 1085, 6110,\n",
       "       1246,  771,  976, 1652, 1278, 1902, 1274, 1393, 1622, 1352,  420,\n",
       "       1795,  544, 1510,  911,  693, 1284, 1732, 2033,  570, 1980,  814,\n",
       "        873,  757, 1108, 2633, 1571,  984, 1205,  714, 1746, 1525,  482,\n",
       "       1356,  862,  839, 1286, 1485, 1594,  622,  791,  708, 1223,  913,\n",
       "        656, 1319, 1932,  539, 1221, 1542])"
      ]
     },
     "metadata": {},
     "output_type": "display_data"
    },
    {
     "data": {
      "text/plain": [
       "0       37\n",
       "864     35\n",
       "672     17\n",
       "912     15\n",
       "1040    14\n",
       "        ..\n",
       "1463     1\n",
       "1459     1\n",
       "1454     1\n",
       "1019     1\n",
       "2046     1\n",
       "Name: TotalBsmtSF, Length: 721, dtype: int64"
      ]
     },
     "metadata": {},
     "output_type": "display_data"
    },
    {
     "name": "stdout",
     "output_type": "stream",
     "text": [
      "Information for column number 13 is below:\n"
     ]
    },
    {
     "data": {
      "text/plain": [
       "count    1460.000000\n",
       "mean     1162.626712\n",
       "std       386.587738\n",
       "min       334.000000\n",
       "25%       882.000000\n",
       "50%      1087.000000\n",
       "75%      1391.250000\n",
       "max      4692.000000\n",
       "Name: 1stFlrSF, dtype: float64"
      ]
     },
     "metadata": {},
     "output_type": "display_data"
    },
    {
     "data": {
      "text/plain": [
       "array([ 856, 1262,  920,  961, 1145,  796, 1694, 1107, 1022, 1077, 1040,\n",
       "       1182,  912, 1494, 1253,  854, 1004, 1296, 1114, 1339, 1158, 1108,\n",
       "       1795, 1060, 1600,  900, 1704,  520,  649, 1228, 1234, 1700, 1561,\n",
       "       1132, 1097, 1297, 1057, 1152, 1324, 1328,  884,  938, 1150, 1752,\n",
       "       1518, 1656,  736,  955,  794,  816, 1842, 1360, 1425,  983,  860,\n",
       "       1426,  780,  581, 1370,  902, 1143, 2207, 1479,  747, 1304, 2223,\n",
       "        845,  885, 1086,  840,  526,  952, 1072, 1768,  682, 1337, 1563,\n",
       "       1065,  804, 1301,  684,  612, 1013,  990, 1235,  964, 1260,  905,\n",
       "        680, 1588,  960,  835, 1225, 1610,  977, 1535, 1226, 1053, 1047,\n",
       "        789,  997, 1844, 1216,  774, 1282, 2259, 1436,  729, 1092, 1125,\n",
       "       1699,  728,  988,  772, 1080, 1199, 1586,  958,  660, 1327, 1721,\n",
       "       1682, 1214, 1959,  928,  864, 1734,  910, 1501, 1728,  970,  875,\n",
       "        896,  969, 1710, 1252, 1200,  572,  991, 1392, 1232, 1572, 1541,\n",
       "        882, 1149,  808, 1867, 1707, 1064, 1362, 1651, 2158, 1164, 2234,\n",
       "        968,  769,  901, 1340,  936, 1217, 1224, 1593, 1549,  725, 1431,\n",
       "        855, 1726,  929, 1713, 1121, 1279,  865,  848,  720, 1442, 1696,\n",
       "       1100, 1180, 1212,  932,  689, 1236,  810, 1137, 1248, 1498, 1010,\n",
       "        811, 2392,  630,  483, 1555, 1194, 1490,  894, 1414, 1014,  798,\n",
       "       1566,  866,  889,  626, 1222, 1872,  908, 1375, 1444, 1306, 1625,\n",
       "       1302, 1314, 1005, 1604,  963, 1382, 1482,  926,  764, 1422,  802,\n",
       "       1052,  778, 1113, 1095, 1363, 1632, 1560, 2121, 1156, 1175, 1468,\n",
       "       1575,  625, 1085,  858,  698, 1079, 1148, 1644, 1003,  975, 1041,\n",
       "       1336, 1210, 1675, 2000, 1122, 1035,  861, 1944,  697,  972,  793,\n",
       "       2036,  832,  716, 1153, 1088, 1372, 1472, 1249, 1136, 1553, 1163,\n",
       "       1898,  803, 1719, 1383, 1445,  596, 1056, 1629, 1358,  943, 1619,\n",
       "       1922, 1536, 1621, 1215,  993,  841, 1684,  536, 1478, 1848, 1869,\n",
       "       1453,  616, 1192, 1167, 1142, 1352,  495,  790,  672, 1394, 1268,\n",
       "       1287,  953, 1120,  752, 1319,  847,  904,  914, 1580, 1856, 1007,\n",
       "       1026,  939,  784, 1269,  658, 1742,  788,  735, 1144,  876, 1112,\n",
       "       1288, 1310, 1165,  806, 1620, 1166, 1071, 1050, 1276, 1028,  756,\n",
       "       1344, 1602, 1470, 1196,  707,  907, 1208, 1412,  765,  827,  734,\n",
       "        694, 2402, 1440, 1128, 1258,  933, 1689, 1888,  956,  679,  813,\n",
       "       1533,  888,  786, 1242,  624, 1663,  833,  979,  575,  849, 1277,\n",
       "       1634, 1502, 1161, 1976, 1652, 1493, 2069, 1718, 1131, 1850, 1792,\n",
       "        916,  999, 1073, 1484, 1766,  886, 3228, 1133,  899, 1801, 1218,\n",
       "       1368, 2020, 1378, 1244, 3138, 1266, 1476,  605, 2515, 1509,  751,\n",
       "        334,  820,  880, 1159, 1601, 1838, 1680,  767,  664, 1377,  915,\n",
       "        768,  825, 1069, 1717, 1126, 1006, 1048,  897, 1557, 1389,  996,\n",
       "       1134, 1496,  846,  576,  877, 1320,  703, 1429, 2042, 1521,  989,\n",
       "       2028,  838, 1473,  779,  770,  924, 1826, 1402, 1647, 1058,  927,\n",
       "        600, 1186, 1940, 1029, 1032, 1299, 1054,  807, 1828, 1548,  980,\n",
       "       1012, 1116, 1520, 1350, 1089, 1554, 1411,  800, 1567,  981, 1094,\n",
       "       1051,  822,  755,  909, 2113,  525,  851, 1486, 1686, 1181, 2097,\n",
       "       1454, 1465, 1679, 1437,  738, 1839,  792, 2046,  923, 1291, 1668,\n",
       "       1195, 1190,  874,  551, 1419, 2444, 1238, 1067, 1391, 1800, 1264,\n",
       "        372, 1824,  859, 1576, 1178, 1325,  971, 1698, 1776, 1616, 1146,\n",
       "        948, 1349, 1464, 1720, 1038,  742,  757, 1506, 1836, 1690, 1220,\n",
       "       1117, 1973, 1204, 1614, 1430, 1110, 1342,  966,  976, 1062, 1127,\n",
       "       1285,  773, 1966, 1428, 1075, 1309, 1044,  686, 1661, 1008,  944,\n",
       "       1489, 2084, 1434, 1160,  941, 1516, 1559, 1099, 1701, 1307, 1456,\n",
       "        918, 1779,  702, 1512, 1039, 1002, 1646, 1547, 1036,  676, 1184,\n",
       "       1462, 1155, 1090, 1187,  954,  892, 1709, 1712,  872, 2217, 1505,\n",
       "       1068,  951, 2364, 1670, 1063, 1636, 1020, 1105, 1015, 1001,  546,\n",
       "        480, 1229, 1272, 1316, 1617, 1098, 1788, 1466,  925, 1905, 1500,\n",
       "       1207, 1188, 1381,  965, 1168,  561,  696, 1542,  824,  783,  673,\n",
       "        869, 1241, 1118, 1407,  750,  691, 1574, 1504,  985, 1657, 1664,\n",
       "       1082, 2898, 1687, 1654, 1055, 1803, 1532, 2524, 1733, 1992, 1771,\n",
       "        930, 1526, 1091, 1523, 1364, 1130, 1096, 1338, 1103, 1154,  799,\n",
       "        893,  829, 1240, 1459, 1251, 1247, 1390,  438,  950,  887, 1021,\n",
       "       1552,  812, 1530,  974,  986, 1042, 1298, 1811, 1265, 1640, 1432,\n",
       "        959, 1831, 1261, 1170, 2129,  818, 1124, 2411,  949, 1624,  831,\n",
       "       1622,  842,  663,  879,  815, 1630, 1074, 2196, 1283, 1660, 1318,\n",
       "       1211, 2136, 1138, 1702, 1507, 1361, 1024, 1141, 1173, 2076, 1140,\n",
       "       1034, 2110, 1405,  760, 1987, 1104,  713, 2018, 1968, 1332,  935,\n",
       "       1357,  661, 1724, 1573, 1582, 1659, 4692, 1246,  753, 1203, 1294,\n",
       "       1902, 1274, 1787, 1061,  708, 1584, 1334,  693, 1284, 1172, 2156,\n",
       "       2053,  992, 1078, 1980, 1281,  814, 2633, 1571,  984,  754, 2117,\n",
       "        998, 1416, 1746, 1525, 1221,  741, 1569, 1223,  962, 1537, 1932,\n",
       "       1423,  913, 1578, 2073, 1256])"
      ]
     },
     "metadata": {},
     "output_type": "display_data"
    },
    {
     "data": {
      "text/plain": [
       "864     25\n",
       "1040    16\n",
       "912     14\n",
       "848     12\n",
       "894     12\n",
       "        ..\n",
       "1285     1\n",
       "1287     1\n",
       "1288     1\n",
       "1297     1\n",
       "2053     1\n",
       "Name: 1stFlrSF, Length: 753, dtype: int64"
      ]
     },
     "metadata": {},
     "output_type": "display_data"
    },
    {
     "name": "stdout",
     "output_type": "stream",
     "text": [
      "Information for column number 14 is below:\n"
     ]
    },
    {
     "data": {
      "text/plain": [
       "count    1460.000000\n",
       "mean      346.992466\n",
       "std       436.528436\n",
       "min         0.000000\n",
       "25%         0.000000\n",
       "50%         0.000000\n",
       "75%       728.000000\n",
       "max      2065.000000\n",
       "Name: 2ndFlrSF, dtype: float64"
      ]
     },
     "metadata": {},
     "output_type": "display_data"
    },
    {
     "data": {
      "text/plain": [
       "array([ 854,    0,  866,  756, 1053,  566,  983,  752, 1142, 1218,  668,\n",
       "       1320,  631,  716,  676,  860, 1519,  530,  808,  977, 1330,  833,\n",
       "        765,  462,  213,  548,  960,  670, 1116,  876,  612, 1031,  881,\n",
       "        790,  755,  592,  939,  520,  639,  656, 1414,  884,  729, 1523,\n",
       "        728,  351,  688,  941, 1032,  848,  836,  475,  739, 1151,  448,\n",
       "        896,  524, 1194,  956, 1070, 1096,  467,  547,  551,  880,  703,\n",
       "        901,  720,  316, 1518,  704, 1178,  754,  601, 1360,  929,  445,\n",
       "        564,  882,  920,  518,  817, 1257,  741,  672, 1306,  504, 1304,\n",
       "       1100,  730,  689,  591,  888, 1020,  828,  700,  842, 1286,  864,\n",
       "        829, 1092,  709,  844, 1106,  596,  807,  625,  649,  698,  840,\n",
       "        780,  568,  795,  648,  975,  702, 1242, 1818, 1121,  371,  804,\n",
       "        325,  809, 1200,  871, 1274, 1347, 1332, 1177, 1080,  695,  167,\n",
       "        915,  576,  605,  862,  495,  403,  838,  517, 1427,  784,  711,\n",
       "        468, 1081,  886,  793,  665,  858,  874,  526,  590,  406, 1157,\n",
       "        299,  936,  438, 1098,  766, 1101, 1028, 1017, 1254,  378, 1160,\n",
       "        682,  110,  600,  678,  834,  384,  512,  930,  868,  224, 1103,\n",
       "        560,  811,  878,  574,  910,  620,  687,  546,  902, 1000,  846,\n",
       "       1067,  914,  660, 1538, 1015, 1237,  611,  707,  527, 1288,  832,\n",
       "        806, 1182, 1040,  439,  717,  511, 1129, 1370,  636,  533,  745,\n",
       "        584,  812,  684,  595,  988,  800,  677,  573, 1066,  778,  661,\n",
       "       1440,  872,  788,  843,  713,  567,  651,  762,  482,  738,  586,\n",
       "        679,  644,  900,  887, 1872, 1281,  472, 1312,  319,  978, 1093,\n",
       "        473,  664, 1540, 1276,  441,  348, 1060,  714,  744, 1203,  783,\n",
       "       1097,  734,  767, 1589,  742,  686, 1128, 1111, 1174,  787, 1072,\n",
       "       1088, 1063,  545,  966,  623,  432,  581,  540,  769, 1051,  761,\n",
       "        779,  514,  455, 1426,  785,  521,  252,  813, 1120, 1037, 1169,\n",
       "       1001, 1215,  928, 1140, 1243,  571, 1196, 1038,  561,  979,  701,\n",
       "        332,  368,  883, 1336, 1141,  634,  912,  798,  985,  826,  831,\n",
       "        750,  456,  602,  855,  336,  408,  980,  998, 1168, 1208,  797,\n",
       "        850,  898, 1054,  895,  954,  772, 1230,  727,  454,  370,  628,\n",
       "        304,  582, 1122, 1134,  885,  640,  580, 1112,  653,  220,  240,\n",
       "       1362,  534,  539,  650,  918,  933,  712, 1796,  971, 1175,  743,\n",
       "        523, 1216, 2065,  272,  685,  776,  630,  984,  875,  913,  464,\n",
       "       1039, 1259,  940,  892,  725,  924,  764,  925, 1479,  192,  589,\n",
       "        992,  903,  430,  748,  587,  994,  950, 1323,  732, 1357,  557,\n",
       "       1296,  390, 1185,  873, 1611,  457,  796,  908,  550,  989,  932,\n",
       "        358, 1392,  349,  691, 1349,  768,  208,  622,  857,  556, 1044,\n",
       "        708,  626,  904,  510, 1104,  830,  981,  870,  694, 1152])"
      ]
     },
     "metadata": {},
     "output_type": "display_data"
    },
    {
     "data": {
      "text/plain": [
       "0       829\n",
       "728      10\n",
       "504       9\n",
       "672       8\n",
       "546       8\n",
       "       ... \n",
       "788       1\n",
       "1116      1\n",
       "1112      1\n",
       "1111      1\n",
       "1872      1\n",
       "Name: 2ndFlrSF, Length: 417, dtype: int64"
      ]
     },
     "metadata": {},
     "output_type": "display_data"
    },
    {
     "name": "stdout",
     "output_type": "stream",
     "text": [
      "Information for column number 15 is below:\n"
     ]
    },
    {
     "data": {
      "text/plain": [
       "count    1460.000000\n",
       "mean        5.844521\n",
       "std        48.623081\n",
       "min         0.000000\n",
       "25%         0.000000\n",
       "50%         0.000000\n",
       "75%         0.000000\n",
       "max       572.000000\n",
       "Name: LowQualFinSF, dtype: float64"
      ]
     },
     "metadata": {},
     "output_type": "display_data"
    },
    {
     "data": {
      "text/plain": [
       "array([  0, 360, 513, 234, 528, 572, 144, 392, 371, 390, 420, 473, 156,\n",
       "       515,  80,  53, 232, 481, 120, 514, 397, 479, 205, 384])"
      ]
     },
     "metadata": {},
     "output_type": "display_data"
    },
    {
     "data": {
      "text/plain": [
       "0      1434\n",
       "80        3\n",
       "360       2\n",
       "528       1\n",
       "53        1\n",
       "120       1\n",
       "144       1\n",
       "156       1\n",
       "205       1\n",
       "232       1\n",
       "234       1\n",
       "371       1\n",
       "572       1\n",
       "390       1\n",
       "392       1\n",
       "397       1\n",
       "420       1\n",
       "473       1\n",
       "479       1\n",
       "481       1\n",
       "513       1\n",
       "514       1\n",
       "515       1\n",
       "384       1\n",
       "Name: LowQualFinSF, dtype: int64"
      ]
     },
     "metadata": {},
     "output_type": "display_data"
    },
    {
     "name": "stdout",
     "output_type": "stream",
     "text": [
      "Information for column number 16 is below:\n"
     ]
    },
    {
     "data": {
      "text/plain": [
       "count    1460.000000\n",
       "mean     1515.463699\n",
       "std       525.480383\n",
       "min       334.000000\n",
       "25%      1129.500000\n",
       "50%      1464.000000\n",
       "75%      1776.750000\n",
       "max      5642.000000\n",
       "Name: GrLivArea, dtype: float64"
      ]
     },
     "metadata": {},
     "output_type": "display_data"
    },
    {
     "data": {
      "text/plain": [
       "array([1710, 1262, 1786, 1717, 2198, 1362, 1694, 2090, 1774, 1077, 1040,\n",
       "       2324,  912, 1494, 1253,  854, 1004, 1296, 1114, 1339, 2376, 1108,\n",
       "       1795, 1060, 1600,  900, 1704,  520, 1317, 1228, 1234, 1700, 1561,\n",
       "       2452, 1097, 1297, 1057, 1152, 1324, 1328,  884,  938, 1150, 1752,\n",
       "       2149, 1656, 1452,  955, 1470, 1176,  816, 1842, 1360, 1425, 1739,\n",
       "       1720, 2945,  780, 1158, 1111, 1370, 2034, 2473, 2207, 1479,  747,\n",
       "       2287, 2223,  845, 1718, 1086, 1605,  988,  952, 1285, 1768, 1230,\n",
       "       2142, 1337, 1563, 1065, 1474, 2417, 1560, 1224, 1526,  990, 1235,\n",
       "        964, 2291, 1588,  960,  835, 1225, 1610, 1732, 1535, 1226, 1818,\n",
       "       1992, 1047,  789, 1517, 1844, 1855, 1430, 2696, 2259, 2320, 1458,\n",
       "       1092, 1125, 3222, 1456, 1123, 1080, 1199, 1586,  754,  958,  840,\n",
       "       1348, 1053, 2157, 2054, 1327, 1721, 1682, 1214, 1959, 1852, 1764,\n",
       "        864, 1734, 1385, 1501, 1728, 1709,  875, 2035, 1344,  969, 1993,\n",
       "       1252, 1200, 1096, 1968, 1947, 2462, 1232, 2668, 1541,  882, 1616,\n",
       "       1355, 1867, 2161, 1707, 1382, 1767, 1651, 2158, 2060, 1920, 2234,\n",
       "        968, 1525, 1802, 1340, 2082, 3608, 1217, 1593, 2727, 1431, 1726,\n",
       "       3112, 2229, 1713, 1121, 1279, 1310,  848, 1284, 1442, 1696, 1100,\n",
       "       2062, 1212, 1392, 1236, 1436, 1954, 1248, 1498, 2267, 1552, 2392,\n",
       "       1302, 2520,  987, 1555, 1194, 2794,  894, 1960, 1414, 1744, 1487,\n",
       "       1566,  866, 1440, 2110, 1872, 1928, 1375, 1668, 2144, 1306, 1625,\n",
       "       1640, 1314, 1604, 1792, 2574, 1316,  764, 1422, 1511, 2192,  778,\n",
       "       1113, 1939, 1363, 2270, 1632, 1548, 2121, 2022, 1982, 1468, 1575,\n",
       "       1250,  858, 1396, 1919, 1716, 2263, 1644, 1003, 1558, 1950, 1743,\n",
       "       1336, 3493, 2000, 2243, 1406,  861, 1944,  972, 1118, 2036, 1641,\n",
       "       1432, 2353, 2646, 1472, 2596, 2468, 2730, 1163, 2978,  803, 1719,\n",
       "       1383, 2134, 1192, 1056, 1629, 1358, 1638, 1922, 1536, 1621, 1215,\n",
       "       1908,  841, 1684, 1112, 1577, 1478, 1626, 2728, 1869, 1453,  720,\n",
       "       1595, 1167, 1142, 1352, 1924, 1505, 1574, 1394, 1268, 1287, 1664,\n",
       "        752, 1319,  904,  914, 2466, 1856, 1800, 1691, 1301, 1797,  784,\n",
       "       1953, 1269, 1184, 2332, 1367, 1961,  788, 1034, 1144, 1812, 1550,\n",
       "       1288,  672, 1572, 1620, 1639, 1680, 2172, 2078, 1276, 1028, 2097,\n",
       "       1400, 2624, 1134, 1602, 2630, 1196, 1389,  907, 1208, 1412, 1198,\n",
       "       1365,  630, 1661,  694, 2402, 1573, 1258, 1689, 1888, 1886, 1376,\n",
       "       1183,  813, 1533, 1756, 1590, 1242, 1663, 1666, 1203, 1935, 1135,\n",
       "       1660, 1277, 1634, 1502, 1969, 1072, 1976, 1652,  970, 1493, 2643,\n",
       "       1131, 1850, 1826, 1216,  999, 1073, 1484, 2414, 1304, 1578,  886,\n",
       "       3228, 1820,  899, 1218, 1801, 1322, 1911, 1378, 1041, 1368, 2020,\n",
       "       2119, 2344, 1796, 2080, 1294, 1244, 4676, 2398, 1266,  928, 2713,\n",
       "        605, 2515, 1509,  827,  334, 1347, 1724, 1159, 1601, 1838, 2285,\n",
       "        767, 1496, 2183, 1635,  768,  825, 2094, 1069, 1126, 2046, 1048,\n",
       "       1446, 1557,  996, 1674, 2295, 1647, 2504, 2132,  943, 1692, 1109,\n",
       "       1477, 1320, 1429, 2042, 2775, 2028,  838,  860, 1473,  935, 1582,\n",
       "       2296,  924, 1402, 1556, 1904, 1915, 1986, 2008, 3194, 1029, 2153,\n",
       "       1032, 1120, 1054,  832, 1828, 2262, 2614,  980, 1512, 1790, 1116,\n",
       "       1520, 1350, 1750, 1554, 1411, 3395,  800, 1387,  796, 1567, 1518,\n",
       "       1929, 2704, 1766,  981, 1094, 1839, 1665, 1510, 1469, 2113, 1486,\n",
       "       2448, 1181, 1936, 2380, 1679, 1437, 1180, 1476, 1369, 1136, 1441,\n",
       "        792,  923, 1291, 1761, 1102, 1419, 4316, 2519, 1539, 1137,  616,\n",
       "       1148, 1391, 1164, 2576, 1824,  729, 1178, 2554, 2418,  971, 1742,\n",
       "       1698, 1776, 1146, 2031,  948, 1349, 1464, 2715, 2256, 2640, 1529,\n",
       "       1140, 2098, 1026, 1471, 1386, 2531, 1547, 2365, 1506, 1714, 1836,\n",
       "       3279, 1220, 1117, 1973, 1204, 1614, 1603, 1110, 1342, 2084,  901,\n",
       "       2087, 1145, 1062, 2013, 1895, 1564,  773, 3140, 1688, 2822, 1128,\n",
       "       1428, 1576, 2138, 1309, 1044, 1008, 1052,  936, 1733, 1489, 1434,\n",
       "       2126, 1223, 1829, 1516, 1067, 1559, 1099, 1482, 1165, 1416, 1701,\n",
       "       1775, 2358, 1646, 1445, 1779, 1481, 2654, 1426, 1039, 1372, 1002,\n",
       "       1949,  910, 2610, 2224, 1155, 1090, 2230,  892, 1712, 1393, 2217,\n",
       "       1683, 1068,  951, 2240, 2364, 1670,  902, 1063, 1636, 2057, 2274,\n",
       "       1015, 2002,  480, 1229, 2127, 2200, 1617, 1686, 2374, 1978, 1788,\n",
       "       2236, 1466,  925, 1905, 1500, 2069, 1971, 1962, 2403, 1381,  965,\n",
       "       1958, 2872, 1894, 1308, 1098, 1095,  918, 2019,  869, 1241, 2612,\n",
       "       2290, 1940, 2030, 1851, 1050,  944,  691, 1504,  985, 1657, 1522,\n",
       "       1271, 1022, 1082, 1132, 2898, 1264, 3082, 1654,  954, 1803, 2329,\n",
       "       2524, 2868, 1771,  930, 1977, 1989, 1523, 1364, 2184, 1991, 1338,\n",
       "       2337, 1103, 1154, 2260, 1571, 1611, 2521,  893, 1240, 1740, 1459,\n",
       "       1251, 1247, 1088,  438,  950, 2622, 2021, 1690, 1658, 1964,  833,\n",
       "       1012,  698, 1005, 1530, 1981,  974, 2210,  986, 1020, 1868, 2828,\n",
       "       1006, 1298,  932, 1811, 1265, 1580, 1876, 1671, 2108, 3627, 1261,\n",
       "       3086, 2345, 1343, 1124, 2514, 4476, 1130, 1221, 1699, 1624, 1804,\n",
       "       1622, 1863, 1630, 1074, 2196, 1283, 1845, 1902, 1211, 1846, 2136,\n",
       "       1490, 1138, 1933, 1702, 1507, 2620, 1190, 1188, 1784, 1948, 1141,\n",
       "       1173, 2076, 1553, 2058, 1405,  874, 2167, 1987, 1166, 1675, 1889,\n",
       "       2018, 3447, 1524, 1357, 1395, 2447, 1659, 1970, 2372, 5642, 1246,\n",
       "       1983, 2526, 1708, 1122, 1274, 2810, 2599, 2112, 1787, 1923,  708,\n",
       "        774, 2792, 1334,  693, 1861,  872, 2169, 1913, 2156, 2634, 3238,\n",
       "       1865, 1078, 1980, 2601, 1738, 1475, 1374, 2633,  790, 2117, 1762,\n",
       "       2784, 1746, 1584, 1912, 2482, 1687, 1513, 1608, 2093, 1840, 1848,\n",
       "       1569, 2450, 2201,  804, 1537, 1932, 1725, 2555, 2007,  913, 1346,\n",
       "       2073, 2340, 1256])"
      ]
     },
     "metadata": {},
     "output_type": "display_data"
    },
    {
     "data": {
      "text/plain": [
       "864     22\n",
       "1040    14\n",
       "894     11\n",
       "848     10\n",
       "1456    10\n",
       "        ..\n",
       "3447     1\n",
       "1396     1\n",
       "1395     1\n",
       "1393     1\n",
       "2054     1\n",
       "Name: GrLivArea, Length: 861, dtype: int64"
      ]
     },
     "metadata": {},
     "output_type": "display_data"
    },
    {
     "name": "stdout",
     "output_type": "stream",
     "text": [
      "Information for column number 17 is below:\n"
     ]
    },
    {
     "data": {
      "text/plain": [
       "count    1460.000000\n",
       "mean        0.425342\n",
       "std         0.518911\n",
       "min         0.000000\n",
       "25%         0.000000\n",
       "50%         0.000000\n",
       "75%         1.000000\n",
       "max         3.000000\n",
       "Name: BsmtFullBath, dtype: float64"
      ]
     },
     "metadata": {},
     "output_type": "display_data"
    },
    {
     "data": {
      "text/plain": [
       "array([1, 0, 2, 3])"
      ]
     },
     "metadata": {},
     "output_type": "display_data"
    },
    {
     "data": {
      "text/plain": [
       "0    856\n",
       "1    588\n",
       "2     15\n",
       "3      1\n",
       "Name: BsmtFullBath, dtype: int64"
      ]
     },
     "metadata": {},
     "output_type": "display_data"
    },
    {
     "name": "stdout",
     "output_type": "stream",
     "text": [
      "Information for column number 18 is below:\n"
     ]
    },
    {
     "data": {
      "text/plain": [
       "count    1460.000000\n",
       "mean        0.057534\n",
       "std         0.238753\n",
       "min         0.000000\n",
       "25%         0.000000\n",
       "50%         0.000000\n",
       "75%         0.000000\n",
       "max         2.000000\n",
       "Name: BsmtHalfBath, dtype: float64"
      ]
     },
     "metadata": {},
     "output_type": "display_data"
    },
    {
     "data": {
      "text/plain": [
       "array([0, 1, 2])"
      ]
     },
     "metadata": {},
     "output_type": "display_data"
    },
    {
     "data": {
      "text/plain": [
       "0    1378\n",
       "1      80\n",
       "2       2\n",
       "Name: BsmtHalfBath, dtype: int64"
      ]
     },
     "metadata": {},
     "output_type": "display_data"
    },
    {
     "name": "stdout",
     "output_type": "stream",
     "text": [
      "Information for column number 19 is below:\n"
     ]
    },
    {
     "data": {
      "text/plain": [
       "count    1460.000000\n",
       "mean        1.565068\n",
       "std         0.550916\n",
       "min         0.000000\n",
       "25%         1.000000\n",
       "50%         2.000000\n",
       "75%         2.000000\n",
       "max         3.000000\n",
       "Name: FullBath, dtype: float64"
      ]
     },
     "metadata": {},
     "output_type": "display_data"
    },
    {
     "data": {
      "text/plain": [
       "array([2, 1, 3, 0])"
      ]
     },
     "metadata": {},
     "output_type": "display_data"
    },
    {
     "data": {
      "text/plain": [
       "2    768\n",
       "1    650\n",
       "3     33\n",
       "0      9\n",
       "Name: FullBath, dtype: int64"
      ]
     },
     "metadata": {},
     "output_type": "display_data"
    },
    {
     "name": "stdout",
     "output_type": "stream",
     "text": [
      "Information for column number 20 is below:\n"
     ]
    },
    {
     "data": {
      "text/plain": [
       "count    1460.000000\n",
       "mean        0.382877\n",
       "std         0.502885\n",
       "min         0.000000\n",
       "25%         0.000000\n",
       "50%         0.000000\n",
       "75%         1.000000\n",
       "max         2.000000\n",
       "Name: HalfBath, dtype: float64"
      ]
     },
     "metadata": {},
     "output_type": "display_data"
    },
    {
     "data": {
      "text/plain": [
       "array([1, 0, 2])"
      ]
     },
     "metadata": {},
     "output_type": "display_data"
    },
    {
     "data": {
      "text/plain": [
       "0    913\n",
       "1    535\n",
       "2     12\n",
       "Name: HalfBath, dtype: int64"
      ]
     },
     "metadata": {},
     "output_type": "display_data"
    },
    {
     "name": "stdout",
     "output_type": "stream",
     "text": [
      "Information for column number 21 is below:\n"
     ]
    },
    {
     "data": {
      "text/plain": [
       "count    1460.000000\n",
       "mean        2.866438\n",
       "std         0.815778\n",
       "min         0.000000\n",
       "25%         2.000000\n",
       "50%         3.000000\n",
       "75%         3.000000\n",
       "max         8.000000\n",
       "Name: BedroomAbvGr, dtype: float64"
      ]
     },
     "metadata": {},
     "output_type": "display_data"
    },
    {
     "data": {
      "text/plain": [
       "array([3, 4, 1, 2, 0, 5, 6, 8])"
      ]
     },
     "metadata": {},
     "output_type": "display_data"
    },
    {
     "data": {
      "text/plain": [
       "3    804\n",
       "2    358\n",
       "4    213\n",
       "1     50\n",
       "5     21\n",
       "6      7\n",
       "0      6\n",
       "8      1\n",
       "Name: BedroomAbvGr, dtype: int64"
      ]
     },
     "metadata": {},
     "output_type": "display_data"
    },
    {
     "name": "stdout",
     "output_type": "stream",
     "text": [
      "Information for column number 22 is below:\n"
     ]
    },
    {
     "data": {
      "text/plain": [
       "count    1460.000000\n",
       "mean        1.046575\n",
       "std         0.220338\n",
       "min         0.000000\n",
       "25%         1.000000\n",
       "50%         1.000000\n",
       "75%         1.000000\n",
       "max         3.000000\n",
       "Name: KitchenAbvGr, dtype: float64"
      ]
     },
     "metadata": {},
     "output_type": "display_data"
    },
    {
     "data": {
      "text/plain": [
       "array([1, 2, 3, 0])"
      ]
     },
     "metadata": {},
     "output_type": "display_data"
    },
    {
     "data": {
      "text/plain": [
       "1    1392\n",
       "2      65\n",
       "3       2\n",
       "0       1\n",
       "Name: KitchenAbvGr, dtype: int64"
      ]
     },
     "metadata": {},
     "output_type": "display_data"
    },
    {
     "name": "stdout",
     "output_type": "stream",
     "text": [
      "Information for column number 23 is below:\n"
     ]
    },
    {
     "data": {
      "text/plain": [
       "count    1460.000000\n",
       "mean        6.517808\n",
       "std         1.625393\n",
       "min         2.000000\n",
       "25%         5.000000\n",
       "50%         6.000000\n",
       "75%         7.000000\n",
       "max        14.000000\n",
       "Name: TotRmsAbvGrd, dtype: float64"
      ]
     },
     "metadata": {},
     "output_type": "display_data"
    },
    {
     "data": {
      "text/plain": [
       "array([ 8,  6,  7,  9,  5, 11,  4, 10, 12,  3,  2, 14])"
      ]
     },
     "metadata": {},
     "output_type": "display_data"
    },
    {
     "data": {
      "text/plain": [
       "6     402\n",
       "7     329\n",
       "5     275\n",
       "8     187\n",
       "4      97\n",
       "9      75\n",
       "10     47\n",
       "11     18\n",
       "3      17\n",
       "12     11\n",
       "14      1\n",
       "2       1\n",
       "Name: TotRmsAbvGrd, dtype: int64"
      ]
     },
     "metadata": {},
     "output_type": "display_data"
    },
    {
     "name": "stdout",
     "output_type": "stream",
     "text": [
      "Information for column number 24 is below:\n"
     ]
    },
    {
     "data": {
      "text/plain": [
       "count    1460.000000\n",
       "mean        0.613014\n",
       "std         0.644666\n",
       "min         0.000000\n",
       "25%         0.000000\n",
       "50%         1.000000\n",
       "75%         1.000000\n",
       "max         3.000000\n",
       "Name: Fireplaces, dtype: float64"
      ]
     },
     "metadata": {},
     "output_type": "display_data"
    },
    {
     "data": {
      "text/plain": [
       "array([0, 1, 2, 3])"
      ]
     },
     "metadata": {},
     "output_type": "display_data"
    },
    {
     "data": {
      "text/plain": [
       "0    690\n",
       "1    650\n",
       "2    115\n",
       "3      5\n",
       "Name: Fireplaces, dtype: int64"
      ]
     },
     "metadata": {},
     "output_type": "display_data"
    },
    {
     "name": "stdout",
     "output_type": "stream",
     "text": [
      "Information for column number 25 is below:\n"
     ]
    },
    {
     "data": {
      "text/plain": [
       "count    1460.000000\n",
       "mean     1978.589041\n",
       "std        23.997022\n",
       "min      1900.000000\n",
       "25%      1962.000000\n",
       "50%      1980.000000\n",
       "75%      2001.000000\n",
       "max      2010.000000\n",
       "Name: GarageYrBlt, dtype: float64"
      ]
     },
     "metadata": {},
     "output_type": "display_data"
    },
    {
     "data": {
      "text/plain": [
       "array([2003., 1976., 2001., 1998., 2000., 1993., 2004., 1973., 1931.,\n",
       "       1939., 1965., 2005., 1962., 2006., 1960., 1991., 1970., 1967.,\n",
       "       1958., 1930., 2002., 1968., 2007., 2008., 1957., 1920., 1966.,\n",
       "       1959., 1995., 1954., 1953., 1980., 1983., 1977., 1997., 1985.,\n",
       "       1963., 1981., 1964., 1999., 1935., 1990., 1945., 1987., 1989.,\n",
       "       1915., 1956., 1948., 1974., 2009., 1950., 1961., 1921., 1900.,\n",
       "       1979., 1951., 1969., 1936., 1975., 1971., 1923., 1984., 1926.,\n",
       "       1955., 1986., 1988., 1916., 1932., 1972., 1918., 1924., 1996.,\n",
       "       1940., 1949., 1994., 1910., 1978., 1982., 1992., 1925., 1941.,\n",
       "       2010., 1927., 1947., 1937., 1942., 1938., 1952., 1928., 1922.,\n",
       "       1934., 1906., 1914., 1946., 1908., 1929., 1933.])"
      ]
     },
     "metadata": {},
     "output_type": "display_data"
    },
    {
     "data": {
      "text/plain": [
       "1980.0    96\n",
       "2005.0    65\n",
       "2006.0    59\n",
       "2004.0    53\n",
       "2003.0    50\n",
       "          ..\n",
       "1900.0     1\n",
       "1906.0     1\n",
       "1933.0     1\n",
       "1908.0     1\n",
       "1927.0     1\n",
       "Name: GarageYrBlt, Length: 97, dtype: int64"
      ]
     },
     "metadata": {},
     "output_type": "display_data"
    },
    {
     "name": "stdout",
     "output_type": "stream",
     "text": [
      "Information for column number 26 is below:\n"
     ]
    },
    {
     "data": {
      "text/plain": [
       "count    1460.000000\n",
       "mean        1.767123\n",
       "std         0.747315\n",
       "min         0.000000\n",
       "25%         1.000000\n",
       "50%         2.000000\n",
       "75%         2.000000\n",
       "max         4.000000\n",
       "Name: GarageCars, dtype: float64"
      ]
     },
     "metadata": {},
     "output_type": "display_data"
    },
    {
     "data": {
      "text/plain": [
       "array([2, 3, 1, 0, 4])"
      ]
     },
     "metadata": {},
     "output_type": "display_data"
    },
    {
     "data": {
      "text/plain": [
       "2    824\n",
       "1    369\n",
       "3    181\n",
       "0     81\n",
       "4      5\n",
       "Name: GarageCars, dtype: int64"
      ]
     },
     "metadata": {},
     "output_type": "display_data"
    },
    {
     "name": "stdout",
     "output_type": "stream",
     "text": [
      "Information for column number 27 is below:\n"
     ]
    },
    {
     "data": {
      "text/plain": [
       "count    1460.000000\n",
       "mean      472.980137\n",
       "std       213.804841\n",
       "min         0.000000\n",
       "25%       334.500000\n",
       "50%       480.000000\n",
       "75%       576.000000\n",
       "max      1418.000000\n",
       "Name: GarageArea, dtype: float64"
      ]
     },
     "metadata": {},
     "output_type": "display_data"
    },
    {
     "data": {
      "text/plain": [
       "array([ 548,  460,  608,  642,  836,  480,  636,  484,  468,  205,  384,\n",
       "        736,  352,  840,  576,  516,  294,  853,  280,  534,  572,  270,\n",
       "        890,  772,  319,  240,  250,  271,  447,  556,  691,  672,  498,\n",
       "        246,    0,  440,  308,  504,  300,  670,  826,  386,  388,  528,\n",
       "        894,  565,  641,  288,  645,  852,  558,  220,  667,  360,  427,\n",
       "        490,  379,  297,  283,  509,  405,  758,  461,  400,  462,  420,\n",
       "        432,  506,  684,  472,  366,  476,  410,  740,  648,  273,  546,\n",
       "        325,  792,  450,  180,  430,  594,  390,  540,  264,  530,  435,\n",
       "        453,  750,  487,  624,  471,  318,  766,  660,  470,  720,  577,\n",
       "        380,  434,  866,  495,  564,  312,  625,  680,  678,  726,  532,\n",
       "        216,  303,  789,  511,  616,  521,  451, 1166,  252,  497,  682,\n",
       "        666,  786,  795,  856,  473,  398,  500,  349,  454,  644,  299,\n",
       "        210,  431,  438,  675,  968,  721,  336,  810,  494,  457,  818,\n",
       "        463,  604,  389,  538,  520,  309,  429,  673,  884,  868,  492,\n",
       "        413,  924, 1053,  439,  671,  338,  573,  732,  505,  575,  626,\n",
       "        898,  529,  685,  281,  539,  418,  588,  282,  375,  683,  843,\n",
       "        552,  870,  888,  746,  708,  513, 1025,  656,  872,  292,  441,\n",
       "        189,  880,  676,  301,  474,  706,  617,  445,  200,  592,  566,\n",
       "        514,  296,  244,  610,  834,  639,  501,  846,  560,  596,  600,\n",
       "        373,  947,  350,  396,  864,  304,  784,  696,  569,  628,  550,\n",
       "        493,  578,  198,  422,  228,  526,  525,  908,  499,  508,  694,\n",
       "        874,  164,  402,  515,  286,  603,  900,  583,  889,  858,  502,\n",
       "        392,  403,  527,  765,  367,  426,  615,  871,  570,  406,  590,\n",
       "        612,  650, 1390,  275,  452,  842,  816,  621,  544,  486,  230,\n",
       "        261,  531,  393,  774,  749,  364,  627,  260,  256,  478,  442,\n",
       "        562,  512,  839,  330,  711, 1134,  416,  779,  702,  567,  832,\n",
       "        326,  551,  606,  739,  408,  475,  704,  983,  768,  632,  541,\n",
       "        320,  800,  831,  554,  878,  752,  614,  481,  496,  423,  841,\n",
       "        895,  412,  865,  630,  605,  602,  618,  444,  397,  455,  409,\n",
       "        820, 1020,  598,  857,  595,  433,  776, 1220,  458,  613,  456,\n",
       "        436,  812,  686,  611,  425,  343,  479,  619,  902,  574,  523,\n",
       "        414,  738,  354,  483,  327,  756,  690,  284,  833,  601,  533,\n",
       "        522,  788,  555,  689,  796,  808,  510,  255,  424,  305,  368,\n",
       "        824,  328,  160,  437,  665,  290,  912,  905,  542,  716,  586,\n",
       "        467,  582, 1248, 1043,  254,  712,  719,  862,  928,  782,  466,\n",
       "        714, 1052,  225,  234,  324,  306,  830,  807,  358,  186,  693,\n",
       "        482,  813,  995,  757, 1356,  459,  701,  322,  315,  668,  404,\n",
       "        543,  954,  850,  477,  276,  518, 1014,  753, 1418,  213,  844,\n",
       "        860,  748,  248,  287,  825,  647,  342,  770,  663,  377,  804,\n",
       "        936,  722,  208,  662,  754,  622,  620,  370, 1069,  372,  923,\n",
       "        192])"
      ]
     },
     "metadata": {},
     "output_type": "display_data"
    },
    {
     "data": {
      "text/plain": [
       "0       81\n",
       "440     49\n",
       "576     47\n",
       "240     38\n",
       "484     34\n",
       "        ..\n",
       "754      1\n",
       "459      1\n",
       "458      1\n",
       "756      1\n",
       "1418     1\n",
       "Name: GarageArea, Length: 441, dtype: int64"
      ]
     },
     "metadata": {},
     "output_type": "display_data"
    },
    {
     "name": "stdout",
     "output_type": "stream",
     "text": [
      "Information for column number 28 is below:\n"
     ]
    },
    {
     "data": {
      "text/plain": [
       "count    1460.000000\n",
       "mean       94.244521\n",
       "std       125.338794\n",
       "min         0.000000\n",
       "25%         0.000000\n",
       "50%         0.000000\n",
       "75%       168.000000\n",
       "max       857.000000\n",
       "Name: WoodDeckSF, dtype: float64"
      ]
     },
     "metadata": {},
     "output_type": "display_data"
    },
    {
     "data": {
      "text/plain": [
       "array([  0, 298, 192,  40, 255, 235,  90, 147, 140, 160,  48, 240, 171,\n",
       "       100, 406, 222, 288,  49, 203, 113, 392, 145, 196, 168, 112, 106,\n",
       "       857, 115, 120,  12, 576, 301, 144, 300,  74, 127, 232, 158, 352,\n",
       "       182, 180, 166, 224,  80, 367,  53, 188, 105,  24,  98, 276, 200,\n",
       "       409, 239, 400, 476, 178, 574, 237, 210, 441, 116, 280, 104,  87,\n",
       "       132, 238, 149, 355,  60, 139, 108, 351, 209, 216, 248, 143, 365,\n",
       "       370,  58, 197, 263, 123, 138, 333, 250, 292,  95, 262,  81, 289,\n",
       "       124, 172, 110, 208, 468, 256, 302, 190, 340, 233, 184, 201, 142,\n",
       "       122, 155, 670, 135, 495, 536, 306,  64, 364, 353,  66, 159, 146,\n",
       "       296, 125,  44, 215, 264,  88,  89,  96, 414, 519, 206, 141, 260,\n",
       "       324, 156, 220,  38, 261, 126,  85, 466, 270,  78, 169, 320, 268,\n",
       "        72, 349,  42,  35, 326, 382, 161, 179, 103, 253, 148, 335, 176,\n",
       "       390, 328, 312, 185, 269, 195,  57, 236, 517, 304, 198, 426,  28,\n",
       "       316, 322, 307, 257, 219, 416, 344, 380,  68, 114, 327, 165, 187,\n",
       "       181,  92, 228, 245, 503, 315, 241, 303, 133, 403,  36,  52, 265,\n",
       "       207, 150, 290, 486, 278,  70, 418, 234,  26, 342,  97, 272, 121,\n",
       "       243, 511, 154, 164, 173, 384, 202,  56, 321,  86, 194, 421, 305,\n",
       "       117, 550, 509, 153, 394, 371,  63, 252, 136, 186, 170, 474, 214,\n",
       "       199, 728, 436,  55, 431, 448, 361, 362, 162, 229, 439, 379, 356,\n",
       "        84, 635, 325,  33, 212, 314, 242, 294,  30, 128,  45, 177, 227,\n",
       "       218, 309, 404, 500, 668, 402, 283, 183, 175, 586, 295,  32, 366,\n",
       "       736])"
      ]
     },
     "metadata": {},
     "output_type": "display_data"
    },
    {
     "data": {
      "text/plain": [
       "0      761\n",
       "192     38\n",
       "100     36\n",
       "144     33\n",
       "120     31\n",
       "      ... \n",
       "269      1\n",
       "265      1\n",
       "263      1\n",
       "260      1\n",
       "215      1\n",
       "Name: WoodDeckSF, Length: 274, dtype: int64"
      ]
     },
     "metadata": {},
     "output_type": "display_data"
    },
    {
     "name": "stdout",
     "output_type": "stream",
     "text": [
      "Information for column number 29 is below:\n"
     ]
    },
    {
     "data": {
      "text/plain": [
       "count    1460.000000\n",
       "mean       46.660274\n",
       "std        66.256028\n",
       "min         0.000000\n",
       "25%         0.000000\n",
       "50%        25.000000\n",
       "75%        68.000000\n",
       "max       547.000000\n",
       "Name: OpenPorchSF, dtype: float64"
      ]
     },
     "metadata": {},
     "output_type": "display_data"
    },
    {
     "data": {
      "text/plain": [
       "array([ 61,   0,  42,  35,  84,  30,  57, 204,   4,  21,  33, 213, 112,\n",
       "       102, 154, 159, 110,  90,  56,  32,  50, 258,  54,  65,  38,  47,\n",
       "        64,  52, 138, 104,  82,  43, 146,  75,  72,  70,  49,  11,  36,\n",
       "       151,  29,  94, 101, 199,  99, 234, 162,  63,  68,  46,  45, 122,\n",
       "       184, 120,  20,  24, 130, 205, 108,  80,  66,  48,  25,  96, 111,\n",
       "       106,  40, 114,   8, 136, 132,  62, 228,  60, 238, 260,  27,  74,\n",
       "        16, 198,  26,  83,  34,  55,  22,  98, 172, 119, 208, 105, 140,\n",
       "       168,  28,  39, 148,  12,  51, 150, 117, 250,  10,  81,  44, 144,\n",
       "       175, 195, 128,  76,  17,  59, 214, 121,  53, 231, 134, 192, 123,\n",
       "        78, 187,  85, 133, 176, 113, 137, 125, 523, 100, 285,  88, 406,\n",
       "       155,  73, 182, 502, 274, 158, 142, 243, 235, 312, 124, 267, 265,\n",
       "        87, 288,  23, 152, 341, 116, 160, 174, 247, 291,  18, 170, 156,\n",
       "       166, 129, 418, 240,  77, 364, 188, 207,  67,  69, 131, 191,  41,\n",
       "       118, 252, 189, 282, 135,  95, 224, 169, 319,  58,  93, 244, 185,\n",
       "       200,  92, 180, 263, 304, 229, 103, 211, 287, 292, 241, 547,  91,\n",
       "        86, 262, 210, 141,  15, 126, 236])"
      ]
     },
     "metadata": {},
     "output_type": "display_data"
    },
    {
     "data": {
      "text/plain": [
       "0      656\n",
       "36      29\n",
       "48      22\n",
       "20      21\n",
       "40      19\n",
       "      ... \n",
       "159      1\n",
       "156      1\n",
       "148      1\n",
       "142      1\n",
       "119      1\n",
       "Name: OpenPorchSF, Length: 202, dtype: int64"
      ]
     },
     "metadata": {},
     "output_type": "display_data"
    },
    {
     "name": "stdout",
     "output_type": "stream",
     "text": [
      "Information for column number 30 is below:\n"
     ]
    },
    {
     "data": {
      "text/plain": [
       "count    1460.000000\n",
       "mean       21.954110\n",
       "std        61.119149\n",
       "min         0.000000\n",
       "25%         0.000000\n",
       "50%         0.000000\n",
       "75%         0.000000\n",
       "max       552.000000\n",
       "Name: EnclosedPorch, dtype: float64"
      ]
     },
     "metadata": {},
     "output_type": "display_data"
    },
    {
     "data": {
      "text/plain": [
       "array([  0, 272, 228, 205, 176,  87, 172, 102,  37, 144,  64, 114, 202,\n",
       "       128, 156,  44,  77, 192, 140, 180, 183,  39, 184,  40, 552,  30,\n",
       "       126,  96,  60, 150, 120, 112, 252,  52, 224, 234, 244, 268, 137,\n",
       "        24, 108, 294, 177, 218, 242,  91, 160, 130, 169, 105,  34, 248,\n",
       "       236,  32,  80, 115, 291, 116, 158, 210,  36, 200,  84, 148, 136,\n",
       "       240,  54, 100, 189, 293, 164, 216, 239,  67,  90,  56, 129,  98,\n",
       "       143,  70, 386, 154, 185, 134, 196, 264, 275, 230, 254,  68, 194,\n",
       "       318,  48,  94, 138, 226, 174,  19, 170, 220, 214, 280, 190, 330,\n",
       "       208, 145, 259,  81,  42, 123, 162, 286, 168,  20, 301, 198, 221,\n",
       "       212,  50,  99])"
      ]
     },
     "metadata": {},
     "output_type": "display_data"
    },
    {
     "data": {
      "text/plain": [
       "0      1252\n",
       "112      15\n",
       "96        6\n",
       "120       5\n",
       "144       5\n",
       "       ... \n",
       "174       1\n",
       "177       1\n",
       "183       1\n",
       "189       1\n",
       "552       1\n",
       "Name: EnclosedPorch, Length: 120, dtype: int64"
      ]
     },
     "metadata": {},
     "output_type": "display_data"
    },
    {
     "name": "stdout",
     "output_type": "stream",
     "text": [
      "Information for column number 31 is below:\n"
     ]
    },
    {
     "data": {
      "text/plain": [
       "count    1460.000000\n",
       "mean        3.409589\n",
       "std        29.317331\n",
       "min         0.000000\n",
       "25%         0.000000\n",
       "50%         0.000000\n",
       "75%         0.000000\n",
       "max       508.000000\n",
       "Name: 3SsnPorch, dtype: float64"
      ]
     },
     "metadata": {},
     "output_type": "display_data"
    },
    {
     "data": {
      "text/plain": [
       "array([  0, 320, 407, 130, 180, 168, 140, 508, 238, 245, 196, 144, 182,\n",
       "       162,  23, 216,  96, 153, 290, 304])"
      ]
     },
     "metadata": {},
     "output_type": "display_data"
    },
    {
     "data": {
      "text/plain": [
       "0      1436\n",
       "168       3\n",
       "216       2\n",
       "144       2\n",
       "180       2\n",
       "245       1\n",
       "238       1\n",
       "290       1\n",
       "196       1\n",
       "182       1\n",
       "407       1\n",
       "304       1\n",
       "162       1\n",
       "153       1\n",
       "320       1\n",
       "140       1\n",
       "130       1\n",
       "96        1\n",
       "23        1\n",
       "508       1\n",
       "Name: 3SsnPorch, dtype: int64"
      ]
     },
     "metadata": {},
     "output_type": "display_data"
    },
    {
     "name": "stdout",
     "output_type": "stream",
     "text": [
      "Information for column number 32 is below:\n"
     ]
    },
    {
     "data": {
      "text/plain": [
       "count    1460.000000\n",
       "mean       15.060959\n",
       "std        55.757415\n",
       "min         0.000000\n",
       "25%         0.000000\n",
       "50%         0.000000\n",
       "75%         0.000000\n",
       "max       480.000000\n",
       "Name: ScreenPorch, dtype: float64"
      ]
     },
     "metadata": {},
     "output_type": "display_data"
    },
    {
     "data": {
      "text/plain": [
       "array([  0, 176, 198, 291, 252,  99, 184, 168, 130, 142, 192, 410, 224,\n",
       "       266, 170, 154, 153, 144, 128, 259, 160, 271, 234, 374, 185, 182,\n",
       "        90, 396, 140, 276, 180, 161, 145, 200, 122,  95, 120,  60, 126,\n",
       "       189, 260, 147, 385, 287, 156, 100, 216, 210, 197, 204, 225, 152,\n",
       "       175, 312, 222, 265, 322, 190, 233,  63,  53, 143, 273, 288, 263,\n",
       "        80, 163, 116, 480, 178, 440, 155, 220, 119, 165,  40])"
      ]
     },
     "metadata": {},
     "output_type": "display_data"
    },
    {
     "data": {
      "text/plain": [
       "0      1344\n",
       "192       6\n",
       "224       5\n",
       "120       5\n",
       "189       4\n",
       "       ... \n",
       "182       1\n",
       "440       1\n",
       "178       1\n",
       "312       1\n",
       "480       1\n",
       "Name: ScreenPorch, Length: 76, dtype: int64"
      ]
     },
     "metadata": {},
     "output_type": "display_data"
    },
    {
     "name": "stdout",
     "output_type": "stream",
     "text": [
      "Information for column number 33 is below:\n"
     ]
    },
    {
     "data": {
      "text/plain": [
       "count    1460.000000\n",
       "mean        2.758904\n",
       "std        40.177307\n",
       "min         0.000000\n",
       "25%         0.000000\n",
       "50%         0.000000\n",
       "75%         0.000000\n",
       "max       738.000000\n",
       "Name: PoolArea, dtype: float64"
      ]
     },
     "metadata": {},
     "output_type": "display_data"
    },
    {
     "data": {
      "text/plain": [
       "array([  0, 512, 648, 576, 555, 480, 519, 738])"
      ]
     },
     "metadata": {},
     "output_type": "display_data"
    },
    {
     "data": {
      "text/plain": [
       "0      1453\n",
       "738       1\n",
       "648       1\n",
       "576       1\n",
       "555       1\n",
       "519       1\n",
       "512       1\n",
       "480       1\n",
       "Name: PoolArea, dtype: int64"
      ]
     },
     "metadata": {},
     "output_type": "display_data"
    },
    {
     "name": "stdout",
     "output_type": "stream",
     "text": [
      "Information for column number 34 is below:\n"
     ]
    },
    {
     "data": {
      "text/plain": [
       "count     1460.000000\n",
       "mean        43.489041\n",
       "std        496.123024\n",
       "min          0.000000\n",
       "25%          0.000000\n",
       "50%          0.000000\n",
       "75%          0.000000\n",
       "max      15500.000000\n",
       "Name: MiscVal, dtype: float64"
      ]
     },
     "metadata": {},
     "output_type": "display_data"
    },
    {
     "data": {
      "text/plain": [
       "array([    0,   700,   350,   500,   400,   480,   450, 15500,  1200,\n",
       "         800,  2000,   600,  3500,  1300,    54,   620,   560,  1400,\n",
       "        8300,  1150,  2500])"
      ]
     },
     "metadata": {},
     "output_type": "display_data"
    },
    {
     "data": {
      "text/plain": [
       "0        1408\n",
       "400        11\n",
       "500         8\n",
       "700         5\n",
       "450         4\n",
       "2000        4\n",
       "600         4\n",
       "1200        2\n",
       "480         2\n",
       "1150        1\n",
       "800         1\n",
       "15500       1\n",
       "620         1\n",
       "3500        1\n",
       "560         1\n",
       "2500        1\n",
       "1300        1\n",
       "1400        1\n",
       "350         1\n",
       "8300        1\n",
       "54          1\n",
       "Name: MiscVal, dtype: int64"
      ]
     },
     "metadata": {},
     "output_type": "display_data"
    },
    {
     "name": "stdout",
     "output_type": "stream",
     "text": [
      "Information for column number 35 is below:\n"
     ]
    },
    {
     "data": {
      "text/plain": [
       "count    1460.000000\n",
       "mean        6.321918\n",
       "std         2.703626\n",
       "min         1.000000\n",
       "25%         5.000000\n",
       "50%         6.000000\n",
       "75%         8.000000\n",
       "max        12.000000\n",
       "Name: MoSold, dtype: float64"
      ]
     },
     "metadata": {},
     "output_type": "display_data"
    },
    {
     "data": {
      "text/plain": [
       "array([ 2,  5,  9, 12, 10,  8, 11,  4,  1,  7,  3,  6])"
      ]
     },
     "metadata": {},
     "output_type": "display_data"
    },
    {
     "data": {
      "text/plain": [
       "6     253\n",
       "7     234\n",
       "5     204\n",
       "4     141\n",
       "8     122\n",
       "3     106\n",
       "10     89\n",
       "11     79\n",
       "9      63\n",
       "12     59\n",
       "1      58\n",
       "2      52\n",
       "Name: MoSold, dtype: int64"
      ]
     },
     "metadata": {},
     "output_type": "display_data"
    },
    {
     "name": "stdout",
     "output_type": "stream",
     "text": [
      "Information for column number 36 is below:\n"
     ]
    },
    {
     "data": {
      "text/plain": [
       "count    1460.000000\n",
       "mean     2007.815753\n",
       "std         1.328095\n",
       "min      2006.000000\n",
       "25%      2007.000000\n",
       "50%      2008.000000\n",
       "75%      2009.000000\n",
       "max      2010.000000\n",
       "Name: YrSold, dtype: float64"
      ]
     },
     "metadata": {},
     "output_type": "display_data"
    },
    {
     "data": {
      "text/plain": [
       "array([2008, 2007, 2006, 2009, 2010])"
      ]
     },
     "metadata": {},
     "output_type": "display_data"
    },
    {
     "data": {
      "text/plain": [
       "2009    338\n",
       "2007    329\n",
       "2006    314\n",
       "2008    304\n",
       "2010    175\n",
       "Name: YrSold, dtype: int64"
      ]
     },
     "metadata": {},
     "output_type": "display_data"
    },
    {
     "name": "stdout",
     "output_type": "stream",
     "text": [
      "Information for column number 37 is below:\n"
     ]
    },
    {
     "data": {
      "text/plain": [
       "count      1460.000000\n",
       "mean     180921.195890\n",
       "std       79442.502883\n",
       "min       34900.000000\n",
       "25%      129975.000000\n",
       "50%      163000.000000\n",
       "75%      214000.000000\n",
       "max      755000.000000\n",
       "Name: SalePrice, dtype: float64"
      ]
     },
     "metadata": {},
     "output_type": "display_data"
    },
    {
     "data": {
      "text/plain": [
       "array([208500, 181500, 223500, 140000, 250000, 143000, 307000, 200000,\n",
       "       129900, 118000, 129500, 345000, 144000, 279500, 157000, 132000,\n",
       "       149000,  90000, 159000, 139000, 325300, 139400, 230000, 154000,\n",
       "       256300, 134800, 306000, 207500,  68500,  40000, 149350, 179900,\n",
       "       165500, 277500, 309000, 145000, 153000, 109000,  82000, 160000,\n",
       "       170000, 130250, 141000, 319900, 239686, 249700, 113000, 127000,\n",
       "       177000, 114500, 110000, 385000, 130000, 180500, 172500, 196500,\n",
       "       438780, 124900, 158000, 101000, 202500, 219500, 317000, 180000,\n",
       "       226000,  80000, 225000, 244000, 185000, 144900, 107400,  91000,\n",
       "       135750, 136500, 193500, 153500, 245000, 126500, 168500, 260000,\n",
       "       174000, 164500,  85000, 123600, 109900,  98600, 163500, 133900,\n",
       "       204750, 214000,  94750,  83000, 128950, 205000, 178000, 118964,\n",
       "       198900, 169500, 100000, 115000, 190000, 136900, 383970, 217000,\n",
       "       259500, 176000, 155000, 320000, 163990, 136000, 153900, 181000,\n",
       "        84500, 128000,  87000, 150000, 150750, 220000, 171000, 231500,\n",
       "       166000, 204000, 125000, 105000, 222500, 122000, 372402, 235000,\n",
       "        79000, 109500, 269500, 254900, 162500, 412500, 103200, 152000,\n",
       "       127500, 325624, 183500, 228000, 128500, 215000, 239000, 163000,\n",
       "       184000, 243000, 211000, 501837, 200100, 120000, 475000, 173000,\n",
       "       135000, 153337, 286000, 315000, 192000, 148500, 311872, 104000,\n",
       "       274900, 171500, 112000, 143900, 277000,  98000, 186000, 252678,\n",
       "       156000, 161750, 134450, 210000, 107000, 311500, 167240, 204900,\n",
       "        97000, 386250, 290000, 106000, 192500, 148000, 403000,  94500,\n",
       "       128200, 216500,  89500, 185500, 194500, 318000, 262500, 110500,\n",
       "       241500, 137000,  76500, 276000, 151000,  73000, 175500, 179500,\n",
       "       120500, 266000, 124500, 201000, 415298, 228500, 244600, 179200,\n",
       "       164700,  88000, 153575, 233230, 135900, 131000, 167000, 142500,\n",
       "       175000, 158500, 267000, 149900, 295000, 305900,  82500, 360000,\n",
       "       165600, 119900, 375000, 188500, 270000, 187500, 342643, 354000,\n",
       "       301000, 126175, 242000, 324000, 145250, 214500,  78000, 119000,\n",
       "       284000, 207000, 228950, 377426, 202900,  87500, 140200, 151500,\n",
       "       157500, 437154, 318061,  95000, 105900, 177500, 134000, 280000,\n",
       "       198500, 147000, 165000, 162000, 172400, 134432, 123000,  61000,\n",
       "       340000, 394432, 179000, 187750, 213500,  76000, 240000,  81000,\n",
       "       191000, 426000, 106500, 129000,  67000, 241000, 245500, 164990,\n",
       "       108000, 258000, 168000, 339750,  60000, 222000, 181134, 149500,\n",
       "       126000, 142000, 206300, 275000, 109008, 195400,  85400,  79900,\n",
       "       122500, 212000, 116000,  90350, 555000, 162900, 199900, 119500,\n",
       "       188000, 256000, 161000, 263435,  62383, 188700, 124000, 178740,\n",
       "       146500, 187000, 440000, 251000, 132500, 208900, 380000, 297000,\n",
       "        89471, 326000, 374000, 164000,  86000, 133000, 172785,  91300,\n",
       "        34900, 430000, 226700, 289000, 208300, 164900, 202665,  96500,\n",
       "       402861, 265000, 234000, 106250, 184750, 315750, 446261, 200624,\n",
       "       107500,  39300, 111250, 272000, 248000, 213250, 179665, 229000,\n",
       "       263000, 112500, 255500, 121500, 268000, 325000, 316600, 135960,\n",
       "       142600, 224500, 118500, 146000, 131500, 181900, 253293, 369900,\n",
       "        79500, 185900, 451950, 138000, 319000, 114504, 194201, 217500,\n",
       "       221000, 359100, 313000, 261500,  75500, 137500, 183200, 105500,\n",
       "       314813, 305000, 165150, 139900, 209500,  93000, 264561, 274000,\n",
       "       370878, 143250,  98300, 205950, 350000, 145500,  97500, 197900,\n",
       "       402000, 423000, 230500, 173500, 103600, 257500, 372500, 159434,\n",
       "       285000, 227875, 148800, 392000, 194700, 755000, 335000, 108480,\n",
       "       141500,  89000, 123500, 138500, 196000, 312500, 361919, 213000,\n",
       "        55000, 302000, 254000, 179540,  52000, 102776, 189000, 130500,\n",
       "       159500, 341000, 103000, 236500, 131400,  93500, 239900, 299800,\n",
       "       236000, 265979, 260400, 275500, 158900, 179400, 215200, 337000,\n",
       "       264132, 216837, 538000, 134900, 102000, 395000, 221500, 175900,\n",
       "       187100, 161500, 233000, 107900, 160200, 146800, 269790, 143500,\n",
       "       485000, 582933, 227680, 135500, 159950, 144500,  55993, 157900,\n",
       "       224900, 271000, 224000, 183000, 139500, 232600, 147400, 237000,\n",
       "       139950, 174900, 133500, 189950, 250580, 248900, 169000, 200500,\n",
       "        66500, 303477, 132250, 328900, 122900, 154500, 118858, 142953,\n",
       "       611657, 125500, 255000, 154300, 173733,  75000,  35311, 238000,\n",
       "       176500, 145900, 169990, 193000, 117500, 184900, 253000, 239799,\n",
       "       244400, 150900, 197500, 172000, 116500, 214900, 178900,  37900,\n",
       "        99500, 182000, 167500,  85500, 178400, 336000, 159895, 255900,\n",
       "       117000, 395192, 195000, 197000, 348000, 173900, 337500, 121600,\n",
       "       206000, 232000, 136905, 119200, 227000, 203000, 213490, 194000,\n",
       "       287000, 293077, 310000, 119750,  84000, 315500, 262280, 278000,\n",
       "       139600, 556581,  84900, 176485, 200141, 185850, 328000, 167900,\n",
       "       151400,  91500, 138800, 155900,  83500, 252000,  92900, 176432,\n",
       "       274725, 134500, 184100, 133700, 118400, 212900, 163900, 259000,\n",
       "       239500,  94000, 424870, 174500, 116900, 201800, 218000, 235128,\n",
       "       108959, 233170, 245350, 625000, 171900, 154900, 392500, 745000,\n",
       "       186700, 104900, 262000, 219210, 116050, 271900, 229456,  80500,\n",
       "       137900, 367294, 101800, 138887, 265900, 248328, 465000, 186500,\n",
       "       169900, 171750, 294000, 165400, 301500,  99900, 128900, 183900,\n",
       "       378500, 381000, 185750,  68400, 150500, 281000, 333168, 206900,\n",
       "       295493, 111000, 156500,  72500,  52500, 155835, 108500, 283463,\n",
       "       410000, 156932, 144152, 216000, 274300, 466500,  58500, 237500,\n",
       "       377500, 246578, 281213, 137450, 193879, 282922, 257000, 223000,\n",
       "       274970, 182900, 192140, 143750,  64500, 394617, 149700, 149300,\n",
       "       121000, 179600,  92000, 287090, 266500, 142125, 147500])"
      ]
     },
     "metadata": {},
     "output_type": "display_data"
    },
    {
     "data": {
      "text/plain": [
       "140000    20\n",
       "135000    17\n",
       "145000    14\n",
       "155000    14\n",
       "190000    13\n",
       "          ..\n",
       "84900      1\n",
       "424870     1\n",
       "415298     1\n",
       "62383      1\n",
       "34900      1\n",
       "Name: SalePrice, Length: 663, dtype: int64"
      ]
     },
     "metadata": {},
     "output_type": "display_data"
    }
   ],
   "source": [
    "data_num = data.select_dtypes(include=np.number)\n",
    "print(\"Number of columns to check is {}.\\n\\n\".format(len(data_num.columns)))\n",
    "\n",
    "print(\"*** Let's loop ***\\n\\n\")\n",
    "i = 0\n",
    "for curr_column in data_num.columns.tolist():\n",
    "    print(\"Information for column number {} is below:\".format(i))\n",
    "    check_any_column(curr_column)\n",
    "    i += 1"
   ]
  },
  {
   "cell_type": "code",
   "execution_count": 52,
   "metadata": {
    "scrolled": true
   },
   "outputs": [
    {
     "name": "stdout",
     "output_type": "stream",
     "text": [
      "['Id', 'MSSubClass', 'LotFrontage', 'LotArea', 'OverallQual', 'OverallCond', 'YearBuilt', 'YearRemodAdd', 'MasVnrArea', 'BsmtFinSF1', 'BsmtFinSF2', 'BsmtUnfSF', 'TotalBsmtSF', '1stFlrSF', '2ndFlrSF', 'LowQualFinSF', 'GrLivArea', 'BsmtFullBath', 'BsmtHalfBath', 'FullBath', 'HalfBath', 'BedroomAbvGr', 'KitchenAbvGr', 'TotRmsAbvGrd', 'Fireplaces', 'GarageYrBlt', 'GarageCars', 'GarageArea', 'WoodDeckSF', 'OpenPorchSF', 'EnclosedPorch', '3SsnPorch', 'ScreenPorch', 'PoolArea', 'MiscVal', 'MoSold', 'YrSold', 'SalePrice']\n"
     ]
    }
   ],
   "source": [
    "print(data_num.columns.tolist())"
   ]
  },
  {
   "cell_type": "markdown",
   "metadata": {},
   "source": [
    "#### Ideas    \n",
    "    \n",
    "1. Create new columns with ages:\n",
    "    1. AgeAtSale column (= YrSold - YearBuilt)\n",
    "    1. RemodAge (= YrSold - YearRemodAdd)\n",
    "    1. GarrageAge (= YrSold - GarageYrBlt)\n",
    "    \n",
    "  \n",
    "2. Special columns that shouldn't be interpreted as plain numbers:<br>\n",
    "=> let's one-hot encode them\n",
    "    1. MSSubClass: The building class\n",
    "    1. MoSold: Month sold\n"
   ]
  },
  {
   "cell_type": "code",
   "execution_count": 53,
   "metadata": {},
   "outputs": [
    {
     "name": "stdout",
     "output_type": "stream",
     "text": [
      "<class 'pandas.core.frame.DataFrame'>\n",
      "RangeIndex: 1460 entries, 0 to 1459\n",
      "Data columns (total 78 columns):\n",
      " #   Column         Non-Null Count  Dtype  \n",
      "---  ------         --------------  -----  \n",
      " 0   Id             1460 non-null   int64  \n",
      " 1   MSSubClass     1460 non-null   int64  \n",
      " 2   MSZoning       1460 non-null   object \n",
      " 3   LotFrontage    1460 non-null   float64\n",
      " 4   LotArea        1460 non-null   int64  \n",
      " 5   Street         1460 non-null   object \n",
      " 6   LotShape       1460 non-null   object \n",
      " 7   LandContour    1460 non-null   object \n",
      " 8   Utilities      1460 non-null   object \n",
      " 9   LotConfig      1460 non-null   object \n",
      " 10  LandSlope      1460 non-null   object \n",
      " 11  Neighborhood   1460 non-null   object \n",
      " 12  Condition1     1460 non-null   object \n",
      " 13  Condition2     1460 non-null   object \n",
      " 14  BldgType       1460 non-null   object \n",
      " 15  HouseStyle     1460 non-null   object \n",
      " 16  OverallQual    1460 non-null   int64  \n",
      " 17  OverallCond    1460 non-null   int64  \n",
      " 18  YearBuilt      1460 non-null   int64  \n",
      " 19  YearRemodAdd   1460 non-null   int64  \n",
      " 20  RoofStyle      1460 non-null   object \n",
      " 21  RoofMatl       1460 non-null   object \n",
      " 22  Exterior1st    1460 non-null   object \n",
      " 23  Exterior2nd    1460 non-null   object \n",
      " 24  MasVnrArea     1460 non-null   float64\n",
      " 25  ExterQual      1460 non-null   object \n",
      " 26  ExterCond      1460 non-null   object \n",
      " 27  Foundation     1460 non-null   object \n",
      " 28  BsmtQual       1460 non-null   object \n",
      " 29  BsmtCond       1460 non-null   object \n",
      " 30  BsmtExposure   1460 non-null   object \n",
      " 31  BsmtFinType1   1460 non-null   object \n",
      " 32  BsmtFinSF1     1460 non-null   int64  \n",
      " 33  BsmtFinType2   1460 non-null   object \n",
      " 34  BsmtFinSF2     1460 non-null   int64  \n",
      " 35  BsmtUnfSF      1460 non-null   int64  \n",
      " 36  TotalBsmtSF    1460 non-null   int64  \n",
      " 37  Heating        1460 non-null   object \n",
      " 38  HeatingQC      1460 non-null   object \n",
      " 39  CentralAir     1460 non-null   object \n",
      " 40  Electrical     1460 non-null   object \n",
      " 41  1stFlrSF       1460 non-null   int64  \n",
      " 42  2ndFlrSF       1460 non-null   int64  \n",
      " 43  LowQualFinSF   1460 non-null   int64  \n",
      " 44  GrLivArea      1460 non-null   int64  \n",
      " 45  BsmtFullBath   1460 non-null   int64  \n",
      " 46  BsmtHalfBath   1460 non-null   int64  \n",
      " 47  FullBath       1460 non-null   int64  \n",
      " 48  HalfBath       1460 non-null   int64  \n",
      " 49  BedroomAbvGr   1460 non-null   int64  \n",
      " 50  KitchenAbvGr   1460 non-null   int64  \n",
      " 51  KitchenQual    1460 non-null   object \n",
      " 52  TotRmsAbvGrd   1460 non-null   int64  \n",
      " 53  Functional     1460 non-null   object \n",
      " 54  Fireplaces     1460 non-null   int64  \n",
      " 55  GarageType     1460 non-null   object \n",
      " 56  GarageYrBlt    1460 non-null   float64\n",
      " 57  GarageFinish   1460 non-null   object \n",
      " 58  GarageCars     1460 non-null   int64  \n",
      " 59  GarageArea     1460 non-null   int64  \n",
      " 60  GarageQual     1460 non-null   object \n",
      " 61  GarageCond     1460 non-null   object \n",
      " 62  PavedDrive     1460 non-null   object \n",
      " 63  WoodDeckSF     1460 non-null   int64  \n",
      " 64  OpenPorchSF    1460 non-null   int64  \n",
      " 65  EnclosedPorch  1460 non-null   int64  \n",
      " 66  3SsnPorch      1460 non-null   int64  \n",
      " 67  ScreenPorch    1460 non-null   int64  \n",
      " 68  PoolArea       1460 non-null   int64  \n",
      " 69  MiscVal        1460 non-null   int64  \n",
      " 70  MoSold         1460 non-null   int64  \n",
      " 71  YrSold         1460 non-null   int64  \n",
      " 72  SaleType       1460 non-null   object \n",
      " 73  SaleCondition  1460 non-null   object \n",
      " 74  SalePrice      1460 non-null   int64  \n",
      " 75  AgeAtSale      1460 non-null   int64  \n",
      " 76  RemodAge       1460 non-null   int64  \n",
      " 77  GarageAge      1460 non-null   float64\n",
      "dtypes: float64(4), int64(37), object(37)\n",
      "memory usage: 889.8+ KB\n"
     ]
    },
    {
     "name": "stderr",
     "output_type": "stream",
     "text": [
      "<ipython-input-53-394808c78a34>:1: SettingWithCopyWarning: \n",
      "A value is trying to be set on a copy of a slice from a DataFrame.\n",
      "Try using .loc[row_indexer,col_indexer] = value instead\n",
      "\n",
      "See the caveats in the documentation: https://pandas.pydata.org/pandas-docs/stable/user_guide/indexing.html#returning-a-view-versus-a-copy\n",
      "  data['AgeAtSale'] = data['YrSold'] - data['YearBuilt']\n",
      "<ipython-input-53-394808c78a34>:2: SettingWithCopyWarning: \n",
      "A value is trying to be set on a copy of a slice from a DataFrame.\n",
      "Try using .loc[row_indexer,col_indexer] = value instead\n",
      "\n",
      "See the caveats in the documentation: https://pandas.pydata.org/pandas-docs/stable/user_guide/indexing.html#returning-a-view-versus-a-copy\n",
      "  data['RemodAge'] = data['YrSold'] - data['YearRemodAdd']\n",
      "<ipython-input-53-394808c78a34>:3: SettingWithCopyWarning: \n",
      "A value is trying to be set on a copy of a slice from a DataFrame.\n",
      "Try using .loc[row_indexer,col_indexer] = value instead\n",
      "\n",
      "See the caveats in the documentation: https://pandas.pydata.org/pandas-docs/stable/user_guide/indexing.html#returning-a-view-versus-a-copy\n",
      "  data['GarageAge'] = data['YrSold'] - data['GarageYrBlt']\n"
     ]
    }
   ],
   "source": [
    "data['AgeAtSale'] = data['YrSold'] - data['YearBuilt']\n",
    "data['RemodAge'] = data['YrSold'] - data['YearRemodAdd']\n",
    "data['GarageAge'] = data['YrSold'] - data['GarageYrBlt']\n",
    "\n",
    "data.info()"
   ]
  },
  {
   "cell_type": "code",
   "execution_count": 54,
   "metadata": {
    "scrolled": true
   },
   "outputs": [
    {
     "data": {
      "text/plain": [
       "20     536\n",
       "60     299\n",
       "50     144\n",
       "120     87\n",
       "30      69\n",
       "160     63\n",
       "70      60\n",
       "80      58\n",
       "90      52\n",
       "190     30\n",
       "85      20\n",
       "75      16\n",
       "45      12\n",
       "180     10\n",
       "40       4\n",
       "Name: MSSubClass, dtype: int64"
      ]
     },
     "execution_count": 54,
     "metadata": {},
     "output_type": "execute_result"
    }
   ],
   "source": [
    "data['MSSubClass'].value_counts()"
   ]
  },
  {
   "cell_type": "code",
   "execution_count": 55,
   "metadata": {
    "scrolled": true
   },
   "outputs": [
    {
     "data": {
      "text/plain": [
       "6     253\n",
       "7     234\n",
       "5     204\n",
       "4     141\n",
       "8     122\n",
       "3     106\n",
       "10     89\n",
       "11     79\n",
       "9      63\n",
       "12     59\n",
       "1      58\n",
       "2      52\n",
       "Name: MoSold, dtype: int64"
      ]
     },
     "execution_count": 55,
     "metadata": {},
     "output_type": "execute_result"
    }
   ],
   "source": [
    "data['MoSold'].value_counts()"
   ]
  },
  {
   "cell_type": "markdown",
   "metadata": {},
   "source": [
    "## Let's neaten the non-numeric columns\n",
    "One-hot encode"
   ]
  },
  {
   "cell_type": "markdown",
   "metadata": {},
   "source": [
    "#### Let's inspect the non-numeric data"
   ]
  },
  {
   "cell_type": "code",
   "execution_count": 56,
   "metadata": {},
   "outputs": [],
   "source": [
    "def check_any_column(curr_column):\n",
    "\n",
    "    display(data[curr_column].describe())\n",
    "    display(data[curr_column].unique())\n",
    "    display(data[curr_column].value_counts(dropna=False))\n",
    "\n",
    "#     how many null values we have\n",
    "#     print(\"Number of null values in {} is {}.\".format(curr_column, data[curr_column].isnull().sum()))"
   ]
  },
  {
   "cell_type": "code",
   "execution_count": 57,
   "metadata": {},
   "outputs": [
    {
     "name": "stdout",
     "output_type": "stream",
     "text": [
      "Number of columns to check is 37.\n",
      "\n",
      "\n",
      "['MSZoning', 'Street', 'LotShape', 'LandContour', 'Utilities', 'LotConfig', 'LandSlope', 'Neighborhood', 'Condition1', 'Condition2', 'BldgType', 'HouseStyle', 'RoofStyle', 'RoofMatl', 'Exterior1st', 'Exterior2nd', 'ExterQual', 'ExterCond', 'Foundation', 'BsmtQual', 'BsmtCond', 'BsmtExposure', 'BsmtFinType1', 'BsmtFinType2', 'Heating', 'HeatingQC', 'CentralAir', 'Electrical', 'KitchenQual', 'Functional', 'GarageType', 'GarageFinish', 'GarageQual', 'GarageCond', 'PavedDrive', 'SaleType', 'SaleCondition'] \n",
      "\n",
      "\n",
      "*** Let's loop ***\n",
      "\n",
      "\n",
      "Information for column number 0 is below:\n"
     ]
    },
    {
     "data": {
      "text/plain": [
       "count     1460\n",
       "unique       5\n",
       "top         RL\n",
       "freq      1151\n",
       "Name: MSZoning, dtype: object"
      ]
     },
     "metadata": {},
     "output_type": "display_data"
    },
    {
     "data": {
      "text/plain": [
       "array(['RL', 'RM', 'C (all)', 'FV', 'RH'], dtype=object)"
      ]
     },
     "metadata": {},
     "output_type": "display_data"
    },
    {
     "data": {
      "text/plain": [
       "RL         1151\n",
       "RM          218\n",
       "FV           65\n",
       "RH           16\n",
       "C (all)      10\n",
       "Name: MSZoning, dtype: int64"
      ]
     },
     "metadata": {},
     "output_type": "display_data"
    },
    {
     "name": "stdout",
     "output_type": "stream",
     "text": [
      "Information for column number 1 is below:\n"
     ]
    },
    {
     "data": {
      "text/plain": [
       "count     1460\n",
       "unique       2\n",
       "top       Pave\n",
       "freq      1454\n",
       "Name: Street, dtype: object"
      ]
     },
     "metadata": {},
     "output_type": "display_data"
    },
    {
     "data": {
      "text/plain": [
       "array(['Pave', 'Grvl'], dtype=object)"
      ]
     },
     "metadata": {},
     "output_type": "display_data"
    },
    {
     "data": {
      "text/plain": [
       "Pave    1454\n",
       "Grvl       6\n",
       "Name: Street, dtype: int64"
      ]
     },
     "metadata": {},
     "output_type": "display_data"
    },
    {
     "name": "stdout",
     "output_type": "stream",
     "text": [
      "Information for column number 2 is below:\n"
     ]
    },
    {
     "data": {
      "text/plain": [
       "count     1460\n",
       "unique       4\n",
       "top        Reg\n",
       "freq       925\n",
       "Name: LotShape, dtype: object"
      ]
     },
     "metadata": {},
     "output_type": "display_data"
    },
    {
     "data": {
      "text/plain": [
       "array(['Reg', 'IR1', 'IR2', 'IR3'], dtype=object)"
      ]
     },
     "metadata": {},
     "output_type": "display_data"
    },
    {
     "data": {
      "text/plain": [
       "Reg    925\n",
       "IR1    484\n",
       "IR2     41\n",
       "IR3     10\n",
       "Name: LotShape, dtype: int64"
      ]
     },
     "metadata": {},
     "output_type": "display_data"
    },
    {
     "name": "stdout",
     "output_type": "stream",
     "text": [
      "Information for column number 3 is below:\n"
     ]
    },
    {
     "data": {
      "text/plain": [
       "count     1460\n",
       "unique       4\n",
       "top        Lvl\n",
       "freq      1311\n",
       "Name: LandContour, dtype: object"
      ]
     },
     "metadata": {},
     "output_type": "display_data"
    },
    {
     "data": {
      "text/plain": [
       "array(['Lvl', 'Bnk', 'Low', 'HLS'], dtype=object)"
      ]
     },
     "metadata": {},
     "output_type": "display_data"
    },
    {
     "data": {
      "text/plain": [
       "Lvl    1311\n",
       "Bnk      63\n",
       "HLS      50\n",
       "Low      36\n",
       "Name: LandContour, dtype: int64"
      ]
     },
     "metadata": {},
     "output_type": "display_data"
    },
    {
     "name": "stdout",
     "output_type": "stream",
     "text": [
      "Information for column number 4 is below:\n"
     ]
    },
    {
     "data": {
      "text/plain": [
       "count       1460\n",
       "unique         2\n",
       "top       AllPub\n",
       "freq        1459\n",
       "Name: Utilities, dtype: object"
      ]
     },
     "metadata": {},
     "output_type": "display_data"
    },
    {
     "data": {
      "text/plain": [
       "array(['AllPub', 'NoSeWa'], dtype=object)"
      ]
     },
     "metadata": {},
     "output_type": "display_data"
    },
    {
     "data": {
      "text/plain": [
       "AllPub    1459\n",
       "NoSeWa       1\n",
       "Name: Utilities, dtype: int64"
      ]
     },
     "metadata": {},
     "output_type": "display_data"
    },
    {
     "name": "stdout",
     "output_type": "stream",
     "text": [
      "Information for column number 5 is below:\n"
     ]
    },
    {
     "data": {
      "text/plain": [
       "count       1460\n",
       "unique         5\n",
       "top       Inside\n",
       "freq        1052\n",
       "Name: LotConfig, dtype: object"
      ]
     },
     "metadata": {},
     "output_type": "display_data"
    },
    {
     "data": {
      "text/plain": [
       "array(['Inside', 'FR2', 'Corner', 'CulDSac', 'FR3'], dtype=object)"
      ]
     },
     "metadata": {},
     "output_type": "display_data"
    },
    {
     "data": {
      "text/plain": [
       "Inside     1052\n",
       "Corner      263\n",
       "CulDSac      94\n",
       "FR2          47\n",
       "FR3           4\n",
       "Name: LotConfig, dtype: int64"
      ]
     },
     "metadata": {},
     "output_type": "display_data"
    },
    {
     "name": "stdout",
     "output_type": "stream",
     "text": [
      "Information for column number 6 is below:\n"
     ]
    },
    {
     "data": {
      "text/plain": [
       "count     1460\n",
       "unique       3\n",
       "top        Gtl\n",
       "freq      1382\n",
       "Name: LandSlope, dtype: object"
      ]
     },
     "metadata": {},
     "output_type": "display_data"
    },
    {
     "data": {
      "text/plain": [
       "array(['Gtl', 'Mod', 'Sev'], dtype=object)"
      ]
     },
     "metadata": {},
     "output_type": "display_data"
    },
    {
     "data": {
      "text/plain": [
       "Gtl    1382\n",
       "Mod      65\n",
       "Sev      13\n",
       "Name: LandSlope, dtype: int64"
      ]
     },
     "metadata": {},
     "output_type": "display_data"
    },
    {
     "name": "stdout",
     "output_type": "stream",
     "text": [
      "Information for column number 7 is below:\n"
     ]
    },
    {
     "data": {
      "text/plain": [
       "count      1460\n",
       "unique       25\n",
       "top       NAmes\n",
       "freq        225\n",
       "Name: Neighborhood, dtype: object"
      ]
     },
     "metadata": {},
     "output_type": "display_data"
    },
    {
     "data": {
      "text/plain": [
       "array(['CollgCr', 'Veenker', 'Crawfor', 'NoRidge', 'Mitchel', 'Somerst',\n",
       "       'NWAmes', 'OldTown', 'BrkSide', 'Sawyer', 'NridgHt', 'NAmes',\n",
       "       'SawyerW', 'IDOTRR', 'MeadowV', 'Edwards', 'Timber', 'Gilbert',\n",
       "       'StoneBr', 'ClearCr', 'NPkVill', 'Blmngtn', 'BrDale', 'SWISU',\n",
       "       'Blueste'], dtype=object)"
      ]
     },
     "metadata": {},
     "output_type": "display_data"
    },
    {
     "data": {
      "text/plain": [
       "NAmes      225\n",
       "CollgCr    150\n",
       "OldTown    113\n",
       "Edwards    100\n",
       "Somerst     86\n",
       "Gilbert     79\n",
       "NridgHt     77\n",
       "Sawyer      74\n",
       "NWAmes      73\n",
       "SawyerW     59\n",
       "BrkSide     58\n",
       "Crawfor     51\n",
       "Mitchel     49\n",
       "NoRidge     41\n",
       "Timber      38\n",
       "IDOTRR      37\n",
       "ClearCr     28\n",
       "StoneBr     25\n",
       "SWISU       25\n",
       "Blmngtn     17\n",
       "MeadowV     17\n",
       "BrDale      16\n",
       "Veenker     11\n",
       "NPkVill      9\n",
       "Blueste      2\n",
       "Name: Neighborhood, dtype: int64"
      ]
     },
     "metadata": {},
     "output_type": "display_data"
    },
    {
     "name": "stdout",
     "output_type": "stream",
     "text": [
      "Information for column number 8 is below:\n"
     ]
    },
    {
     "data": {
      "text/plain": [
       "count     1460\n",
       "unique       9\n",
       "top       Norm\n",
       "freq      1260\n",
       "Name: Condition1, dtype: object"
      ]
     },
     "metadata": {},
     "output_type": "display_data"
    },
    {
     "data": {
      "text/plain": [
       "array(['Norm', 'Feedr', 'PosN', 'Artery', 'RRAe', 'RRNn', 'RRAn', 'PosA',\n",
       "       'RRNe'], dtype=object)"
      ]
     },
     "metadata": {},
     "output_type": "display_data"
    },
    {
     "data": {
      "text/plain": [
       "Norm      1260\n",
       "Feedr       81\n",
       "Artery      48\n",
       "RRAn        26\n",
       "PosN        19\n",
       "RRAe        11\n",
       "PosA         8\n",
       "RRNn         5\n",
       "RRNe         2\n",
       "Name: Condition1, dtype: int64"
      ]
     },
     "metadata": {},
     "output_type": "display_data"
    },
    {
     "name": "stdout",
     "output_type": "stream",
     "text": [
      "Information for column number 9 is below:\n"
     ]
    },
    {
     "data": {
      "text/plain": [
       "count     1460\n",
       "unique       8\n",
       "top       Norm\n",
       "freq      1445\n",
       "Name: Condition2, dtype: object"
      ]
     },
     "metadata": {},
     "output_type": "display_data"
    },
    {
     "data": {
      "text/plain": [
       "array(['Norm', 'Artery', 'RRNn', 'Feedr', 'PosN', 'PosA', 'RRAn', 'RRAe'],\n",
       "      dtype=object)"
      ]
     },
     "metadata": {},
     "output_type": "display_data"
    },
    {
     "data": {
      "text/plain": [
       "Norm      1445\n",
       "Feedr        6\n",
       "Artery       2\n",
       "PosN         2\n",
       "RRNn         2\n",
       "RRAn         1\n",
       "PosA         1\n",
       "RRAe         1\n",
       "Name: Condition2, dtype: int64"
      ]
     },
     "metadata": {},
     "output_type": "display_data"
    },
    {
     "name": "stdout",
     "output_type": "stream",
     "text": [
      "Information for column number 10 is below:\n"
     ]
    },
    {
     "data": {
      "text/plain": [
       "count     1460\n",
       "unique       5\n",
       "top       1Fam\n",
       "freq      1220\n",
       "Name: BldgType, dtype: object"
      ]
     },
     "metadata": {},
     "output_type": "display_data"
    },
    {
     "data": {
      "text/plain": [
       "array(['1Fam', '2fmCon', 'Duplex', 'TwnhsE', 'Twnhs'], dtype=object)"
      ]
     },
     "metadata": {},
     "output_type": "display_data"
    },
    {
     "data": {
      "text/plain": [
       "1Fam      1220\n",
       "TwnhsE     114\n",
       "Duplex      52\n",
       "Twnhs       43\n",
       "2fmCon      31\n",
       "Name: BldgType, dtype: int64"
      ]
     },
     "metadata": {},
     "output_type": "display_data"
    },
    {
     "name": "stdout",
     "output_type": "stream",
     "text": [
      "Information for column number 11 is below:\n"
     ]
    },
    {
     "data": {
      "text/plain": [
       "count       1460\n",
       "unique         8\n",
       "top       1Story\n",
       "freq         726\n",
       "Name: HouseStyle, dtype: object"
      ]
     },
     "metadata": {},
     "output_type": "display_data"
    },
    {
     "data": {
      "text/plain": [
       "array(['2Story', '1Story', '1.5Fin', '1.5Unf', 'SFoyer', 'SLvl', '2.5Unf',\n",
       "       '2.5Fin'], dtype=object)"
      ]
     },
     "metadata": {},
     "output_type": "display_data"
    },
    {
     "data": {
      "text/plain": [
       "1Story    726\n",
       "2Story    445\n",
       "1.5Fin    154\n",
       "SLvl       65\n",
       "SFoyer     37\n",
       "1.5Unf     14\n",
       "2.5Unf     11\n",
       "2.5Fin      8\n",
       "Name: HouseStyle, dtype: int64"
      ]
     },
     "metadata": {},
     "output_type": "display_data"
    },
    {
     "name": "stdout",
     "output_type": "stream",
     "text": [
      "Information for column number 12 is below:\n"
     ]
    },
    {
     "data": {
      "text/plain": [
       "count      1460\n",
       "unique        6\n",
       "top       Gable\n",
       "freq       1141\n",
       "Name: RoofStyle, dtype: object"
      ]
     },
     "metadata": {},
     "output_type": "display_data"
    },
    {
     "data": {
      "text/plain": [
       "array(['Gable', 'Hip', 'Gambrel', 'Mansard', 'Flat', 'Shed'], dtype=object)"
      ]
     },
     "metadata": {},
     "output_type": "display_data"
    },
    {
     "data": {
      "text/plain": [
       "Gable      1141\n",
       "Hip         286\n",
       "Flat         13\n",
       "Gambrel      11\n",
       "Mansard       7\n",
       "Shed          2\n",
       "Name: RoofStyle, dtype: int64"
      ]
     },
     "metadata": {},
     "output_type": "display_data"
    },
    {
     "name": "stdout",
     "output_type": "stream",
     "text": [
      "Information for column number 13 is below:\n"
     ]
    },
    {
     "data": {
      "text/plain": [
       "count        1460\n",
       "unique          8\n",
       "top       CompShg\n",
       "freq         1434\n",
       "Name: RoofMatl, dtype: object"
      ]
     },
     "metadata": {},
     "output_type": "display_data"
    },
    {
     "data": {
      "text/plain": [
       "array(['CompShg', 'WdShngl', 'Metal', 'WdShake', 'Membran', 'Tar&Grv',\n",
       "       'Roll', 'ClyTile'], dtype=object)"
      ]
     },
     "metadata": {},
     "output_type": "display_data"
    },
    {
     "data": {
      "text/plain": [
       "CompShg    1434\n",
       "Tar&Grv      11\n",
       "WdShngl       6\n",
       "WdShake       5\n",
       "ClyTile       1\n",
       "Roll          1\n",
       "Membran       1\n",
       "Metal         1\n",
       "Name: RoofMatl, dtype: int64"
      ]
     },
     "metadata": {},
     "output_type": "display_data"
    },
    {
     "name": "stdout",
     "output_type": "stream",
     "text": [
      "Information for column number 14 is below:\n"
     ]
    },
    {
     "data": {
      "text/plain": [
       "count        1460\n",
       "unique         15\n",
       "top       VinylSd\n",
       "freq          515\n",
       "Name: Exterior1st, dtype: object"
      ]
     },
     "metadata": {},
     "output_type": "display_data"
    },
    {
     "data": {
      "text/plain": [
       "array(['VinylSd', 'MetalSd', 'Wd Sdng', 'HdBoard', 'BrkFace', 'WdShing',\n",
       "       'CemntBd', 'Plywood', 'AsbShng', 'Stucco', 'BrkComm', 'AsphShn',\n",
       "       'Stone', 'ImStucc', 'CBlock'], dtype=object)"
      ]
     },
     "metadata": {},
     "output_type": "display_data"
    },
    {
     "data": {
      "text/plain": [
       "VinylSd    515\n",
       "HdBoard    222\n",
       "MetalSd    220\n",
       "Wd Sdng    206\n",
       "Plywood    108\n",
       "CemntBd     61\n",
       "BrkFace     50\n",
       "WdShing     26\n",
       "Stucco      25\n",
       "AsbShng     20\n",
       "BrkComm      2\n",
       "Stone        2\n",
       "ImStucc      1\n",
       "CBlock       1\n",
       "AsphShn      1\n",
       "Name: Exterior1st, dtype: int64"
      ]
     },
     "metadata": {},
     "output_type": "display_data"
    },
    {
     "name": "stdout",
     "output_type": "stream",
     "text": [
      "Information for column number 15 is below:\n"
     ]
    },
    {
     "data": {
      "text/plain": [
       "count        1460\n",
       "unique         16\n",
       "top       VinylSd\n",
       "freq          504\n",
       "Name: Exterior2nd, dtype: object"
      ]
     },
     "metadata": {},
     "output_type": "display_data"
    },
    {
     "data": {
      "text/plain": [
       "array(['VinylSd', 'MetalSd', 'Wd Shng', 'HdBoard', 'Plywood', 'Wd Sdng',\n",
       "       'CmentBd', 'BrkFace', 'Stucco', 'AsbShng', 'Brk Cmn', 'ImStucc',\n",
       "       'AsphShn', 'Stone', 'Other', 'CBlock'], dtype=object)"
      ]
     },
     "metadata": {},
     "output_type": "display_data"
    },
    {
     "data": {
      "text/plain": [
       "VinylSd    504\n",
       "MetalSd    214\n",
       "HdBoard    207\n",
       "Wd Sdng    197\n",
       "Plywood    142\n",
       "CmentBd     60\n",
       "Wd Shng     38\n",
       "Stucco      26\n",
       "BrkFace     25\n",
       "AsbShng     20\n",
       "ImStucc     10\n",
       "Brk Cmn      7\n",
       "Stone        5\n",
       "AsphShn      3\n",
       "CBlock       1\n",
       "Other        1\n",
       "Name: Exterior2nd, dtype: int64"
      ]
     },
     "metadata": {},
     "output_type": "display_data"
    },
    {
     "name": "stdout",
     "output_type": "stream",
     "text": [
      "Information for column number 16 is below:\n"
     ]
    },
    {
     "data": {
      "text/plain": [
       "count     1460\n",
       "unique       4\n",
       "top         TA\n",
       "freq       906\n",
       "Name: ExterQual, dtype: object"
      ]
     },
     "metadata": {},
     "output_type": "display_data"
    },
    {
     "data": {
      "text/plain": [
       "array(['Gd', 'TA', 'Ex', 'Fa'], dtype=object)"
      ]
     },
     "metadata": {},
     "output_type": "display_data"
    },
    {
     "data": {
      "text/plain": [
       "TA    906\n",
       "Gd    488\n",
       "Ex     52\n",
       "Fa     14\n",
       "Name: ExterQual, dtype: int64"
      ]
     },
     "metadata": {},
     "output_type": "display_data"
    },
    {
     "name": "stdout",
     "output_type": "stream",
     "text": [
      "Information for column number 17 is below:\n"
     ]
    },
    {
     "data": {
      "text/plain": [
       "count     1460\n",
       "unique       5\n",
       "top         TA\n",
       "freq      1282\n",
       "Name: ExterCond, dtype: object"
      ]
     },
     "metadata": {},
     "output_type": "display_data"
    },
    {
     "data": {
      "text/plain": [
       "array(['TA', 'Gd', 'Fa', 'Po', 'Ex'], dtype=object)"
      ]
     },
     "metadata": {},
     "output_type": "display_data"
    },
    {
     "data": {
      "text/plain": [
       "TA    1282\n",
       "Gd     146\n",
       "Fa      28\n",
       "Ex       3\n",
       "Po       1\n",
       "Name: ExterCond, dtype: int64"
      ]
     },
     "metadata": {},
     "output_type": "display_data"
    },
    {
     "name": "stdout",
     "output_type": "stream",
     "text": [
      "Information for column number 18 is below:\n"
     ]
    },
    {
     "data": {
      "text/plain": [
       "count      1460\n",
       "unique        6\n",
       "top       PConc\n",
       "freq        647\n",
       "Name: Foundation, dtype: object"
      ]
     },
     "metadata": {},
     "output_type": "display_data"
    },
    {
     "data": {
      "text/plain": [
       "array(['PConc', 'CBlock', 'BrkTil', 'Wood', 'Slab', 'Stone'], dtype=object)"
      ]
     },
     "metadata": {},
     "output_type": "display_data"
    },
    {
     "data": {
      "text/plain": [
       "PConc     647\n",
       "CBlock    634\n",
       "BrkTil    146\n",
       "Slab       24\n",
       "Stone       6\n",
       "Wood        3\n",
       "Name: Foundation, dtype: int64"
      ]
     },
     "metadata": {},
     "output_type": "display_data"
    },
    {
     "name": "stdout",
     "output_type": "stream",
     "text": [
      "Information for column number 19 is below:\n"
     ]
    },
    {
     "data": {
      "text/plain": [
       "count     1460\n",
       "unique       4\n",
       "top         TA\n",
       "freq       686\n",
       "Name: BsmtQual, dtype: object"
      ]
     },
     "metadata": {},
     "output_type": "display_data"
    },
    {
     "data": {
      "text/plain": [
       "array(['Gd', 'TA', 'Ex', 'Fa'], dtype=object)"
      ]
     },
     "metadata": {},
     "output_type": "display_data"
    },
    {
     "data": {
      "text/plain": [
       "TA    686\n",
       "Gd    618\n",
       "Ex    121\n",
       "Fa     35\n",
       "Name: BsmtQual, dtype: int64"
      ]
     },
     "metadata": {},
     "output_type": "display_data"
    },
    {
     "name": "stdout",
     "output_type": "stream",
     "text": [
      "Information for column number 20 is below:\n"
     ]
    },
    {
     "data": {
      "text/plain": [
       "count     1460\n",
       "unique       4\n",
       "top         TA\n",
       "freq      1348\n",
       "Name: BsmtCond, dtype: object"
      ]
     },
     "metadata": {},
     "output_type": "display_data"
    },
    {
     "data": {
      "text/plain": [
       "array(['TA', 'Gd', 'Fa', 'Po'], dtype=object)"
      ]
     },
     "metadata": {},
     "output_type": "display_data"
    },
    {
     "data": {
      "text/plain": [
       "TA    1348\n",
       "Gd      65\n",
       "Fa      45\n",
       "Po       2\n",
       "Name: BsmtCond, dtype: int64"
      ]
     },
     "metadata": {},
     "output_type": "display_data"
    },
    {
     "name": "stdout",
     "output_type": "stream",
     "text": [
      "Information for column number 21 is below:\n"
     ]
    },
    {
     "data": {
      "text/plain": [
       "count     1460\n",
       "unique       4\n",
       "top         No\n",
       "freq       991\n",
       "Name: BsmtExposure, dtype: object"
      ]
     },
     "metadata": {},
     "output_type": "display_data"
    },
    {
     "data": {
      "text/plain": [
       "array(['No', 'Gd', 'Mn', 'Av'], dtype=object)"
      ]
     },
     "metadata": {},
     "output_type": "display_data"
    },
    {
     "data": {
      "text/plain": [
       "No    991\n",
       "Av    221\n",
       "Gd    134\n",
       "Mn    114\n",
       "Name: BsmtExposure, dtype: int64"
      ]
     },
     "metadata": {},
     "output_type": "display_data"
    },
    {
     "name": "stdout",
     "output_type": "stream",
     "text": [
      "Information for column number 22 is below:\n"
     ]
    },
    {
     "data": {
      "text/plain": [
       "count     1460\n",
       "unique       6\n",
       "top        Unf\n",
       "freq       467\n",
       "Name: BsmtFinType1, dtype: object"
      ]
     },
     "metadata": {},
     "output_type": "display_data"
    },
    {
     "data": {
      "text/plain": [
       "array(['GLQ', 'ALQ', 'Unf', 'Rec', 'BLQ', 'LwQ'], dtype=object)"
      ]
     },
     "metadata": {},
     "output_type": "display_data"
    },
    {
     "data": {
      "text/plain": [
       "Unf    467\n",
       "GLQ    418\n",
       "ALQ    220\n",
       "BLQ    148\n",
       "Rec    133\n",
       "LwQ     74\n",
       "Name: BsmtFinType1, dtype: int64"
      ]
     },
     "metadata": {},
     "output_type": "display_data"
    },
    {
     "name": "stdout",
     "output_type": "stream",
     "text": [
      "Information for column number 23 is below:\n"
     ]
    },
    {
     "data": {
      "text/plain": [
       "count     1460\n",
       "unique       6\n",
       "top        Unf\n",
       "freq      1294\n",
       "Name: BsmtFinType2, dtype: object"
      ]
     },
     "metadata": {},
     "output_type": "display_data"
    },
    {
     "data": {
      "text/plain": [
       "array(['Unf', 'BLQ', 'ALQ', 'Rec', 'LwQ', 'GLQ'], dtype=object)"
      ]
     },
     "metadata": {},
     "output_type": "display_data"
    },
    {
     "data": {
      "text/plain": [
       "Unf    1294\n",
       "Rec      54\n",
       "LwQ      46\n",
       "BLQ      33\n",
       "ALQ      19\n",
       "GLQ      14\n",
       "Name: BsmtFinType2, dtype: int64"
      ]
     },
     "metadata": {},
     "output_type": "display_data"
    },
    {
     "name": "stdout",
     "output_type": "stream",
     "text": [
      "Information for column number 24 is below:\n"
     ]
    },
    {
     "data": {
      "text/plain": [
       "count     1460\n",
       "unique       6\n",
       "top       GasA\n",
       "freq      1428\n",
       "Name: Heating, dtype: object"
      ]
     },
     "metadata": {},
     "output_type": "display_data"
    },
    {
     "data": {
      "text/plain": [
       "array(['GasA', 'GasW', 'Grav', 'Wall', 'OthW', 'Floor'], dtype=object)"
      ]
     },
     "metadata": {},
     "output_type": "display_data"
    },
    {
     "data": {
      "text/plain": [
       "GasA     1428\n",
       "GasW       18\n",
       "Grav        7\n",
       "Wall        4\n",
       "OthW        2\n",
       "Floor       1\n",
       "Name: Heating, dtype: int64"
      ]
     },
     "metadata": {},
     "output_type": "display_data"
    },
    {
     "name": "stdout",
     "output_type": "stream",
     "text": [
      "Information for column number 25 is below:\n"
     ]
    },
    {
     "data": {
      "text/plain": [
       "count     1460\n",
       "unique       5\n",
       "top         Ex\n",
       "freq       741\n",
       "Name: HeatingQC, dtype: object"
      ]
     },
     "metadata": {},
     "output_type": "display_data"
    },
    {
     "data": {
      "text/plain": [
       "array(['Ex', 'Gd', 'TA', 'Fa', 'Po'], dtype=object)"
      ]
     },
     "metadata": {},
     "output_type": "display_data"
    },
    {
     "data": {
      "text/plain": [
       "Ex    741\n",
       "TA    428\n",
       "Gd    241\n",
       "Fa     49\n",
       "Po      1\n",
       "Name: HeatingQC, dtype: int64"
      ]
     },
     "metadata": {},
     "output_type": "display_data"
    },
    {
     "name": "stdout",
     "output_type": "stream",
     "text": [
      "Information for column number 26 is below:\n"
     ]
    },
    {
     "data": {
      "text/plain": [
       "count     1460\n",
       "unique       2\n",
       "top          Y\n",
       "freq      1365\n",
       "Name: CentralAir, dtype: object"
      ]
     },
     "metadata": {},
     "output_type": "display_data"
    },
    {
     "data": {
      "text/plain": [
       "array(['Y', 'N'], dtype=object)"
      ]
     },
     "metadata": {},
     "output_type": "display_data"
    },
    {
     "data": {
      "text/plain": [
       "Y    1365\n",
       "N      95\n",
       "Name: CentralAir, dtype: int64"
      ]
     },
     "metadata": {},
     "output_type": "display_data"
    },
    {
     "name": "stdout",
     "output_type": "stream",
     "text": [
      "Information for column number 27 is below:\n"
     ]
    },
    {
     "data": {
      "text/plain": [
       "count      1460\n",
       "unique        5\n",
       "top       SBrkr\n",
       "freq       1335\n",
       "Name: Electrical, dtype: object"
      ]
     },
     "metadata": {},
     "output_type": "display_data"
    },
    {
     "data": {
      "text/plain": [
       "array(['SBrkr', 'FuseF', 'FuseA', 'FuseP', 'Mix'], dtype=object)"
      ]
     },
     "metadata": {},
     "output_type": "display_data"
    },
    {
     "data": {
      "text/plain": [
       "SBrkr    1335\n",
       "FuseA      94\n",
       "FuseF      27\n",
       "FuseP       3\n",
       "Mix         1\n",
       "Name: Electrical, dtype: int64"
      ]
     },
     "metadata": {},
     "output_type": "display_data"
    },
    {
     "name": "stdout",
     "output_type": "stream",
     "text": [
      "Information for column number 28 is below:\n"
     ]
    },
    {
     "data": {
      "text/plain": [
       "count     1460\n",
       "unique       4\n",
       "top         TA\n",
       "freq       735\n",
       "Name: KitchenQual, dtype: object"
      ]
     },
     "metadata": {},
     "output_type": "display_data"
    },
    {
     "data": {
      "text/plain": [
       "array(['Gd', 'TA', 'Ex', 'Fa'], dtype=object)"
      ]
     },
     "metadata": {},
     "output_type": "display_data"
    },
    {
     "data": {
      "text/plain": [
       "TA    735\n",
       "Gd    586\n",
       "Ex    100\n",
       "Fa     39\n",
       "Name: KitchenQual, dtype: int64"
      ]
     },
     "metadata": {},
     "output_type": "display_data"
    },
    {
     "name": "stdout",
     "output_type": "stream",
     "text": [
      "Information for column number 29 is below:\n"
     ]
    },
    {
     "data": {
      "text/plain": [
       "count     1460\n",
       "unique       7\n",
       "top        Typ\n",
       "freq      1360\n",
       "Name: Functional, dtype: object"
      ]
     },
     "metadata": {},
     "output_type": "display_data"
    },
    {
     "data": {
      "text/plain": [
       "array(['Typ', 'Min1', 'Maj1', 'Min2', 'Mod', 'Maj2', 'Sev'], dtype=object)"
      ]
     },
     "metadata": {},
     "output_type": "display_data"
    },
    {
     "data": {
      "text/plain": [
       "Typ     1360\n",
       "Min2      34\n",
       "Min1      31\n",
       "Mod       15\n",
       "Maj1      14\n",
       "Maj2       5\n",
       "Sev        1\n",
       "Name: Functional, dtype: int64"
      ]
     },
     "metadata": {},
     "output_type": "display_data"
    },
    {
     "name": "stdout",
     "output_type": "stream",
     "text": [
      "Information for column number 30 is below:\n"
     ]
    },
    {
     "data": {
      "text/plain": [
       "count       1460\n",
       "unique         6\n",
       "top       Attchd\n",
       "freq         951\n",
       "Name: GarageType, dtype: object"
      ]
     },
     "metadata": {},
     "output_type": "display_data"
    },
    {
     "data": {
      "text/plain": [
       "array(['Attchd', 'Detchd', 'BuiltIn', 'CarPort', 'Basment', '2Types'],\n",
       "      dtype=object)"
      ]
     },
     "metadata": {},
     "output_type": "display_data"
    },
    {
     "data": {
      "text/plain": [
       "Attchd     951\n",
       "Detchd     387\n",
       "BuiltIn     88\n",
       "Basment     19\n",
       "CarPort      9\n",
       "2Types       6\n",
       "Name: GarageType, dtype: int64"
      ]
     },
     "metadata": {},
     "output_type": "display_data"
    },
    {
     "name": "stdout",
     "output_type": "stream",
     "text": [
      "Information for column number 31 is below:\n"
     ]
    },
    {
     "data": {
      "text/plain": [
       "count     1460\n",
       "unique       3\n",
       "top        Unf\n",
       "freq       686\n",
       "Name: GarageFinish, dtype: object"
      ]
     },
     "metadata": {},
     "output_type": "display_data"
    },
    {
     "data": {
      "text/plain": [
       "array(['RFn', 'Unf', 'Fin'], dtype=object)"
      ]
     },
     "metadata": {},
     "output_type": "display_data"
    },
    {
     "data": {
      "text/plain": [
       "Unf    686\n",
       "RFn    422\n",
       "Fin    352\n",
       "Name: GarageFinish, dtype: int64"
      ]
     },
     "metadata": {},
     "output_type": "display_data"
    },
    {
     "name": "stdout",
     "output_type": "stream",
     "text": [
      "Information for column number 32 is below:\n"
     ]
    },
    {
     "data": {
      "text/plain": [
       "count     1460\n",
       "unique       5\n",
       "top         TA\n",
       "freq      1392\n",
       "Name: GarageQual, dtype: object"
      ]
     },
     "metadata": {},
     "output_type": "display_data"
    },
    {
     "data": {
      "text/plain": [
       "array(['TA', 'Fa', 'Gd', 'Ex', 'Po'], dtype=object)"
      ]
     },
     "metadata": {},
     "output_type": "display_data"
    },
    {
     "data": {
      "text/plain": [
       "TA    1392\n",
       "Fa      48\n",
       "Gd      14\n",
       "Po       3\n",
       "Ex       3\n",
       "Name: GarageQual, dtype: int64"
      ]
     },
     "metadata": {},
     "output_type": "display_data"
    },
    {
     "name": "stdout",
     "output_type": "stream",
     "text": [
      "Information for column number 33 is below:\n"
     ]
    },
    {
     "data": {
      "text/plain": [
       "count     1460\n",
       "unique       5\n",
       "top         TA\n",
       "freq      1407\n",
       "Name: GarageCond, dtype: object"
      ]
     },
     "metadata": {},
     "output_type": "display_data"
    },
    {
     "data": {
      "text/plain": [
       "array(['TA', 'Fa', 'Gd', 'Po', 'Ex'], dtype=object)"
      ]
     },
     "metadata": {},
     "output_type": "display_data"
    },
    {
     "data": {
      "text/plain": [
       "TA    1407\n",
       "Fa      35\n",
       "Gd       9\n",
       "Po       7\n",
       "Ex       2\n",
       "Name: GarageCond, dtype: int64"
      ]
     },
     "metadata": {},
     "output_type": "display_data"
    },
    {
     "name": "stdout",
     "output_type": "stream",
     "text": [
      "Information for column number 34 is below:\n"
     ]
    },
    {
     "data": {
      "text/plain": [
       "count     1460\n",
       "unique       3\n",
       "top          Y\n",
       "freq      1340\n",
       "Name: PavedDrive, dtype: object"
      ]
     },
     "metadata": {},
     "output_type": "display_data"
    },
    {
     "data": {
      "text/plain": [
       "array(['Y', 'N', 'P'], dtype=object)"
      ]
     },
     "metadata": {},
     "output_type": "display_data"
    },
    {
     "data": {
      "text/plain": [
       "Y    1340\n",
       "N      90\n",
       "P      30\n",
       "Name: PavedDrive, dtype: int64"
      ]
     },
     "metadata": {},
     "output_type": "display_data"
    },
    {
     "name": "stdout",
     "output_type": "stream",
     "text": [
      "Information for column number 35 is below:\n"
     ]
    },
    {
     "data": {
      "text/plain": [
       "count     1460\n",
       "unique       9\n",
       "top         WD\n",
       "freq      1267\n",
       "Name: SaleType, dtype: object"
      ]
     },
     "metadata": {},
     "output_type": "display_data"
    },
    {
     "data": {
      "text/plain": [
       "array(['WD', 'New', 'COD', 'ConLD', 'ConLI', 'CWD', 'ConLw', 'Con', 'Oth'],\n",
       "      dtype=object)"
      ]
     },
     "metadata": {},
     "output_type": "display_data"
    },
    {
     "data": {
      "text/plain": [
       "WD       1267\n",
       "New       122\n",
       "COD        43\n",
       "ConLD       9\n",
       "ConLw       5\n",
       "ConLI       5\n",
       "CWD         4\n",
       "Oth         3\n",
       "Con         2\n",
       "Name: SaleType, dtype: int64"
      ]
     },
     "metadata": {},
     "output_type": "display_data"
    },
    {
     "name": "stdout",
     "output_type": "stream",
     "text": [
      "Information for column number 36 is below:\n"
     ]
    },
    {
     "data": {
      "text/plain": [
       "count       1460\n",
       "unique         6\n",
       "top       Normal\n",
       "freq        1198\n",
       "Name: SaleCondition, dtype: object"
      ]
     },
     "metadata": {},
     "output_type": "display_data"
    },
    {
     "data": {
      "text/plain": [
       "array(['Normal', 'Abnorml', 'Partial', 'AdjLand', 'Alloca', 'Family'],\n",
       "      dtype=object)"
      ]
     },
     "metadata": {},
     "output_type": "display_data"
    },
    {
     "data": {
      "text/plain": [
       "Normal     1198\n",
       "Partial     125\n",
       "Abnorml     101\n",
       "Family       20\n",
       "Alloca       12\n",
       "AdjLand       4\n",
       "Name: SaleCondition, dtype: int64"
      ]
     },
     "metadata": {},
     "output_type": "display_data"
    }
   ],
   "source": [
    "data_obj = data.select_dtypes(include=object)\n",
    "print(\"Number of columns to check is {}.\\n\\n\".format(len(data_obj.columns)))\n",
    "\n",
    "print(data_obj.columns.tolist(), \"\\n\\n\")\n",
    "\n",
    "print(\"*** Let's loop ***\\n\\n\")\n",
    "i = 0\n",
    "for curr_column in data_obj.columns.tolist():\n",
    "    print(\"Information for column number {} is below:\".format(i))\n",
    "    check_any_column(curr_column)\n",
    "    i += 1"
   ]
  },
  {
   "cell_type": "markdown",
   "metadata": {},
   "source": [
    "### Let's do one-hot encoding"
   ]
  },
  {
   "cell_type": "code",
   "execution_count": 58,
   "metadata": {},
   "outputs": [
    {
     "data": {
      "text/plain": [
       "'Number of columns to be one-hot encoded is 39'"
      ]
     },
     "metadata": {},
     "output_type": "display_data"
    },
    {
     "data": {
      "text/plain": [
       "['MSZoning',\n",
       " 'Street',\n",
       " 'LotShape',\n",
       " 'LandContour',\n",
       " 'Utilities',\n",
       " 'LotConfig',\n",
       " 'LandSlope',\n",
       " 'Neighborhood',\n",
       " 'Condition1',\n",
       " 'Condition2',\n",
       " 'BldgType',\n",
       " 'HouseStyle',\n",
       " 'RoofStyle',\n",
       " 'RoofMatl',\n",
       " 'Exterior1st',\n",
       " 'Exterior2nd',\n",
       " 'ExterQual',\n",
       " 'ExterCond',\n",
       " 'Foundation',\n",
       " 'BsmtQual',\n",
       " 'BsmtCond',\n",
       " 'BsmtExposure',\n",
       " 'BsmtFinType1',\n",
       " 'BsmtFinType2',\n",
       " 'Heating',\n",
       " 'HeatingQC',\n",
       " 'CentralAir',\n",
       " 'Electrical',\n",
       " 'KitchenQual',\n",
       " 'Functional',\n",
       " 'GarageType',\n",
       " 'GarageFinish',\n",
       " 'GarageQual',\n",
       " 'GarageCond',\n",
       " 'PavedDrive',\n",
       " 'SaleType',\n",
       " 'SaleCondition',\n",
       " 'MSSubClass',\n",
       " 'MoSold']"
      ]
     },
     "execution_count": 58,
     "metadata": {},
     "output_type": "execute_result"
    }
   ],
   "source": [
    "# columns to be one-hot encoded are all \"object\"\n",
    "col_to_dummies = data_obj.columns.tolist() + [\"MSSubClass\", \"MoSold\"]\n",
    "display(\"Number of columns to be one-hot encoded is {}\".format(len(col_to_dummies)))\n",
    "col_to_dummies"
   ]
  },
  {
   "cell_type": "code",
   "execution_count": 59,
   "metadata": {},
   "outputs": [
    {
     "data": {
      "text/html": [
       "<div>\n",
       "<style scoped>\n",
       "    .dataframe tbody tr th:only-of-type {\n",
       "        vertical-align: middle;\n",
       "    }\n",
       "\n",
       "    .dataframe tbody tr th {\n",
       "        vertical-align: top;\n",
       "    }\n",
       "\n",
       "    .dataframe thead th {\n",
       "        text-align: right;\n",
       "    }\n",
       "</style>\n",
       "<table border=\"1\" class=\"dataframe\">\n",
       "  <thead>\n",
       "    <tr style=\"text-align: right;\">\n",
       "      <th></th>\n",
       "      <th>MSZoning</th>\n",
       "      <th>Street</th>\n",
       "      <th>LotShape</th>\n",
       "      <th>LandContour</th>\n",
       "      <th>Utilities</th>\n",
       "      <th>LotConfig</th>\n",
       "      <th>LandSlope</th>\n",
       "      <th>Neighborhood</th>\n",
       "      <th>Condition1</th>\n",
       "      <th>Condition2</th>\n",
       "      <th>BldgType</th>\n",
       "      <th>HouseStyle</th>\n",
       "      <th>RoofStyle</th>\n",
       "      <th>RoofMatl</th>\n",
       "      <th>Exterior1st</th>\n",
       "      <th>Exterior2nd</th>\n",
       "      <th>ExterQual</th>\n",
       "      <th>ExterCond</th>\n",
       "      <th>Foundation</th>\n",
       "      <th>BsmtQual</th>\n",
       "      <th>BsmtCond</th>\n",
       "      <th>BsmtExposure</th>\n",
       "      <th>BsmtFinType1</th>\n",
       "      <th>BsmtFinType2</th>\n",
       "      <th>Heating</th>\n",
       "      <th>HeatingQC</th>\n",
       "      <th>CentralAir</th>\n",
       "      <th>Electrical</th>\n",
       "      <th>KitchenQual</th>\n",
       "      <th>Functional</th>\n",
       "      <th>GarageType</th>\n",
       "      <th>GarageFinish</th>\n",
       "      <th>GarageQual</th>\n",
       "      <th>GarageCond</th>\n",
       "      <th>PavedDrive</th>\n",
       "      <th>SaleType</th>\n",
       "      <th>SaleCondition</th>\n",
       "      <th>MSSubClass</th>\n",
       "      <th>MoSold</th>\n",
       "    </tr>\n",
       "  </thead>\n",
       "  <tbody>\n",
       "    <tr>\n",
       "      <th>0</th>\n",
       "      <td>RL</td>\n",
       "      <td>Pave</td>\n",
       "      <td>Reg</td>\n",
       "      <td>Lvl</td>\n",
       "      <td>AllPub</td>\n",
       "      <td>Inside</td>\n",
       "      <td>Gtl</td>\n",
       "      <td>CollgCr</td>\n",
       "      <td>Norm</td>\n",
       "      <td>Norm</td>\n",
       "      <td>1Fam</td>\n",
       "      <td>2Story</td>\n",
       "      <td>Gable</td>\n",
       "      <td>CompShg</td>\n",
       "      <td>VinylSd</td>\n",
       "      <td>VinylSd</td>\n",
       "      <td>Gd</td>\n",
       "      <td>TA</td>\n",
       "      <td>PConc</td>\n",
       "      <td>Gd</td>\n",
       "      <td>TA</td>\n",
       "      <td>No</td>\n",
       "      <td>GLQ</td>\n",
       "      <td>Unf</td>\n",
       "      <td>GasA</td>\n",
       "      <td>Ex</td>\n",
       "      <td>Y</td>\n",
       "      <td>SBrkr</td>\n",
       "      <td>Gd</td>\n",
       "      <td>Typ</td>\n",
       "      <td>Attchd</td>\n",
       "      <td>RFn</td>\n",
       "      <td>TA</td>\n",
       "      <td>TA</td>\n",
       "      <td>Y</td>\n",
       "      <td>WD</td>\n",
       "      <td>Normal</td>\n",
       "      <td>60</td>\n",
       "      <td>2</td>\n",
       "    </tr>\n",
       "    <tr>\n",
       "      <th>1</th>\n",
       "      <td>RL</td>\n",
       "      <td>Pave</td>\n",
       "      <td>Reg</td>\n",
       "      <td>Lvl</td>\n",
       "      <td>AllPub</td>\n",
       "      <td>FR2</td>\n",
       "      <td>Gtl</td>\n",
       "      <td>Veenker</td>\n",
       "      <td>Feedr</td>\n",
       "      <td>Norm</td>\n",
       "      <td>1Fam</td>\n",
       "      <td>1Story</td>\n",
       "      <td>Gable</td>\n",
       "      <td>CompShg</td>\n",
       "      <td>MetalSd</td>\n",
       "      <td>MetalSd</td>\n",
       "      <td>TA</td>\n",
       "      <td>TA</td>\n",
       "      <td>CBlock</td>\n",
       "      <td>Gd</td>\n",
       "      <td>TA</td>\n",
       "      <td>Gd</td>\n",
       "      <td>ALQ</td>\n",
       "      <td>Unf</td>\n",
       "      <td>GasA</td>\n",
       "      <td>Ex</td>\n",
       "      <td>Y</td>\n",
       "      <td>SBrkr</td>\n",
       "      <td>TA</td>\n",
       "      <td>Typ</td>\n",
       "      <td>Attchd</td>\n",
       "      <td>RFn</td>\n",
       "      <td>TA</td>\n",
       "      <td>TA</td>\n",
       "      <td>Y</td>\n",
       "      <td>WD</td>\n",
       "      <td>Normal</td>\n",
       "      <td>20</td>\n",
       "      <td>5</td>\n",
       "    </tr>\n",
       "    <tr>\n",
       "      <th>2</th>\n",
       "      <td>RL</td>\n",
       "      <td>Pave</td>\n",
       "      <td>IR1</td>\n",
       "      <td>Lvl</td>\n",
       "      <td>AllPub</td>\n",
       "      <td>Inside</td>\n",
       "      <td>Gtl</td>\n",
       "      <td>CollgCr</td>\n",
       "      <td>Norm</td>\n",
       "      <td>Norm</td>\n",
       "      <td>1Fam</td>\n",
       "      <td>2Story</td>\n",
       "      <td>Gable</td>\n",
       "      <td>CompShg</td>\n",
       "      <td>VinylSd</td>\n",
       "      <td>VinylSd</td>\n",
       "      <td>Gd</td>\n",
       "      <td>TA</td>\n",
       "      <td>PConc</td>\n",
       "      <td>Gd</td>\n",
       "      <td>TA</td>\n",
       "      <td>Mn</td>\n",
       "      <td>GLQ</td>\n",
       "      <td>Unf</td>\n",
       "      <td>GasA</td>\n",
       "      <td>Ex</td>\n",
       "      <td>Y</td>\n",
       "      <td>SBrkr</td>\n",
       "      <td>Gd</td>\n",
       "      <td>Typ</td>\n",
       "      <td>Attchd</td>\n",
       "      <td>RFn</td>\n",
       "      <td>TA</td>\n",
       "      <td>TA</td>\n",
       "      <td>Y</td>\n",
       "      <td>WD</td>\n",
       "      <td>Normal</td>\n",
       "      <td>60</td>\n",
       "      <td>9</td>\n",
       "    </tr>\n",
       "    <tr>\n",
       "      <th>3</th>\n",
       "      <td>RL</td>\n",
       "      <td>Pave</td>\n",
       "      <td>IR1</td>\n",
       "      <td>Lvl</td>\n",
       "      <td>AllPub</td>\n",
       "      <td>Corner</td>\n",
       "      <td>Gtl</td>\n",
       "      <td>Crawfor</td>\n",
       "      <td>Norm</td>\n",
       "      <td>Norm</td>\n",
       "      <td>1Fam</td>\n",
       "      <td>2Story</td>\n",
       "      <td>Gable</td>\n",
       "      <td>CompShg</td>\n",
       "      <td>Wd Sdng</td>\n",
       "      <td>Wd Shng</td>\n",
       "      <td>TA</td>\n",
       "      <td>TA</td>\n",
       "      <td>BrkTil</td>\n",
       "      <td>TA</td>\n",
       "      <td>Gd</td>\n",
       "      <td>No</td>\n",
       "      <td>ALQ</td>\n",
       "      <td>Unf</td>\n",
       "      <td>GasA</td>\n",
       "      <td>Gd</td>\n",
       "      <td>Y</td>\n",
       "      <td>SBrkr</td>\n",
       "      <td>Gd</td>\n",
       "      <td>Typ</td>\n",
       "      <td>Detchd</td>\n",
       "      <td>Unf</td>\n",
       "      <td>TA</td>\n",
       "      <td>TA</td>\n",
       "      <td>Y</td>\n",
       "      <td>WD</td>\n",
       "      <td>Abnorml</td>\n",
       "      <td>70</td>\n",
       "      <td>2</td>\n",
       "    </tr>\n",
       "    <tr>\n",
       "      <th>4</th>\n",
       "      <td>RL</td>\n",
       "      <td>Pave</td>\n",
       "      <td>IR1</td>\n",
       "      <td>Lvl</td>\n",
       "      <td>AllPub</td>\n",
       "      <td>FR2</td>\n",
       "      <td>Gtl</td>\n",
       "      <td>NoRidge</td>\n",
       "      <td>Norm</td>\n",
       "      <td>Norm</td>\n",
       "      <td>1Fam</td>\n",
       "      <td>2Story</td>\n",
       "      <td>Gable</td>\n",
       "      <td>CompShg</td>\n",
       "      <td>VinylSd</td>\n",
       "      <td>VinylSd</td>\n",
       "      <td>Gd</td>\n",
       "      <td>TA</td>\n",
       "      <td>PConc</td>\n",
       "      <td>Gd</td>\n",
       "      <td>TA</td>\n",
       "      <td>Av</td>\n",
       "      <td>GLQ</td>\n",
       "      <td>Unf</td>\n",
       "      <td>GasA</td>\n",
       "      <td>Ex</td>\n",
       "      <td>Y</td>\n",
       "      <td>SBrkr</td>\n",
       "      <td>Gd</td>\n",
       "      <td>Typ</td>\n",
       "      <td>Attchd</td>\n",
       "      <td>RFn</td>\n",
       "      <td>TA</td>\n",
       "      <td>TA</td>\n",
       "      <td>Y</td>\n",
       "      <td>WD</td>\n",
       "      <td>Normal</td>\n",
       "      <td>60</td>\n",
       "      <td>12</td>\n",
       "    </tr>\n",
       "    <tr>\n",
       "      <th>...</th>\n",
       "      <td>...</td>\n",
       "      <td>...</td>\n",
       "      <td>...</td>\n",
       "      <td>...</td>\n",
       "      <td>...</td>\n",
       "      <td>...</td>\n",
       "      <td>...</td>\n",
       "      <td>...</td>\n",
       "      <td>...</td>\n",
       "      <td>...</td>\n",
       "      <td>...</td>\n",
       "      <td>...</td>\n",
       "      <td>...</td>\n",
       "      <td>...</td>\n",
       "      <td>...</td>\n",
       "      <td>...</td>\n",
       "      <td>...</td>\n",
       "      <td>...</td>\n",
       "      <td>...</td>\n",
       "      <td>...</td>\n",
       "      <td>...</td>\n",
       "      <td>...</td>\n",
       "      <td>...</td>\n",
       "      <td>...</td>\n",
       "      <td>...</td>\n",
       "      <td>...</td>\n",
       "      <td>...</td>\n",
       "      <td>...</td>\n",
       "      <td>...</td>\n",
       "      <td>...</td>\n",
       "      <td>...</td>\n",
       "      <td>...</td>\n",
       "      <td>...</td>\n",
       "      <td>...</td>\n",
       "      <td>...</td>\n",
       "      <td>...</td>\n",
       "      <td>...</td>\n",
       "      <td>...</td>\n",
       "      <td>...</td>\n",
       "    </tr>\n",
       "    <tr>\n",
       "      <th>1455</th>\n",
       "      <td>RL</td>\n",
       "      <td>Pave</td>\n",
       "      <td>Reg</td>\n",
       "      <td>Lvl</td>\n",
       "      <td>AllPub</td>\n",
       "      <td>Inside</td>\n",
       "      <td>Gtl</td>\n",
       "      <td>Gilbert</td>\n",
       "      <td>Norm</td>\n",
       "      <td>Norm</td>\n",
       "      <td>1Fam</td>\n",
       "      <td>2Story</td>\n",
       "      <td>Gable</td>\n",
       "      <td>CompShg</td>\n",
       "      <td>VinylSd</td>\n",
       "      <td>VinylSd</td>\n",
       "      <td>TA</td>\n",
       "      <td>TA</td>\n",
       "      <td>PConc</td>\n",
       "      <td>Gd</td>\n",
       "      <td>TA</td>\n",
       "      <td>No</td>\n",
       "      <td>Unf</td>\n",
       "      <td>Unf</td>\n",
       "      <td>GasA</td>\n",
       "      <td>Ex</td>\n",
       "      <td>Y</td>\n",
       "      <td>SBrkr</td>\n",
       "      <td>TA</td>\n",
       "      <td>Typ</td>\n",
       "      <td>Attchd</td>\n",
       "      <td>RFn</td>\n",
       "      <td>TA</td>\n",
       "      <td>TA</td>\n",
       "      <td>Y</td>\n",
       "      <td>WD</td>\n",
       "      <td>Normal</td>\n",
       "      <td>60</td>\n",
       "      <td>8</td>\n",
       "    </tr>\n",
       "    <tr>\n",
       "      <th>1456</th>\n",
       "      <td>RL</td>\n",
       "      <td>Pave</td>\n",
       "      <td>Reg</td>\n",
       "      <td>Lvl</td>\n",
       "      <td>AllPub</td>\n",
       "      <td>Inside</td>\n",
       "      <td>Gtl</td>\n",
       "      <td>NWAmes</td>\n",
       "      <td>Norm</td>\n",
       "      <td>Norm</td>\n",
       "      <td>1Fam</td>\n",
       "      <td>1Story</td>\n",
       "      <td>Gable</td>\n",
       "      <td>CompShg</td>\n",
       "      <td>Plywood</td>\n",
       "      <td>Plywood</td>\n",
       "      <td>TA</td>\n",
       "      <td>TA</td>\n",
       "      <td>CBlock</td>\n",
       "      <td>Gd</td>\n",
       "      <td>TA</td>\n",
       "      <td>No</td>\n",
       "      <td>ALQ</td>\n",
       "      <td>Rec</td>\n",
       "      <td>GasA</td>\n",
       "      <td>TA</td>\n",
       "      <td>Y</td>\n",
       "      <td>SBrkr</td>\n",
       "      <td>TA</td>\n",
       "      <td>Min1</td>\n",
       "      <td>Attchd</td>\n",
       "      <td>Unf</td>\n",
       "      <td>TA</td>\n",
       "      <td>TA</td>\n",
       "      <td>Y</td>\n",
       "      <td>WD</td>\n",
       "      <td>Normal</td>\n",
       "      <td>20</td>\n",
       "      <td>2</td>\n",
       "    </tr>\n",
       "    <tr>\n",
       "      <th>1457</th>\n",
       "      <td>RL</td>\n",
       "      <td>Pave</td>\n",
       "      <td>Reg</td>\n",
       "      <td>Lvl</td>\n",
       "      <td>AllPub</td>\n",
       "      <td>Inside</td>\n",
       "      <td>Gtl</td>\n",
       "      <td>Crawfor</td>\n",
       "      <td>Norm</td>\n",
       "      <td>Norm</td>\n",
       "      <td>1Fam</td>\n",
       "      <td>2Story</td>\n",
       "      <td>Gable</td>\n",
       "      <td>CompShg</td>\n",
       "      <td>CemntBd</td>\n",
       "      <td>CmentBd</td>\n",
       "      <td>Ex</td>\n",
       "      <td>Gd</td>\n",
       "      <td>Stone</td>\n",
       "      <td>TA</td>\n",
       "      <td>Gd</td>\n",
       "      <td>No</td>\n",
       "      <td>GLQ</td>\n",
       "      <td>Unf</td>\n",
       "      <td>GasA</td>\n",
       "      <td>Ex</td>\n",
       "      <td>Y</td>\n",
       "      <td>SBrkr</td>\n",
       "      <td>Gd</td>\n",
       "      <td>Typ</td>\n",
       "      <td>Attchd</td>\n",
       "      <td>RFn</td>\n",
       "      <td>TA</td>\n",
       "      <td>TA</td>\n",
       "      <td>Y</td>\n",
       "      <td>WD</td>\n",
       "      <td>Normal</td>\n",
       "      <td>70</td>\n",
       "      <td>5</td>\n",
       "    </tr>\n",
       "    <tr>\n",
       "      <th>1458</th>\n",
       "      <td>RL</td>\n",
       "      <td>Pave</td>\n",
       "      <td>Reg</td>\n",
       "      <td>Lvl</td>\n",
       "      <td>AllPub</td>\n",
       "      <td>Inside</td>\n",
       "      <td>Gtl</td>\n",
       "      <td>NAmes</td>\n",
       "      <td>Norm</td>\n",
       "      <td>Norm</td>\n",
       "      <td>1Fam</td>\n",
       "      <td>1Story</td>\n",
       "      <td>Hip</td>\n",
       "      <td>CompShg</td>\n",
       "      <td>MetalSd</td>\n",
       "      <td>MetalSd</td>\n",
       "      <td>TA</td>\n",
       "      <td>TA</td>\n",
       "      <td>CBlock</td>\n",
       "      <td>TA</td>\n",
       "      <td>TA</td>\n",
       "      <td>Mn</td>\n",
       "      <td>GLQ</td>\n",
       "      <td>Rec</td>\n",
       "      <td>GasA</td>\n",
       "      <td>Gd</td>\n",
       "      <td>Y</td>\n",
       "      <td>FuseA</td>\n",
       "      <td>Gd</td>\n",
       "      <td>Typ</td>\n",
       "      <td>Attchd</td>\n",
       "      <td>Unf</td>\n",
       "      <td>TA</td>\n",
       "      <td>TA</td>\n",
       "      <td>Y</td>\n",
       "      <td>WD</td>\n",
       "      <td>Normal</td>\n",
       "      <td>20</td>\n",
       "      <td>4</td>\n",
       "    </tr>\n",
       "    <tr>\n",
       "      <th>1459</th>\n",
       "      <td>RL</td>\n",
       "      <td>Pave</td>\n",
       "      <td>Reg</td>\n",
       "      <td>Lvl</td>\n",
       "      <td>AllPub</td>\n",
       "      <td>Inside</td>\n",
       "      <td>Gtl</td>\n",
       "      <td>Edwards</td>\n",
       "      <td>Norm</td>\n",
       "      <td>Norm</td>\n",
       "      <td>1Fam</td>\n",
       "      <td>1Story</td>\n",
       "      <td>Gable</td>\n",
       "      <td>CompShg</td>\n",
       "      <td>HdBoard</td>\n",
       "      <td>HdBoard</td>\n",
       "      <td>Gd</td>\n",
       "      <td>TA</td>\n",
       "      <td>CBlock</td>\n",
       "      <td>TA</td>\n",
       "      <td>TA</td>\n",
       "      <td>No</td>\n",
       "      <td>BLQ</td>\n",
       "      <td>LwQ</td>\n",
       "      <td>GasA</td>\n",
       "      <td>Gd</td>\n",
       "      <td>Y</td>\n",
       "      <td>SBrkr</td>\n",
       "      <td>TA</td>\n",
       "      <td>Typ</td>\n",
       "      <td>Attchd</td>\n",
       "      <td>Fin</td>\n",
       "      <td>TA</td>\n",
       "      <td>TA</td>\n",
       "      <td>Y</td>\n",
       "      <td>WD</td>\n",
       "      <td>Normal</td>\n",
       "      <td>20</td>\n",
       "      <td>6</td>\n",
       "    </tr>\n",
       "  </tbody>\n",
       "</table>\n",
       "<p>1460 rows × 39 columns</p>\n",
       "</div>"
      ],
      "text/plain": [
       "     MSZoning Street LotShape LandContour Utilities LotConfig LandSlope  \\\n",
       "0          RL   Pave      Reg         Lvl    AllPub    Inside       Gtl   \n",
       "1          RL   Pave      Reg         Lvl    AllPub       FR2       Gtl   \n",
       "2          RL   Pave      IR1         Lvl    AllPub    Inside       Gtl   \n",
       "3          RL   Pave      IR1         Lvl    AllPub    Corner       Gtl   \n",
       "4          RL   Pave      IR1         Lvl    AllPub       FR2       Gtl   \n",
       "...       ...    ...      ...         ...       ...       ...       ...   \n",
       "1455       RL   Pave      Reg         Lvl    AllPub    Inside       Gtl   \n",
       "1456       RL   Pave      Reg         Lvl    AllPub    Inside       Gtl   \n",
       "1457       RL   Pave      Reg         Lvl    AllPub    Inside       Gtl   \n",
       "1458       RL   Pave      Reg         Lvl    AllPub    Inside       Gtl   \n",
       "1459       RL   Pave      Reg         Lvl    AllPub    Inside       Gtl   \n",
       "\n",
       "     Neighborhood Condition1 Condition2 BldgType HouseStyle RoofStyle  \\\n",
       "0         CollgCr       Norm       Norm     1Fam     2Story     Gable   \n",
       "1         Veenker      Feedr       Norm     1Fam     1Story     Gable   \n",
       "2         CollgCr       Norm       Norm     1Fam     2Story     Gable   \n",
       "3         Crawfor       Norm       Norm     1Fam     2Story     Gable   \n",
       "4         NoRidge       Norm       Norm     1Fam     2Story     Gable   \n",
       "...           ...        ...        ...      ...        ...       ...   \n",
       "1455      Gilbert       Norm       Norm     1Fam     2Story     Gable   \n",
       "1456       NWAmes       Norm       Norm     1Fam     1Story     Gable   \n",
       "1457      Crawfor       Norm       Norm     1Fam     2Story     Gable   \n",
       "1458        NAmes       Norm       Norm     1Fam     1Story       Hip   \n",
       "1459      Edwards       Norm       Norm     1Fam     1Story     Gable   \n",
       "\n",
       "     RoofMatl Exterior1st Exterior2nd ExterQual ExterCond Foundation BsmtQual  \\\n",
       "0     CompShg     VinylSd     VinylSd        Gd        TA      PConc       Gd   \n",
       "1     CompShg     MetalSd     MetalSd        TA        TA     CBlock       Gd   \n",
       "2     CompShg     VinylSd     VinylSd        Gd        TA      PConc       Gd   \n",
       "3     CompShg     Wd Sdng     Wd Shng        TA        TA     BrkTil       TA   \n",
       "4     CompShg     VinylSd     VinylSd        Gd        TA      PConc       Gd   \n",
       "...       ...         ...         ...       ...       ...        ...      ...   \n",
       "1455  CompShg     VinylSd     VinylSd        TA        TA      PConc       Gd   \n",
       "1456  CompShg     Plywood     Plywood        TA        TA     CBlock       Gd   \n",
       "1457  CompShg     CemntBd     CmentBd        Ex        Gd      Stone       TA   \n",
       "1458  CompShg     MetalSd     MetalSd        TA        TA     CBlock       TA   \n",
       "1459  CompShg     HdBoard     HdBoard        Gd        TA     CBlock       TA   \n",
       "\n",
       "     BsmtCond BsmtExposure BsmtFinType1 BsmtFinType2 Heating HeatingQC  \\\n",
       "0          TA           No          GLQ          Unf    GasA        Ex   \n",
       "1          TA           Gd          ALQ          Unf    GasA        Ex   \n",
       "2          TA           Mn          GLQ          Unf    GasA        Ex   \n",
       "3          Gd           No          ALQ          Unf    GasA        Gd   \n",
       "4          TA           Av          GLQ          Unf    GasA        Ex   \n",
       "...       ...          ...          ...          ...     ...       ...   \n",
       "1455       TA           No          Unf          Unf    GasA        Ex   \n",
       "1456       TA           No          ALQ          Rec    GasA        TA   \n",
       "1457       Gd           No          GLQ          Unf    GasA        Ex   \n",
       "1458       TA           Mn          GLQ          Rec    GasA        Gd   \n",
       "1459       TA           No          BLQ          LwQ    GasA        Gd   \n",
       "\n",
       "     CentralAir Electrical KitchenQual Functional GarageType GarageFinish  \\\n",
       "0             Y      SBrkr          Gd        Typ     Attchd          RFn   \n",
       "1             Y      SBrkr          TA        Typ     Attchd          RFn   \n",
       "2             Y      SBrkr          Gd        Typ     Attchd          RFn   \n",
       "3             Y      SBrkr          Gd        Typ     Detchd          Unf   \n",
       "4             Y      SBrkr          Gd        Typ     Attchd          RFn   \n",
       "...         ...        ...         ...        ...        ...          ...   \n",
       "1455          Y      SBrkr          TA        Typ     Attchd          RFn   \n",
       "1456          Y      SBrkr          TA       Min1     Attchd          Unf   \n",
       "1457          Y      SBrkr          Gd        Typ     Attchd          RFn   \n",
       "1458          Y      FuseA          Gd        Typ     Attchd          Unf   \n",
       "1459          Y      SBrkr          TA        Typ     Attchd          Fin   \n",
       "\n",
       "     GarageQual GarageCond PavedDrive SaleType SaleCondition  MSSubClass  \\\n",
       "0            TA         TA          Y       WD        Normal          60   \n",
       "1            TA         TA          Y       WD        Normal          20   \n",
       "2            TA         TA          Y       WD        Normal          60   \n",
       "3            TA         TA          Y       WD       Abnorml          70   \n",
       "4            TA         TA          Y       WD        Normal          60   \n",
       "...         ...        ...        ...      ...           ...         ...   \n",
       "1455         TA         TA          Y       WD        Normal          60   \n",
       "1456         TA         TA          Y       WD        Normal          20   \n",
       "1457         TA         TA          Y       WD        Normal          70   \n",
       "1458         TA         TA          Y       WD        Normal          20   \n",
       "1459         TA         TA          Y       WD        Normal          20   \n",
       "\n",
       "      MoSold  \n",
       "0          2  \n",
       "1          5  \n",
       "2          9  \n",
       "3          2  \n",
       "4         12  \n",
       "...      ...  \n",
       "1455       8  \n",
       "1456       2  \n",
       "1457       5  \n",
       "1458       4  \n",
       "1459       6  \n",
       "\n",
       "[1460 rows x 39 columns]"
      ]
     },
     "execution_count": 59,
     "metadata": {},
     "output_type": "execute_result"
    }
   ],
   "source": [
    "data[col_to_dummies]"
   ]
  },
  {
   "cell_type": "code",
   "execution_count": 60,
   "metadata": {},
   "outputs": [
    {
     "name": "stdout",
     "output_type": "stream",
     "text": [
      "After one-hot encoding, this is data_dummies.info():\n",
      "<class 'pandas.core.frame.DataFrame'>\n",
      "RangeIndex: 1460 entries, 0 to 1459\n",
      "Columns: 296 entries, Id to MoSold_12\n",
      "dtypes: float64(4), int64(35), uint8(257)\n",
      "memory usage: 811.4 KB\n"
     ]
    },
    {
     "data": {
      "text/plain": [
       "None"
      ]
     },
     "metadata": {},
     "output_type": "display_data"
    },
    {
     "data": {
      "text/plain": [
       "['Id',\n",
       " 'LotFrontage',\n",
       " 'LotArea',\n",
       " 'OverallQual',\n",
       " 'OverallCond',\n",
       " 'YearBuilt',\n",
       " 'YearRemodAdd',\n",
       " 'MasVnrArea',\n",
       " 'BsmtFinSF1',\n",
       " 'BsmtFinSF2',\n",
       " 'BsmtUnfSF',\n",
       " 'TotalBsmtSF',\n",
       " '1stFlrSF',\n",
       " '2ndFlrSF',\n",
       " 'LowQualFinSF',\n",
       " 'GrLivArea',\n",
       " 'BsmtFullBath',\n",
       " 'BsmtHalfBath',\n",
       " 'FullBath',\n",
       " 'HalfBath',\n",
       " 'BedroomAbvGr',\n",
       " 'KitchenAbvGr',\n",
       " 'TotRmsAbvGrd',\n",
       " 'Fireplaces',\n",
       " 'GarageYrBlt',\n",
       " 'GarageCars',\n",
       " 'GarageArea',\n",
       " 'WoodDeckSF',\n",
       " 'OpenPorchSF',\n",
       " 'EnclosedPorch',\n",
       " '3SsnPorch',\n",
       " 'ScreenPorch',\n",
       " 'PoolArea',\n",
       " 'MiscVal',\n",
       " 'YrSold',\n",
       " 'SalePrice',\n",
       " 'AgeAtSale',\n",
       " 'RemodAge',\n",
       " 'GarageAge',\n",
       " 'MSZoning_C (all)',\n",
       " 'MSZoning_FV',\n",
       " 'MSZoning_RH',\n",
       " 'MSZoning_RL',\n",
       " 'MSZoning_RM',\n",
       " 'Street_Grvl',\n",
       " 'Street_Pave',\n",
       " 'LotShape_IR1',\n",
       " 'LotShape_IR2',\n",
       " 'LotShape_IR3',\n",
       " 'LotShape_Reg',\n",
       " 'LandContour_Bnk',\n",
       " 'LandContour_HLS',\n",
       " 'LandContour_Low',\n",
       " 'LandContour_Lvl',\n",
       " 'Utilities_AllPub',\n",
       " 'Utilities_NoSeWa',\n",
       " 'LotConfig_Corner',\n",
       " 'LotConfig_CulDSac',\n",
       " 'LotConfig_FR2',\n",
       " 'LotConfig_FR3',\n",
       " 'LotConfig_Inside',\n",
       " 'LandSlope_Gtl',\n",
       " 'LandSlope_Mod',\n",
       " 'LandSlope_Sev',\n",
       " 'Neighborhood_Blmngtn',\n",
       " 'Neighborhood_Blueste',\n",
       " 'Neighborhood_BrDale',\n",
       " 'Neighborhood_BrkSide',\n",
       " 'Neighborhood_ClearCr',\n",
       " 'Neighborhood_CollgCr',\n",
       " 'Neighborhood_Crawfor',\n",
       " 'Neighborhood_Edwards',\n",
       " 'Neighborhood_Gilbert',\n",
       " 'Neighborhood_IDOTRR',\n",
       " 'Neighborhood_MeadowV',\n",
       " 'Neighborhood_Mitchel',\n",
       " 'Neighborhood_NAmes',\n",
       " 'Neighborhood_NPkVill',\n",
       " 'Neighborhood_NWAmes',\n",
       " 'Neighborhood_NoRidge',\n",
       " 'Neighborhood_NridgHt',\n",
       " 'Neighborhood_OldTown',\n",
       " 'Neighborhood_SWISU',\n",
       " 'Neighborhood_Sawyer',\n",
       " 'Neighborhood_SawyerW',\n",
       " 'Neighborhood_Somerst',\n",
       " 'Neighborhood_StoneBr',\n",
       " 'Neighborhood_Timber',\n",
       " 'Neighborhood_Veenker',\n",
       " 'Condition1_Artery',\n",
       " 'Condition1_Feedr',\n",
       " 'Condition1_Norm',\n",
       " 'Condition1_PosA',\n",
       " 'Condition1_PosN',\n",
       " 'Condition1_RRAe',\n",
       " 'Condition1_RRAn',\n",
       " 'Condition1_RRNe',\n",
       " 'Condition1_RRNn',\n",
       " 'Condition2_Artery',\n",
       " 'Condition2_Feedr',\n",
       " 'Condition2_Norm',\n",
       " 'Condition2_PosA',\n",
       " 'Condition2_PosN',\n",
       " 'Condition2_RRAe',\n",
       " 'Condition2_RRAn',\n",
       " 'Condition2_RRNn',\n",
       " 'BldgType_1Fam',\n",
       " 'BldgType_2fmCon',\n",
       " 'BldgType_Duplex',\n",
       " 'BldgType_Twnhs',\n",
       " 'BldgType_TwnhsE',\n",
       " 'HouseStyle_1.5Fin',\n",
       " 'HouseStyle_1.5Unf',\n",
       " 'HouseStyle_1Story',\n",
       " 'HouseStyle_2.5Fin',\n",
       " 'HouseStyle_2.5Unf',\n",
       " 'HouseStyle_2Story',\n",
       " 'HouseStyle_SFoyer',\n",
       " 'HouseStyle_SLvl',\n",
       " 'RoofStyle_Flat',\n",
       " 'RoofStyle_Gable',\n",
       " 'RoofStyle_Gambrel',\n",
       " 'RoofStyle_Hip',\n",
       " 'RoofStyle_Mansard',\n",
       " 'RoofStyle_Shed',\n",
       " 'RoofMatl_ClyTile',\n",
       " 'RoofMatl_CompShg',\n",
       " 'RoofMatl_Membran',\n",
       " 'RoofMatl_Metal',\n",
       " 'RoofMatl_Roll',\n",
       " 'RoofMatl_Tar&Grv',\n",
       " 'RoofMatl_WdShake',\n",
       " 'RoofMatl_WdShngl',\n",
       " 'Exterior1st_AsbShng',\n",
       " 'Exterior1st_AsphShn',\n",
       " 'Exterior1st_BrkComm',\n",
       " 'Exterior1st_BrkFace',\n",
       " 'Exterior1st_CBlock',\n",
       " 'Exterior1st_CemntBd',\n",
       " 'Exterior1st_HdBoard',\n",
       " 'Exterior1st_ImStucc',\n",
       " 'Exterior1st_MetalSd',\n",
       " 'Exterior1st_Plywood',\n",
       " 'Exterior1st_Stone',\n",
       " 'Exterior1st_Stucco',\n",
       " 'Exterior1st_VinylSd',\n",
       " 'Exterior1st_Wd Sdng',\n",
       " 'Exterior1st_WdShing',\n",
       " 'Exterior2nd_AsbShng',\n",
       " 'Exterior2nd_AsphShn',\n",
       " 'Exterior2nd_Brk Cmn',\n",
       " 'Exterior2nd_BrkFace',\n",
       " 'Exterior2nd_CBlock',\n",
       " 'Exterior2nd_CmentBd',\n",
       " 'Exterior2nd_HdBoard',\n",
       " 'Exterior2nd_ImStucc',\n",
       " 'Exterior2nd_MetalSd',\n",
       " 'Exterior2nd_Other',\n",
       " 'Exterior2nd_Plywood',\n",
       " 'Exterior2nd_Stone',\n",
       " 'Exterior2nd_Stucco',\n",
       " 'Exterior2nd_VinylSd',\n",
       " 'Exterior2nd_Wd Sdng',\n",
       " 'Exterior2nd_Wd Shng',\n",
       " 'ExterQual_Ex',\n",
       " 'ExterQual_Fa',\n",
       " 'ExterQual_Gd',\n",
       " 'ExterQual_TA',\n",
       " 'ExterCond_Ex',\n",
       " 'ExterCond_Fa',\n",
       " 'ExterCond_Gd',\n",
       " 'ExterCond_Po',\n",
       " 'ExterCond_TA',\n",
       " 'Foundation_BrkTil',\n",
       " 'Foundation_CBlock',\n",
       " 'Foundation_PConc',\n",
       " 'Foundation_Slab',\n",
       " 'Foundation_Stone',\n",
       " 'Foundation_Wood',\n",
       " 'BsmtQual_Ex',\n",
       " 'BsmtQual_Fa',\n",
       " 'BsmtQual_Gd',\n",
       " 'BsmtQual_TA',\n",
       " 'BsmtCond_Fa',\n",
       " 'BsmtCond_Gd',\n",
       " 'BsmtCond_Po',\n",
       " 'BsmtCond_TA',\n",
       " 'BsmtExposure_Av',\n",
       " 'BsmtExposure_Gd',\n",
       " 'BsmtExposure_Mn',\n",
       " 'BsmtExposure_No',\n",
       " 'BsmtFinType1_ALQ',\n",
       " 'BsmtFinType1_BLQ',\n",
       " 'BsmtFinType1_GLQ',\n",
       " 'BsmtFinType1_LwQ',\n",
       " 'BsmtFinType1_Rec',\n",
       " 'BsmtFinType1_Unf',\n",
       " 'BsmtFinType2_ALQ',\n",
       " 'BsmtFinType2_BLQ',\n",
       " 'BsmtFinType2_GLQ',\n",
       " 'BsmtFinType2_LwQ',\n",
       " 'BsmtFinType2_Rec',\n",
       " 'BsmtFinType2_Unf',\n",
       " 'Heating_Floor',\n",
       " 'Heating_GasA',\n",
       " 'Heating_GasW',\n",
       " 'Heating_Grav',\n",
       " 'Heating_OthW',\n",
       " 'Heating_Wall',\n",
       " 'HeatingQC_Ex',\n",
       " 'HeatingQC_Fa',\n",
       " 'HeatingQC_Gd',\n",
       " 'HeatingQC_Po',\n",
       " 'HeatingQC_TA',\n",
       " 'CentralAir_N',\n",
       " 'CentralAir_Y',\n",
       " 'Electrical_FuseA',\n",
       " 'Electrical_FuseF',\n",
       " 'Electrical_FuseP',\n",
       " 'Electrical_Mix',\n",
       " 'Electrical_SBrkr',\n",
       " 'KitchenQual_Ex',\n",
       " 'KitchenQual_Fa',\n",
       " 'KitchenQual_Gd',\n",
       " 'KitchenQual_TA',\n",
       " 'Functional_Maj1',\n",
       " 'Functional_Maj2',\n",
       " 'Functional_Min1',\n",
       " 'Functional_Min2',\n",
       " 'Functional_Mod',\n",
       " 'Functional_Sev',\n",
       " 'Functional_Typ',\n",
       " 'GarageType_2Types',\n",
       " 'GarageType_Attchd',\n",
       " 'GarageType_Basment',\n",
       " 'GarageType_BuiltIn',\n",
       " 'GarageType_CarPort',\n",
       " 'GarageType_Detchd',\n",
       " 'GarageFinish_Fin',\n",
       " 'GarageFinish_RFn',\n",
       " 'GarageFinish_Unf',\n",
       " 'GarageQual_Ex',\n",
       " 'GarageQual_Fa',\n",
       " 'GarageQual_Gd',\n",
       " 'GarageQual_Po',\n",
       " 'GarageQual_TA',\n",
       " 'GarageCond_Ex',\n",
       " 'GarageCond_Fa',\n",
       " 'GarageCond_Gd',\n",
       " 'GarageCond_Po',\n",
       " 'GarageCond_TA',\n",
       " 'PavedDrive_N',\n",
       " 'PavedDrive_P',\n",
       " 'PavedDrive_Y',\n",
       " 'SaleType_COD',\n",
       " 'SaleType_CWD',\n",
       " 'SaleType_Con',\n",
       " 'SaleType_ConLD',\n",
       " 'SaleType_ConLI',\n",
       " 'SaleType_ConLw',\n",
       " 'SaleType_New',\n",
       " 'SaleType_Oth',\n",
       " 'SaleType_WD',\n",
       " 'SaleCondition_Abnorml',\n",
       " 'SaleCondition_AdjLand',\n",
       " 'SaleCondition_Alloca',\n",
       " 'SaleCondition_Family',\n",
       " 'SaleCondition_Normal',\n",
       " 'SaleCondition_Partial',\n",
       " 'MSSubClass_20',\n",
       " 'MSSubClass_30',\n",
       " 'MSSubClass_40',\n",
       " 'MSSubClass_45',\n",
       " 'MSSubClass_50',\n",
       " 'MSSubClass_60',\n",
       " 'MSSubClass_70',\n",
       " 'MSSubClass_75',\n",
       " 'MSSubClass_80',\n",
       " 'MSSubClass_85',\n",
       " 'MSSubClass_90',\n",
       " 'MSSubClass_120',\n",
       " 'MSSubClass_160',\n",
       " 'MSSubClass_180',\n",
       " 'MSSubClass_190',\n",
       " 'MoSold_1',\n",
       " 'MoSold_2',\n",
       " 'MoSold_3',\n",
       " 'MoSold_4',\n",
       " 'MoSold_5',\n",
       " 'MoSold_6',\n",
       " 'MoSold_7',\n",
       " 'MoSold_8',\n",
       " 'MoSold_9',\n",
       " 'MoSold_10',\n",
       " 'MoSold_11',\n",
       " 'MoSold_12']"
      ]
     },
     "metadata": {},
     "output_type": "display_data"
    }
   ],
   "source": [
    "# do one-hot encoding\n",
    "data = pd.get_dummies(data, columns=col_to_dummies, prefix=col_to_dummies, prefix_sep='_')\n",
    "\n",
    "print(\"After one-hot encoding, this is data_dummies.info():\")\n",
    "display(data.info())\n",
    "display(data.columns.tolist())\n",
    "\n",
    "# => ha, pd.get_dummies() automatically drops the encoded columns"
   ]
  },
  {
   "cell_type": "markdown",
   "metadata": {},
   "source": [
    "## Let's neaten the numeric columns"
   ]
  },
  {
   "cell_type": "markdown",
   "metadata": {},
   "source": [
    "https://developers.google.com/machine-learning/data-prep/transform/normalization\n",
    "\n",
    "Four common normalization techniques may be useful:\n",
    "\n",
    "* scaling to a range\n",
    "* clipping\n",
    "* log scaling\n",
    "* z-score"
   ]
  },
  {
   "cell_type": "markdown",
   "metadata": {},
   "source": [
    "#### Let's normalise; First would want to see box-plots for each feature to see what's going on"
   ]
  },
  {
   "cell_type": "code",
   "execution_count": 61,
   "metadata": {},
   "outputs": [
    {
     "name": "stdout",
     "output_type": "stream",
     "text": [
      "Untrimmed list of numeric columns has length 38 and is:\n",
      "['Id', 'MSSubClass', 'LotFrontage', 'LotArea', 'OverallQual', 'OverallCond', 'YearBuilt', 'YearRemodAdd', 'MasVnrArea', 'BsmtFinSF1', 'BsmtFinSF2', 'BsmtUnfSF', 'TotalBsmtSF', '1stFlrSF', '2ndFlrSF', 'LowQualFinSF', 'GrLivArea', 'BsmtFullBath', 'BsmtHalfBath', 'FullBath', 'HalfBath', 'BedroomAbvGr', 'KitchenAbvGr', 'TotRmsAbvGrd', 'Fireplaces', 'GarageYrBlt', 'GarageCars', 'GarageArea', 'WoodDeckSF', 'OpenPorchSF', 'EnclosedPorch', '3SsnPorch', 'ScreenPorch', 'PoolArea', 'MiscVal', 'MoSold', 'YrSold', 'SalePrice']\n",
      "\n",
      "\n",
      "After trimming out 'fake' numeric columns, the list of numeric columns has length 36 and is:\n",
      "['Id', 'LotFrontage', 'LotArea', 'OverallQual', 'OverallCond', 'YearBuilt', 'YearRemodAdd', 'MasVnrArea', 'BsmtFinSF1', 'BsmtFinSF2', 'BsmtUnfSF', 'TotalBsmtSF', '1stFlrSF', '2ndFlrSF', 'LowQualFinSF', 'GrLivArea', 'BsmtFullBath', 'BsmtHalfBath', 'FullBath', 'HalfBath', 'BedroomAbvGr', 'KitchenAbvGr', 'TotRmsAbvGrd', 'Fireplaces', 'GarageYrBlt', 'GarageCars', 'GarageArea', 'WoodDeckSF', 'OpenPorchSF', 'EnclosedPorch', '3SsnPorch', 'ScreenPorch', 'PoolArea', 'MiscVal', 'YrSold', 'SalePrice']\n",
      "\n"
     ]
    }
   ],
   "source": [
    "# remove \"fake\" numeric columns (ie \"MSSubClass\" and \"MoSold\")\n",
    "\n",
    "col_real_num = data_num.columns.tolist()\n",
    "print(\"Untrimmed list of numeric columns has length {} and is:\\n{}\\n\\n\".format(len(col_real_num), col_real_num))\n",
    "\n",
    "to_be_removed = [\"MSSubClass\", \"MoSold\"]\n",
    "for item in to_be_removed:\n",
    "    col_real_num.remove(item)\n",
    "\n",
    "print(\"After trimming out 'fake' numeric columns, the list of numeric columns has length {} and is:\\n{}\\n\".format(\n",
    "    len(col_real_num), col_real_num))"
   ]
  },
  {
   "cell_type": "code",
   "execution_count": 62,
   "metadata": {},
   "outputs": [
    {
     "data": {
      "image/png": "[encoded data removed]",
      "text/plain": [
       "<Figure size 720x2160 with 40 Axes>"
      ]
     },
     "metadata": {
      "needs_background": "light"
     },
     "output_type": "display_data"
    }
   ],
   "source": [
    "# do box plots for all real numeric columns\n",
    "\n",
    "fig, axes = plt.subplots(8, 5, figsize=(10, 30))\n",
    "\n",
    "ax = axes.ravel()\n",
    "\n",
    "for i, col in enumerate(col_real_num):\n",
    "    ax[i].boxplot(data[col])\n",
    "    ax[i].set_title(col)\n",
    "\n",
    "plt.tight_layout()"
   ]
  },
  {
   "cell_type": "markdown",
   "metadata": {},
   "source": [
    "#### Some thoughts:\n",
    "1. I imagine there could be a difference between columns with values <15 and >15\n",
    "2. Let's try something quick for now: just do RobustScaler on all truly numeric columns other than SalePrice (handles median & quartiles)\n",
    "    1. Oh but wait: this should be done on training data only, ie after I've done the train-test split<br>\n",
    "    BTW I can then do cross-validation etc etc on the train dataset"
   ]
  },
  {
   "cell_type": "markdown",
   "metadata": {},
   "source": [
    "## Train_test_split\n",
    "Will then do normalisation & cross-validation etc within the Train dataset"
   ]
  },
  {
   "cell_type": "code",
   "execution_count": 63,
   "metadata": {
    "scrolled": true
   },
   "outputs": [
    {
     "data": {
      "text/html": [
       "<div>\n",
       "<style scoped>\n",
       "    .dataframe tbody tr th:only-of-type {\n",
       "        vertical-align: middle;\n",
       "    }\n",
       "\n",
       "    .dataframe tbody tr th {\n",
       "        vertical-align: top;\n",
       "    }\n",
       "\n",
       "    .dataframe thead th {\n",
       "        text-align: right;\n",
       "    }\n",
       "</style>\n",
       "<table border=\"1\" class=\"dataframe\">\n",
       "  <thead>\n",
       "    <tr style=\"text-align: right;\">\n",
       "      <th></th>\n",
       "      <th>LotFrontage</th>\n",
       "      <th>LotArea</th>\n",
       "      <th>OverallQual</th>\n",
       "      <th>OverallCond</th>\n",
       "      <th>YearBuilt</th>\n",
       "      <th>YearRemodAdd</th>\n",
       "      <th>MasVnrArea</th>\n",
       "      <th>BsmtFinSF1</th>\n",
       "      <th>BsmtFinSF2</th>\n",
       "      <th>BsmtUnfSF</th>\n",
       "      <th>TotalBsmtSF</th>\n",
       "      <th>1stFlrSF</th>\n",
       "      <th>2ndFlrSF</th>\n",
       "      <th>LowQualFinSF</th>\n",
       "      <th>GrLivArea</th>\n",
       "      <th>BsmtFullBath</th>\n",
       "      <th>BsmtHalfBath</th>\n",
       "      <th>FullBath</th>\n",
       "      <th>HalfBath</th>\n",
       "      <th>BedroomAbvGr</th>\n",
       "      <th>KitchenAbvGr</th>\n",
       "      <th>TotRmsAbvGrd</th>\n",
       "      <th>Fireplaces</th>\n",
       "      <th>GarageYrBlt</th>\n",
       "      <th>GarageCars</th>\n",
       "      <th>GarageArea</th>\n",
       "      <th>WoodDeckSF</th>\n",
       "      <th>OpenPorchSF</th>\n",
       "      <th>EnclosedPorch</th>\n",
       "      <th>3SsnPorch</th>\n",
       "      <th>ScreenPorch</th>\n",
       "      <th>PoolArea</th>\n",
       "      <th>MiscVal</th>\n",
       "      <th>YrSold</th>\n",
       "      <th>SalePrice</th>\n",
       "      <th>AgeAtSale</th>\n",
       "      <th>RemodAge</th>\n",
       "      <th>GarageAge</th>\n",
       "      <th>MSZoning_C (all)</th>\n",
       "      <th>MSZoning_FV</th>\n",
       "      <th>MSZoning_RH</th>\n",
       "      <th>MSZoning_RL</th>\n",
       "      <th>MSZoning_RM</th>\n",
       "      <th>Street_Grvl</th>\n",
       "      <th>Street_Pave</th>\n",
       "      <th>LotShape_IR1</th>\n",
       "      <th>LotShape_IR2</th>\n",
       "      <th>LotShape_IR3</th>\n",
       "      <th>LotShape_Reg</th>\n",
       "      <th>LandContour_Bnk</th>\n",
       "      <th>LandContour_HLS</th>\n",
       "      <th>LandContour_Low</th>\n",
       "      <th>LandContour_Lvl</th>\n",
       "      <th>Utilities_AllPub</th>\n",
       "      <th>Utilities_NoSeWa</th>\n",
       "      <th>LotConfig_Corner</th>\n",
       "      <th>LotConfig_CulDSac</th>\n",
       "      <th>LotConfig_FR2</th>\n",
       "      <th>LotConfig_FR3</th>\n",
       "      <th>LotConfig_Inside</th>\n",
       "      <th>LandSlope_Gtl</th>\n",
       "      <th>LandSlope_Mod</th>\n",
       "      <th>LandSlope_Sev</th>\n",
       "      <th>Neighborhood_Blmngtn</th>\n",
       "      <th>Neighborhood_Blueste</th>\n",
       "      <th>Neighborhood_BrDale</th>\n",
       "      <th>Neighborhood_BrkSide</th>\n",
       "      <th>Neighborhood_ClearCr</th>\n",
       "      <th>Neighborhood_CollgCr</th>\n",
       "      <th>Neighborhood_Crawfor</th>\n",
       "      <th>Neighborhood_Edwards</th>\n",
       "      <th>Neighborhood_Gilbert</th>\n",
       "      <th>Neighborhood_IDOTRR</th>\n",
       "      <th>Neighborhood_MeadowV</th>\n",
       "      <th>Neighborhood_Mitchel</th>\n",
       "      <th>Neighborhood_NAmes</th>\n",
       "      <th>Neighborhood_NPkVill</th>\n",
       "      <th>Neighborhood_NWAmes</th>\n",
       "      <th>Neighborhood_NoRidge</th>\n",
       "      <th>Neighborhood_NridgHt</th>\n",
       "      <th>Neighborhood_OldTown</th>\n",
       "      <th>Neighborhood_SWISU</th>\n",
       "      <th>Neighborhood_Sawyer</th>\n",
       "      <th>Neighborhood_SawyerW</th>\n",
       "      <th>Neighborhood_Somerst</th>\n",
       "      <th>Neighborhood_StoneBr</th>\n",
       "      <th>Neighborhood_Timber</th>\n",
       "      <th>Neighborhood_Veenker</th>\n",
       "      <th>Condition1_Artery</th>\n",
       "      <th>Condition1_Feedr</th>\n",
       "      <th>Condition1_Norm</th>\n",
       "      <th>Condition1_PosA</th>\n",
       "      <th>Condition1_PosN</th>\n",
       "      <th>Condition1_RRAe</th>\n",
       "      <th>Condition1_RRAn</th>\n",
       "      <th>Condition1_RRNe</th>\n",
       "      <th>Condition1_RRNn</th>\n",
       "      <th>Condition2_Artery</th>\n",
       "      <th>Condition2_Feedr</th>\n",
       "      <th>Condition2_Norm</th>\n",
       "      <th>Condition2_PosA</th>\n",
       "      <th>Condition2_PosN</th>\n",
       "      <th>Condition2_RRAe</th>\n",
       "      <th>Condition2_RRAn</th>\n",
       "      <th>Condition2_RRNn</th>\n",
       "      <th>BldgType_1Fam</th>\n",
       "      <th>BldgType_2fmCon</th>\n",
       "      <th>BldgType_Duplex</th>\n",
       "      <th>BldgType_Twnhs</th>\n",
       "      <th>BldgType_TwnhsE</th>\n",
       "      <th>HouseStyle_1.5Fin</th>\n",
       "      <th>HouseStyle_1.5Unf</th>\n",
       "      <th>HouseStyle_1Story</th>\n",
       "      <th>HouseStyle_2.5Fin</th>\n",
       "      <th>HouseStyle_2.5Unf</th>\n",
       "      <th>HouseStyle_2Story</th>\n",
       "      <th>HouseStyle_SFoyer</th>\n",
       "      <th>HouseStyle_SLvl</th>\n",
       "      <th>RoofStyle_Flat</th>\n",
       "      <th>RoofStyle_Gable</th>\n",
       "      <th>RoofStyle_Gambrel</th>\n",
       "      <th>RoofStyle_Hip</th>\n",
       "      <th>RoofStyle_Mansard</th>\n",
       "      <th>RoofStyle_Shed</th>\n",
       "      <th>RoofMatl_ClyTile</th>\n",
       "      <th>RoofMatl_CompShg</th>\n",
       "      <th>RoofMatl_Membran</th>\n",
       "      <th>RoofMatl_Metal</th>\n",
       "      <th>RoofMatl_Roll</th>\n",
       "      <th>RoofMatl_Tar&amp;Grv</th>\n",
       "      <th>RoofMatl_WdShake</th>\n",
       "      <th>RoofMatl_WdShngl</th>\n",
       "      <th>Exterior1st_AsbShng</th>\n",
       "      <th>Exterior1st_AsphShn</th>\n",
       "      <th>Exterior1st_BrkComm</th>\n",
       "      <th>Exterior1st_BrkFace</th>\n",
       "      <th>Exterior1st_CBlock</th>\n",
       "      <th>Exterior1st_CemntBd</th>\n",
       "      <th>Exterior1st_HdBoard</th>\n",
       "      <th>Exterior1st_ImStucc</th>\n",
       "      <th>Exterior1st_MetalSd</th>\n",
       "      <th>Exterior1st_Plywood</th>\n",
       "      <th>Exterior1st_Stone</th>\n",
       "      <th>Exterior1st_Stucco</th>\n",
       "      <th>Exterior1st_VinylSd</th>\n",
       "      <th>Exterior1st_Wd Sdng</th>\n",
       "      <th>Exterior1st_WdShing</th>\n",
       "      <th>Exterior2nd_AsbShng</th>\n",
       "      <th>Exterior2nd_AsphShn</th>\n",
       "      <th>Exterior2nd_Brk Cmn</th>\n",
       "      <th>Exterior2nd_BrkFace</th>\n",
       "      <th>Exterior2nd_CBlock</th>\n",
       "      <th>Exterior2nd_CmentBd</th>\n",
       "      <th>Exterior2nd_HdBoard</th>\n",
       "      <th>Exterior2nd_ImStucc</th>\n",
       "      <th>Exterior2nd_MetalSd</th>\n",
       "      <th>Exterior2nd_Other</th>\n",
       "      <th>Exterior2nd_Plywood</th>\n",
       "      <th>Exterior2nd_Stone</th>\n",
       "      <th>Exterior2nd_Stucco</th>\n",
       "      <th>Exterior2nd_VinylSd</th>\n",
       "      <th>Exterior2nd_Wd Sdng</th>\n",
       "      <th>Exterior2nd_Wd Shng</th>\n",
       "      <th>ExterQual_Ex</th>\n",
       "      <th>ExterQual_Fa</th>\n",
       "      <th>ExterQual_Gd</th>\n",
       "      <th>ExterQual_TA</th>\n",
       "      <th>ExterCond_Ex</th>\n",
       "      <th>ExterCond_Fa</th>\n",
       "      <th>ExterCond_Gd</th>\n",
       "      <th>ExterCond_Po</th>\n",
       "      <th>ExterCond_TA</th>\n",
       "      <th>Foundation_BrkTil</th>\n",
       "      <th>Foundation_CBlock</th>\n",
       "      <th>Foundation_PConc</th>\n",
       "      <th>Foundation_Slab</th>\n",
       "      <th>Foundation_Stone</th>\n",
       "      <th>Foundation_Wood</th>\n",
       "      <th>BsmtQual_Ex</th>\n",
       "      <th>BsmtQual_Fa</th>\n",
       "      <th>BsmtQual_Gd</th>\n",
       "      <th>BsmtQual_TA</th>\n",
       "      <th>BsmtCond_Fa</th>\n",
       "      <th>BsmtCond_Gd</th>\n",
       "      <th>BsmtCond_Po</th>\n",
       "      <th>BsmtCond_TA</th>\n",
       "      <th>BsmtExposure_Av</th>\n",
       "      <th>BsmtExposure_Gd</th>\n",
       "      <th>BsmtExposure_Mn</th>\n",
       "      <th>BsmtExposure_No</th>\n",
       "      <th>BsmtFinType1_ALQ</th>\n",
       "      <th>BsmtFinType1_BLQ</th>\n",
       "      <th>BsmtFinType1_GLQ</th>\n",
       "      <th>BsmtFinType1_LwQ</th>\n",
       "      <th>BsmtFinType1_Rec</th>\n",
       "      <th>BsmtFinType1_Unf</th>\n",
       "      <th>BsmtFinType2_ALQ</th>\n",
       "      <th>BsmtFinType2_BLQ</th>\n",
       "      <th>BsmtFinType2_GLQ</th>\n",
       "      <th>BsmtFinType2_LwQ</th>\n",
       "      <th>BsmtFinType2_Rec</th>\n",
       "      <th>BsmtFinType2_Unf</th>\n",
       "      <th>Heating_Floor</th>\n",
       "      <th>Heating_GasA</th>\n",
       "      <th>Heating_GasW</th>\n",
       "      <th>Heating_Grav</th>\n",
       "      <th>Heating_OthW</th>\n",
       "      <th>Heating_Wall</th>\n",
       "      <th>HeatingQC_Ex</th>\n",
       "      <th>HeatingQC_Fa</th>\n",
       "      <th>HeatingQC_Gd</th>\n",
       "      <th>HeatingQC_Po</th>\n",
       "      <th>HeatingQC_TA</th>\n",
       "      <th>CentralAir_N</th>\n",
       "      <th>CentralAir_Y</th>\n",
       "      <th>Electrical_FuseA</th>\n",
       "      <th>Electrical_FuseF</th>\n",
       "      <th>Electrical_FuseP</th>\n",
       "      <th>Electrical_Mix</th>\n",
       "      <th>Electrical_SBrkr</th>\n",
       "      <th>KitchenQual_Ex</th>\n",
       "      <th>KitchenQual_Fa</th>\n",
       "      <th>KitchenQual_Gd</th>\n",
       "      <th>KitchenQual_TA</th>\n",
       "      <th>Functional_Maj1</th>\n",
       "      <th>Functional_Maj2</th>\n",
       "      <th>Functional_Min1</th>\n",
       "      <th>Functional_Min2</th>\n",
       "      <th>Functional_Mod</th>\n",
       "      <th>Functional_Sev</th>\n",
       "      <th>Functional_Typ</th>\n",
       "      <th>GarageType_2Types</th>\n",
       "      <th>GarageType_Attchd</th>\n",
       "      <th>GarageType_Basment</th>\n",
       "      <th>GarageType_BuiltIn</th>\n",
       "      <th>GarageType_CarPort</th>\n",
       "      <th>GarageType_Detchd</th>\n",
       "      <th>GarageFinish_Fin</th>\n",
       "      <th>GarageFinish_RFn</th>\n",
       "      <th>GarageFinish_Unf</th>\n",
       "      <th>GarageQual_Ex</th>\n",
       "      <th>GarageQual_Fa</th>\n",
       "      <th>GarageQual_Gd</th>\n",
       "      <th>GarageQual_Po</th>\n",
       "      <th>GarageQual_TA</th>\n",
       "      <th>GarageCond_Ex</th>\n",
       "      <th>GarageCond_Fa</th>\n",
       "      <th>GarageCond_Gd</th>\n",
       "      <th>GarageCond_Po</th>\n",
       "      <th>GarageCond_TA</th>\n",
       "      <th>PavedDrive_N</th>\n",
       "      <th>PavedDrive_P</th>\n",
       "      <th>PavedDrive_Y</th>\n",
       "      <th>SaleType_COD</th>\n",
       "      <th>SaleType_CWD</th>\n",
       "      <th>SaleType_Con</th>\n",
       "      <th>SaleType_ConLD</th>\n",
       "      <th>SaleType_ConLI</th>\n",
       "      <th>SaleType_ConLw</th>\n",
       "      <th>SaleType_New</th>\n",
       "      <th>SaleType_Oth</th>\n",
       "      <th>SaleType_WD</th>\n",
       "      <th>SaleCondition_Abnorml</th>\n",
       "      <th>SaleCondition_AdjLand</th>\n",
       "      <th>SaleCondition_Alloca</th>\n",
       "      <th>SaleCondition_Family</th>\n",
       "      <th>SaleCondition_Normal</th>\n",
       "      <th>SaleCondition_Partial</th>\n",
       "      <th>MSSubClass_20</th>\n",
       "      <th>MSSubClass_30</th>\n",
       "      <th>MSSubClass_40</th>\n",
       "      <th>MSSubClass_45</th>\n",
       "      <th>MSSubClass_50</th>\n",
       "      <th>MSSubClass_60</th>\n",
       "      <th>MSSubClass_70</th>\n",
       "      <th>MSSubClass_75</th>\n",
       "      <th>MSSubClass_80</th>\n",
       "      <th>MSSubClass_85</th>\n",
       "      <th>MSSubClass_90</th>\n",
       "      <th>MSSubClass_120</th>\n",
       "      <th>MSSubClass_160</th>\n",
       "      <th>MSSubClass_180</th>\n",
       "      <th>MSSubClass_190</th>\n",
       "      <th>MoSold_1</th>\n",
       "      <th>MoSold_2</th>\n",
       "      <th>MoSold_3</th>\n",
       "      <th>MoSold_4</th>\n",
       "      <th>MoSold_5</th>\n",
       "      <th>MoSold_6</th>\n",
       "      <th>MoSold_7</th>\n",
       "      <th>MoSold_8</th>\n",
       "      <th>MoSold_9</th>\n",
       "      <th>MoSold_10</th>\n",
       "      <th>MoSold_11</th>\n",
       "      <th>MoSold_12</th>\n",
       "    </tr>\n",
       "    <tr>\n",
       "      <th>Id</th>\n",
       "      <th></th>\n",
       "      <th></th>\n",
       "      <th></th>\n",
       "      <th></th>\n",
       "      <th></th>\n",
       "      <th></th>\n",
       "      <th></th>\n",
       "      <th></th>\n",
       "      <th></th>\n",
       "      <th></th>\n",
       "      <th></th>\n",
       "      <th></th>\n",
       "      <th></th>\n",
       "      <th></th>\n",
       "      <th></th>\n",
       "      <th></th>\n",
       "      <th></th>\n",
       "      <th></th>\n",
       "      <th></th>\n",
       "      <th></th>\n",
       "      <th></th>\n",
       "      <th></th>\n",
       "      <th></th>\n",
       "      <th></th>\n",
       "      <th></th>\n",
       "      <th></th>\n",
       "      <th></th>\n",
       "      <th></th>\n",
       "      <th></th>\n",
       "      <th></th>\n",
       "      <th></th>\n",
       "      <th></th>\n",
       "      <th></th>\n",
       "      <th></th>\n",
       "      <th></th>\n",
       "      <th></th>\n",
       "      <th></th>\n",
       "      <th></th>\n",
       "      <th></th>\n",
       "      <th></th>\n",
       "      <th></th>\n",
       "      <th></th>\n",
       "      <th></th>\n",
       "      <th></th>\n",
       "      <th></th>\n",
       "      <th></th>\n",
       "      <th></th>\n",
       "      <th></th>\n",
       "      <th></th>\n",
       "      <th></th>\n",
       "      <th></th>\n",
       "      <th></th>\n",
       "      <th></th>\n",
       "      <th></th>\n",
       "      <th></th>\n",
       "      <th></th>\n",
       "      <th></th>\n",
       "      <th></th>\n",
       "      <th></th>\n",
       "      <th></th>\n",
       "      <th></th>\n",
       "      <th></th>\n",
       "      <th></th>\n",
       "      <th></th>\n",
       "      <th></th>\n",
       "      <th></th>\n",
       "      <th></th>\n",
       "      <th></th>\n",
       "      <th></th>\n",
       "      <th></th>\n",
       "      <th></th>\n",
       "      <th></th>\n",
       "      <th></th>\n",
       "      <th></th>\n",
       "      <th></th>\n",
       "      <th></th>\n",
       "      <th></th>\n",
       "      <th></th>\n",
       "      <th></th>\n",
       "      <th></th>\n",
       "      <th></th>\n",
       "      <th></th>\n",
       "      <th></th>\n",
       "      <th></th>\n",
       "      <th></th>\n",
       "      <th></th>\n",
       "      <th></th>\n",
       "      <th></th>\n",
       "      <th></th>\n",
       "      <th></th>\n",
       "      <th></th>\n",
       "      <th></th>\n",
       "      <th></th>\n",
       "      <th></th>\n",
       "      <th></th>\n",
       "      <th></th>\n",
       "      <th></th>\n",
       "      <th></th>\n",
       "      <th></th>\n",
       "      <th></th>\n",
       "      <th></th>\n",
       "      <th></th>\n",
       "      <th></th>\n",
       "      <th></th>\n",
       "      <th></th>\n",
       "      <th></th>\n",
       "      <th></th>\n",
       "      <th></th>\n",
       "      <th></th>\n",
       "      <th></th>\n",
       "      <th></th>\n",
       "      <th></th>\n",
       "      <th></th>\n",
       "      <th></th>\n",
       "      <th></th>\n",
       "      <th></th>\n",
       "      <th></th>\n",
       "      <th></th>\n",
       "      <th></th>\n",
       "      <th></th>\n",
       "      <th></th>\n",
       "      <th></th>\n",
       "      <th></th>\n",
       "      <th></th>\n",
       "      <th></th>\n",
       "      <th></th>\n",
       "      <th></th>\n",
       "      <th></th>\n",
       "      <th></th>\n",
       "      <th></th>\n",
       "      <th></th>\n",
       "      <th></th>\n",
       "      <th></th>\n",
       "      <th></th>\n",
       "      <th></th>\n",
       "      <th></th>\n",
       "      <th></th>\n",
       "      <th></th>\n",
       "      <th></th>\n",
       "      <th></th>\n",
       "      <th></th>\n",
       "      <th></th>\n",
       "      <th></th>\n",
       "      <th></th>\n",
       "      <th></th>\n",
       "      <th></th>\n",
       "      <th></th>\n",
       "      <th></th>\n",
       "      <th></th>\n",
       "      <th></th>\n",
       "      <th></th>\n",
       "      <th></th>\n",
       "      <th></th>\n",
       "      <th></th>\n",
       "      <th></th>\n",
       "      <th></th>\n",
       "      <th></th>\n",
       "      <th></th>\n",
       "      <th></th>\n",
       "      <th></th>\n",
       "      <th></th>\n",
       "      <th></th>\n",
       "      <th></th>\n",
       "      <th></th>\n",
       "      <th></th>\n",
       "      <th></th>\n",
       "      <th></th>\n",
       "      <th></th>\n",
       "      <th></th>\n",
       "      <th></th>\n",
       "      <th></th>\n",
       "      <th></th>\n",
       "      <th></th>\n",
       "      <th></th>\n",
       "      <th></th>\n",
       "      <th></th>\n",
       "      <th></th>\n",
       "      <th></th>\n",
       "      <th></th>\n",
       "      <th></th>\n",
       "      <th></th>\n",
       "      <th></th>\n",
       "      <th></th>\n",
       "      <th></th>\n",
       "      <th></th>\n",
       "      <th></th>\n",
       "      <th></th>\n",
       "      <th></th>\n",
       "      <th></th>\n",
       "      <th></th>\n",
       "      <th></th>\n",
       "      <th></th>\n",
       "      <th></th>\n",
       "      <th></th>\n",
       "      <th></th>\n",
       "      <th></th>\n",
       "      <th></th>\n",
       "      <th></th>\n",
       "      <th></th>\n",
       "      <th></th>\n",
       "      <th></th>\n",
       "      <th></th>\n",
       "      <th></th>\n",
       "      <th></th>\n",
       "      <th></th>\n",
       "      <th></th>\n",
       "      <th></th>\n",
       "      <th></th>\n",
       "      <th></th>\n",
       "      <th></th>\n",
       "      <th></th>\n",
       "      <th></th>\n",
       "      <th></th>\n",
       "      <th></th>\n",
       "      <th></th>\n",
       "      <th></th>\n",
       "      <th></th>\n",
       "      <th></th>\n",
       "      <th></th>\n",
       "      <th></th>\n",
       "      <th></th>\n",
       "      <th></th>\n",
       "      <th></th>\n",
       "      <th></th>\n",
       "      <th></th>\n",
       "      <th></th>\n",
       "      <th></th>\n",
       "      <th></th>\n",
       "      <th></th>\n",
       "      <th></th>\n",
       "      <th></th>\n",
       "      <th></th>\n",
       "      <th></th>\n",
       "      <th></th>\n",
       "      <th></th>\n",
       "      <th></th>\n",
       "      <th></th>\n",
       "      <th></th>\n",
       "      <th></th>\n",
       "      <th></th>\n",
       "      <th></th>\n",
       "      <th></th>\n",
       "      <th></th>\n",
       "      <th></th>\n",
       "      <th></th>\n",
       "      <th></th>\n",
       "      <th></th>\n",
       "      <th></th>\n",
       "      <th></th>\n",
       "      <th></th>\n",
       "      <th></th>\n",
       "      <th></th>\n",
       "      <th></th>\n",
       "      <th></th>\n",
       "      <th></th>\n",
       "      <th></th>\n",
       "      <th></th>\n",
       "      <th></th>\n",
       "      <th></th>\n",
       "      <th></th>\n",
       "      <th></th>\n",
       "      <th></th>\n",
       "      <th></th>\n",
       "      <th></th>\n",
       "      <th></th>\n",
       "      <th></th>\n",
       "      <th></th>\n",
       "      <th></th>\n",
       "      <th></th>\n",
       "      <th></th>\n",
       "      <th></th>\n",
       "      <th></th>\n",
       "      <th></th>\n",
       "      <th></th>\n",
       "      <th></th>\n",
       "      <th></th>\n",
       "      <th></th>\n",
       "      <th></th>\n",
       "      <th></th>\n",
       "      <th></th>\n",
       "      <th></th>\n",
       "      <th></th>\n",
       "      <th></th>\n",
       "      <th></th>\n",
       "      <th></th>\n",
       "      <th></th>\n",
       "      <th></th>\n",
       "      <th></th>\n",
       "      <th></th>\n",
       "      <th></th>\n",
       "      <th></th>\n",
       "      <th></th>\n",
       "      <th></th>\n",
       "      <th></th>\n",
       "      <th></th>\n",
       "    </tr>\n",
       "  </thead>\n",
       "  <tbody>\n",
       "    <tr>\n",
       "      <th>1</th>\n",
       "      <td>65.0</td>\n",
       "      <td>8450</td>\n",
       "      <td>7</td>\n",
       "      <td>5</td>\n",
       "      <td>2003</td>\n",
       "      <td>2003</td>\n",
       "      <td>196.0</td>\n",
       "      <td>706</td>\n",
       "      <td>0</td>\n",
       "      <td>150</td>\n",
       "      <td>856</td>\n",
       "      <td>856</td>\n",
       "      <td>854</td>\n",
       "      <td>0</td>\n",
       "      <td>1710</td>\n",
       "      <td>1</td>\n",
       "      <td>0</td>\n",
       "      <td>2</td>\n",
       "      <td>1</td>\n",
       "      <td>3</td>\n",
       "      <td>1</td>\n",
       "      <td>8</td>\n",
       "      <td>0</td>\n",
       "      <td>2003.0</td>\n",
       "      <td>2</td>\n",
       "      <td>548</td>\n",
       "      <td>0</td>\n",
       "      <td>61</td>\n",
       "      <td>0</td>\n",
       "      <td>0</td>\n",
       "      <td>0</td>\n",
       "      <td>0</td>\n",
       "      <td>0</td>\n",
       "      <td>2008</td>\n",
       "      <td>208500</td>\n",
       "      <td>5</td>\n",
       "      <td>5</td>\n",
       "      <td>5.0</td>\n",
       "      <td>0</td>\n",
       "      <td>0</td>\n",
       "      <td>0</td>\n",
       "      <td>1</td>\n",
       "      <td>0</td>\n",
       "      <td>0</td>\n",
       "      <td>1</td>\n",
       "      <td>0</td>\n",
       "      <td>0</td>\n",
       "      <td>0</td>\n",
       "      <td>1</td>\n",
       "      <td>0</td>\n",
       "      <td>0</td>\n",
       "      <td>0</td>\n",
       "      <td>1</td>\n",
       "      <td>1</td>\n",
       "      <td>0</td>\n",
       "      <td>0</td>\n",
       "      <td>0</td>\n",
       "      <td>0</td>\n",
       "      <td>0</td>\n",
       "      <td>1</td>\n",
       "      <td>1</td>\n",
       "      <td>0</td>\n",
       "      <td>0</td>\n",
       "      <td>0</td>\n",
       "      <td>0</td>\n",
       "      <td>0</td>\n",
       "      <td>0</td>\n",
       "      <td>0</td>\n",
       "      <td>1</td>\n",
       "      <td>0</td>\n",
       "      <td>0</td>\n",
       "      <td>0</td>\n",
       "      <td>0</td>\n",
       "      <td>0</td>\n",
       "      <td>0</td>\n",
       "      <td>0</td>\n",
       "      <td>0</td>\n",
       "      <td>0</td>\n",
       "      <td>0</td>\n",
       "      <td>0</td>\n",
       "      <td>0</td>\n",
       "      <td>0</td>\n",
       "      <td>0</td>\n",
       "      <td>0</td>\n",
       "      <td>0</td>\n",
       "      <td>0</td>\n",
       "      <td>0</td>\n",
       "      <td>0</td>\n",
       "      <td>0</td>\n",
       "      <td>0</td>\n",
       "      <td>1</td>\n",
       "      <td>0</td>\n",
       "      <td>0</td>\n",
       "      <td>0</td>\n",
       "      <td>0</td>\n",
       "      <td>0</td>\n",
       "      <td>0</td>\n",
       "      <td>0</td>\n",
       "      <td>0</td>\n",
       "      <td>1</td>\n",
       "      <td>0</td>\n",
       "      <td>0</td>\n",
       "      <td>0</td>\n",
       "      <td>0</td>\n",
       "      <td>0</td>\n",
       "      <td>1</td>\n",
       "      <td>0</td>\n",
       "      <td>0</td>\n",
       "      <td>0</td>\n",
       "      <td>0</td>\n",
       "      <td>0</td>\n",
       "      <td>0</td>\n",
       "      <td>0</td>\n",
       "      <td>0</td>\n",
       "      <td>0</td>\n",
       "      <td>1</td>\n",
       "      <td>0</td>\n",
       "      <td>0</td>\n",
       "      <td>0</td>\n",
       "      <td>1</td>\n",
       "      <td>0</td>\n",
       "      <td>0</td>\n",
       "      <td>0</td>\n",
       "      <td>0</td>\n",
       "      <td>0</td>\n",
       "      <td>1</td>\n",
       "      <td>0</td>\n",
       "      <td>0</td>\n",
       "      <td>0</td>\n",
       "      <td>0</td>\n",
       "      <td>0</td>\n",
       "      <td>0</td>\n",
       "      <td>0</td>\n",
       "      <td>0</td>\n",
       "      <td>0</td>\n",
       "      <td>0</td>\n",
       "      <td>0</td>\n",
       "      <td>0</td>\n",
       "      <td>0</td>\n",
       "      <td>0</td>\n",
       "      <td>0</td>\n",
       "      <td>0</td>\n",
       "      <td>0</td>\n",
       "      <td>0</td>\n",
       "      <td>1</td>\n",
       "      <td>0</td>\n",
       "      <td>0</td>\n",
       "      <td>0</td>\n",
       "      <td>0</td>\n",
       "      <td>0</td>\n",
       "      <td>0</td>\n",
       "      <td>0</td>\n",
       "      <td>0</td>\n",
       "      <td>0</td>\n",
       "      <td>0</td>\n",
       "      <td>0</td>\n",
       "      <td>0</td>\n",
       "      <td>0</td>\n",
       "      <td>0</td>\n",
       "      <td>0</td>\n",
       "      <td>1</td>\n",
       "      <td>0</td>\n",
       "      <td>0</td>\n",
       "      <td>0</td>\n",
       "      <td>0</td>\n",
       "      <td>1</td>\n",
       "      <td>0</td>\n",
       "      <td>0</td>\n",
       "      <td>0</td>\n",
       "      <td>0</td>\n",
       "      <td>0</td>\n",
       "      <td>1</td>\n",
       "      <td>0</td>\n",
       "      <td>0</td>\n",
       "      <td>1</td>\n",
       "      <td>0</td>\n",
       "      <td>0</td>\n",
       "      <td>0</td>\n",
       "      <td>0</td>\n",
       "      <td>0</td>\n",
       "      <td>1</td>\n",
       "      <td>0</td>\n",
       "      <td>0</td>\n",
       "      <td>0</td>\n",
       "      <td>0</td>\n",
       "      <td>1</td>\n",
       "      <td>0</td>\n",
       "      <td>0</td>\n",
       "      <td>0</td>\n",
       "      <td>1</td>\n",
       "      <td>0</td>\n",
       "      <td>0</td>\n",
       "      <td>1</td>\n",
       "      <td>0</td>\n",
       "      <td>0</td>\n",
       "      <td>0</td>\n",
       "      <td>0</td>\n",
       "      <td>0</td>\n",
       "      <td>0</td>\n",
       "      <td>0</td>\n",
       "      <td>0</td>\n",
       "      <td>1</td>\n",
       "      <td>0</td>\n",
       "      <td>1</td>\n",
       "      <td>0</td>\n",
       "      <td>0</td>\n",
       "      <td>0</td>\n",
       "      <td>0</td>\n",
       "      <td>1</td>\n",
       "      <td>0</td>\n",
       "      <td>0</td>\n",
       "      <td>0</td>\n",
       "      <td>0</td>\n",
       "      <td>0</td>\n",
       "      <td>1</td>\n",
       "      <td>0</td>\n",
       "      <td>0</td>\n",
       "      <td>0</td>\n",
       "      <td>0</td>\n",
       "      <td>1</td>\n",
       "      <td>0</td>\n",
       "      <td>0</td>\n",
       "      <td>1</td>\n",
       "      <td>0</td>\n",
       "      <td>0</td>\n",
       "      <td>0</td>\n",
       "      <td>0</td>\n",
       "      <td>0</td>\n",
       "      <td>0</td>\n",
       "      <td>0</td>\n",
       "      <td>1</td>\n",
       "      <td>0</td>\n",
       "      <td>1</td>\n",
       "      <td>0</td>\n",
       "      <td>0</td>\n",
       "      <td>0</td>\n",
       "      <td>0</td>\n",
       "      <td>0</td>\n",
       "      <td>1</td>\n",
       "      <td>0</td>\n",
       "      <td>0</td>\n",
       "      <td>0</td>\n",
       "      <td>0</td>\n",
       "      <td>0</td>\n",
       "      <td>1</td>\n",
       "      <td>0</td>\n",
       "      <td>0</td>\n",
       "      <td>0</td>\n",
       "      <td>0</td>\n",
       "      <td>1</td>\n",
       "      <td>0</td>\n",
       "      <td>0</td>\n",
       "      <td>1</td>\n",
       "      <td>0</td>\n",
       "      <td>0</td>\n",
       "      <td>0</td>\n",
       "      <td>0</td>\n",
       "      <td>0</td>\n",
       "      <td>0</td>\n",
       "      <td>0</td>\n",
       "      <td>0</td>\n",
       "      <td>1</td>\n",
       "      <td>0</td>\n",
       "      <td>0</td>\n",
       "      <td>0</td>\n",
       "      <td>0</td>\n",
       "      <td>1</td>\n",
       "      <td>0</td>\n",
       "      <td>0</td>\n",
       "      <td>0</td>\n",
       "      <td>0</td>\n",
       "      <td>0</td>\n",
       "      <td>0</td>\n",
       "      <td>1</td>\n",
       "      <td>0</td>\n",
       "      <td>0</td>\n",
       "      <td>0</td>\n",
       "      <td>0</td>\n",
       "      <td>0</td>\n",
       "      <td>0</td>\n",
       "      <td>0</td>\n",
       "      <td>0</td>\n",
       "      <td>0</td>\n",
       "      <td>0</td>\n",
       "      <td>1</td>\n",
       "      <td>0</td>\n",
       "      <td>0</td>\n",
       "      <td>0</td>\n",
       "      <td>0</td>\n",
       "      <td>0</td>\n",
       "      <td>0</td>\n",
       "      <td>0</td>\n",
       "      <td>0</td>\n",
       "      <td>0</td>\n",
       "      <td>0</td>\n",
       "    </tr>\n",
       "    <tr>\n",
       "      <th>2</th>\n",
       "      <td>80.0</td>\n",
       "      <td>9600</td>\n",
       "      <td>6</td>\n",
       "      <td>8</td>\n",
       "      <td>1976</td>\n",
       "      <td>1976</td>\n",
       "      <td>0.0</td>\n",
       "      <td>978</td>\n",
       "      <td>0</td>\n",
       "      <td>284</td>\n",
       "      <td>1262</td>\n",
       "      <td>1262</td>\n",
       "      <td>0</td>\n",
       "      <td>0</td>\n",
       "      <td>1262</td>\n",
       "      <td>0</td>\n",
       "      <td>1</td>\n",
       "      <td>2</td>\n",
       "      <td>0</td>\n",
       "      <td>3</td>\n",
       "      <td>1</td>\n",
       "      <td>6</td>\n",
       "      <td>1</td>\n",
       "      <td>1976.0</td>\n",
       "      <td>2</td>\n",
       "      <td>460</td>\n",
       "      <td>298</td>\n",
       "      <td>0</td>\n",
       "      <td>0</td>\n",
       "      <td>0</td>\n",
       "      <td>0</td>\n",
       "      <td>0</td>\n",
       "      <td>0</td>\n",
       "      <td>2007</td>\n",
       "      <td>181500</td>\n",
       "      <td>31</td>\n",
       "      <td>31</td>\n",
       "      <td>31.0</td>\n",
       "      <td>0</td>\n",
       "      <td>0</td>\n",
       "      <td>0</td>\n",
       "      <td>1</td>\n",
       "      <td>0</td>\n",
       "      <td>0</td>\n",
       "      <td>1</td>\n",
       "      <td>0</td>\n",
       "      <td>0</td>\n",
       "      <td>0</td>\n",
       "      <td>1</td>\n",
       "      <td>0</td>\n",
       "      <td>0</td>\n",
       "      <td>0</td>\n",
       "      <td>1</td>\n",
       "      <td>1</td>\n",
       "      <td>0</td>\n",
       "      <td>0</td>\n",
       "      <td>0</td>\n",
       "      <td>1</td>\n",
       "      <td>0</td>\n",
       "      <td>0</td>\n",
       "      <td>1</td>\n",
       "      <td>0</td>\n",
       "      <td>0</td>\n",
       "      <td>0</td>\n",
       "      <td>0</td>\n",
       "      <td>0</td>\n",
       "      <td>0</td>\n",
       "      <td>0</td>\n",
       "      <td>0</td>\n",
       "      <td>0</td>\n",
       "      <td>0</td>\n",
       "      <td>0</td>\n",
       "      <td>0</td>\n",
       "      <td>0</td>\n",
       "      <td>0</td>\n",
       "      <td>0</td>\n",
       "      <td>0</td>\n",
       "      <td>0</td>\n",
       "      <td>0</td>\n",
       "      <td>0</td>\n",
       "      <td>0</td>\n",
       "      <td>0</td>\n",
       "      <td>0</td>\n",
       "      <td>0</td>\n",
       "      <td>0</td>\n",
       "      <td>0</td>\n",
       "      <td>0</td>\n",
       "      <td>1</td>\n",
       "      <td>0</td>\n",
       "      <td>1</td>\n",
       "      <td>0</td>\n",
       "      <td>0</td>\n",
       "      <td>0</td>\n",
       "      <td>0</td>\n",
       "      <td>0</td>\n",
       "      <td>0</td>\n",
       "      <td>0</td>\n",
       "      <td>0</td>\n",
       "      <td>0</td>\n",
       "      <td>1</td>\n",
       "      <td>0</td>\n",
       "      <td>0</td>\n",
       "      <td>0</td>\n",
       "      <td>0</td>\n",
       "      <td>0</td>\n",
       "      <td>1</td>\n",
       "      <td>0</td>\n",
       "      <td>0</td>\n",
       "      <td>0</td>\n",
       "      <td>0</td>\n",
       "      <td>0</td>\n",
       "      <td>0</td>\n",
       "      <td>1</td>\n",
       "      <td>0</td>\n",
       "      <td>0</td>\n",
       "      <td>0</td>\n",
       "      <td>0</td>\n",
       "      <td>0</td>\n",
       "      <td>0</td>\n",
       "      <td>1</td>\n",
       "      <td>0</td>\n",
       "      <td>0</td>\n",
       "      <td>0</td>\n",
       "      <td>0</td>\n",
       "      <td>0</td>\n",
       "      <td>1</td>\n",
       "      <td>0</td>\n",
       "      <td>0</td>\n",
       "      <td>0</td>\n",
       "      <td>0</td>\n",
       "      <td>0</td>\n",
       "      <td>0</td>\n",
       "      <td>0</td>\n",
       "      <td>0</td>\n",
       "      <td>0</td>\n",
       "      <td>0</td>\n",
       "      <td>0</td>\n",
       "      <td>0</td>\n",
       "      <td>0</td>\n",
       "      <td>0</td>\n",
       "      <td>1</td>\n",
       "      <td>0</td>\n",
       "      <td>0</td>\n",
       "      <td>0</td>\n",
       "      <td>0</td>\n",
       "      <td>0</td>\n",
       "      <td>0</td>\n",
       "      <td>0</td>\n",
       "      <td>0</td>\n",
       "      <td>0</td>\n",
       "      <td>0</td>\n",
       "      <td>0</td>\n",
       "      <td>0</td>\n",
       "      <td>0</td>\n",
       "      <td>0</td>\n",
       "      <td>1</td>\n",
       "      <td>0</td>\n",
       "      <td>0</td>\n",
       "      <td>0</td>\n",
       "      <td>0</td>\n",
       "      <td>0</td>\n",
       "      <td>0</td>\n",
       "      <td>0</td>\n",
       "      <td>0</td>\n",
       "      <td>0</td>\n",
       "      <td>0</td>\n",
       "      <td>1</td>\n",
       "      <td>0</td>\n",
       "      <td>0</td>\n",
       "      <td>0</td>\n",
       "      <td>0</td>\n",
       "      <td>1</td>\n",
       "      <td>0</td>\n",
       "      <td>1</td>\n",
       "      <td>0</td>\n",
       "      <td>0</td>\n",
       "      <td>0</td>\n",
       "      <td>0</td>\n",
       "      <td>0</td>\n",
       "      <td>0</td>\n",
       "      <td>1</td>\n",
       "      <td>0</td>\n",
       "      <td>0</td>\n",
       "      <td>0</td>\n",
       "      <td>0</td>\n",
       "      <td>1</td>\n",
       "      <td>0</td>\n",
       "      <td>1</td>\n",
       "      <td>0</td>\n",
       "      <td>0</td>\n",
       "      <td>1</td>\n",
       "      <td>0</td>\n",
       "      <td>0</td>\n",
       "      <td>0</td>\n",
       "      <td>0</td>\n",
       "      <td>0</td>\n",
       "      <td>0</td>\n",
       "      <td>0</td>\n",
       "      <td>0</td>\n",
       "      <td>0</td>\n",
       "      <td>0</td>\n",
       "      <td>1</td>\n",
       "      <td>0</td>\n",
       "      <td>1</td>\n",
       "      <td>0</td>\n",
       "      <td>0</td>\n",
       "      <td>0</td>\n",
       "      <td>0</td>\n",
       "      <td>1</td>\n",
       "      <td>0</td>\n",
       "      <td>0</td>\n",
       "      <td>0</td>\n",
       "      <td>0</td>\n",
       "      <td>0</td>\n",
       "      <td>1</td>\n",
       "      <td>0</td>\n",
       "      <td>0</td>\n",
       "      <td>0</td>\n",
       "      <td>0</td>\n",
       "      <td>1</td>\n",
       "      <td>0</td>\n",
       "      <td>0</td>\n",
       "      <td>0</td>\n",
       "      <td>1</td>\n",
       "      <td>0</td>\n",
       "      <td>0</td>\n",
       "      <td>0</td>\n",
       "      <td>0</td>\n",
       "      <td>0</td>\n",
       "      <td>0</td>\n",
       "      <td>1</td>\n",
       "      <td>0</td>\n",
       "      <td>1</td>\n",
       "      <td>0</td>\n",
       "      <td>0</td>\n",
       "      <td>0</td>\n",
       "      <td>0</td>\n",
       "      <td>0</td>\n",
       "      <td>1</td>\n",
       "      <td>0</td>\n",
       "      <td>0</td>\n",
       "      <td>0</td>\n",
       "      <td>0</td>\n",
       "      <td>0</td>\n",
       "      <td>1</td>\n",
       "      <td>0</td>\n",
       "      <td>0</td>\n",
       "      <td>0</td>\n",
       "      <td>0</td>\n",
       "      <td>1</td>\n",
       "      <td>0</td>\n",
       "      <td>0</td>\n",
       "      <td>1</td>\n",
       "      <td>0</td>\n",
       "      <td>0</td>\n",
       "      <td>0</td>\n",
       "      <td>0</td>\n",
       "      <td>0</td>\n",
       "      <td>0</td>\n",
       "      <td>0</td>\n",
       "      <td>0</td>\n",
       "      <td>1</td>\n",
       "      <td>0</td>\n",
       "      <td>0</td>\n",
       "      <td>0</td>\n",
       "      <td>0</td>\n",
       "      <td>1</td>\n",
       "      <td>0</td>\n",
       "      <td>1</td>\n",
       "      <td>0</td>\n",
       "      <td>0</td>\n",
       "      <td>0</td>\n",
       "      <td>0</td>\n",
       "      <td>0</td>\n",
       "      <td>0</td>\n",
       "      <td>0</td>\n",
       "      <td>0</td>\n",
       "      <td>0</td>\n",
       "      <td>0</td>\n",
       "      <td>0</td>\n",
       "      <td>0</td>\n",
       "      <td>0</td>\n",
       "      <td>0</td>\n",
       "      <td>0</td>\n",
       "      <td>0</td>\n",
       "      <td>0</td>\n",
       "      <td>0</td>\n",
       "      <td>1</td>\n",
       "      <td>0</td>\n",
       "      <td>0</td>\n",
       "      <td>0</td>\n",
       "      <td>0</td>\n",
       "      <td>0</td>\n",
       "      <td>0</td>\n",
       "      <td>0</td>\n",
       "    </tr>\n",
       "    <tr>\n",
       "      <th>3</th>\n",
       "      <td>68.0</td>\n",
       "      <td>11250</td>\n",
       "      <td>7</td>\n",
       "      <td>5</td>\n",
       "      <td>2001</td>\n",
       "      <td>2002</td>\n",
       "      <td>162.0</td>\n",
       "      <td>486</td>\n",
       "      <td>0</td>\n",
       "      <td>434</td>\n",
       "      <td>920</td>\n",
       "      <td>920</td>\n",
       "      <td>866</td>\n",
       "      <td>0</td>\n",
       "      <td>1786</td>\n",
       "      <td>1</td>\n",
       "      <td>0</td>\n",
       "      <td>2</td>\n",
       "      <td>1</td>\n",
       "      <td>3</td>\n",
       "      <td>1</td>\n",
       "      <td>6</td>\n",
       "      <td>1</td>\n",
       "      <td>2001.0</td>\n",
       "      <td>2</td>\n",
       "      <td>608</td>\n",
       "      <td>0</td>\n",
       "      <td>42</td>\n",
       "      <td>0</td>\n",
       "      <td>0</td>\n",
       "      <td>0</td>\n",
       "      <td>0</td>\n",
       "      <td>0</td>\n",
       "      <td>2008</td>\n",
       "      <td>223500</td>\n",
       "      <td>7</td>\n",
       "      <td>6</td>\n",
       "      <td>7.0</td>\n",
       "      <td>0</td>\n",
       "      <td>0</td>\n",
       "      <td>0</td>\n",
       "      <td>1</td>\n",
       "      <td>0</td>\n",
       "      <td>0</td>\n",
       "      <td>1</td>\n",
       "      <td>1</td>\n",
       "      <td>0</td>\n",
       "      <td>0</td>\n",
       "      <td>0</td>\n",
       "      <td>0</td>\n",
       "      <td>0</td>\n",
       "      <td>0</td>\n",
       "      <td>1</td>\n",
       "      <td>1</td>\n",
       "      <td>0</td>\n",
       "      <td>0</td>\n",
       "      <td>0</td>\n",
       "      <td>0</td>\n",
       "      <td>0</td>\n",
       "      <td>1</td>\n",
       "      <td>1</td>\n",
       "      <td>0</td>\n",
       "      <td>0</td>\n",
       "      <td>0</td>\n",
       "      <td>0</td>\n",
       "      <td>0</td>\n",
       "      <td>0</td>\n",
       "      <td>0</td>\n",
       "      <td>1</td>\n",
       "      <td>0</td>\n",
       "      <td>0</td>\n",
       "      <td>0</td>\n",
       "      <td>0</td>\n",
       "      <td>0</td>\n",
       "      <td>0</td>\n",
       "      <td>0</td>\n",
       "      <td>0</td>\n",
       "      <td>0</td>\n",
       "      <td>0</td>\n",
       "      <td>0</td>\n",
       "      <td>0</td>\n",
       "      <td>0</td>\n",
       "      <td>0</td>\n",
       "      <td>0</td>\n",
       "      <td>0</td>\n",
       "      <td>0</td>\n",
       "      <td>0</td>\n",
       "      <td>0</td>\n",
       "      <td>0</td>\n",
       "      <td>0</td>\n",
       "      <td>1</td>\n",
       "      <td>0</td>\n",
       "      <td>0</td>\n",
       "      <td>0</td>\n",
       "      <td>0</td>\n",
       "      <td>0</td>\n",
       "      <td>0</td>\n",
       "      <td>0</td>\n",
       "      <td>0</td>\n",
       "      <td>1</td>\n",
       "      <td>0</td>\n",
       "      <td>0</td>\n",
       "      <td>0</td>\n",
       "      <td>0</td>\n",
       "      <td>0</td>\n",
       "      <td>1</td>\n",
       "      <td>0</td>\n",
       "      <td>0</td>\n",
       "      <td>0</td>\n",
       "      <td>0</td>\n",
       "      <td>0</td>\n",
       "      <td>0</td>\n",
       "      <td>0</td>\n",
       "      <td>0</td>\n",
       "      <td>0</td>\n",
       "      <td>1</td>\n",
       "      <td>0</td>\n",
       "      <td>0</td>\n",
       "      <td>0</td>\n",
       "      <td>1</td>\n",
       "      <td>0</td>\n",
       "      <td>0</td>\n",
       "      <td>0</td>\n",
       "      <td>0</td>\n",
       "      <td>0</td>\n",
       "      <td>1</td>\n",
       "      <td>0</td>\n",
       "      <td>0</td>\n",
       "      <td>0</td>\n",
       "      <td>0</td>\n",
       "      <td>0</td>\n",
       "      <td>0</td>\n",
       "      <td>0</td>\n",
       "      <td>0</td>\n",
       "      <td>0</td>\n",
       "      <td>0</td>\n",
       "      <td>0</td>\n",
       "      <td>0</td>\n",
       "      <td>0</td>\n",
       "      <td>0</td>\n",
       "      <td>0</td>\n",
       "      <td>0</td>\n",
       "      <td>0</td>\n",
       "      <td>0</td>\n",
       "      <td>1</td>\n",
       "      <td>0</td>\n",
       "      <td>0</td>\n",
       "      <td>0</td>\n",
       "      <td>0</td>\n",
       "      <td>0</td>\n",
       "      <td>0</td>\n",
       "      <td>0</td>\n",
       "      <td>0</td>\n",
       "      <td>0</td>\n",
       "      <td>0</td>\n",
       "      <td>0</td>\n",
       "      <td>0</td>\n",
       "      <td>0</td>\n",
       "      <td>0</td>\n",
       "      <td>0</td>\n",
       "      <td>1</td>\n",
       "      <td>0</td>\n",
       "      <td>0</td>\n",
       "      <td>0</td>\n",
       "      <td>0</td>\n",
       "      <td>1</td>\n",
       "      <td>0</td>\n",
       "      <td>0</td>\n",
       "      <td>0</td>\n",
       "      <td>0</td>\n",
       "      <td>0</td>\n",
       "      <td>1</td>\n",
       "      <td>0</td>\n",
       "      <td>0</td>\n",
       "      <td>1</td>\n",
       "      <td>0</td>\n",
       "      <td>0</td>\n",
       "      <td>0</td>\n",
       "      <td>0</td>\n",
       "      <td>0</td>\n",
       "      <td>1</td>\n",
       "      <td>0</td>\n",
       "      <td>0</td>\n",
       "      <td>0</td>\n",
       "      <td>0</td>\n",
       "      <td>1</td>\n",
       "      <td>0</td>\n",
       "      <td>0</td>\n",
       "      <td>1</td>\n",
       "      <td>0</td>\n",
       "      <td>0</td>\n",
       "      <td>0</td>\n",
       "      <td>1</td>\n",
       "      <td>0</td>\n",
       "      <td>0</td>\n",
       "      <td>0</td>\n",
       "      <td>0</td>\n",
       "      <td>0</td>\n",
       "      <td>0</td>\n",
       "      <td>0</td>\n",
       "      <td>0</td>\n",
       "      <td>1</td>\n",
       "      <td>0</td>\n",
       "      <td>1</td>\n",
       "      <td>0</td>\n",
       "      <td>0</td>\n",
       "      <td>0</td>\n",
       "      <td>0</td>\n",
       "      <td>1</td>\n",
       "      <td>0</td>\n",
       "      <td>0</td>\n",
       "      <td>0</td>\n",
       "      <td>0</td>\n",
       "      <td>0</td>\n",
       "      <td>1</td>\n",
       "      <td>0</td>\n",
       "      <td>0</td>\n",
       "      <td>0</td>\n",
       "      <td>0</td>\n",
       "      <td>1</td>\n",
       "      <td>0</td>\n",
       "      <td>0</td>\n",
       "      <td>1</td>\n",
       "      <td>0</td>\n",
       "      <td>0</td>\n",
       "      <td>0</td>\n",
       "      <td>0</td>\n",
       "      <td>0</td>\n",
       "      <td>0</td>\n",
       "      <td>0</td>\n",
       "      <td>1</td>\n",
       "      <td>0</td>\n",
       "      <td>1</td>\n",
       "      <td>0</td>\n",
       "      <td>0</td>\n",
       "      <td>0</td>\n",
       "      <td>0</td>\n",
       "      <td>0</td>\n",
       "      <td>1</td>\n",
       "      <td>0</td>\n",
       "      <td>0</td>\n",
       "      <td>0</td>\n",
       "      <td>0</td>\n",
       "      <td>0</td>\n",
       "      <td>1</td>\n",
       "      <td>0</td>\n",
       "      <td>0</td>\n",
       "      <td>0</td>\n",
       "      <td>0</td>\n",
       "      <td>1</td>\n",
       "      <td>0</td>\n",
       "      <td>0</td>\n",
       "      <td>1</td>\n",
       "      <td>0</td>\n",
       "      <td>0</td>\n",
       "      <td>0</td>\n",
       "      <td>0</td>\n",
       "      <td>0</td>\n",
       "      <td>0</td>\n",
       "      <td>0</td>\n",
       "      <td>0</td>\n",
       "      <td>1</td>\n",
       "      <td>0</td>\n",
       "      <td>0</td>\n",
       "      <td>0</td>\n",
       "      <td>0</td>\n",
       "      <td>1</td>\n",
       "      <td>0</td>\n",
       "      <td>0</td>\n",
       "      <td>0</td>\n",
       "      <td>0</td>\n",
       "      <td>0</td>\n",
       "      <td>0</td>\n",
       "      <td>1</td>\n",
       "      <td>0</td>\n",
       "      <td>0</td>\n",
       "      <td>0</td>\n",
       "      <td>0</td>\n",
       "      <td>0</td>\n",
       "      <td>0</td>\n",
       "      <td>0</td>\n",
       "      <td>0</td>\n",
       "      <td>0</td>\n",
       "      <td>0</td>\n",
       "      <td>0</td>\n",
       "      <td>0</td>\n",
       "      <td>0</td>\n",
       "      <td>0</td>\n",
       "      <td>0</td>\n",
       "      <td>0</td>\n",
       "      <td>0</td>\n",
       "      <td>1</td>\n",
       "      <td>0</td>\n",
       "      <td>0</td>\n",
       "      <td>0</td>\n",
       "    </tr>\n",
       "  </tbody>\n",
       "</table>\n",
       "</div>"
      ],
      "text/plain": [
       "    LotFrontage  LotArea  OverallQual  OverallCond  YearBuilt  YearRemodAdd  \\\n",
       "Id                                                                            \n",
       "1          65.0     8450            7            5       2003          2003   \n",
       "2          80.0     9600            6            8       1976          1976   \n",
       "3          68.0    11250            7            5       2001          2002   \n",
       "\n",
       "    MasVnrArea  BsmtFinSF1  BsmtFinSF2  BsmtUnfSF  TotalBsmtSF  1stFlrSF  \\\n",
       "Id                                                                         \n",
       "1        196.0         706           0        150          856       856   \n",
       "2          0.0         978           0        284         1262      1262   \n",
       "3        162.0         486           0        434          920       920   \n",
       "\n",
       "    2ndFlrSF  LowQualFinSF  GrLivArea  BsmtFullBath  BsmtHalfBath  FullBath  \\\n",
       "Id                                                                            \n",
       "1        854             0       1710             1             0         2   \n",
       "2          0             0       1262             0             1         2   \n",
       "3        866             0       1786             1             0         2   \n",
       "\n",
       "    HalfBath  BedroomAbvGr  KitchenAbvGr  TotRmsAbvGrd  Fireplaces  \\\n",
       "Id                                                                   \n",
       "1          1             3             1             8           0   \n",
       "2          0             3             1             6           1   \n",
       "3          1             3             1             6           1   \n",
       "\n",
       "    GarageYrBlt  GarageCars  GarageArea  WoodDeckSF  OpenPorchSF  \\\n",
       "Id                                                                 \n",
       "1        2003.0           2         548           0           61   \n",
       "2        1976.0           2         460         298            0   \n",
       "3        2001.0           2         608           0           42   \n",
       "\n",
       "    EnclosedPorch  3SsnPorch  ScreenPorch  PoolArea  MiscVal  YrSold  \\\n",
       "Id                                                                     \n",
       "1               0          0            0         0        0    2008   \n",
       "2               0          0            0         0        0    2007   \n",
       "3               0          0            0         0        0    2008   \n",
       "\n",
       "    SalePrice  AgeAtSale  RemodAge  GarageAge  MSZoning_C (all)  MSZoning_FV  \\\n",
       "Id                                                                             \n",
       "1      208500          5         5        5.0                 0            0   \n",
       "2      181500         31        31       31.0                 0            0   \n",
       "3      223500          7         6        7.0                 0            0   \n",
       "\n",
       "    MSZoning_RH  MSZoning_RL  MSZoning_RM  Street_Grvl  Street_Pave  \\\n",
       "Id                                                                    \n",
       "1             0            1            0            0            1   \n",
       "2             0            1            0            0            1   \n",
       "3             0            1            0            0            1   \n",
       "\n",
       "    LotShape_IR1  LotShape_IR2  LotShape_IR3  LotShape_Reg  LandContour_Bnk  \\\n",
       "Id                                                                            \n",
       "1              0             0             0             1                0   \n",
       "2              0             0             0             1                0   \n",
       "3              1             0             0             0                0   \n",
       "\n",
       "    LandContour_HLS  LandContour_Low  LandContour_Lvl  Utilities_AllPub  \\\n",
       "Id                                                                        \n",
       "1                 0                0                1                 1   \n",
       "2                 0                0                1                 1   \n",
       "3                 0                0                1                 1   \n",
       "\n",
       "    Utilities_NoSeWa  LotConfig_Corner  LotConfig_CulDSac  LotConfig_FR2  \\\n",
       "Id                                                                         \n",
       "1                  0                 0                  0              0   \n",
       "2                  0                 0                  0              1   \n",
       "3                  0                 0                  0              0   \n",
       "\n",
       "    LotConfig_FR3  LotConfig_Inside  LandSlope_Gtl  LandSlope_Mod  \\\n",
       "Id                                                                  \n",
       "1               0                 1              1              0   \n",
       "2               0                 0              1              0   \n",
       "3               0                 1              1              0   \n",
       "\n",
       "    LandSlope_Sev  Neighborhood_Blmngtn  Neighborhood_Blueste  \\\n",
       "Id                                                              \n",
       "1               0                     0                     0   \n",
       "2               0                     0                     0   \n",
       "3               0                     0                     0   \n",
       "\n",
       "    Neighborhood_BrDale  Neighborhood_BrkSide  Neighborhood_ClearCr  \\\n",
       "Id                                                                    \n",
       "1                     0                     0                     0   \n",
       "2                     0                     0                     0   \n",
       "3                     0                     0                     0   \n",
       "\n",
       "    Neighborhood_CollgCr  Neighborhood_Crawfor  Neighborhood_Edwards  \\\n",
       "Id                                                                     \n",
       "1                      1                     0                     0   \n",
       "2                      0                     0                     0   \n",
       "3                      1                     0                     0   \n",
       "\n",
       "    Neighborhood_Gilbert  Neighborhood_IDOTRR  Neighborhood_MeadowV  \\\n",
       "Id                                                                    \n",
       "1                      0                    0                     0   \n",
       "2                      0                    0                     0   \n",
       "3                      0                    0                     0   \n",
       "\n",
       "    Neighborhood_Mitchel  Neighborhood_NAmes  Neighborhood_NPkVill  \\\n",
       "Id                                                                   \n",
       "1                      0                   0                     0   \n",
       "2                      0                   0                     0   \n",
       "3                      0                   0                     0   \n",
       "\n",
       "    Neighborhood_NWAmes  Neighborhood_NoRidge  Neighborhood_NridgHt  \\\n",
       "Id                                                                    \n",
       "1                     0                     0                     0   \n",
       "2                     0                     0                     0   \n",
       "3                     0                     0                     0   \n",
       "\n",
       "    Neighborhood_OldTown  Neighborhood_SWISU  Neighborhood_Sawyer  \\\n",
       "Id                                                                  \n",
       "1                      0                   0                    0   \n",
       "2                      0                   0                    0   \n",
       "3                      0                   0                    0   \n",
       "\n",
       "    Neighborhood_SawyerW  Neighborhood_Somerst  Neighborhood_StoneBr  \\\n",
       "Id                                                                     \n",
       "1                      0                     0                     0   \n",
       "2                      0                     0                     0   \n",
       "3                      0                     0                     0   \n",
       "\n",
       "    Neighborhood_Timber  Neighborhood_Veenker  Condition1_Artery  \\\n",
       "Id                                                                 \n",
       "1                     0                     0                  0   \n",
       "2                     0                     1                  0   \n",
       "3                     0                     0                  0   \n",
       "\n",
       "    Condition1_Feedr  Condition1_Norm  Condition1_PosA  Condition1_PosN  \\\n",
       "Id                                                                        \n",
       "1                  0                1                0                0   \n",
       "2                  1                0                0                0   \n",
       "3                  0                1                0                0   \n",
       "\n",
       "    Condition1_RRAe  Condition1_RRAn  Condition1_RRNe  Condition1_RRNn  \\\n",
       "Id                                                                       \n",
       "1                 0                0                0                0   \n",
       "2                 0                0                0                0   \n",
       "3                 0                0                0                0   \n",
       "\n",
       "    Condition2_Artery  Condition2_Feedr  Condition2_Norm  Condition2_PosA  \\\n",
       "Id                                                                          \n",
       "1                   0                 0                1                0   \n",
       "2                   0                 0                1                0   \n",
       "3                   0                 0                1                0   \n",
       "\n",
       "    Condition2_PosN  Condition2_RRAe  Condition2_RRAn  Condition2_RRNn  \\\n",
       "Id                                                                       \n",
       "1                 0                0                0                0   \n",
       "2                 0                0                0                0   \n",
       "3                 0                0                0                0   \n",
       "\n",
       "    BldgType_1Fam  BldgType_2fmCon  BldgType_Duplex  BldgType_Twnhs  \\\n",
       "Id                                                                    \n",
       "1               1                0                0               0   \n",
       "2               1                0                0               0   \n",
       "3               1                0                0               0   \n",
       "\n",
       "    BldgType_TwnhsE  HouseStyle_1.5Fin  HouseStyle_1.5Unf  HouseStyle_1Story  \\\n",
       "Id                                                                             \n",
       "1                 0                  0                  0                  0   \n",
       "2                 0                  0                  0                  1   \n",
       "3                 0                  0                  0                  0   \n",
       "\n",
       "    HouseStyle_2.5Fin  HouseStyle_2.5Unf  HouseStyle_2Story  \\\n",
       "Id                                                            \n",
       "1                   0                  0                  1   \n",
       "2                   0                  0                  0   \n",
       "3                   0                  0                  1   \n",
       "\n",
       "    HouseStyle_SFoyer  HouseStyle_SLvl  RoofStyle_Flat  RoofStyle_Gable  \\\n",
       "Id                                                                        \n",
       "1                   0                0               0                1   \n",
       "2                   0                0               0                1   \n",
       "3                   0                0               0                1   \n",
       "\n",
       "    RoofStyle_Gambrel  RoofStyle_Hip  RoofStyle_Mansard  RoofStyle_Shed  \\\n",
       "Id                                                                        \n",
       "1                   0              0                  0               0   \n",
       "2                   0              0                  0               0   \n",
       "3                   0              0                  0               0   \n",
       "\n",
       "    RoofMatl_ClyTile  RoofMatl_CompShg  RoofMatl_Membran  RoofMatl_Metal  \\\n",
       "Id                                                                         \n",
       "1                  0                 1                 0               0   \n",
       "2                  0                 1                 0               0   \n",
       "3                  0                 1                 0               0   \n",
       "\n",
       "    RoofMatl_Roll  RoofMatl_Tar&Grv  RoofMatl_WdShake  RoofMatl_WdShngl  \\\n",
       "Id                                                                        \n",
       "1               0                 0                 0                 0   \n",
       "2               0                 0                 0                 0   \n",
       "3               0                 0                 0                 0   \n",
       "\n",
       "    Exterior1st_AsbShng  Exterior1st_AsphShn  Exterior1st_BrkComm  \\\n",
       "Id                                                                  \n",
       "1                     0                    0                    0   \n",
       "2                     0                    0                    0   \n",
       "3                     0                    0                    0   \n",
       "\n",
       "    Exterior1st_BrkFace  Exterior1st_CBlock  Exterior1st_CemntBd  \\\n",
       "Id                                                                 \n",
       "1                     0                   0                    0   \n",
       "2                     0                   0                    0   \n",
       "3                     0                   0                    0   \n",
       "\n",
       "    Exterior1st_HdBoard  Exterior1st_ImStucc  Exterior1st_MetalSd  \\\n",
       "Id                                                                  \n",
       "1                     0                    0                    0   \n",
       "2                     0                    0                    1   \n",
       "3                     0                    0                    0   \n",
       "\n",
       "    Exterior1st_Plywood  Exterior1st_Stone  Exterior1st_Stucco  \\\n",
       "Id                                                               \n",
       "1                     0                  0                   0   \n",
       "2                     0                  0                   0   \n",
       "3                     0                  0                   0   \n",
       "\n",
       "    Exterior1st_VinylSd  Exterior1st_Wd Sdng  Exterior1st_WdShing  \\\n",
       "Id                                                                  \n",
       "1                     1                    0                    0   \n",
       "2                     0                    0                    0   \n",
       "3                     1                    0                    0   \n",
       "\n",
       "    Exterior2nd_AsbShng  Exterior2nd_AsphShn  Exterior2nd_Brk Cmn  \\\n",
       "Id                                                                  \n",
       "1                     0                    0                    0   \n",
       "2                     0                    0                    0   \n",
       "3                     0                    0                    0   \n",
       "\n",
       "    Exterior2nd_BrkFace  Exterior2nd_CBlock  Exterior2nd_CmentBd  \\\n",
       "Id                                                                 \n",
       "1                     0                   0                    0   \n",
       "2                     0                   0                    0   \n",
       "3                     0                   0                    0   \n",
       "\n",
       "    Exterior2nd_HdBoard  Exterior2nd_ImStucc  Exterior2nd_MetalSd  \\\n",
       "Id                                                                  \n",
       "1                     0                    0                    0   \n",
       "2                     0                    0                    1   \n",
       "3                     0                    0                    0   \n",
       "\n",
       "    Exterior2nd_Other  Exterior2nd_Plywood  Exterior2nd_Stone  \\\n",
       "Id                                                              \n",
       "1                   0                    0                  0   \n",
       "2                   0                    0                  0   \n",
       "3                   0                    0                  0   \n",
       "\n",
       "    Exterior2nd_Stucco  Exterior2nd_VinylSd  Exterior2nd_Wd Sdng  \\\n",
       "Id                                                                 \n",
       "1                    0                    1                    0   \n",
       "2                    0                    0                    0   \n",
       "3                    0                    1                    0   \n",
       "\n",
       "    Exterior2nd_Wd Shng  ExterQual_Ex  ExterQual_Fa  ExterQual_Gd  \\\n",
       "Id                                                                  \n",
       "1                     0             0             0             1   \n",
       "2                     0             0             0             0   \n",
       "3                     0             0             0             1   \n",
       "\n",
       "    ExterQual_TA  ExterCond_Ex  ExterCond_Fa  ExterCond_Gd  ExterCond_Po  \\\n",
       "Id                                                                         \n",
       "1              0             0             0             0             0   \n",
       "2              1             0             0             0             0   \n",
       "3              0             0             0             0             0   \n",
       "\n",
       "    ExterCond_TA  Foundation_BrkTil  Foundation_CBlock  Foundation_PConc  \\\n",
       "Id                                                                         \n",
       "1              1                  0                  0                 1   \n",
       "2              1                  0                  1                 0   \n",
       "3              1                  0                  0                 1   \n",
       "\n",
       "    Foundation_Slab  Foundation_Stone  Foundation_Wood  BsmtQual_Ex  \\\n",
       "Id                                                                    \n",
       "1                 0                 0                0            0   \n",
       "2                 0                 0                0            0   \n",
       "3                 0                 0                0            0   \n",
       "\n",
       "    BsmtQual_Fa  BsmtQual_Gd  BsmtQual_TA  BsmtCond_Fa  BsmtCond_Gd  \\\n",
       "Id                                                                    \n",
       "1             0            1            0            0            0   \n",
       "2             0            1            0            0            0   \n",
       "3             0            1            0            0            0   \n",
       "\n",
       "    BsmtCond_Po  BsmtCond_TA  BsmtExposure_Av  BsmtExposure_Gd  \\\n",
       "Id                                                               \n",
       "1             0            1                0                0   \n",
       "2             0            1                0                1   \n",
       "3             0            1                0                0   \n",
       "\n",
       "    BsmtExposure_Mn  BsmtExposure_No  BsmtFinType1_ALQ  BsmtFinType1_BLQ  \\\n",
       "Id                                                                         \n",
       "1                 0                1                 0                 0   \n",
       "2                 0                0                 1                 0   \n",
       "3                 1                0                 0                 0   \n",
       "\n",
       "    BsmtFinType1_GLQ  BsmtFinType1_LwQ  BsmtFinType1_Rec  BsmtFinType1_Unf  \\\n",
       "Id                                                                           \n",
       "1                  1                 0                 0                 0   \n",
       "2                  0                 0                 0                 0   \n",
       "3                  1                 0                 0                 0   \n",
       "\n",
       "    BsmtFinType2_ALQ  BsmtFinType2_BLQ  BsmtFinType2_GLQ  BsmtFinType2_LwQ  \\\n",
       "Id                                                                           \n",
       "1                  0                 0                 0                 0   \n",
       "2                  0                 0                 0                 0   \n",
       "3                  0                 0                 0                 0   \n",
       "\n",
       "    BsmtFinType2_Rec  BsmtFinType2_Unf  Heating_Floor  Heating_GasA  \\\n",
       "Id                                                                    \n",
       "1                  0                 1              0             1   \n",
       "2                  0                 1              0             1   \n",
       "3                  0                 1              0             1   \n",
       "\n",
       "    Heating_GasW  Heating_Grav  Heating_OthW  Heating_Wall  HeatingQC_Ex  \\\n",
       "Id                                                                         \n",
       "1              0             0             0             0             1   \n",
       "2              0             0             0             0             1   \n",
       "3              0             0             0             0             1   \n",
       "\n",
       "    HeatingQC_Fa  HeatingQC_Gd  HeatingQC_Po  HeatingQC_TA  CentralAir_N  \\\n",
       "Id                                                                         \n",
       "1              0             0             0             0             0   \n",
       "2              0             0             0             0             0   \n",
       "3              0             0             0             0             0   \n",
       "\n",
       "    CentralAir_Y  Electrical_FuseA  Electrical_FuseF  Electrical_FuseP  \\\n",
       "Id                                                                       \n",
       "1              1                 0                 0                 0   \n",
       "2              1                 0                 0                 0   \n",
       "3              1                 0                 0                 0   \n",
       "\n",
       "    Electrical_Mix  Electrical_SBrkr  KitchenQual_Ex  KitchenQual_Fa  \\\n",
       "Id                                                                     \n",
       "1                0                 1               0               0   \n",
       "2                0                 1               0               0   \n",
       "3                0                 1               0               0   \n",
       "\n",
       "    KitchenQual_Gd  KitchenQual_TA  Functional_Maj1  Functional_Maj2  \\\n",
       "Id                                                                     \n",
       "1                1               0                0                0   \n",
       "2                0               1                0                0   \n",
       "3                1               0                0                0   \n",
       "\n",
       "    Functional_Min1  Functional_Min2  Functional_Mod  Functional_Sev  \\\n",
       "Id                                                                     \n",
       "1                 0                0               0               0   \n",
       "2                 0                0               0               0   \n",
       "3                 0                0               0               0   \n",
       "\n",
       "    Functional_Typ  GarageType_2Types  GarageType_Attchd  GarageType_Basment  \\\n",
       "Id                                                                             \n",
       "1                1                  0                  1                   0   \n",
       "2                1                  0                  1                   0   \n",
       "3                1                  0                  1                   0   \n",
       "\n",
       "    GarageType_BuiltIn  GarageType_CarPort  GarageType_Detchd  \\\n",
       "Id                                                              \n",
       "1                    0                   0                  0   \n",
       "2                    0                   0                  0   \n",
       "3                    0                   0                  0   \n",
       "\n",
       "    GarageFinish_Fin  GarageFinish_RFn  GarageFinish_Unf  GarageQual_Ex  \\\n",
       "Id                                                                        \n",
       "1                  0                 1                 0              0   \n",
       "2                  0                 1                 0              0   \n",
       "3                  0                 1                 0              0   \n",
       "\n",
       "    GarageQual_Fa  GarageQual_Gd  GarageQual_Po  GarageQual_TA  GarageCond_Ex  \\\n",
       "Id                                                                              \n",
       "1               0              0              0              1              0   \n",
       "2               0              0              0              1              0   \n",
       "3               0              0              0              1              0   \n",
       "\n",
       "    GarageCond_Fa  GarageCond_Gd  GarageCond_Po  GarageCond_TA  PavedDrive_N  \\\n",
       "Id                                                                             \n",
       "1               0              0              0              1             0   \n",
       "2               0              0              0              1             0   \n",
       "3               0              0              0              1             0   \n",
       "\n",
       "    PavedDrive_P  PavedDrive_Y  SaleType_COD  SaleType_CWD  SaleType_Con  \\\n",
       "Id                                                                         \n",
       "1              0             1             0             0             0   \n",
       "2              0             1             0             0             0   \n",
       "3              0             1             0             0             0   \n",
       "\n",
       "    SaleType_ConLD  SaleType_ConLI  SaleType_ConLw  SaleType_New  \\\n",
       "Id                                                                 \n",
       "1                0               0               0             0   \n",
       "2                0               0               0             0   \n",
       "3                0               0               0             0   \n",
       "\n",
       "    SaleType_Oth  SaleType_WD  SaleCondition_Abnorml  SaleCondition_AdjLand  \\\n",
       "Id                                                                            \n",
       "1              0            1                      0                      0   \n",
       "2              0            1                      0                      0   \n",
       "3              0            1                      0                      0   \n",
       "\n",
       "    SaleCondition_Alloca  SaleCondition_Family  SaleCondition_Normal  \\\n",
       "Id                                                                     \n",
       "1                      0                     0                     1   \n",
       "2                      0                     0                     1   \n",
       "3                      0                     0                     1   \n",
       "\n",
       "    SaleCondition_Partial  MSSubClass_20  MSSubClass_30  MSSubClass_40  \\\n",
       "Id                                                                       \n",
       "1                       0              0              0              0   \n",
       "2                       0              1              0              0   \n",
       "3                       0              0              0              0   \n",
       "\n",
       "    MSSubClass_45  MSSubClass_50  MSSubClass_60  MSSubClass_70  MSSubClass_75  \\\n",
       "Id                                                                              \n",
       "1               0              0              1              0              0   \n",
       "2               0              0              0              0              0   \n",
       "3               0              0              1              0              0   \n",
       "\n",
       "    MSSubClass_80  MSSubClass_85  MSSubClass_90  MSSubClass_120  \\\n",
       "Id                                                                \n",
       "1               0              0              0               0   \n",
       "2               0              0              0               0   \n",
       "3               0              0              0               0   \n",
       "\n",
       "    MSSubClass_160  MSSubClass_180  MSSubClass_190  MoSold_1  MoSold_2  \\\n",
       "Id                                                                       \n",
       "1                0               0               0         0         1   \n",
       "2                0               0               0         0         0   \n",
       "3                0               0               0         0         0   \n",
       "\n",
       "    MoSold_3  MoSold_4  MoSold_5  MoSold_6  MoSold_7  MoSold_8  MoSold_9  \\\n",
       "Id                                                                         \n",
       "1          0         0         0         0         0         0         0   \n",
       "2          0         0         1         0         0         0         0   \n",
       "3          0         0         0         0         0         0         1   \n",
       "\n",
       "    MoSold_10  MoSold_11  MoSold_12  \n",
       "Id                                   \n",
       "1           0          0          0  \n",
       "2           0          0          0  \n",
       "3           0          0          0  "
      ]
     },
     "execution_count": 63,
     "metadata": {},
     "output_type": "execute_result"
    }
   ],
   "source": [
    "# use Id column for indexing\n",
    "data.set_index('Id', inplace=True)\n",
    "data.head(3)"
   ]
  },
  {
   "cell_type": "code",
   "execution_count": 64,
   "metadata": {},
   "outputs": [],
   "source": [
    "# update the list of relevant truly numeric columns\n",
    "\n",
    "col_real_num.remove('Id')\n",
    "col_real_num.remove('SalePrice')"
   ]
  },
  {
   "cell_type": "code",
   "execution_count": 65,
   "metadata": {},
   "outputs": [
    {
     "data": {
      "text/plain": [
       "(1095, 294)"
      ]
     },
     "metadata": {},
     "output_type": "display_data"
    },
    {
     "data": {
      "text/plain": [
       "(1095,)"
      ]
     },
     "metadata": {},
     "output_type": "display_data"
    }
   ],
   "source": [
    "# split data into train & test\n",
    "# will leave test data doing nothing until some final evaluation\n",
    "# (will tinker with cross-validation etc within the train data)\n",
    "\n",
    "from sklearn.model_selection import train_test_split\n",
    "X_train, X_test, y_train, y_test = train_test_split(data.loc[:, data.columns != 'SalePrice'], data['SalePrice'], random_state=0)\n",
    "\n",
    "display(X_train.shape)\n",
    "display(y_train.shape)"
   ]
  },
  {
   "cell_type": "code",
   "execution_count": 66,
   "metadata": {},
   "outputs": [
    {
     "data": {
      "text/plain": [
       "pandas.core.frame.DataFrame"
      ]
     },
     "execution_count": 66,
     "metadata": {},
     "output_type": "execute_result"
    }
   ],
   "source": [
    "type(X_train)"
   ]
  },
  {
   "cell_type": "markdown",
   "metadata": {},
   "source": [
    "## Obs! Only handle the train dataset from now on"
   ]
  },
  {
   "cell_type": "markdown",
   "metadata": {},
   "source": [
    "## Let's normalise truly numeric columns"
   ]
  },
  {
   "cell_type": "code",
   "execution_count": 67,
   "metadata": {},
   "outputs": [
    {
     "name": "stdout",
     "output_type": "stream",
     "text": [
      "Number of truly numeric columns is 34\n",
      "[0, 1, 2, 3, 4, 5, 6, 7, 8, 9, 10, 11, 12, 13, 14, 15, 16, 17, 18, 19, 20, 21, 22, 23, 24, 25, 26, 27, 28, 29, 30, 31, 32, 33]\n"
     ]
    }
   ],
   "source": [
    "# get ideces of the columns in the list col_real_num\n",
    "# (Because columns in numpy array don't have names => we'll need to use indeces to access them for sklearn operations)\n",
    "col_real_num_index = [data.columns.get_loc(c) for c in col_real_num if c in data]\n",
    "\n",
    "print(\"Number of truly numeric columns is {}\".format(len(col_real_num_index)))\n",
    "print(col_real_num_index)"
   ]
  },
  {
   "cell_type": "code",
   "execution_count": 68,
   "metadata": {},
   "outputs": [
    {
     "data": {
      "text/plain": [
       "ColumnTransformer(remainder='passthrough',\n",
       "                  transformers=[('rob_scaler', RobustScaler(),\n",
       "                                 [0, 1, 2, 3, 4, 5, 6, 7, 8, 9, 10, 11, 12, 13,\n",
       "                                  14, 15, 16, 17, 18, 19, 20, 21, 22, 23, 24,\n",
       "                                  25, 26, 27, 28, 29, ...])])"
      ]
     },
     "execution_count": 68,
     "metadata": {},
     "output_type": "execute_result"
    }
   ],
   "source": [
    "from sklearn.compose import ColumnTransformer\n",
    "from sklearn.preprocessing import RobustScaler\n",
    "\n",
    "# make column transformer that scales the desired truly numeric columns\n",
    "# BTW columns in numpy array don't have names, need to use indeces to access them\n",
    "col_tran = ColumnTransformer([(\"rob_scaler\", RobustScaler(), col_real_num_index)], remainder='passthrough')\n",
    "\n",
    "# fit & apply the column transformer on X_train data\n",
    "col_tran.fit(X_train)"
   ]
  },
  {
   "cell_type": "markdown",
   "metadata": {},
   "source": [
    "## Let's just do a few quick predictions"
   ]
  },
  {
   "cell_type": "code",
   "execution_count": 69,
   "metadata": {},
   "outputs": [
    {
     "data": {
      "text/plain": [
       "numpy.ndarray"
      ]
     },
     "execution_count": 69,
     "metadata": {},
     "output_type": "execute_result"
    }
   ],
   "source": [
    "# transform data\n",
    "\n",
    "X_train = col_tran.transform(X_train)\n",
    "X_test = col_tran.transform(X_test)\n",
    "\n",
    "type(X_train)"
   ]
  },
  {
   "cell_type": "code",
   "execution_count": 70,
   "metadata": {
    "scrolled": false
   },
   "outputs": [
    {
     "name": "stdout",
     "output_type": "stream",
     "text": [
      "Lasso for regression\n",
      "\n",
      "For alpha of 1,\tthe train score is 0.94 and the test score is 0.634.\n",
      "For alpha of 100,\tthe train score is 0.93 and the test score is 0.715.\n",
      "For alpha of 250,\tthe train score is 0.91 and the test score is 0.748.\n",
      "For alpha of 300,\tthe train score is 0.90 and the test score is 0.751.\n",
      "For alpha of 350,\tthe train score is 0.89 and the test score is 0.750.\n",
      "For alpha of 400,\tthe train score is 0.89 and the test score is 0.744.\n",
      "For alpha of 10000,\tthe train score is 0.74 and the test score is 0.650.\n"
     ]
    }
   ],
   "source": [
    "# Linear regression - Lasso\n",
    "print(\"Lasso for regression\\n\")\n",
    "\n",
    "from sklearn.linear_model import Lasso\n",
    "model = Lasso\n",
    "\n",
    "alpha_values = [1, 100, 250, 300, 350, 400, 10000]\n",
    "\n",
    "for alpha in alpha_values:\n",
    "    mo = model(alpha=alpha, max_iter=1000000).fit(X_train, y_train)\n",
    "    train_score = mo.score(X_train, y_train)\n",
    "    test_score = mo.score(X_test, y_test)\n",
    "    print(\"For alpha of {},\\tthe train score is {:.2f} and the test score is {:.3f}.\".format(\n",
    "        alpha, train_score, test_score)) "
   ]
  },
  {
   "cell_type": "code",
   "execution_count": 71,
   "metadata": {},
   "outputs": [],
   "source": [
    "# => Lasso with alpha=300 gives test_score = 0.751"
   ]
  },
  {
   "cell_type": "markdown",
   "metadata": {},
   "source": [
    "#### Hm - slow Lasso?\n",
    "1. Lasso was very slow and not very good (now fixed, does well)\n",
    "2. Ridge is really fast and does well\n",
    "\n",
    "=> why?\n",
    "==> it seems that's (partly) because I kept alpha too low (ie coefficients weren't pushed to zero much at all)<br>\n",
    "Ig you need a high alpha if you have loads of features or one-hot features or something?"
   ]
  },
  {
   "cell_type": "code",
   "execution_count": 72,
   "metadata": {
    "scrolled": true
   },
   "outputs": [
    {
     "name": "stdout",
     "output_type": "stream",
     "text": [
      "Ridge for regression\n",
      "\n",
      "For alpha of 0.1,\tthe train score is 0.94 and the test score is 0.618.\n",
      "For alpha of 1,\tthe train score is 0.94 and the test score is 0.701.\n",
      "For alpha of 5,\tthe train score is 0.92 and the test score is 0.745.\n",
      "For alpha of 10,\tthe train score is 0.92 and the test score is 0.751.\n",
      "For alpha of 15,\tthe train score is 0.91 and the test score is 0.752.\n",
      "For alpha of 20,\tthe train score is 0.91 and the test score is 0.751.\n",
      "For alpha of 25,\tthe train score is 0.91 and the test score is 0.750.\n",
      "For alpha of 30,\tthe train score is 0.91 and the test score is 0.749.\n",
      "For alpha of 35,\tthe train score is 0.91 and the test score is 0.748.\n",
      "For alpha of 40,\tthe train score is 0.90 and the test score is 0.746.\n",
      "For alpha of 50,\tthe train score is 0.90 and the test score is 0.744.\n",
      "For alpha of 100,\tthe train score is 0.89 and the test score is 0.737.\n"
     ]
    }
   ],
   "source": [
    "# Linear regression - Ridge\n",
    "print(\"Ridge for regression\\n\")\n",
    "\n",
    "from sklearn.linear_model import Ridge\n",
    "model = Ridge\n",
    "\n",
    "alpha_values = [0.1, 1, 5, 10, 15, 20, 25, 30, 35, 40, 50, 100]\n",
    "\n",
    "for alpha in alpha_values:\n",
    "    mo = model(alpha=alpha, max_iter=100000).fit(X_train, y_train)\n",
    "    train_score = mo.score(X_train, y_train)\n",
    "    test_score = mo.score(X_test, y_test)\n",
    "    print(\"For alpha of {},\\tthe train score is {:.2f} and the test score is {:.3f}.\".format(\n",
    "        alpha, train_score, test_score)) "
   ]
  },
  {
   "cell_type": "code",
   "execution_count": 73,
   "metadata": {},
   "outputs": [],
   "source": [
    "# => Ridge with alpha=15 gives test_score = 0.752"
   ]
  },
  {
   "cell_type": "code",
   "execution_count": 74,
   "metadata": {
    "scrolled": true
   },
   "outputs": [
    {
     "name": "stdout",
     "output_type": "stream",
     "text": [
      "Gradient boosted tree for regression\n",
      "\n",
      "Learning rates\n",
      "\n",
      "For learning_rate of 0.1,\tthe R^2 train score is 0.99 and the test score is 0.914.\n",
      "The RMSE for train is 7111\tand for test it's 23770\n",
      "For learning_rate of 0.109,\tthe R^2 train score is 0.99 and the test score is 0.914.\n",
      "The RMSE for train is 6879\tand for test it's 23816\n",
      "For learning_rate of 0.11,\tthe R^2 train score is 0.99 and the test score is 0.923.\n",
      "The RMSE for train is 6624\tand for test it's 22596\n",
      "For learning_rate of 0.111,\tthe R^2 train score is 0.99 and the test score is 0.899.\n",
      "The RMSE for train is 6701\tand for test it's 25847\n",
      "For learning_rate of 0.12,\tthe R^2 train score is 0.99 and the test score is 0.908.\n",
      "The RMSE for train is 6240\tand for test it's 24635\n",
      "For learning_rate of 0.2,\tthe R^2 train score is 1.00 and the test score is 0.897.\n",
      "The RMSE for train is 3799\tand for test it's 26070\n",
      "\n",
      "Max depths\n",
      "\n",
      "For max_depth of 1,\tthe train score is 0.96 and the test score is 0.91.\n",
      "For max_depth of 2,\tthe train score is 0.99 and the test score is 0.92.\n",
      "For max_depth of 3,\tthe train score is 1.00 and the test score is 0.89.\n",
      "For max_depth of 4,\tthe train score is 1.00 and the test score is 0.89.\n"
     ]
    }
   ],
   "source": [
    "# Gradient boosted tree for regression\n",
    "print(\"Gradient boosted tree for regression\\n\")\n",
    "\n",
    "from sklearn.ensemble import GradientBoostingRegressor\n",
    "model = GradientBoostingRegressor\n",
    "\n",
    "from sklearn.metrics import mean_squared_error\n",
    "error = mean_squared_error\n",
    "\n",
    "random_state = 10\n",
    "n_estimators=1000\n",
    "\n",
    "# try out different learning rates\n",
    "print(\"Learning rates\\n\")\n",
    "learning_rates = [0.1, 0.109, 0.11, 0.111, 0.12, 0.2]\n",
    "\n",
    "for learning_rate in learning_rates:\n",
    "    mo = model(learning_rate = learning_rate, n_estimators=n_estimators, random_state=random_state, max_depth=2).fit(X_train, y_train)\n",
    "    # n_estimators=100 by default\n",
    "    # max_dept=3 by default\n",
    "    train_score = mo.score(X_train, y_train)\n",
    "    test_score = mo.score(X_test, y_test)\n",
    "    mse_train = error(y_train, mo.predict(X_train), squared=False)\n",
    "    mse_test = error(y_test, mo.predict(X_test), squared=False)\n",
    "    print(\"For learning_rate of {},\\tthe R^2 train score is {:.2f} and the test score is {:.3f}.\\nThe RMSE for train is {:.0f}\\tand for test it's {:.0f}\".format(\n",
    "        learning_rate, train_score, test_score, mse_train, mse_test)) \n",
    "    #print(\"mo.feature_importances_\", mo.feature_importances_)\n",
    "    \n",
    "# try out different depths\n",
    "print(\"\\nMax depths\\n\")\n",
    "depths = [1, 2, 3, 4]\n",
    "\n",
    "for max_depth in depths:\n",
    "    mo = model(max_depth = max_depth, learning_rate=0.11, random_state=random_state, n_estimators=n_estimators).fit(X_train, y_train)\n",
    "    # learning_rate=0.1 by default\n",
    "    train_score = mo.score(X_train, y_train)\n",
    "    test_score = mo.score(X_test, y_test)\n",
    "    print(\"For max_depth of {},\\tthe train score is {:.2f} and the test score is {:.2f}.\".format(\n",
    "        max_depth, train_score, test_score)) \n",
    "    #print(\"mo.feature_importances_\", mo.feature_importances_)\n",
    "\n",
    "# could really do a grid-search for the hyperparameters here, Ig"
   ]
  },
  {
   "cell_type": "code",
   "execution_count": 75,
   "metadata": {},
   "outputs": [],
   "source": [
    "# => After playing around, it seems that the best I can do (while n_estimators=100) could be something like:\n",
    "# learning_rate=0.11, max_depth=2\n",
    "# test_score = 0.90\n",
    "\n",
    "# With more trees, things could get better: (n_estimators=1000)\n",
    "# learning_rate=0.11, max_depth=2\n",
    "# test_score = 0.923"
   ]
  },
  {
   "cell_type": "markdown",
   "metadata": {},
   "source": [
    "### Kenny: R-squared describes correlation. What we want is to know how close the prediction is to the true value<br>=> mean squared value<br><br>=> some attempt at checking errors: RMSE and RMSPE"
   ]
  },
  {
   "cell_type": "code",
   "execution_count": 76,
   "metadata": {},
   "outputs": [],
   "source": [
    "model = GradientBoostingRegressor\n",
    "mo = model(learning_rate = 0.11, n_estimators=1000, random_state=10, max_depth=2).fit(X_train, y_train)"
   ]
  },
  {
   "cell_type": "code",
   "execution_count": 77,
   "metadata": {},
   "outputs": [
    {
     "name": "stdout",
     "output_type": "stream",
     "text": [
      "For the test data set, R^2 score is 0.923 and RMSE is 22596\n"
     ]
    }
   ],
   "source": [
    "error = mean_squared_error\n",
    "er = error(y_test, mo.predict(X_test), squared=False)\n",
    "\n",
    "print(\"For the test data set, R^2 score is {:0.3f} and RMSE is {:0.0f}\".format(mo.score(X_test, y_test), er))"
   ]
  },
  {
   "cell_type": "code",
   "execution_count": 78,
   "metadata": {},
   "outputs": [
    {
     "data": {
      "text/html": [
       "<div>\n",
       "<style scoped>\n",
       "    .dataframe tbody tr th:only-of-type {\n",
       "        vertical-align: middle;\n",
       "    }\n",
       "\n",
       "    .dataframe tbody tr th {\n",
       "        vertical-align: top;\n",
       "    }\n",
       "\n",
       "    .dataframe thead th {\n",
       "        text-align: right;\n",
       "    }\n",
       "</style>\n",
       "<table border=\"1\" class=\"dataframe\">\n",
       "  <thead>\n",
       "    <tr style=\"text-align: right;\">\n",
       "      <th></th>\n",
       "      <th>0</th>\n",
       "    </tr>\n",
       "  </thead>\n",
       "  <tbody>\n",
       "    <tr>\n",
       "      <th>0</th>\n",
       "      <td>250170.278876</td>\n",
       "    </tr>\n",
       "    <tr>\n",
       "      <th>1</th>\n",
       "      <td>151378.353212</td>\n",
       "    </tr>\n",
       "    <tr>\n",
       "      <th>2</th>\n",
       "      <td>112437.226657</td>\n",
       "    </tr>\n",
       "    <tr>\n",
       "      <th>3</th>\n",
       "      <td>214759.058579</td>\n",
       "    </tr>\n",
       "    <tr>\n",
       "      <th>4</th>\n",
       "      <td>91940.542459</td>\n",
       "    </tr>\n",
       "    <tr>\n",
       "      <th>...</th>\n",
       "      <td>...</td>\n",
       "    </tr>\n",
       "    <tr>\n",
       "      <th>360</th>\n",
       "      <td>348369.705859</td>\n",
       "    </tr>\n",
       "    <tr>\n",
       "      <th>361</th>\n",
       "      <td>190128.207728</td>\n",
       "    </tr>\n",
       "    <tr>\n",
       "      <th>362</th>\n",
       "      <td>225397.240064</td>\n",
       "    </tr>\n",
       "    <tr>\n",
       "      <th>363</th>\n",
       "      <td>257310.878629</td>\n",
       "    </tr>\n",
       "    <tr>\n",
       "      <th>364</th>\n",
       "      <td>97259.927547</td>\n",
       "    </tr>\n",
       "  </tbody>\n",
       "</table>\n",
       "<p>365 rows × 1 columns</p>\n",
       "</div>"
      ],
      "text/plain": [
       "                 0\n",
       "0    250170.278876\n",
       "1    151378.353212\n",
       "2    112437.226657\n",
       "3    214759.058579\n",
       "4     91940.542459\n",
       "..             ...\n",
       "360  348369.705859\n",
       "361  190128.207728\n",
       "362  225397.240064\n",
       "363  257310.878629\n",
       "364   97259.927547\n",
       "\n",
       "[365 rows x 1 columns]"
      ]
     },
     "metadata": {},
     "output_type": "display_data"
    },
    {
     "data": {
      "text/html": [
       "<div>\n",
       "<style scoped>\n",
       "    .dataframe tbody tr th:only-of-type {\n",
       "        vertical-align: middle;\n",
       "    }\n",
       "\n",
       "    .dataframe tbody tr th {\n",
       "        vertical-align: top;\n",
       "    }\n",
       "\n",
       "    .dataframe thead th {\n",
       "        text-align: right;\n",
       "    }\n",
       "</style>\n",
       "<table border=\"1\" class=\"dataframe\">\n",
       "  <thead>\n",
       "    <tr style=\"text-align: right;\">\n",
       "      <th></th>\n",
       "      <th>SalePrice</th>\n",
       "    </tr>\n",
       "    <tr>\n",
       "      <th>Id</th>\n",
       "      <th></th>\n",
       "    </tr>\n",
       "  </thead>\n",
       "  <tbody>\n",
       "    <tr>\n",
       "      <th>530</th>\n",
       "      <td>200624</td>\n",
       "    </tr>\n",
       "    <tr>\n",
       "      <th>492</th>\n",
       "      <td>133000</td>\n",
       "    </tr>\n",
       "    <tr>\n",
       "      <th>460</th>\n",
       "      <td>110000</td>\n",
       "    </tr>\n",
       "    <tr>\n",
       "      <th>280</th>\n",
       "      <td>192000</td>\n",
       "    </tr>\n",
       "    <tr>\n",
       "      <th>656</th>\n",
       "      <td>88000</td>\n",
       "    </tr>\n",
       "    <tr>\n",
       "      <th>...</th>\n",
       "      <td>...</td>\n",
       "    </tr>\n",
       "    <tr>\n",
       "      <th>584</th>\n",
       "      <td>325000</td>\n",
       "    </tr>\n",
       "    <tr>\n",
       "      <th>1246</th>\n",
       "      <td>178000</td>\n",
       "    </tr>\n",
       "    <tr>\n",
       "      <th>1391</th>\n",
       "      <td>235000</td>\n",
       "    </tr>\n",
       "    <tr>\n",
       "      <th>1376</th>\n",
       "      <td>239000</td>\n",
       "    </tr>\n",
       "    <tr>\n",
       "      <th>639</th>\n",
       "      <td>85000</td>\n",
       "    </tr>\n",
       "  </tbody>\n",
       "</table>\n",
       "<p>365 rows × 1 columns</p>\n",
       "</div>"
      ],
      "text/plain": [
       "      SalePrice\n",
       "Id             \n",
       "530      200624\n",
       "492      133000\n",
       "460      110000\n",
       "280      192000\n",
       "656       88000\n",
       "...         ...\n",
       "584      325000\n",
       "1246     178000\n",
       "1391     235000\n",
       "1376     239000\n",
       "639       85000\n",
       "\n",
       "[365 rows x 1 columns]"
      ]
     },
     "metadata": {},
     "output_type": "display_data"
    },
    {
     "name": "stdout",
     "output_type": "stream",
     "text": [
      "RMSPE is 13.58\n",
      "RMSE is 22596\n"
     ]
    }
   ],
   "source": [
    "predicted_price = mo.predict(X_test)\n",
    "true_price = y_test\n",
    "display(pd.DataFrame(predicted_price))\n",
    "display(pd.DataFrame(true_price))\n",
    "\n",
    "rmspe = (np.sqrt(np.mean(np.square((true_price - predicted_price) / true_price)))) * 100\n",
    "print(\"RMSPE is {:.2f}\".format(rmspe))\n",
    "\n",
    "rmse = (np.sqrt(np.mean(np.square(true_price - predicted_price))))\n",
    "print(\"RMSE is {:.0f}\".format(rmse))"
   ]
  },
  {
   "cell_type": "markdown",
   "metadata": {},
   "source": [
    "## Let's cluster house SalePrice, for fun"
   ]
  },
  {
   "cell_type": "code",
   "execution_count": 79,
   "metadata": {},
   "outputs": [
    {
     "data": {
      "image/png": "[encoded data removed]",
      "text/plain": [
       "<Figure size 432x288 with 1 Axes>"
      ]
     },
     "metadata": {},
     "output_type": "display_data"
    }
   ],
   "source": [
    "plt.style.use('seaborn-whitegrid')\n",
    "plt.hist(y_test, bins=100);"
   ]
  },
  {
   "cell_type": "code",
   "execution_count": 80,
   "metadata": {
    "scrolled": true
   },
   "outputs": [
    {
     "name": "stdout",
     "output_type": "stream",
     "text": [
      "k-means clustering for SalePrice\n"
     ]
    },
    {
     "data": {
      "text/plain": [
       "array([[300000.],\n",
       "       [140000.],\n",
       "       [240000.],\n",
       "       [ 90000.],\n",
       "       [630000.],\n",
       "       [410000.],\n",
       "       [180000.]])"
      ]
     },
     "execution_count": 80,
     "metadata": {},
     "output_type": "execute_result"
    }
   ],
   "source": [
    "from sklearn.cluster import KMeans\n",
    "print(\"k-means clustering for SalePrice\")\n",
    "\n",
    "model = KMeans\n",
    "\n",
    "reshaped = y_train.to_numpy().reshape(-1,1)\n",
    "mo = model(n_clusters=7, random_state=0).fit(reshaped)\n",
    "\n",
    "# rounding numbers inside numpy array\n",
    "# decimals = Number of decimal places to round to (default: 0).\n",
    "# If decimals is negative, it specifies the number of positions to the left of the decimal point. => so cool!\n",
    "np.around(mo.cluster_centers_, decimals=-4)"
   ]
  },
  {
   "cell_type": "code",
   "execution_count": 81,
   "metadata": {},
   "outputs": [],
   "source": [
    "# => not sure it's that useful\n",
    "# would be nice to indicate cluster centres on the plot of all house values"
   ]
  },
  {
   "cell_type": "markdown",
   "metadata": {},
   "source": [
    "## Let's try grid search with cross validation\n",
    "\n",
    "Eg for SVM"
   ]
  },
  {
   "cell_type": "code",
   "execution_count": 82,
   "metadata": {
    "scrolled": true
   },
   "outputs": [
    {
     "name": "stdout",
     "output_type": "stream",
     "text": [
      "Support vector machine for regression. With grid search + cross validation\n",
      "The best parameters are:\n"
     ]
    },
    {
     "data": {
      "text/plain": [
       "{'C': 100, 'epsilon': 0.01, 'kernel': 'linear'}"
      ]
     },
     "metadata": {},
     "output_type": "display_data"
    },
    {
     "name": "stdout",
     "output_type": "stream",
     "text": [
      "And the score is 0.715\n"
     ]
    },
    {
     "data": {
      "text/html": [
       "<div>\n",
       "<style scoped>\n",
       "    .dataframe tbody tr th:only-of-type {\n",
       "        vertical-align: middle;\n",
       "    }\n",
       "\n",
       "    .dataframe tbody tr th {\n",
       "        vertical-align: top;\n",
       "    }\n",
       "\n",
       "    .dataframe thead th {\n",
       "        text-align: right;\n",
       "    }\n",
       "</style>\n",
       "<table border=\"1\" class=\"dataframe\">\n",
       "  <thead>\n",
       "    <tr style=\"text-align: right;\">\n",
       "      <th></th>\n",
       "      <th>mean_fit_time</th>\n",
       "      <th>std_fit_time</th>\n",
       "      <th>mean_score_time</th>\n",
       "      <th>std_score_time</th>\n",
       "      <th>param_C</th>\n",
       "      <th>param_epsilon</th>\n",
       "      <th>param_kernel</th>\n",
       "      <th>params</th>\n",
       "      <th>split0_test_score</th>\n",
       "      <th>split1_test_score</th>\n",
       "      <th>split2_test_score</th>\n",
       "      <th>split3_test_score</th>\n",
       "      <th>split4_test_score</th>\n",
       "      <th>mean_test_score</th>\n",
       "      <th>std_test_score</th>\n",
       "      <th>rank_test_score</th>\n",
       "    </tr>\n",
       "  </thead>\n",
       "  <tbody>\n",
       "    <tr>\n",
       "      <th>12</th>\n",
       "      <td>8.910163</td>\n",
       "      <td>4.722469</td>\n",
       "      <td>0.137039</td>\n",
       "      <td>0.031205</td>\n",
       "      <td>100</td>\n",
       "      <td>0.01</td>\n",
       "      <td>linear</td>\n",
       "      <td>{'C': 100, 'epsilon': 0.01, 'kernel': 'linear'}</td>\n",
       "      <td>0.852975</td>\n",
       "      <td>0.760361</td>\n",
       "      <td>0.827509</td>\n",
       "      <td>0.794184</td>\n",
       "      <td>0.860235</td>\n",
       "      <td>0.819053</td>\n",
       "      <td>0.037367</td>\n",
       "      <td>1</td>\n",
       "    </tr>\n",
       "    <tr>\n",
       "      <th>14</th>\n",
       "      <td>9.221209</td>\n",
       "      <td>5.993975</td>\n",
       "      <td>0.153244</td>\n",
       "      <td>0.000165</td>\n",
       "      <td>100</td>\n",
       "      <td>0.2</td>\n",
       "      <td>linear</td>\n",
       "      <td>{'C': 100, 'epsilon': 0.2, 'kernel': 'linear'}</td>\n",
       "      <td>0.852975</td>\n",
       "      <td>0.760360</td>\n",
       "      <td>0.827509</td>\n",
       "      <td>0.794183</td>\n",
       "      <td>0.860235</td>\n",
       "      <td>0.819053</td>\n",
       "      <td>0.037367</td>\n",
       "      <td>2</td>\n",
       "    </tr>\n",
       "    <tr>\n",
       "      <th>16</th>\n",
       "      <td>7.377150</td>\n",
       "      <td>3.595847</td>\n",
       "      <td>0.153486</td>\n",
       "      <td>0.000360</td>\n",
       "      <td>100</td>\n",
       "      <td>1</td>\n",
       "      <td>linear</td>\n",
       "      <td>{'C': 100, 'epsilon': 1, 'kernel': 'linear'}</td>\n",
       "      <td>0.852974</td>\n",
       "      <td>0.760358</td>\n",
       "      <td>0.827510</td>\n",
       "      <td>0.794180</td>\n",
       "      <td>0.860236</td>\n",
       "      <td>0.819052</td>\n",
       "      <td>0.037368</td>\n",
       "      <td>3</td>\n",
       "    </tr>\n",
       "    <tr>\n",
       "      <th>6</th>\n",
       "      <td>0.907344</td>\n",
       "      <td>0.101153</td>\n",
       "      <td>0.153809</td>\n",
       "      <td>0.000608</td>\n",
       "      <td>10</td>\n",
       "      <td>0.01</td>\n",
       "      <td>linear</td>\n",
       "      <td>{'C': 10, 'epsilon': 0.01, 'kernel': 'linear'}</td>\n",
       "      <td>0.599063</td>\n",
       "      <td>0.526270</td>\n",
       "      <td>0.552694</td>\n",
       "      <td>0.542771</td>\n",
       "      <td>0.626959</td>\n",
       "      <td>0.569551</td>\n",
       "      <td>0.037526</td>\n",
       "      <td>4</td>\n",
       "    </tr>\n",
       "    <tr>\n",
       "      <th>8</th>\n",
       "      <td>0.891026</td>\n",
       "      <td>0.105163</td>\n",
       "      <td>0.153625</td>\n",
       "      <td>0.000461</td>\n",
       "      <td>10</td>\n",
       "      <td>0.2</td>\n",
       "      <td>linear</td>\n",
       "      <td>{'C': 10, 'epsilon': 0.2, 'kernel': 'linear'}</td>\n",
       "      <td>0.599064</td>\n",
       "      <td>0.526268</td>\n",
       "      <td>0.552694</td>\n",
       "      <td>0.542770</td>\n",
       "      <td>0.626959</td>\n",
       "      <td>0.569551</td>\n",
       "      <td>0.037527</td>\n",
       "      <td>5</td>\n",
       "    </tr>\n",
       "    <tr>\n",
       "      <th>10</th>\n",
       "      <td>0.938009</td>\n",
       "      <td>0.113233</td>\n",
       "      <td>0.153504</td>\n",
       "      <td>0.000732</td>\n",
       "      <td>10</td>\n",
       "      <td>1</td>\n",
       "      <td>linear</td>\n",
       "      <td>{'C': 10, 'epsilon': 1, 'kernel': 'linear'}</td>\n",
       "      <td>0.599069</td>\n",
       "      <td>0.526263</td>\n",
       "      <td>0.552696</td>\n",
       "      <td>0.542766</td>\n",
       "      <td>0.626958</td>\n",
       "      <td>0.569550</td>\n",
       "      <td>0.037529</td>\n",
       "      <td>6</td>\n",
       "    </tr>\n",
       "    <tr>\n",
       "      <th>4</th>\n",
       "      <td>0.697003</td>\n",
       "      <td>0.015232</td>\n",
       "      <td>0.153435</td>\n",
       "      <td>0.000926</td>\n",
       "      <td>1</td>\n",
       "      <td>1</td>\n",
       "      <td>linear</td>\n",
       "      <td>{'C': 1.0, 'epsilon': 1, 'kernel': 'linear'}</td>\n",
       "      <td>0.379921</td>\n",
       "      <td>0.299475</td>\n",
       "      <td>0.319955</td>\n",
       "      <td>0.349055</td>\n",
       "      <td>0.404934</td>\n",
       "      <td>0.350668</td>\n",
       "      <td>0.038385</td>\n",
       "      <td>7</td>\n",
       "    </tr>\n",
       "    <tr>\n",
       "      <th>2</th>\n",
       "      <td>0.700667</td>\n",
       "      <td>0.019306</td>\n",
       "      <td>0.152225</td>\n",
       "      <td>0.003779</td>\n",
       "      <td>1</td>\n",
       "      <td>0.2</td>\n",
       "      <td>linear</td>\n",
       "      <td>{'C': 1.0, 'epsilon': 0.2, 'kernel': 'linear'}</td>\n",
       "      <td>0.379918</td>\n",
       "      <td>0.299482</td>\n",
       "      <td>0.319956</td>\n",
       "      <td>0.349050</td>\n",
       "      <td>0.404931</td>\n",
       "      <td>0.350667</td>\n",
       "      <td>0.038382</td>\n",
       "      <td>8</td>\n",
       "    </tr>\n",
       "    <tr>\n",
       "      <th>0</th>\n",
       "      <td>0.700796</td>\n",
       "      <td>0.016300</td>\n",
       "      <td>0.152825</td>\n",
       "      <td>0.002120</td>\n",
       "      <td>1</td>\n",
       "      <td>0.01</td>\n",
       "      <td>linear</td>\n",
       "      <td>{'C': 1.0, 'epsilon': 0.01, 'kernel': 'linear'}</td>\n",
       "      <td>0.379917</td>\n",
       "      <td>0.299484</td>\n",
       "      <td>0.319957</td>\n",
       "      <td>0.349049</td>\n",
       "      <td>0.404930</td>\n",
       "      <td>0.350667</td>\n",
       "      <td>0.038381</td>\n",
       "      <td>9</td>\n",
       "    </tr>\n",
       "    <tr>\n",
       "      <th>13</th>\n",
       "      <td>0.716815</td>\n",
       "      <td>0.001434</td>\n",
       "      <td>0.171132</td>\n",
       "      <td>0.000946</td>\n",
       "      <td>100</td>\n",
       "      <td>0.01</td>\n",
       "      <td>rbf</td>\n",
       "      <td>{'C': 100, 'epsilon': 0.01, 'kernel': 'rbf'}</td>\n",
       "      <td>-0.011084</td>\n",
       "      <td>-0.097977</td>\n",
       "      <td>-0.095109</td>\n",
       "      <td>-0.035280</td>\n",
       "      <td>-0.010526</td>\n",
       "      <td>-0.049995</td>\n",
       "      <td>0.039054</td>\n",
       "      <td>10</td>\n",
       "    </tr>\n",
       "    <tr>\n",
       "      <th>15</th>\n",
       "      <td>0.714233</td>\n",
       "      <td>0.002839</td>\n",
       "      <td>0.170643</td>\n",
       "      <td>0.000431</td>\n",
       "      <td>100</td>\n",
       "      <td>0.2</td>\n",
       "      <td>rbf</td>\n",
       "      <td>{'C': 100, 'epsilon': 0.2, 'kernel': 'rbf'}</td>\n",
       "      <td>-0.011084</td>\n",
       "      <td>-0.097977</td>\n",
       "      <td>-0.095109</td>\n",
       "      <td>-0.035280</td>\n",
       "      <td>-0.010526</td>\n",
       "      <td>-0.049995</td>\n",
       "      <td>0.039054</td>\n",
       "      <td>10</td>\n",
       "    </tr>\n",
       "    <tr>\n",
       "      <th>17</th>\n",
       "      <td>0.681923</td>\n",
       "      <td>0.079043</td>\n",
       "      <td>0.171221</td>\n",
       "      <td>0.024964</td>\n",
       "      <td>100</td>\n",
       "      <td>1</td>\n",
       "      <td>rbf</td>\n",
       "      <td>{'C': 100, 'epsilon': 1, 'kernel': 'rbf'}</td>\n",
       "      <td>-0.011084</td>\n",
       "      <td>-0.097977</td>\n",
       "      <td>-0.095109</td>\n",
       "      <td>-0.035280</td>\n",
       "      <td>-0.010526</td>\n",
       "      <td>-0.049995</td>\n",
       "      <td>0.039054</td>\n",
       "      <td>10</td>\n",
       "    </tr>\n",
       "    <tr>\n",
       "      <th>7</th>\n",
       "      <td>0.717276</td>\n",
       "      <td>0.006608</td>\n",
       "      <td>0.169841</td>\n",
       "      <td>0.002076</td>\n",
       "      <td>10</td>\n",
       "      <td>0.01</td>\n",
       "      <td>rbf</td>\n",
       "      <td>{'C': 10, 'epsilon': 0.01, 'kernel': 'rbf'}</td>\n",
       "      <td>-0.015556</td>\n",
       "      <td>-0.103555</td>\n",
       "      <td>-0.118141</td>\n",
       "      <td>-0.037824</td>\n",
       "      <td>-0.017425</td>\n",
       "      <td>-0.058500</td>\n",
       "      <td>0.043694</td>\n",
       "      <td>13</td>\n",
       "    </tr>\n",
       "    <tr>\n",
       "      <th>9</th>\n",
       "      <td>0.719145</td>\n",
       "      <td>0.006707</td>\n",
       "      <td>0.171295</td>\n",
       "      <td>0.001016</td>\n",
       "      <td>10</td>\n",
       "      <td>0.2</td>\n",
       "      <td>rbf</td>\n",
       "      <td>{'C': 10, 'epsilon': 0.2, 'kernel': 'rbf'}</td>\n",
       "      <td>-0.015556</td>\n",
       "      <td>-0.103555</td>\n",
       "      <td>-0.118141</td>\n",
       "      <td>-0.037824</td>\n",
       "      <td>-0.017426</td>\n",
       "      <td>-0.058500</td>\n",
       "      <td>0.043694</td>\n",
       "      <td>14</td>\n",
       "    </tr>\n",
       "    <tr>\n",
       "      <th>11</th>\n",
       "      <td>0.715251</td>\n",
       "      <td>0.001521</td>\n",
       "      <td>0.170211</td>\n",
       "      <td>0.000837</td>\n",
       "      <td>10</td>\n",
       "      <td>1</td>\n",
       "      <td>rbf</td>\n",
       "      <td>{'C': 10, 'epsilon': 1, 'kernel': 'rbf'}</td>\n",
       "      <td>-0.015556</td>\n",
       "      <td>-0.103555</td>\n",
       "      <td>-0.118141</td>\n",
       "      <td>-0.037824</td>\n",
       "      <td>-0.017428</td>\n",
       "      <td>-0.058501</td>\n",
       "      <td>0.043693</td>\n",
       "      <td>15</td>\n",
       "    </tr>\n",
       "    <tr>\n",
       "      <th>1</th>\n",
       "      <td>0.715473</td>\n",
       "      <td>0.005801</td>\n",
       "      <td>0.170955</td>\n",
       "      <td>0.000697</td>\n",
       "      <td>1</td>\n",
       "      <td>0.01</td>\n",
       "      <td>rbf</td>\n",
       "      <td>{'C': 1.0, 'epsilon': 0.01, 'kernel': 'rbf'}</td>\n",
       "      <td>-0.016207</td>\n",
       "      <td>-0.104127</td>\n",
       "      <td>-0.120269</td>\n",
       "      <td>-0.038091</td>\n",
       "      <td>-0.018059</td>\n",
       "      <td>-0.059350</td>\n",
       "      <td>0.044123</td>\n",
       "      <td>16</td>\n",
       "    </tr>\n",
       "    <tr>\n",
       "      <th>5</th>\n",
       "      <td>0.715021</td>\n",
       "      <td>0.002471</td>\n",
       "      <td>0.170092</td>\n",
       "      <td>0.000919</td>\n",
       "      <td>1</td>\n",
       "      <td>1</td>\n",
       "      <td>rbf</td>\n",
       "      <td>{'C': 1.0, 'epsilon': 1, 'kernel': 'rbf'}</td>\n",
       "      <td>-0.016207</td>\n",
       "      <td>-0.104127</td>\n",
       "      <td>-0.120269</td>\n",
       "      <td>-0.038091</td>\n",
       "      <td>-0.018059</td>\n",
       "      <td>-0.059351</td>\n",
       "      <td>0.044123</td>\n",
       "      <td>17</td>\n",
       "    </tr>\n",
       "    <tr>\n",
       "      <th>3</th>\n",
       "      <td>0.723445</td>\n",
       "      <td>0.014422</td>\n",
       "      <td>0.172118</td>\n",
       "      <td>0.002241</td>\n",
       "      <td>1</td>\n",
       "      <td>0.2</td>\n",
       "      <td>rbf</td>\n",
       "      <td>{'C': 1.0, 'epsilon': 0.2, 'kernel': 'rbf'}</td>\n",
       "      <td>-0.016207</td>\n",
       "      <td>-0.104127</td>\n",
       "      <td>-0.120269</td>\n",
       "      <td>-0.038091</td>\n",
       "      <td>-0.018059</td>\n",
       "      <td>-0.059351</td>\n",
       "      <td>0.044123</td>\n",
       "      <td>18</td>\n",
       "    </tr>\n",
       "  </tbody>\n",
       "</table>\n",
       "</div>"
      ],
      "text/plain": [
       "    mean_fit_time  std_fit_time  mean_score_time  std_score_time param_C  \\\n",
       "12       8.910163      4.722469         0.137039        0.031205     100   \n",
       "14       9.221209      5.993975         0.153244        0.000165     100   \n",
       "16       7.377150      3.595847         0.153486        0.000360     100   \n",
       "6        0.907344      0.101153         0.153809        0.000608      10   \n",
       "8        0.891026      0.105163         0.153625        0.000461      10   \n",
       "10       0.938009      0.113233         0.153504        0.000732      10   \n",
       "4        0.697003      0.015232         0.153435        0.000926       1   \n",
       "2        0.700667      0.019306         0.152225        0.003779       1   \n",
       "0        0.700796      0.016300         0.152825        0.002120       1   \n",
       "13       0.716815      0.001434         0.171132        0.000946     100   \n",
       "15       0.714233      0.002839         0.170643        0.000431     100   \n",
       "17       0.681923      0.079043         0.171221        0.024964     100   \n",
       "7        0.717276      0.006608         0.169841        0.002076      10   \n",
       "9        0.719145      0.006707         0.171295        0.001016      10   \n",
       "11       0.715251      0.001521         0.170211        0.000837      10   \n",
       "1        0.715473      0.005801         0.170955        0.000697       1   \n",
       "5        0.715021      0.002471         0.170092        0.000919       1   \n",
       "3        0.723445      0.014422         0.172118        0.002241       1   \n",
       "\n",
       "   param_epsilon param_kernel  \\\n",
       "12          0.01       linear   \n",
       "14           0.2       linear   \n",
       "16             1       linear   \n",
       "6           0.01       linear   \n",
       "8            0.2       linear   \n",
       "10             1       linear   \n",
       "4              1       linear   \n",
       "2            0.2       linear   \n",
       "0           0.01       linear   \n",
       "13          0.01          rbf   \n",
       "15           0.2          rbf   \n",
       "17             1          rbf   \n",
       "7           0.01          rbf   \n",
       "9            0.2          rbf   \n",
       "11             1          rbf   \n",
       "1           0.01          rbf   \n",
       "5              1          rbf   \n",
       "3            0.2          rbf   \n",
       "\n",
       "                                             params  split0_test_score  \\\n",
       "12  {'C': 100, 'epsilon': 0.01, 'kernel': 'linear'}           0.852975   \n",
       "14   {'C': 100, 'epsilon': 0.2, 'kernel': 'linear'}           0.852975   \n",
       "16     {'C': 100, 'epsilon': 1, 'kernel': 'linear'}           0.852974   \n",
       "6    {'C': 10, 'epsilon': 0.01, 'kernel': 'linear'}           0.599063   \n",
       "8     {'C': 10, 'epsilon': 0.2, 'kernel': 'linear'}           0.599064   \n",
       "10      {'C': 10, 'epsilon': 1, 'kernel': 'linear'}           0.599069   \n",
       "4      {'C': 1.0, 'epsilon': 1, 'kernel': 'linear'}           0.379921   \n",
       "2    {'C': 1.0, 'epsilon': 0.2, 'kernel': 'linear'}           0.379918   \n",
       "0   {'C': 1.0, 'epsilon': 0.01, 'kernel': 'linear'}           0.379917   \n",
       "13     {'C': 100, 'epsilon': 0.01, 'kernel': 'rbf'}          -0.011084   \n",
       "15      {'C': 100, 'epsilon': 0.2, 'kernel': 'rbf'}          -0.011084   \n",
       "17        {'C': 100, 'epsilon': 1, 'kernel': 'rbf'}          -0.011084   \n",
       "7       {'C': 10, 'epsilon': 0.01, 'kernel': 'rbf'}          -0.015556   \n",
       "9        {'C': 10, 'epsilon': 0.2, 'kernel': 'rbf'}          -0.015556   \n",
       "11         {'C': 10, 'epsilon': 1, 'kernel': 'rbf'}          -0.015556   \n",
       "1      {'C': 1.0, 'epsilon': 0.01, 'kernel': 'rbf'}          -0.016207   \n",
       "5         {'C': 1.0, 'epsilon': 1, 'kernel': 'rbf'}          -0.016207   \n",
       "3       {'C': 1.0, 'epsilon': 0.2, 'kernel': 'rbf'}          -0.016207   \n",
       "\n",
       "    split1_test_score  split2_test_score  split3_test_score  \\\n",
       "12           0.760361           0.827509           0.794184   \n",
       "14           0.760360           0.827509           0.794183   \n",
       "16           0.760358           0.827510           0.794180   \n",
       "6            0.526270           0.552694           0.542771   \n",
       "8            0.526268           0.552694           0.542770   \n",
       "10           0.526263           0.552696           0.542766   \n",
       "4            0.299475           0.319955           0.349055   \n",
       "2            0.299482           0.319956           0.349050   \n",
       "0            0.299484           0.319957           0.349049   \n",
       "13          -0.097977          -0.095109          -0.035280   \n",
       "15          -0.097977          -0.095109          -0.035280   \n",
       "17          -0.097977          -0.095109          -0.035280   \n",
       "7           -0.103555          -0.118141          -0.037824   \n",
       "9           -0.103555          -0.118141          -0.037824   \n",
       "11          -0.103555          -0.118141          -0.037824   \n",
       "1           -0.104127          -0.120269          -0.038091   \n",
       "5           -0.104127          -0.120269          -0.038091   \n",
       "3           -0.104127          -0.120269          -0.038091   \n",
       "\n",
       "    split4_test_score  mean_test_score  std_test_score  rank_test_score  \n",
       "12           0.860235         0.819053        0.037367                1  \n",
       "14           0.860235         0.819053        0.037367                2  \n",
       "16           0.860236         0.819052        0.037368                3  \n",
       "6            0.626959         0.569551        0.037526                4  \n",
       "8            0.626959         0.569551        0.037527                5  \n",
       "10           0.626958         0.569550        0.037529                6  \n",
       "4            0.404934         0.350668        0.038385                7  \n",
       "2            0.404931         0.350667        0.038382                8  \n",
       "0            0.404930         0.350667        0.038381                9  \n",
       "13          -0.010526        -0.049995        0.039054               10  \n",
       "15          -0.010526        -0.049995        0.039054               10  \n",
       "17          -0.010526        -0.049995        0.039054               10  \n",
       "7           -0.017425        -0.058500        0.043694               13  \n",
       "9           -0.017426        -0.058500        0.043694               14  \n",
       "11          -0.017428        -0.058501        0.043693               15  \n",
       "1           -0.018059        -0.059350        0.044123               16  \n",
       "5           -0.018059        -0.059351        0.044123               17  \n",
       "3           -0.018059        -0.059351        0.044123               18  "
      ]
     },
     "metadata": {},
     "output_type": "display_data"
    }
   ],
   "source": [
    "from sklearn.svm import SVR\n",
    "from sklearn.model_selection import GridSearchCV\n",
    "\n",
    "print(\"Support vector machine for regression. With grid search + cross validation\")\n",
    "\n",
    "model = SVR()\n",
    "parameters = {'kernel':('linear', 'rbf'), 'C':[1.0, 10, 100], 'epsilon':[0.01, 0.2,1]}\n",
    "\n",
    "reg = GridSearchCV(model, parameters)\n",
    "reg.fit(X_train, y_train)\n",
    "\n",
    "print(\"The best parameters are:\")\n",
    "display(reg.best_params_)\n",
    "\n",
    "print(\"And the score is {:.3f}\".format(reg.score(X_test, y_test)))\n",
    "\n",
    "# full outcome of all the models that got tested in grid search\n",
    "all_params = pd.DataFrame(reg.cv_results_)\n",
    "\n",
    "# sort the models based on \"rank_test_score\"\n",
    "display(all_params.sort_values(by=[\"rank_test_score\"], ascending=True))"
   ]
  },
  {
   "cell_type": "code",
   "execution_count": 83,
   "metadata": {},
   "outputs": [
    {
     "name": "stdout",
     "output_type": "stream",
     "text": [
      "Support vector machine for regression. With grid search + cross validation\n",
      "The best parameters are:\n"
     ]
    },
    {
     "name": "stderr",
     "output_type": "stream",
     "text": [
      "/home/bkotryna/anaconda3/lib/python3.8/site-packages/sklearn/svm/_base.py:976: ConvergenceWarning: Liblinear failed to converge, increase the number of iterations.\n",
      "  warnings.warn(\"Liblinear failed to converge, increase \"\n"
     ]
    },
    {
     "data": {
      "text/plain": [
       "{'C': 850, 'epsilon': 0.25}"
      ]
     },
     "metadata": {},
     "output_type": "display_data"
    },
    {
     "name": "stdout",
     "output_type": "stream",
     "text": [
      "And the score is -40556.915\n"
     ]
    },
    {
     "data": {
      "text/html": [
       "<div>\n",
       "<style scoped>\n",
       "    .dataframe tbody tr th:only-of-type {\n",
       "        vertical-align: middle;\n",
       "    }\n",
       "\n",
       "    .dataframe tbody tr th {\n",
       "        vertical-align: top;\n",
       "    }\n",
       "\n",
       "    .dataframe thead th {\n",
       "        text-align: right;\n",
       "    }\n",
       "</style>\n",
       "<table border=\"1\" class=\"dataframe\">\n",
       "  <thead>\n",
       "    <tr style=\"text-align: right;\">\n",
       "      <th></th>\n",
       "      <th>mean_fit_time</th>\n",
       "      <th>std_fit_time</th>\n",
       "      <th>mean_score_time</th>\n",
       "      <th>std_score_time</th>\n",
       "      <th>param_C</th>\n",
       "      <th>param_epsilon</th>\n",
       "      <th>params</th>\n",
       "      <th>split0_test_score</th>\n",
       "      <th>mean_test_score</th>\n",
       "      <th>std_test_score</th>\n",
       "      <th>rank_test_score</th>\n",
       "    </tr>\n",
       "  </thead>\n",
       "  <tbody>\n",
       "    <tr>\n",
       "      <th>3</th>\n",
       "      <td>0.666511</td>\n",
       "      <td>0.0</td>\n",
       "      <td>0.000983</td>\n",
       "      <td>0.0</td>\n",
       "      <td>850</td>\n",
       "      <td>0.25</td>\n",
       "      <td>{'C': 850, 'epsilon': 0.25}</td>\n",
       "      <td>-34300.667954</td>\n",
       "      <td>-34300.667954</td>\n",
       "      <td>0.0</td>\n",
       "      <td>1</td>\n",
       "    </tr>\n",
       "    <tr>\n",
       "      <th>2</th>\n",
       "      <td>0.712533</td>\n",
       "      <td>0.0</td>\n",
       "      <td>0.000990</td>\n",
       "      <td>0.0</td>\n",
       "      <td>850</td>\n",
       "      <td>0.1</td>\n",
       "      <td>{'C': 850, 'epsilon': 0.1}</td>\n",
       "      <td>-34309.387532</td>\n",
       "      <td>-34309.387532</td>\n",
       "      <td>0.0</td>\n",
       "      <td>2</td>\n",
       "    </tr>\n",
       "    <tr>\n",
       "      <th>0</th>\n",
       "      <td>0.526585</td>\n",
       "      <td>0.0</td>\n",
       "      <td>0.001109</td>\n",
       "      <td>0.0</td>\n",
       "      <td>800</td>\n",
       "      <td>0.1</td>\n",
       "      <td>{'C': 800, 'epsilon': 0.1}</td>\n",
       "      <td>-34744.829994</td>\n",
       "      <td>-34744.829994</td>\n",
       "      <td>0.0</td>\n",
       "      <td>3</td>\n",
       "    </tr>\n",
       "    <tr>\n",
       "      <th>1</th>\n",
       "      <td>0.683803</td>\n",
       "      <td>0.0</td>\n",
       "      <td>0.000994</td>\n",
       "      <td>0.0</td>\n",
       "      <td>800</td>\n",
       "      <td>0.25</td>\n",
       "      <td>{'C': 800, 'epsilon': 0.25}</td>\n",
       "      <td>-34791.184593</td>\n",
       "      <td>-34791.184593</td>\n",
       "      <td>0.0</td>\n",
       "      <td>4</td>\n",
       "    </tr>\n",
       "  </tbody>\n",
       "</table>\n",
       "</div>"
      ],
      "text/plain": [
       "   mean_fit_time  std_fit_time  mean_score_time  std_score_time param_C  \\\n",
       "3       0.666511           0.0         0.000983             0.0     850   \n",
       "2       0.712533           0.0         0.000990             0.0     850   \n",
       "0       0.526585           0.0         0.001109             0.0     800   \n",
       "1       0.683803           0.0         0.000994             0.0     800   \n",
       "\n",
       "  param_epsilon                       params  split0_test_score  \\\n",
       "3          0.25  {'C': 850, 'epsilon': 0.25}      -34300.667954   \n",
       "2           0.1   {'C': 850, 'epsilon': 0.1}      -34309.387532   \n",
       "0           0.1   {'C': 800, 'epsilon': 0.1}      -34744.829994   \n",
       "1          0.25  {'C': 800, 'epsilon': 0.25}      -34791.184593   \n",
       "\n",
       "   mean_test_score  std_test_score  rank_test_score  \n",
       "3    -34300.667954             0.0                1  \n",
       "2    -34309.387532             0.0                2  \n",
       "0    -34744.829994             0.0                3  \n",
       "1    -34791.184593             0.0                4  "
      ]
     },
     "metadata": {},
     "output_type": "display_data"
    }
   ],
   "source": [
    "# to speed things up, let's use ShuffleSplit in cv to reduce the number of samples that are used\n",
    "# later addition - try MSE as the scoring parameter (after all, that's what we actually want to minimise atm)\n",
    "\n",
    "from sklearn.svm import LinearSVR\n",
    "from sklearn.model_selection import GridSearchCV\n",
    "from sklearn.model_selection import ShuffleSplit\n",
    "\n",
    "print(\"Support vector machine for regression. With grid search + cross validation\")\n",
    "\n",
    "model = LinearSVR(max_iter=1000000)\n",
    "parameters = {'C':[800, 850], 'epsilon':[0.1, 0.25]}\n",
    "\n",
    "# only use 10% of the data in total => hope things should be quicker\n",
    "shuffle_split = ShuffleSplit(train_size=0.07, test_size=0.03, n_splits=1)\n",
    "\n",
    "# default scoring='r2'\n",
    "reg = GridSearchCV(model, parameters, cv=shuffle_split, scoring='neg_root_mean_squared_error')\n",
    "reg.fit(X_train, y_train)\n",
    "\n",
    "print(\"The best parameters are:\")\n",
    "display(reg.best_params_)\n",
    "\n",
    "print(\"And the score is {:.3f}\".format(reg.score(X_test, y_test)))\n",
    "\n",
    "# full outcome of all the models that got tested in grid search\n",
    "all_params = pd.DataFrame(reg.cv_results_)\n",
    "\n",
    "# sort the models based on \"rank_test_score\"\n",
    "display(all_params.sort_values(by=[\"rank_test_score\"], ascending=True))"
   ]
  },
  {
   "cell_type": "code",
   "execution_count": 111,
   "metadata": {},
   "outputs": [
    {
     "data": {
      "text/plain": [
       "<matplotlib.collections.PolyCollection at 0x7f01fc09a040>"
      ]
     },
     "execution_count": 111,
     "metadata": {},
     "output_type": "execute_result"
    },
    {
     "data": {
      "image/png": "[encoded data removed]",
      "text/plain": [
       "<Figure size 432x288 with 1 Axes>"
      ]
     },
     "metadata": {},
     "output_type": "display_data"
    }
   ],
   "source": [
    "# visualise grid search outcomes\n",
    "\n",
    "scores = np.array(all_params[\"mean_test_score\"]).reshape(len(parameters['C']),len(parameters['epsilon']))\n",
    "\n",
    "mglearn.tools.heatmap(scores, xlabel='epsilon', ylabel='C',\n",
    "                      xticklabels=parameters['epsilon'], yticklabels=parameters['C'],\n",
    "                      cmap='viridis')"
   ]
  },
  {
   "cell_type": "code",
   "execution_count": 112,
   "metadata": {},
   "outputs": [
    {
     "name": "stdout",
     "output_type": "stream",
     "text": [
      "RMSPE is 23 %\n",
      "RMSE is $ 41k\n"
     ]
    }
   ],
   "source": [
    "# obtain RMSE and RMSPE for the model with best parameters\n",
    "\n",
    "predicted_price = reg.predict(X_test)\n",
    "true_price = y_test\n",
    "\n",
    "rmspe = (np.sqrt(np.mean(np.square((true_price - predicted_price) / true_price)))) * 100\n",
    "print(\"RMSPE is {:.0f} %\".format(rmspe))\n",
    "\n",
    "rmse = (np.sqrt(np.mean(np.square(true_price - predicted_price))))\n",
    "print(\"RMSE is $ {:.0f}k\".format(rmse / 1000))"
   ]
  },
  {
   "cell_type": "markdown",
   "metadata": {},
   "source": [
    "## Conclusions so far\n",
    "\n",
    "1. Gradient-boosted regression tree had:<br>\n",
    "Learning_rate=0.11, max_depth=2, n_estimators=1000 and gave:<br><br>\n",
    "R^2 of 0.923,<br>RMSE of 23k<br>RMSPE of 14%.<br><br>\n",
    "\n",
    "2. Briefly explored grid search and cross validation for SVM<br><br>\n",
    "Best SVM had:<br>\n",
    "C=850, epsilon=0.25 and gave:<br><br>\n",
    "R^2 of 0.751,<br>RMSE of 41k,<br>RMSPE of 23%."
   ]
  }
 ],
 "metadata": {
  "kernelspec": {
   "display_name": "Python 3",
   "language": "python",
   "name": "python3"
  },
  "language_info": {
   "codemirror_mode": {
    "name": "ipython",
    "version": 3
   },
   "file_extension": ".py",
   "mimetype": "text/x-python",
   "name": "python",
   "nbconvert_exporter": "python",
   "pygments_lexer": "ipython3",
   "version": "3.8.3"
  }
 },
 "nbformat": 4,
 "nbformat_minor": 4
}
