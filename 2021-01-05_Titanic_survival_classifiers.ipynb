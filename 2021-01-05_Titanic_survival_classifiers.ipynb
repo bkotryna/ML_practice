{
 "cells": [
  {
   "cell_type": "markdown",
   "metadata": {},
   "source": [
    "## Try out different classifiers to predict Titanic survival"
   ]
  },
  {
   "cell_type": "markdown",
   "metadata": {},
   "source": [
    "### Get packages & data"
   ]
  },
  {
   "cell_type": "code",
   "execution_count": 1,
   "metadata": {},
   "outputs": [],
   "source": [
    "# get packages\n",
    "\n",
    "import mglearn\n",
    "import pandas as pd\n",
    "import numpy as np\n",
    "import matplotlib.pyplot as plt\n",
    "\n",
    "# show matplotlib plots nicely\n",
    "%matplotlib inline"
   ]
  },
  {
   "cell_type": "code",
   "execution_count": 2,
   "metadata": {},
   "outputs": [],
   "source": [
    "# get data\n",
    "\n",
    "from sklearn.datasets import fetch_openml\n",
    "titanic = fetch_openml('titanic', version=1, as_frame=True)"
   ]
  },
  {
   "cell_type": "markdown",
   "metadata": {},
   "source": [
    "## Inspect data"
   ]
  },
  {
   "cell_type": "code",
   "execution_count": 3,
   "metadata": {
    "scrolled": false
   },
   "outputs": [
    {
     "data": {
      "text/html": [
       "<div>\n",
       "<style scoped>\n",
       "    .dataframe tbody tr th:only-of-type {\n",
       "        vertical-align: middle;\n",
       "    }\n",
       "\n",
       "    .dataframe tbody tr th {\n",
       "        vertical-align: top;\n",
       "    }\n",
       "\n",
       "    .dataframe thead th {\n",
       "        text-align: right;\n",
       "    }\n",
       "</style>\n",
       "<table border=\"1\" class=\"dataframe\">\n",
       "  <thead>\n",
       "    <tr style=\"text-align: right;\">\n",
       "      <th></th>\n",
       "      <th>pclass</th>\n",
       "      <th>name</th>\n",
       "      <th>sex</th>\n",
       "      <th>age</th>\n",
       "      <th>sibsp</th>\n",
       "      <th>parch</th>\n",
       "      <th>ticket</th>\n",
       "      <th>fare</th>\n",
       "      <th>cabin</th>\n",
       "      <th>embarked</th>\n",
       "      <th>boat</th>\n",
       "      <th>body</th>\n",
       "      <th>home.dest</th>\n",
       "    </tr>\n",
       "  </thead>\n",
       "  <tbody>\n",
       "    <tr>\n",
       "      <th>0</th>\n",
       "      <td>1.0</td>\n",
       "      <td>Allen, Miss. Elisabeth Walton</td>\n",
       "      <td>female</td>\n",
       "      <td>29.0000</td>\n",
       "      <td>0.0</td>\n",
       "      <td>0.0</td>\n",
       "      <td>24160</td>\n",
       "      <td>211.3375</td>\n",
       "      <td>B5</td>\n",
       "      <td>S</td>\n",
       "      <td>2</td>\n",
       "      <td>NaN</td>\n",
       "      <td>St Louis, MO</td>\n",
       "    </tr>\n",
       "    <tr>\n",
       "      <th>1</th>\n",
       "      <td>1.0</td>\n",
       "      <td>Allison, Master. Hudson Trevor</td>\n",
       "      <td>male</td>\n",
       "      <td>0.9167</td>\n",
       "      <td>1.0</td>\n",
       "      <td>2.0</td>\n",
       "      <td>113781</td>\n",
       "      <td>151.5500</td>\n",
       "      <td>C22 C26</td>\n",
       "      <td>S</td>\n",
       "      <td>11</td>\n",
       "      <td>NaN</td>\n",
       "      <td>Montreal, PQ / Chesterville, ON</td>\n",
       "    </tr>\n",
       "    <tr>\n",
       "      <th>2</th>\n",
       "      <td>1.0</td>\n",
       "      <td>Allison, Miss. Helen Loraine</td>\n",
       "      <td>female</td>\n",
       "      <td>2.0000</td>\n",
       "      <td>1.0</td>\n",
       "      <td>2.0</td>\n",
       "      <td>113781</td>\n",
       "      <td>151.5500</td>\n",
       "      <td>C22 C26</td>\n",
       "      <td>S</td>\n",
       "      <td>None</td>\n",
       "      <td>NaN</td>\n",
       "      <td>Montreal, PQ / Chesterville, ON</td>\n",
       "    </tr>\n",
       "    <tr>\n",
       "      <th>3</th>\n",
       "      <td>1.0</td>\n",
       "      <td>Allison, Mr. Hudson Joshua Creighton</td>\n",
       "      <td>male</td>\n",
       "      <td>30.0000</td>\n",
       "      <td>1.0</td>\n",
       "      <td>2.0</td>\n",
       "      <td>113781</td>\n",
       "      <td>151.5500</td>\n",
       "      <td>C22 C26</td>\n",
       "      <td>S</td>\n",
       "      <td>None</td>\n",
       "      <td>135.0</td>\n",
       "      <td>Montreal, PQ / Chesterville, ON</td>\n",
       "    </tr>\n",
       "    <tr>\n",
       "      <th>4</th>\n",
       "      <td>1.0</td>\n",
       "      <td>Allison, Mrs. Hudson J C (Bessie Waldo Daniels)</td>\n",
       "      <td>female</td>\n",
       "      <td>25.0000</td>\n",
       "      <td>1.0</td>\n",
       "      <td>2.0</td>\n",
       "      <td>113781</td>\n",
       "      <td>151.5500</td>\n",
       "      <td>C22 C26</td>\n",
       "      <td>S</td>\n",
       "      <td>None</td>\n",
       "      <td>NaN</td>\n",
       "      <td>Montreal, PQ / Chesterville, ON</td>\n",
       "    </tr>\n",
       "  </tbody>\n",
       "</table>\n",
       "</div>"
      ],
      "text/plain": [
       "   pclass                                             name     sex      age  \\\n",
       "0     1.0                    Allen, Miss. Elisabeth Walton  female  29.0000   \n",
       "1     1.0                   Allison, Master. Hudson Trevor    male   0.9167   \n",
       "2     1.0                     Allison, Miss. Helen Loraine  female   2.0000   \n",
       "3     1.0             Allison, Mr. Hudson Joshua Creighton    male  30.0000   \n",
       "4     1.0  Allison, Mrs. Hudson J C (Bessie Waldo Daniels)  female  25.0000   \n",
       "\n",
       "   sibsp  parch  ticket      fare    cabin embarked  boat   body  \\\n",
       "0    0.0    0.0   24160  211.3375       B5        S     2    NaN   \n",
       "1    1.0    2.0  113781  151.5500  C22 C26        S    11    NaN   \n",
       "2    1.0    2.0  113781  151.5500  C22 C26        S  None    NaN   \n",
       "3    1.0    2.0  113781  151.5500  C22 C26        S  None  135.0   \n",
       "4    1.0    2.0  113781  151.5500  C22 C26        S  None    NaN   \n",
       "\n",
       "                         home.dest  \n",
       "0                     St Louis, MO  \n",
       "1  Montreal, PQ / Chesterville, ON  \n",
       "2  Montreal, PQ / Chesterville, ON  \n",
       "3  Montreal, PQ / Chesterville, ON  \n",
       "4  Montreal, PQ / Chesterville, ON  "
      ]
     },
     "metadata": {},
     "output_type": "display_data"
    },
    {
     "data": {
      "text/plain": [
       "0    1\n",
       "1    1\n",
       "2    0\n",
       "3    0\n",
       "4    0\n",
       "Name: survived, dtype: category\n",
       "Categories (2, object): [0, 1]"
      ]
     },
     "metadata": {},
     "output_type": "display_data"
    }
   ],
   "source": [
    "display(titanic.data.head())\n",
    "display(titanic.target.head())"
   ]
  },
  {
   "cell_type": "code",
   "execution_count": 4,
   "metadata": {},
   "outputs": [
    {
     "data": {
      "text/plain": [
       "sklearn.utils.Bunch"
      ]
     },
     "execution_count": 4,
     "metadata": {},
     "output_type": "execute_result"
    }
   ],
   "source": [
    "type(titanic)"
   ]
  },
  {
   "cell_type": "code",
   "execution_count": 5,
   "metadata": {},
   "outputs": [
    {
     "data": {
      "text/plain": [
       "dict_keys(['data', 'target', 'frame', 'categories', 'feature_names', 'target_names', 'DESCR', 'details', 'url'])"
      ]
     },
     "execution_count": 5,
     "metadata": {},
     "output_type": "execute_result"
    }
   ],
   "source": [
    "titanic.keys()\n",
    "# boom"
   ]
  },
  {
   "cell_type": "code",
   "execution_count": 6,
   "metadata": {},
   "outputs": [
    {
     "data": {
      "text/plain": [
       "['survived']"
      ]
     },
     "execution_count": 6,
     "metadata": {},
     "output_type": "execute_result"
    }
   ],
   "source": [
    "titanic.target_names"
   ]
  },
  {
   "cell_type": "code",
   "execution_count": 7,
   "metadata": {},
   "outputs": [
    {
     "data": {
      "text/plain": [
       "Index(['pclass', 'name', 'sex', 'age', 'sibsp', 'parch', 'ticket', 'fare',\n",
       "       'cabin', 'embarked', 'boat', 'body', 'home.dest'],\n",
       "      dtype='object')"
      ]
     },
     "execution_count": 7,
     "metadata": {},
     "output_type": "execute_result"
    }
   ],
   "source": [
    "titanic.data.columns"
   ]
  },
  {
   "cell_type": "code",
   "execution_count": 8,
   "metadata": {
    "scrolled": true
   },
   "outputs": [
    {
     "data": {
      "text/plain": [
       "count         1309\n",
       "unique         929\n",
       "top       CA. 2343\n",
       "freq            11\n",
       "Name: ticket, dtype: object"
      ]
     },
     "execution_count": 8,
     "metadata": {},
     "output_type": "execute_result"
    }
   ],
   "source": [
    "titanic.data[\"ticket\"].describe()"
   ]
  },
  {
   "cell_type": "code",
   "execution_count": 9,
   "metadata": {
    "scrolled": true
   },
   "outputs": [
    {
     "data": {
      "text/plain": [
       "0       24160\n",
       "1      113781\n",
       "2      113781\n",
       "3      113781\n",
       "4      113781\n",
       "5       19952\n",
       "6       13502\n",
       "7      112050\n",
       "8       11769\n",
       "9    PC 17609\n",
       "Name: ticket, dtype: object"
      ]
     },
     "execution_count": 9,
     "metadata": {},
     "output_type": "execute_result"
    }
   ],
   "source": [
    "titanic.data['ticket'].head(10)"
   ]
  },
  {
   "cell_type": "code",
   "execution_count": 10,
   "metadata": {},
   "outputs": [
    {
     "data": {
      "text/plain": [
       "CA. 2343             11\n",
       "CA 2144               8\n",
       "1601                  8\n",
       "347082                7\n",
       "347077                7\n",
       "                     ..\n",
       "C.A. 29178            1\n",
       "SOTON/O.Q. 392087     1\n",
       "SC/A.3 2861           1\n",
       "364500                1\n",
       "211536                1\n",
       "Name: ticket, Length: 929, dtype: int64"
      ]
     },
     "execution_count": 10,
     "metadata": {},
     "output_type": "execute_result"
    }
   ],
   "source": [
    "titanic.data.ticket.value_counts()"
   ]
  },
  {
   "cell_type": "code",
   "execution_count": 11,
   "metadata": {},
   "outputs": [
    {
     "data": {
      "text/plain": [
       "S    914\n",
       "C    270\n",
       "Q    123\n",
       "Name: embarked, dtype: int64"
      ]
     },
     "execution_count": 11,
     "metadata": {},
     "output_type": "execute_result"
    }
   ],
   "source": [
    "titanic.data['embarked'].value_counts()"
   ]
  },
  {
   "cell_type": "code",
   "execution_count": 12,
   "metadata": {
    "scrolled": false
   },
   "outputs": [
    {
     "data": {
      "text/plain": [
       "0    0.0\n",
       "1    1.0\n",
       "2    1.0\n",
       "3    1.0\n",
       "4    1.0\n",
       "5    0.0\n",
       "6    1.0\n",
       "7    0.0\n",
       "8    2.0\n",
       "9    0.0\n",
       "Name: sibsp, dtype: float64"
      ]
     },
     "execution_count": 12,
     "metadata": {},
     "output_type": "execute_result"
    }
   ],
   "source": [
    "titanic.data[\"sibsp\"].head(10)\n",
    "# siblings / partners"
   ]
  },
  {
   "cell_type": "code",
   "execution_count": 13,
   "metadata": {},
   "outputs": [
    {
     "data": {
      "text/plain": [
       "0    0.0\n",
       "1    2.0\n",
       "2    2.0\n",
       "3    2.0\n",
       "4    2.0\n",
       "5    0.0\n",
       "6    0.0\n",
       "7    0.0\n",
       "8    0.0\n",
       "9    0.0\n",
       "Name: parch, dtype: float64"
      ]
     },
     "execution_count": 13,
     "metadata": {},
     "output_type": "execute_result"
    }
   ],
   "source": [
    "titanic.data.parch.head(10)\n",
    "# parents / children"
   ]
  },
  {
   "cell_type": "code",
   "execution_count": 14,
   "metadata": {
    "scrolled": true
   },
   "outputs": [
    {
     "data": {
      "text/plain": [
       "0         B5\n",
       "1    C22 C26\n",
       "2    C22 C26\n",
       "3    C22 C26\n",
       "4    C22 C26\n",
       "5        E12\n",
       "6         D7\n",
       "7        A36\n",
       "8       C101\n",
       "9       None\n",
       "Name: cabin, dtype: object"
      ]
     },
     "execution_count": 14,
     "metadata": {},
     "output_type": "execute_result"
    }
   ],
   "source": [
    "titanic.data['cabin'].head(10)"
   ]
  },
  {
   "cell_type": "code",
   "execution_count": 15,
   "metadata": {
    "scrolled": true
   },
   "outputs": [
    {
     "data": {
      "text/plain": [
       "0       2\n",
       "1      11\n",
       "2    None\n",
       "3    None\n",
       "4    None\n",
       "5       3\n",
       "6      10\n",
       "7    None\n",
       "8       D\n",
       "9    None\n",
       "Name: boat, dtype: object"
      ]
     },
     "execution_count": 15,
     "metadata": {},
     "output_type": "execute_result"
    }
   ],
   "source": [
    "titanic.data['boat'].head(10)\n",
    "# boat = Lifeboat (if survived)"
   ]
  },
  {
   "cell_type": "code",
   "execution_count": 16,
   "metadata": {},
   "outputs": [
    {
     "data": {
      "text/plain": [
       "121"
      ]
     },
     "execution_count": 16,
     "metadata": {},
     "output_type": "execute_result"
    }
   ],
   "source": [
    "titanic.data['body'].nunique()\n",
    "# body = Body number (if did not survive and body was recovered)"
   ]
  },
  {
   "cell_type": "code",
   "execution_count": 17,
   "metadata": {
    "scrolled": true
   },
   "outputs": [
    {
     "name": "stdout",
     "output_type": "stream",
     "text": [
      "<class 'pandas.core.frame.DataFrame'>\n",
      "RangeIndex: 1309 entries, 0 to 1308\n",
      "Data columns (total 13 columns):\n",
      " #   Column     Non-Null Count  Dtype   \n",
      "---  ------     --------------  -----   \n",
      " 0   pclass     1309 non-null   float64 \n",
      " 1   name       1309 non-null   object  \n",
      " 2   sex        1309 non-null   category\n",
      " 3   age        1046 non-null   float64 \n",
      " 4   sibsp      1309 non-null   float64 \n",
      " 5   parch      1309 non-null   float64 \n",
      " 6   ticket     1309 non-null   object  \n",
      " 7   fare       1308 non-null   float64 \n",
      " 8   cabin      295 non-null    object  \n",
      " 9   embarked   1307 non-null   category\n",
      " 10  boat       486 non-null    object  \n",
      " 11  body       121 non-null    float64 \n",
      " 12  home.dest  745 non-null    object  \n",
      "dtypes: category(2), float64(6), object(5)\n",
      "memory usage: 115.4+ KB\n"
     ]
    }
   ],
   "source": [
    "titanic.data.info()"
   ]
  },
  {
   "cell_type": "markdown",
   "metadata": {},
   "source": [
    "## Data cleaning & feature engineering\n",
    "\n",
    "1. Merge Titanic X and y data before manipulating things\n",
    "1. Features to keep: pclass, sex, age, sibsp, parch, ticket, fare (use name as the index?)\n",
    "1. Features to fiddle with:\n",
    "    1. pclass => one-hot encode\n",
    "    1. sex => one-hot encode\n",
    "    1. age => fill na\n",
    "    1. fare => create fare per person, ie fare divided by instances of it's corresponding ticket"
   ]
  },
  {
   "cell_type": "code",
   "execution_count": 18,
   "metadata": {
    "scrolled": false
   },
   "outputs": [
    {
     "name": "stdout",
     "output_type": "stream",
     "text": [
      "<class 'pandas.core.frame.DataFrame'>\n",
      "RangeIndex: 1309 entries, 0 to 1308\n",
      "Data columns (total 14 columns):\n",
      " #   Column     Non-Null Count  Dtype   \n",
      "---  ------     --------------  -----   \n",
      " 0   pclass     1309 non-null   float64 \n",
      " 1   name       1309 non-null   object  \n",
      " 2   sex        1309 non-null   category\n",
      " 3   age        1046 non-null   float64 \n",
      " 4   sibsp      1309 non-null   float64 \n",
      " 5   parch      1309 non-null   float64 \n",
      " 6   ticket     1309 non-null   object  \n",
      " 7   fare       1308 non-null   float64 \n",
      " 8   cabin      295 non-null    object  \n",
      " 9   embarked   1307 non-null   category\n",
      " 10  boat       486 non-null    object  \n",
      " 11  body       121 non-null    float64 \n",
      " 12  home.dest  745 non-null    object  \n",
      " 13  survived   1309 non-null   category\n",
      "dtypes: category(3), float64(6), object(5)\n",
      "memory usage: 116.7+ KB\n"
     ]
    }
   ],
   "source": [
    "# merge titanic data and titanic target (ie X and y)\n",
    "titanic_full = pd.concat([titanic.data, titanic.target.reindex(titanic.data.index)], axis=1)\n",
    "titanic_full.info()"
   ]
  },
  {
   "cell_type": "code",
   "execution_count": 19,
   "metadata": {
    "scrolled": true
   },
   "outputs": [
    {
     "data": {
      "text/html": [
       "<div>\n",
       "<style scoped>\n",
       "    .dataframe tbody tr th:only-of-type {\n",
       "        vertical-align: middle;\n",
       "    }\n",
       "\n",
       "    .dataframe tbody tr th {\n",
       "        vertical-align: top;\n",
       "    }\n",
       "\n",
       "    .dataframe thead th {\n",
       "        text-align: right;\n",
       "    }\n",
       "</style>\n",
       "<table border=\"1\" class=\"dataframe\">\n",
       "  <thead>\n",
       "    <tr style=\"text-align: right;\">\n",
       "      <th></th>\n",
       "      <th>pclass</th>\n",
       "      <th>sex</th>\n",
       "      <th>age</th>\n",
       "      <th>sibsp</th>\n",
       "      <th>parch</th>\n",
       "      <th>ticket</th>\n",
       "      <th>fare</th>\n",
       "      <th>cabin</th>\n",
       "      <th>embarked</th>\n",
       "      <th>boat</th>\n",
       "      <th>body</th>\n",
       "      <th>home.dest</th>\n",
       "      <th>survived</th>\n",
       "    </tr>\n",
       "    <tr>\n",
       "      <th>name</th>\n",
       "      <th></th>\n",
       "      <th></th>\n",
       "      <th></th>\n",
       "      <th></th>\n",
       "      <th></th>\n",
       "      <th></th>\n",
       "      <th></th>\n",
       "      <th></th>\n",
       "      <th></th>\n",
       "      <th></th>\n",
       "      <th></th>\n",
       "      <th></th>\n",
       "      <th></th>\n",
       "    </tr>\n",
       "  </thead>\n",
       "  <tbody>\n",
       "    <tr>\n",
       "      <th>Allen, Miss. Elisabeth Walton</th>\n",
       "      <td>1.0</td>\n",
       "      <td>female</td>\n",
       "      <td>29.0000</td>\n",
       "      <td>0.0</td>\n",
       "      <td>0.0</td>\n",
       "      <td>24160</td>\n",
       "      <td>211.3375</td>\n",
       "      <td>B5</td>\n",
       "      <td>S</td>\n",
       "      <td>2</td>\n",
       "      <td>NaN</td>\n",
       "      <td>St Louis, MO</td>\n",
       "      <td>1</td>\n",
       "    </tr>\n",
       "    <tr>\n",
       "      <th>Allison, Master. Hudson Trevor</th>\n",
       "      <td>1.0</td>\n",
       "      <td>male</td>\n",
       "      <td>0.9167</td>\n",
       "      <td>1.0</td>\n",
       "      <td>2.0</td>\n",
       "      <td>113781</td>\n",
       "      <td>151.5500</td>\n",
       "      <td>C22 C26</td>\n",
       "      <td>S</td>\n",
       "      <td>11</td>\n",
       "      <td>NaN</td>\n",
       "      <td>Montreal, PQ / Chesterville, ON</td>\n",
       "      <td>1</td>\n",
       "    </tr>\n",
       "    <tr>\n",
       "      <th>Allison, Miss. Helen Loraine</th>\n",
       "      <td>1.0</td>\n",
       "      <td>female</td>\n",
       "      <td>2.0000</td>\n",
       "      <td>1.0</td>\n",
       "      <td>2.0</td>\n",
       "      <td>113781</td>\n",
       "      <td>151.5500</td>\n",
       "      <td>C22 C26</td>\n",
       "      <td>S</td>\n",
       "      <td>None</td>\n",
       "      <td>NaN</td>\n",
       "      <td>Montreal, PQ / Chesterville, ON</td>\n",
       "      <td>0</td>\n",
       "    </tr>\n",
       "  </tbody>\n",
       "</table>\n",
       "</div>"
      ],
      "text/plain": [
       "                                pclass     sex      age  sibsp  parch  ticket  \\\n",
       "name                                                                            \n",
       "Allen, Miss. Elisabeth Walton      1.0  female  29.0000    0.0    0.0   24160   \n",
       "Allison, Master. Hudson Trevor     1.0    male   0.9167    1.0    2.0  113781   \n",
       "Allison, Miss. Helen Loraine       1.0  female   2.0000    1.0    2.0  113781   \n",
       "\n",
       "                                    fare    cabin embarked  boat  body  \\\n",
       "name                                                                     \n",
       "Allen, Miss. Elisabeth Walton   211.3375       B5        S     2   NaN   \n",
       "Allison, Master. Hudson Trevor  151.5500  C22 C26        S    11   NaN   \n",
       "Allison, Miss. Helen Loraine    151.5500  C22 C26        S  None   NaN   \n",
       "\n",
       "                                                      home.dest survived  \n",
       "name                                                                      \n",
       "Allen, Miss. Elisabeth Walton                      St Louis, MO        1  \n",
       "Allison, Master. Hudson Trevor  Montreal, PQ / Chesterville, ON        1  \n",
       "Allison, Miss. Helen Loraine    Montreal, PQ / Chesterville, ON        0  "
      ]
     },
     "execution_count": 19,
     "metadata": {},
     "output_type": "execute_result"
    }
   ],
   "source": [
    "# use name column for indexing\n",
    "titanic_full.set_index('name', inplace=True)\n",
    "titanic_full.head(3)"
   ]
  },
  {
   "cell_type": "code",
   "execution_count": 20,
   "metadata": {},
   "outputs": [
    {
     "data": {
      "text/plain": [
       "False    1046\n",
       "True      263\n",
       "Name: age_is_missing, dtype: int64"
      ]
     },
     "execution_count": 20,
     "metadata": {},
     "output_type": "execute_result"
    }
   ],
   "source": [
    "# check missing values for age\n",
    "titanic_full['age_is_missing'] = titanic_full['age'].isnull()\n",
    "titanic_full['age_is_missing'].value_counts()"
   ]
  },
  {
   "cell_type": "code",
   "execution_count": 21,
   "metadata": {},
   "outputs": [
    {
     "name": "stdout",
     "output_type": "stream",
     "text": [
      "28.0\n"
     ]
    },
    {
     "data": {
      "text/plain": [
       "0"
      ]
     },
     "execution_count": 21,
     "metadata": {},
     "output_type": "execute_result"
    }
   ],
   "source": [
    "## fill in missing age values with mediam age\n",
    "\n",
    "# median age\n",
    "med_age = titanic_full['age'].quantile(0.5)\n",
    "print(med_age)\n",
    "\n",
    "# replace null values with med_age\n",
    "titanic_full['age'].fillna(med_age, inplace=True)\n",
    "\n",
    "# how many isnull values do we now have for age (hopefully, zero)\n",
    "titanic_full['age'].isnull().sum()"
   ]
  },
  {
   "cell_type": "code",
   "execution_count": 22,
   "metadata": {},
   "outputs": [
    {
     "data": {
      "text/html": [
       "<div>\n",
       "<style scoped>\n",
       "    .dataframe tbody tr th:only-of-type {\n",
       "        vertical-align: middle;\n",
       "    }\n",
       "\n",
       "    .dataframe tbody tr th {\n",
       "        vertical-align: top;\n",
       "    }\n",
       "\n",
       "    .dataframe thead th {\n",
       "        text-align: right;\n",
       "    }\n",
       "</style>\n",
       "<table border=\"1\" class=\"dataframe\">\n",
       "  <thead>\n",
       "    <tr style=\"text-align: right;\">\n",
       "      <th></th>\n",
       "      <th>pclass_1.0</th>\n",
       "      <th>pclass_2.0</th>\n",
       "      <th>pclass_3.0</th>\n",
       "    </tr>\n",
       "    <tr>\n",
       "      <th>name</th>\n",
       "      <th></th>\n",
       "      <th></th>\n",
       "      <th></th>\n",
       "    </tr>\n",
       "  </thead>\n",
       "  <tbody>\n",
       "    <tr>\n",
       "      <th>Allen, Miss. Elisabeth Walton</th>\n",
       "      <td>1</td>\n",
       "      <td>0</td>\n",
       "      <td>0</td>\n",
       "    </tr>\n",
       "    <tr>\n",
       "      <th>Allison, Master. Hudson Trevor</th>\n",
       "      <td>1</td>\n",
       "      <td>0</td>\n",
       "      <td>0</td>\n",
       "    </tr>\n",
       "    <tr>\n",
       "      <th>Allison, Miss. Helen Loraine</th>\n",
       "      <td>1</td>\n",
       "      <td>0</td>\n",
       "      <td>0</td>\n",
       "    </tr>\n",
       "    <tr>\n",
       "      <th>Allison, Mr. Hudson Joshua Creighton</th>\n",
       "      <td>1</td>\n",
       "      <td>0</td>\n",
       "      <td>0</td>\n",
       "    </tr>\n",
       "    <tr>\n",
       "      <th>Allison, Mrs. Hudson J C (Bessie Waldo Daniels)</th>\n",
       "      <td>1</td>\n",
       "      <td>0</td>\n",
       "      <td>0</td>\n",
       "    </tr>\n",
       "    <tr>\n",
       "      <th>...</th>\n",
       "      <td>...</td>\n",
       "      <td>...</td>\n",
       "      <td>...</td>\n",
       "    </tr>\n",
       "    <tr>\n",
       "      <th>Zabour, Miss. Hileni</th>\n",
       "      <td>0</td>\n",
       "      <td>0</td>\n",
       "      <td>1</td>\n",
       "    </tr>\n",
       "    <tr>\n",
       "      <th>Zabour, Miss. Thamine</th>\n",
       "      <td>0</td>\n",
       "      <td>0</td>\n",
       "      <td>1</td>\n",
       "    </tr>\n",
       "    <tr>\n",
       "      <th>Zakarian, Mr. Mapriededer</th>\n",
       "      <td>0</td>\n",
       "      <td>0</td>\n",
       "      <td>1</td>\n",
       "    </tr>\n",
       "    <tr>\n",
       "      <th>Zakarian, Mr. Ortin</th>\n",
       "      <td>0</td>\n",
       "      <td>0</td>\n",
       "      <td>1</td>\n",
       "    </tr>\n",
       "    <tr>\n",
       "      <th>Zimmerman, Mr. Leo</th>\n",
       "      <td>0</td>\n",
       "      <td>0</td>\n",
       "      <td>1</td>\n",
       "    </tr>\n",
       "  </tbody>\n",
       "</table>\n",
       "<p>1309 rows × 3 columns</p>\n",
       "</div>"
      ],
      "text/plain": [
       "                                                 pclass_1.0  pclass_2.0  \\\n",
       "name                                                                      \n",
       "Allen, Miss. Elisabeth Walton                             1           0   \n",
       "Allison, Master. Hudson Trevor                            1           0   \n",
       "Allison, Miss. Helen Loraine                              1           0   \n",
       "Allison, Mr. Hudson Joshua Creighton                      1           0   \n",
       "Allison, Mrs. Hudson J C (Bessie Waldo Daniels)           1           0   \n",
       "...                                                     ...         ...   \n",
       "Zabour, Miss. Hileni                                      0           0   \n",
       "Zabour, Miss. Thamine                                     0           0   \n",
       "Zakarian, Mr. Mapriededer                                 0           0   \n",
       "Zakarian, Mr. Ortin                                       0           0   \n",
       "Zimmerman, Mr. Leo                                        0           0   \n",
       "\n",
       "                                                 pclass_3.0  \n",
       "name                                                         \n",
       "Allen, Miss. Elisabeth Walton                             0  \n",
       "Allison, Master. Hudson Trevor                            0  \n",
       "Allison, Miss. Helen Loraine                              0  \n",
       "Allison, Mr. Hudson Joshua Creighton                      0  \n",
       "Allison, Mrs. Hudson J C (Bessie Waldo Daniels)           0  \n",
       "...                                                     ...  \n",
       "Zabour, Miss. Hileni                                      1  \n",
       "Zabour, Miss. Thamine                                     1  \n",
       "Zakarian, Mr. Mapriededer                                 1  \n",
       "Zakarian, Mr. Ortin                                       1  \n",
       "Zimmerman, Mr. Leo                                        1  \n",
       "\n",
       "[1309 rows x 3 columns]"
      ]
     },
     "metadata": {},
     "output_type": "display_data"
    },
    {
     "data": {
      "text/html": [
       "<div>\n",
       "<style scoped>\n",
       "    .dataframe tbody tr th:only-of-type {\n",
       "        vertical-align: middle;\n",
       "    }\n",
       "\n",
       "    .dataframe tbody tr th {\n",
       "        vertical-align: top;\n",
       "    }\n",
       "\n",
       "    .dataframe thead th {\n",
       "        text-align: right;\n",
       "    }\n",
       "</style>\n",
       "<table border=\"1\" class=\"dataframe\">\n",
       "  <thead>\n",
       "    <tr style=\"text-align: right;\">\n",
       "      <th></th>\n",
       "      <th>age</th>\n",
       "      <th>sibsp</th>\n",
       "      <th>parch</th>\n",
       "      <th>ticket</th>\n",
       "      <th>fare</th>\n",
       "      <th>survived</th>\n",
       "      <th>pclass_1.0</th>\n",
       "      <th>pclass_2.0</th>\n",
       "      <th>pclass_3.0</th>\n",
       "      <th>sex_female</th>\n",
       "      <th>sex_male</th>\n",
       "    </tr>\n",
       "    <tr>\n",
       "      <th>name</th>\n",
       "      <th></th>\n",
       "      <th></th>\n",
       "      <th></th>\n",
       "      <th></th>\n",
       "      <th></th>\n",
       "      <th></th>\n",
       "      <th></th>\n",
       "      <th></th>\n",
       "      <th></th>\n",
       "      <th></th>\n",
       "      <th></th>\n",
       "    </tr>\n",
       "  </thead>\n",
       "  <tbody>\n",
       "    <tr>\n",
       "      <th>Allen, Miss. Elisabeth Walton</th>\n",
       "      <td>29.0000</td>\n",
       "      <td>0.0</td>\n",
       "      <td>0.0</td>\n",
       "      <td>24160</td>\n",
       "      <td>211.3375</td>\n",
       "      <td>1</td>\n",
       "      <td>1</td>\n",
       "      <td>0</td>\n",
       "      <td>0</td>\n",
       "      <td>1</td>\n",
       "      <td>0</td>\n",
       "    </tr>\n",
       "    <tr>\n",
       "      <th>Allison, Master. Hudson Trevor</th>\n",
       "      <td>0.9167</td>\n",
       "      <td>1.0</td>\n",
       "      <td>2.0</td>\n",
       "      <td>113781</td>\n",
       "      <td>151.5500</td>\n",
       "      <td>1</td>\n",
       "      <td>1</td>\n",
       "      <td>0</td>\n",
       "      <td>0</td>\n",
       "      <td>0</td>\n",
       "      <td>1</td>\n",
       "    </tr>\n",
       "    <tr>\n",
       "      <th>Allison, Miss. Helen Loraine</th>\n",
       "      <td>2.0000</td>\n",
       "      <td>1.0</td>\n",
       "      <td>2.0</td>\n",
       "      <td>113781</td>\n",
       "      <td>151.5500</td>\n",
       "      <td>0</td>\n",
       "      <td>1</td>\n",
       "      <td>0</td>\n",
       "      <td>0</td>\n",
       "      <td>1</td>\n",
       "      <td>0</td>\n",
       "    </tr>\n",
       "    <tr>\n",
       "      <th>Allison, Mr. Hudson Joshua Creighton</th>\n",
       "      <td>30.0000</td>\n",
       "      <td>1.0</td>\n",
       "      <td>2.0</td>\n",
       "      <td>113781</td>\n",
       "      <td>151.5500</td>\n",
       "      <td>0</td>\n",
       "      <td>1</td>\n",
       "      <td>0</td>\n",
       "      <td>0</td>\n",
       "      <td>0</td>\n",
       "      <td>1</td>\n",
       "    </tr>\n",
       "    <tr>\n",
       "      <th>Allison, Mrs. Hudson J C (Bessie Waldo Daniels)</th>\n",
       "      <td>25.0000</td>\n",
       "      <td>1.0</td>\n",
       "      <td>2.0</td>\n",
       "      <td>113781</td>\n",
       "      <td>151.5500</td>\n",
       "      <td>0</td>\n",
       "      <td>1</td>\n",
       "      <td>0</td>\n",
       "      <td>0</td>\n",
       "      <td>1</td>\n",
       "      <td>0</td>\n",
       "    </tr>\n",
       "    <tr>\n",
       "      <th>...</th>\n",
       "      <td>...</td>\n",
       "      <td>...</td>\n",
       "      <td>...</td>\n",
       "      <td>...</td>\n",
       "      <td>...</td>\n",
       "      <td>...</td>\n",
       "      <td>...</td>\n",
       "      <td>...</td>\n",
       "      <td>...</td>\n",
       "      <td>...</td>\n",
       "      <td>...</td>\n",
       "    </tr>\n",
       "    <tr>\n",
       "      <th>Zabour, Miss. Hileni</th>\n",
       "      <td>14.5000</td>\n",
       "      <td>1.0</td>\n",
       "      <td>0.0</td>\n",
       "      <td>2665</td>\n",
       "      <td>14.4542</td>\n",
       "      <td>0</td>\n",
       "      <td>0</td>\n",
       "      <td>0</td>\n",
       "      <td>1</td>\n",
       "      <td>1</td>\n",
       "      <td>0</td>\n",
       "    </tr>\n",
       "    <tr>\n",
       "      <th>Zabour, Miss. Thamine</th>\n",
       "      <td>28.0000</td>\n",
       "      <td>1.0</td>\n",
       "      <td>0.0</td>\n",
       "      <td>2665</td>\n",
       "      <td>14.4542</td>\n",
       "      <td>0</td>\n",
       "      <td>0</td>\n",
       "      <td>0</td>\n",
       "      <td>1</td>\n",
       "      <td>1</td>\n",
       "      <td>0</td>\n",
       "    </tr>\n",
       "    <tr>\n",
       "      <th>Zakarian, Mr. Mapriededer</th>\n",
       "      <td>26.5000</td>\n",
       "      <td>0.0</td>\n",
       "      <td>0.0</td>\n",
       "      <td>2656</td>\n",
       "      <td>7.2250</td>\n",
       "      <td>0</td>\n",
       "      <td>0</td>\n",
       "      <td>0</td>\n",
       "      <td>1</td>\n",
       "      <td>0</td>\n",
       "      <td>1</td>\n",
       "    </tr>\n",
       "    <tr>\n",
       "      <th>Zakarian, Mr. Ortin</th>\n",
       "      <td>27.0000</td>\n",
       "      <td>0.0</td>\n",
       "      <td>0.0</td>\n",
       "      <td>2670</td>\n",
       "      <td>7.2250</td>\n",
       "      <td>0</td>\n",
       "      <td>0</td>\n",
       "      <td>0</td>\n",
       "      <td>1</td>\n",
       "      <td>0</td>\n",
       "      <td>1</td>\n",
       "    </tr>\n",
       "    <tr>\n",
       "      <th>Zimmerman, Mr. Leo</th>\n",
       "      <td>29.0000</td>\n",
       "      <td>0.0</td>\n",
       "      <td>0.0</td>\n",
       "      <td>315082</td>\n",
       "      <td>7.8750</td>\n",
       "      <td>0</td>\n",
       "      <td>0</td>\n",
       "      <td>0</td>\n",
       "      <td>1</td>\n",
       "      <td>0</td>\n",
       "      <td>1</td>\n",
       "    </tr>\n",
       "  </tbody>\n",
       "</table>\n",
       "<p>1309 rows × 11 columns</p>\n",
       "</div>"
      ],
      "text/plain": [
       "                                                     age  sibsp  parch  \\\n",
       "name                                                                     \n",
       "Allen, Miss. Elisabeth Walton                    29.0000    0.0    0.0   \n",
       "Allison, Master. Hudson Trevor                    0.9167    1.0    2.0   \n",
       "Allison, Miss. Helen Loraine                      2.0000    1.0    2.0   \n",
       "Allison, Mr. Hudson Joshua Creighton             30.0000    1.0    2.0   \n",
       "Allison, Mrs. Hudson J C (Bessie Waldo Daniels)  25.0000    1.0    2.0   \n",
       "...                                                  ...    ...    ...   \n",
       "Zabour, Miss. Hileni                             14.5000    1.0    0.0   \n",
       "Zabour, Miss. Thamine                            28.0000    1.0    0.0   \n",
       "Zakarian, Mr. Mapriededer                        26.5000    0.0    0.0   \n",
       "Zakarian, Mr. Ortin                              27.0000    0.0    0.0   \n",
       "Zimmerman, Mr. Leo                               29.0000    0.0    0.0   \n",
       "\n",
       "                                                 ticket      fare survived  \\\n",
       "name                                                                         \n",
       "Allen, Miss. Elisabeth Walton                     24160  211.3375        1   \n",
       "Allison, Master. Hudson Trevor                   113781  151.5500        1   \n",
       "Allison, Miss. Helen Loraine                     113781  151.5500        0   \n",
       "Allison, Mr. Hudson Joshua Creighton             113781  151.5500        0   \n",
       "Allison, Mrs. Hudson J C (Bessie Waldo Daniels)  113781  151.5500        0   \n",
       "...                                                 ...       ...      ...   \n",
       "Zabour, Miss. Hileni                               2665   14.4542        0   \n",
       "Zabour, Miss. Thamine                              2665   14.4542        0   \n",
       "Zakarian, Mr. Mapriededer                          2656    7.2250        0   \n",
       "Zakarian, Mr. Ortin                                2670    7.2250        0   \n",
       "Zimmerman, Mr. Leo                               315082    7.8750        0   \n",
       "\n",
       "                                                 pclass_1.0  pclass_2.0  \\\n",
       "name                                                                      \n",
       "Allen, Miss. Elisabeth Walton                             1           0   \n",
       "Allison, Master. Hudson Trevor                            1           0   \n",
       "Allison, Miss. Helen Loraine                              1           0   \n",
       "Allison, Mr. Hudson Joshua Creighton                      1           0   \n",
       "Allison, Mrs. Hudson J C (Bessie Waldo Daniels)           1           0   \n",
       "...                                                     ...         ...   \n",
       "Zabour, Miss. Hileni                                      0           0   \n",
       "Zabour, Miss. Thamine                                     0           0   \n",
       "Zakarian, Mr. Mapriededer                                 0           0   \n",
       "Zakarian, Mr. Ortin                                       0           0   \n",
       "Zimmerman, Mr. Leo                                        0           0   \n",
       "\n",
       "                                                 pclass_3.0  sex_female  \\\n",
       "name                                                                      \n",
       "Allen, Miss. Elisabeth Walton                             0           1   \n",
       "Allison, Master. Hudson Trevor                            0           0   \n",
       "Allison, Miss. Helen Loraine                              0           1   \n",
       "Allison, Mr. Hudson Joshua Creighton                      0           0   \n",
       "Allison, Mrs. Hudson J C (Bessie Waldo Daniels)           0           1   \n",
       "...                                                     ...         ...   \n",
       "Zabour, Miss. Hileni                                      1           1   \n",
       "Zabour, Miss. Thamine                                     1           1   \n",
       "Zakarian, Mr. Mapriededer                                 1           0   \n",
       "Zakarian, Mr. Ortin                                       1           0   \n",
       "Zimmerman, Mr. Leo                                        1           0   \n",
       "\n",
       "                                                 sex_male  \n",
       "name                                                       \n",
       "Allen, Miss. Elisabeth Walton                           0  \n",
       "Allison, Master. Hudson Trevor                          1  \n",
       "Allison, Miss. Helen Loraine                            0  \n",
       "Allison, Mr. Hudson Joshua Creighton                    1  \n",
       "Allison, Mrs. Hudson J C (Bessie Waldo Daniels)         0  \n",
       "...                                                   ...  \n",
       "Zabour, Miss. Hileni                                    0  \n",
       "Zabour, Miss. Thamine                                   0  \n",
       "Zakarian, Mr. Mapriededer                               1  \n",
       "Zakarian, Mr. Ortin                                     1  \n",
       "Zimmerman, Mr. Leo                                      1  \n",
       "\n",
       "[1309 rows x 11 columns]"
      ]
     },
     "metadata": {},
     "output_type": "display_data"
    }
   ],
   "source": [
    "# one-hot encode pclass & sex\n",
    "class_dummies = pd.get_dummies(titanic_full['pclass'], prefix='pclass')\n",
    "display(class_dummies)\n",
    "\n",
    "sex_dummies = pd.get_dummies(titanic_full['sex'], prefix='sex')\n",
    "\n",
    "titanic_dummies = pd.concat([titanic_full, class_dummies, sex_dummies], axis=1)\n",
    "titanic_dummies.drop(\n",
    "    [\"pclass\", \"sex\", \"cabin\", \"embarked\", \"boat\", \"body\", \"home.dest\", \"age_is_missing\"], axis=1, inplace=True)\n",
    "display(titanic_dummies)"
   ]
  },
  {
   "cell_type": "code",
   "execution_count": 23,
   "metadata": {},
   "outputs": [
    {
     "name": "stdout",
     "output_type": "stream",
     "text": [
      "<class 'pandas.core.frame.DataFrame'>\n",
      "Index: 1309 entries, Allen, Miss. Elisabeth Walton to Zimmerman, Mr. Leo\n",
      "Data columns (total 11 columns):\n",
      " #   Column      Non-Null Count  Dtype   \n",
      "---  ------      --------------  -----   \n",
      " 0   age         1309 non-null   float64 \n",
      " 1   sibsp       1309 non-null   float64 \n",
      " 2   parch       1309 non-null   float64 \n",
      " 3   ticket      1309 non-null   object  \n",
      " 4   fare        1308 non-null   float64 \n",
      " 5   survived    1309 non-null   category\n",
      " 6   pclass_1.0  1309 non-null   uint8   \n",
      " 7   pclass_2.0  1309 non-null   uint8   \n",
      " 8   pclass_3.0  1309 non-null   uint8   \n",
      " 9   sex_female  1309 non-null   uint8   \n",
      " 10  sex_male    1309 non-null   uint8   \n",
      "dtypes: category(1), float64(4), object(1), uint8(5)\n",
      "memory usage: 69.1+ KB\n"
     ]
    }
   ],
   "source": [
    "# inspect\n",
    "titanic_dummies.info()"
   ]
  },
  {
   "cell_type": "code",
   "execution_count": 24,
   "metadata": {},
   "outputs": [
    {
     "name": "stdout",
     "output_type": "stream",
     "text": [
      "<class 'pandas.core.frame.DataFrame'>\n",
      "Index: 1308 entries, Allen, Miss. Elisabeth Walton to Zimmerman, Mr. Leo\n",
      "Data columns (total 11 columns):\n",
      " #   Column      Non-Null Count  Dtype   \n",
      "---  ------      --------------  -----   \n",
      " 0   age         1308 non-null   float64 \n",
      " 1   sibsp       1308 non-null   float64 \n",
      " 2   parch       1308 non-null   float64 \n",
      " 3   ticket      1308 non-null   object  \n",
      " 4   fare        1308 non-null   float64 \n",
      " 5   survived    1308 non-null   category\n",
      " 6   pclass_1.0  1308 non-null   uint8   \n",
      " 7   pclass_2.0  1308 non-null   uint8   \n",
      " 8   pclass_3.0  1308 non-null   uint8   \n",
      " 9   sex_female  1308 non-null   uint8   \n",
      " 10  sex_male    1308 non-null   uint8   \n",
      "dtypes: category(1), float64(4), object(1), uint8(5)\n",
      "memory usage: 69.1+ KB\n"
     ]
    }
   ],
   "source": [
    "# fare has one null value => drop that row\n",
    "titanic_dummies.dropna(subset=['fare'], inplace=True)\n",
    "titanic_dummies.info()"
   ]
  },
  {
   "cell_type": "code",
   "execution_count": 25,
   "metadata": {},
   "outputs": [
    {
     "data": {
      "text/html": [
       "<div>\n",
       "<style scoped>\n",
       "    .dataframe tbody tr th:only-of-type {\n",
       "        vertical-align: middle;\n",
       "    }\n",
       "\n",
       "    .dataframe tbody tr th {\n",
       "        vertical-align: top;\n",
       "    }\n",
       "\n",
       "    .dataframe thead th {\n",
       "        text-align: right;\n",
       "    }\n",
       "</style>\n",
       "<table border=\"1\" class=\"dataframe\">\n",
       "  <thead>\n",
       "    <tr style=\"text-align: right;\">\n",
       "      <th></th>\n",
       "      <th>age</th>\n",
       "      <th>sibsp</th>\n",
       "      <th>parch</th>\n",
       "      <th>ticket</th>\n",
       "      <th>fare</th>\n",
       "      <th>survived</th>\n",
       "      <th>pclass_1.0</th>\n",
       "      <th>pclass_2.0</th>\n",
       "      <th>pclass_3.0</th>\n",
       "      <th>sex_female</th>\n",
       "      <th>sex_male</th>\n",
       "      <th>ticket_count</th>\n",
       "    </tr>\n",
       "    <tr>\n",
       "      <th>name</th>\n",
       "      <th></th>\n",
       "      <th></th>\n",
       "      <th></th>\n",
       "      <th></th>\n",
       "      <th></th>\n",
       "      <th></th>\n",
       "      <th></th>\n",
       "      <th></th>\n",
       "      <th></th>\n",
       "      <th></th>\n",
       "      <th></th>\n",
       "      <th></th>\n",
       "    </tr>\n",
       "  </thead>\n",
       "  <tbody>\n",
       "    <tr>\n",
       "      <th>Allen, Miss. Elisabeth Walton</th>\n",
       "      <td>29.0000</td>\n",
       "      <td>0.0</td>\n",
       "      <td>0.0</td>\n",
       "      <td>24160</td>\n",
       "      <td>211.3375</td>\n",
       "      <td>1</td>\n",
       "      <td>1</td>\n",
       "      <td>0</td>\n",
       "      <td>0</td>\n",
       "      <td>1</td>\n",
       "      <td>0</td>\n",
       "      <td>4</td>\n",
       "    </tr>\n",
       "    <tr>\n",
       "      <th>Allison, Master. Hudson Trevor</th>\n",
       "      <td>0.9167</td>\n",
       "      <td>1.0</td>\n",
       "      <td>2.0</td>\n",
       "      <td>113781</td>\n",
       "      <td>151.5500</td>\n",
       "      <td>1</td>\n",
       "      <td>1</td>\n",
       "      <td>0</td>\n",
       "      <td>0</td>\n",
       "      <td>0</td>\n",
       "      <td>1</td>\n",
       "      <td>6</td>\n",
       "    </tr>\n",
       "    <tr>\n",
       "      <th>Allison, Miss. Helen Loraine</th>\n",
       "      <td>2.0000</td>\n",
       "      <td>1.0</td>\n",
       "      <td>2.0</td>\n",
       "      <td>113781</td>\n",
       "      <td>151.5500</td>\n",
       "      <td>0</td>\n",
       "      <td>1</td>\n",
       "      <td>0</td>\n",
       "      <td>0</td>\n",
       "      <td>1</td>\n",
       "      <td>0</td>\n",
       "      <td>6</td>\n",
       "    </tr>\n",
       "    <tr>\n",
       "      <th>Allison, Mr. Hudson Joshua Creighton</th>\n",
       "      <td>30.0000</td>\n",
       "      <td>1.0</td>\n",
       "      <td>2.0</td>\n",
       "      <td>113781</td>\n",
       "      <td>151.5500</td>\n",
       "      <td>0</td>\n",
       "      <td>1</td>\n",
       "      <td>0</td>\n",
       "      <td>0</td>\n",
       "      <td>0</td>\n",
       "      <td>1</td>\n",
       "      <td>6</td>\n",
       "    </tr>\n",
       "    <tr>\n",
       "      <th>Allison, Mrs. Hudson J C (Bessie Waldo Daniels)</th>\n",
       "      <td>25.0000</td>\n",
       "      <td>1.0</td>\n",
       "      <td>2.0</td>\n",
       "      <td>113781</td>\n",
       "      <td>151.5500</td>\n",
       "      <td>0</td>\n",
       "      <td>1</td>\n",
       "      <td>0</td>\n",
       "      <td>0</td>\n",
       "      <td>1</td>\n",
       "      <td>0</td>\n",
       "      <td>6</td>\n",
       "    </tr>\n",
       "  </tbody>\n",
       "</table>\n",
       "</div>"
      ],
      "text/plain": [
       "                                                     age  sibsp  parch  \\\n",
       "name                                                                     \n",
       "Allen, Miss. Elisabeth Walton                    29.0000    0.0    0.0   \n",
       "Allison, Master. Hudson Trevor                    0.9167    1.0    2.0   \n",
       "Allison, Miss. Helen Loraine                      2.0000    1.0    2.0   \n",
       "Allison, Mr. Hudson Joshua Creighton             30.0000    1.0    2.0   \n",
       "Allison, Mrs. Hudson J C (Bessie Waldo Daniels)  25.0000    1.0    2.0   \n",
       "\n",
       "                                                 ticket      fare survived  \\\n",
       "name                                                                         \n",
       "Allen, Miss. Elisabeth Walton                     24160  211.3375        1   \n",
       "Allison, Master. Hudson Trevor                   113781  151.5500        1   \n",
       "Allison, Miss. Helen Loraine                     113781  151.5500        0   \n",
       "Allison, Mr. Hudson Joshua Creighton             113781  151.5500        0   \n",
       "Allison, Mrs. Hudson J C (Bessie Waldo Daniels)  113781  151.5500        0   \n",
       "\n",
       "                                                 pclass_1.0  pclass_2.0  \\\n",
       "name                                                                      \n",
       "Allen, Miss. Elisabeth Walton                             1           0   \n",
       "Allison, Master. Hudson Trevor                            1           0   \n",
       "Allison, Miss. Helen Loraine                              1           0   \n",
       "Allison, Mr. Hudson Joshua Creighton                      1           0   \n",
       "Allison, Mrs. Hudson J C (Bessie Waldo Daniels)           1           0   \n",
       "\n",
       "                                                 pclass_3.0  sex_female  \\\n",
       "name                                                                      \n",
       "Allen, Miss. Elisabeth Walton                             0           1   \n",
       "Allison, Master. Hudson Trevor                            0           0   \n",
       "Allison, Miss. Helen Loraine                              0           1   \n",
       "Allison, Mr. Hudson Joshua Creighton                      0           0   \n",
       "Allison, Mrs. Hudson J C (Bessie Waldo Daniels)           0           1   \n",
       "\n",
       "                                                 sex_male  ticket_count  \n",
       "name                                                                     \n",
       "Allen, Miss. Elisabeth Walton                           0             4  \n",
       "Allison, Master. Hudson Trevor                          1             6  \n",
       "Allison, Miss. Helen Loraine                            0             6  \n",
       "Allison, Mr. Hudson Joshua Creighton                    1             6  \n",
       "Allison, Mrs. Hudson J C (Bessie Waldo Daniels)         0             6  "
      ]
     },
     "execution_count": 25,
     "metadata": {},
     "output_type": "execute_result"
    }
   ],
   "source": [
    "# calculate fare per person for multi-people ticket\n",
    "\n",
    "# group by ticket, then calculate the length of each group and assign that value to a new column \"ticket_count\"\n",
    "titanic_dummies['ticket_count'] = (\n",
    "    titanic_dummies.groupby(\"ticket\")['ticket'].transform(len))\n",
    "\n",
    "titanic_dummies.head()"
   ]
  },
  {
   "cell_type": "code",
   "execution_count": 26,
   "metadata": {},
   "outputs": [
    {
     "data": {
      "text/plain": [
       "count    1308.000000\n",
       "mean        2.102446\n",
       "std         1.780252\n",
       "min         1.000000\n",
       "25%         1.000000\n",
       "50%         1.000000\n",
       "75%         3.000000\n",
       "max        11.000000\n",
       "Name: ticket_count, dtype: float64"
      ]
     },
     "execution_count": 26,
     "metadata": {},
     "output_type": "execute_result"
    }
   ],
   "source": [
    "titanic_dummies['ticket_count'].describe()\n",
    "# seems to work? yay?"
   ]
  },
  {
   "cell_type": "code",
   "execution_count": 27,
   "metadata": {},
   "outputs": [
    {
     "data": {
      "text/plain": [
       "CA. 2343             11\n",
       "CA 2144               8\n",
       "1601                  8\n",
       "S.O.C. 14879          7\n",
       "PC 17608              7\n",
       "                     ..\n",
       "C.A. 29178            1\n",
       "SOTON/O.Q. 392087     1\n",
       "SC/A.3 2861           1\n",
       "364500                1\n",
       "211536                1\n",
       "Name: ticket, Length: 928, dtype: int64"
      ]
     },
     "execution_count": 27,
     "metadata": {},
     "output_type": "execute_result"
    }
   ],
   "source": [
    "titanic_dummies['ticket'].value_counts()\n",
    "# just checking"
   ]
  },
  {
   "cell_type": "code",
   "execution_count": 28,
   "metadata": {},
   "outputs": [
    {
     "data": {
      "text/html": [
       "<div>\n",
       "<style scoped>\n",
       "    .dataframe tbody tr th:only-of-type {\n",
       "        vertical-align: middle;\n",
       "    }\n",
       "\n",
       "    .dataframe tbody tr th {\n",
       "        vertical-align: top;\n",
       "    }\n",
       "\n",
       "    .dataframe thead th {\n",
       "        text-align: right;\n",
       "    }\n",
       "</style>\n",
       "<table border=\"1\" class=\"dataframe\">\n",
       "  <thead>\n",
       "    <tr style=\"text-align: right;\">\n",
       "      <th></th>\n",
       "      <th>age</th>\n",
       "      <th>sibsp</th>\n",
       "      <th>parch</th>\n",
       "      <th>ticket</th>\n",
       "      <th>fare</th>\n",
       "      <th>survived</th>\n",
       "      <th>pclass_1.0</th>\n",
       "      <th>pclass_2.0</th>\n",
       "      <th>pclass_3.0</th>\n",
       "      <th>sex_female</th>\n",
       "      <th>sex_male</th>\n",
       "      <th>ticket_count</th>\n",
       "      <th>fare_per_person</th>\n",
       "    </tr>\n",
       "    <tr>\n",
       "      <th>name</th>\n",
       "      <th></th>\n",
       "      <th></th>\n",
       "      <th></th>\n",
       "      <th></th>\n",
       "      <th></th>\n",
       "      <th></th>\n",
       "      <th></th>\n",
       "      <th></th>\n",
       "      <th></th>\n",
       "      <th></th>\n",
       "      <th></th>\n",
       "      <th></th>\n",
       "      <th></th>\n",
       "    </tr>\n",
       "  </thead>\n",
       "  <tbody>\n",
       "    <tr>\n",
       "      <th>Allen, Miss. Elisabeth Walton</th>\n",
       "      <td>29.0000</td>\n",
       "      <td>0.0</td>\n",
       "      <td>0.0</td>\n",
       "      <td>24160</td>\n",
       "      <td>211.3375</td>\n",
       "      <td>1</td>\n",
       "      <td>1</td>\n",
       "      <td>0</td>\n",
       "      <td>0</td>\n",
       "      <td>1</td>\n",
       "      <td>0</td>\n",
       "      <td>4</td>\n",
       "      <td>52.834375</td>\n",
       "    </tr>\n",
       "    <tr>\n",
       "      <th>Allison, Master. Hudson Trevor</th>\n",
       "      <td>0.9167</td>\n",
       "      <td>1.0</td>\n",
       "      <td>2.0</td>\n",
       "      <td>113781</td>\n",
       "      <td>151.5500</td>\n",
       "      <td>1</td>\n",
       "      <td>1</td>\n",
       "      <td>0</td>\n",
       "      <td>0</td>\n",
       "      <td>0</td>\n",
       "      <td>1</td>\n",
       "      <td>6</td>\n",
       "      <td>25.258333</td>\n",
       "    </tr>\n",
       "    <tr>\n",
       "      <th>Allison, Miss. Helen Loraine</th>\n",
       "      <td>2.0000</td>\n",
       "      <td>1.0</td>\n",
       "      <td>2.0</td>\n",
       "      <td>113781</td>\n",
       "      <td>151.5500</td>\n",
       "      <td>0</td>\n",
       "      <td>1</td>\n",
       "      <td>0</td>\n",
       "      <td>0</td>\n",
       "      <td>1</td>\n",
       "      <td>0</td>\n",
       "      <td>6</td>\n",
       "      <td>25.258333</td>\n",
       "    </tr>\n",
       "    <tr>\n",
       "      <th>Allison, Mr. Hudson Joshua Creighton</th>\n",
       "      <td>30.0000</td>\n",
       "      <td>1.0</td>\n",
       "      <td>2.0</td>\n",
       "      <td>113781</td>\n",
       "      <td>151.5500</td>\n",
       "      <td>0</td>\n",
       "      <td>1</td>\n",
       "      <td>0</td>\n",
       "      <td>0</td>\n",
       "      <td>0</td>\n",
       "      <td>1</td>\n",
       "      <td>6</td>\n",
       "      <td>25.258333</td>\n",
       "    </tr>\n",
       "    <tr>\n",
       "      <th>Allison, Mrs. Hudson J C (Bessie Waldo Daniels)</th>\n",
       "      <td>25.0000</td>\n",
       "      <td>1.0</td>\n",
       "      <td>2.0</td>\n",
       "      <td>113781</td>\n",
       "      <td>151.5500</td>\n",
       "      <td>0</td>\n",
       "      <td>1</td>\n",
       "      <td>0</td>\n",
       "      <td>0</td>\n",
       "      <td>1</td>\n",
       "      <td>0</td>\n",
       "      <td>6</td>\n",
       "      <td>25.258333</td>\n",
       "    </tr>\n",
       "  </tbody>\n",
       "</table>\n",
       "</div>"
      ],
      "text/plain": [
       "                                                     age  sibsp  parch  \\\n",
       "name                                                                     \n",
       "Allen, Miss. Elisabeth Walton                    29.0000    0.0    0.0   \n",
       "Allison, Master. Hudson Trevor                    0.9167    1.0    2.0   \n",
       "Allison, Miss. Helen Loraine                      2.0000    1.0    2.0   \n",
       "Allison, Mr. Hudson Joshua Creighton             30.0000    1.0    2.0   \n",
       "Allison, Mrs. Hudson J C (Bessie Waldo Daniels)  25.0000    1.0    2.0   \n",
       "\n",
       "                                                 ticket      fare survived  \\\n",
       "name                                                                         \n",
       "Allen, Miss. Elisabeth Walton                     24160  211.3375        1   \n",
       "Allison, Master. Hudson Trevor                   113781  151.5500        1   \n",
       "Allison, Miss. Helen Loraine                     113781  151.5500        0   \n",
       "Allison, Mr. Hudson Joshua Creighton             113781  151.5500        0   \n",
       "Allison, Mrs. Hudson J C (Bessie Waldo Daniels)  113781  151.5500        0   \n",
       "\n",
       "                                                 pclass_1.0  pclass_2.0  \\\n",
       "name                                                                      \n",
       "Allen, Miss. Elisabeth Walton                             1           0   \n",
       "Allison, Master. Hudson Trevor                            1           0   \n",
       "Allison, Miss. Helen Loraine                              1           0   \n",
       "Allison, Mr. Hudson Joshua Creighton                      1           0   \n",
       "Allison, Mrs. Hudson J C (Bessie Waldo Daniels)           1           0   \n",
       "\n",
       "                                                 pclass_3.0  sex_female  \\\n",
       "name                                                                      \n",
       "Allen, Miss. Elisabeth Walton                             0           1   \n",
       "Allison, Master. Hudson Trevor                            0           0   \n",
       "Allison, Miss. Helen Loraine                              0           1   \n",
       "Allison, Mr. Hudson Joshua Creighton                      0           0   \n",
       "Allison, Mrs. Hudson J C (Bessie Waldo Daniels)           0           1   \n",
       "\n",
       "                                                 sex_male  ticket_count  \\\n",
       "name                                                                      \n",
       "Allen, Miss. Elisabeth Walton                           0             4   \n",
       "Allison, Master. Hudson Trevor                          1             6   \n",
       "Allison, Miss. Helen Loraine                            0             6   \n",
       "Allison, Mr. Hudson Joshua Creighton                    1             6   \n",
       "Allison, Mrs. Hudson J C (Bessie Waldo Daniels)         0             6   \n",
       "\n",
       "                                                 fare_per_person  \n",
       "name                                                              \n",
       "Allen, Miss. Elisabeth Walton                          52.834375  \n",
       "Allison, Master. Hudson Trevor                         25.258333  \n",
       "Allison, Miss. Helen Loraine                           25.258333  \n",
       "Allison, Mr. Hudson Joshua Creighton                   25.258333  \n",
       "Allison, Mrs. Hudson J C (Bessie Waldo Daniels)        25.258333  "
      ]
     },
     "execution_count": 28,
     "metadata": {},
     "output_type": "execute_result"
    }
   ],
   "source": [
    "titanic_dummies['fare_per_person'] = titanic_dummies['fare'] / titanic_dummies['ticket_count']\n",
    "titanic_dummies.head()"
   ]
  },
  {
   "cell_type": "code",
   "execution_count": 29,
   "metadata": {},
   "outputs": [
    {
     "data": {
      "text/plain": [
       "count    1308.000000\n",
       "mean       14.757627\n",
       "std        13.555638\n",
       "min         0.000000\n",
       "25%         7.550000\n",
       "50%         8.050000\n",
       "75%        15.008325\n",
       "max       128.082300\n",
       "Name: fare_per_person, dtype: float64"
      ]
     },
     "execution_count": 29,
     "metadata": {},
     "output_type": "execute_result"
    }
   ],
   "source": [
    "# inspect\n",
    "titanic_dummies['fare_per_person'].describe()"
   ]
  },
  {
   "cell_type": "code",
   "execution_count": 30,
   "metadata": {},
   "outputs": [
    {
     "data": {
      "text/html": [
       "<div>\n",
       "<style scoped>\n",
       "    .dataframe tbody tr th:only-of-type {\n",
       "        vertical-align: middle;\n",
       "    }\n",
       "\n",
       "    .dataframe tbody tr th {\n",
       "        vertical-align: top;\n",
       "    }\n",
       "\n",
       "    .dataframe thead th {\n",
       "        text-align: right;\n",
       "    }\n",
       "</style>\n",
       "<table border=\"1\" class=\"dataframe\">\n",
       "  <thead>\n",
       "    <tr style=\"text-align: right;\">\n",
       "      <th></th>\n",
       "      <th>age</th>\n",
       "      <th>sibsp</th>\n",
       "      <th>parch</th>\n",
       "      <th>ticket</th>\n",
       "      <th>fare</th>\n",
       "      <th>survived</th>\n",
       "      <th>pclass_1.0</th>\n",
       "      <th>pclass_2.0</th>\n",
       "      <th>pclass_3.0</th>\n",
       "      <th>sex_female</th>\n",
       "      <th>sex_male</th>\n",
       "      <th>ticket_count</th>\n",
       "      <th>fare_per_person</th>\n",
       "      <th>sqrt_fare_pp</th>\n",
       "    </tr>\n",
       "    <tr>\n",
       "      <th>name</th>\n",
       "      <th></th>\n",
       "      <th></th>\n",
       "      <th></th>\n",
       "      <th></th>\n",
       "      <th></th>\n",
       "      <th></th>\n",
       "      <th></th>\n",
       "      <th></th>\n",
       "      <th></th>\n",
       "      <th></th>\n",
       "      <th></th>\n",
       "      <th></th>\n",
       "      <th></th>\n",
       "      <th></th>\n",
       "    </tr>\n",
       "  </thead>\n",
       "  <tbody>\n",
       "    <tr>\n",
       "      <th>Allen, Miss. Elisabeth Walton</th>\n",
       "      <td>29.0000</td>\n",
       "      <td>0.0</td>\n",
       "      <td>0.0</td>\n",
       "      <td>24160</td>\n",
       "      <td>211.3375</td>\n",
       "      <td>1</td>\n",
       "      <td>1</td>\n",
       "      <td>0</td>\n",
       "      <td>0</td>\n",
       "      <td>1</td>\n",
       "      <td>0</td>\n",
       "      <td>4</td>\n",
       "      <td>52.834375</td>\n",
       "      <td>7.268726</td>\n",
       "    </tr>\n",
       "    <tr>\n",
       "      <th>Allison, Master. Hudson Trevor</th>\n",
       "      <td>0.9167</td>\n",
       "      <td>1.0</td>\n",
       "      <td>2.0</td>\n",
       "      <td>113781</td>\n",
       "      <td>151.5500</td>\n",
       "      <td>1</td>\n",
       "      <td>1</td>\n",
       "      <td>0</td>\n",
       "      <td>0</td>\n",
       "      <td>0</td>\n",
       "      <td>1</td>\n",
       "      <td>6</td>\n",
       "      <td>25.258333</td>\n",
       "      <td>5.025767</td>\n",
       "    </tr>\n",
       "    <tr>\n",
       "      <th>Allison, Miss. Helen Loraine</th>\n",
       "      <td>2.0000</td>\n",
       "      <td>1.0</td>\n",
       "      <td>2.0</td>\n",
       "      <td>113781</td>\n",
       "      <td>151.5500</td>\n",
       "      <td>0</td>\n",
       "      <td>1</td>\n",
       "      <td>0</td>\n",
       "      <td>0</td>\n",
       "      <td>1</td>\n",
       "      <td>0</td>\n",
       "      <td>6</td>\n",
       "      <td>25.258333</td>\n",
       "      <td>5.025767</td>\n",
       "    </tr>\n",
       "    <tr>\n",
       "      <th>Allison, Mr. Hudson Joshua Creighton</th>\n",
       "      <td>30.0000</td>\n",
       "      <td>1.0</td>\n",
       "      <td>2.0</td>\n",
       "      <td>113781</td>\n",
       "      <td>151.5500</td>\n",
       "      <td>0</td>\n",
       "      <td>1</td>\n",
       "      <td>0</td>\n",
       "      <td>0</td>\n",
       "      <td>0</td>\n",
       "      <td>1</td>\n",
       "      <td>6</td>\n",
       "      <td>25.258333</td>\n",
       "      <td>5.025767</td>\n",
       "    </tr>\n",
       "    <tr>\n",
       "      <th>Allison, Mrs. Hudson J C (Bessie Waldo Daniels)</th>\n",
       "      <td>25.0000</td>\n",
       "      <td>1.0</td>\n",
       "      <td>2.0</td>\n",
       "      <td>113781</td>\n",
       "      <td>151.5500</td>\n",
       "      <td>0</td>\n",
       "      <td>1</td>\n",
       "      <td>0</td>\n",
       "      <td>0</td>\n",
       "      <td>1</td>\n",
       "      <td>0</td>\n",
       "      <td>6</td>\n",
       "      <td>25.258333</td>\n",
       "      <td>5.025767</td>\n",
       "    </tr>\n",
       "  </tbody>\n",
       "</table>\n",
       "</div>"
      ],
      "text/plain": [
       "                                                     age  sibsp  parch  \\\n",
       "name                                                                     \n",
       "Allen, Miss. Elisabeth Walton                    29.0000    0.0    0.0   \n",
       "Allison, Master. Hudson Trevor                    0.9167    1.0    2.0   \n",
       "Allison, Miss. Helen Loraine                      2.0000    1.0    2.0   \n",
       "Allison, Mr. Hudson Joshua Creighton             30.0000    1.0    2.0   \n",
       "Allison, Mrs. Hudson J C (Bessie Waldo Daniels)  25.0000    1.0    2.0   \n",
       "\n",
       "                                                 ticket      fare survived  \\\n",
       "name                                                                         \n",
       "Allen, Miss. Elisabeth Walton                     24160  211.3375        1   \n",
       "Allison, Master. Hudson Trevor                   113781  151.5500        1   \n",
       "Allison, Miss. Helen Loraine                     113781  151.5500        0   \n",
       "Allison, Mr. Hudson Joshua Creighton             113781  151.5500        0   \n",
       "Allison, Mrs. Hudson J C (Bessie Waldo Daniels)  113781  151.5500        0   \n",
       "\n",
       "                                                 pclass_1.0  pclass_2.0  \\\n",
       "name                                                                      \n",
       "Allen, Miss. Elisabeth Walton                             1           0   \n",
       "Allison, Master. Hudson Trevor                            1           0   \n",
       "Allison, Miss. Helen Loraine                              1           0   \n",
       "Allison, Mr. Hudson Joshua Creighton                      1           0   \n",
       "Allison, Mrs. Hudson J C (Bessie Waldo Daniels)           1           0   \n",
       "\n",
       "                                                 pclass_3.0  sex_female  \\\n",
       "name                                                                      \n",
       "Allen, Miss. Elisabeth Walton                             0           1   \n",
       "Allison, Master. Hudson Trevor                            0           0   \n",
       "Allison, Miss. Helen Loraine                              0           1   \n",
       "Allison, Mr. Hudson Joshua Creighton                      0           0   \n",
       "Allison, Mrs. Hudson J C (Bessie Waldo Daniels)           0           1   \n",
       "\n",
       "                                                 sex_male  ticket_count  \\\n",
       "name                                                                      \n",
       "Allen, Miss. Elisabeth Walton                           0             4   \n",
       "Allison, Master. Hudson Trevor                          1             6   \n",
       "Allison, Miss. Helen Loraine                            0             6   \n",
       "Allison, Mr. Hudson Joshua Creighton                    1             6   \n",
       "Allison, Mrs. Hudson J C (Bessie Waldo Daniels)         0             6   \n",
       "\n",
       "                                                 fare_per_person  sqrt_fare_pp  \n",
       "name                                                                            \n",
       "Allen, Miss. Elisabeth Walton                          52.834375      7.268726  \n",
       "Allison, Master. Hudson Trevor                         25.258333      5.025767  \n",
       "Allison, Miss. Helen Loraine                           25.258333      5.025767  \n",
       "Allison, Mr. Hudson Joshua Creighton                   25.258333      5.025767  \n",
       "Allison, Mrs. Hudson J C (Bessie Waldo Daniels)        25.258333      5.025767  "
      ]
     },
     "execution_count": 30,
     "metadata": {},
     "output_type": "execute_result"
    }
   ],
   "source": [
    "# clip fare per person\n",
    "from math import sqrt\n",
    "\n",
    "titanic_dummies['sqrt_fare_pp'] = titanic_dummies['fare_per_person'].apply(lambda value:sqrt(value))\n",
    "titanic_dummies.head()"
   ]
  },
  {
   "cell_type": "code",
   "execution_count": 31,
   "metadata": {
    "scrolled": true
   },
   "outputs": [
    {
     "data": {
      "text/html": [
       "<div>\n",
       "<style scoped>\n",
       "    .dataframe tbody tr th:only-of-type {\n",
       "        vertical-align: middle;\n",
       "    }\n",
       "\n",
       "    .dataframe tbody tr th {\n",
       "        vertical-align: top;\n",
       "    }\n",
       "\n",
       "    .dataframe thead th {\n",
       "        text-align: right;\n",
       "    }\n",
       "</style>\n",
       "<table border=\"1\" class=\"dataframe\">\n",
       "  <thead>\n",
       "    <tr style=\"text-align: right;\">\n",
       "      <th></th>\n",
       "      <th>age</th>\n",
       "      <th>sibsp</th>\n",
       "      <th>parch</th>\n",
       "      <th>survived</th>\n",
       "      <th>pclass_1.0</th>\n",
       "      <th>pclass_2.0</th>\n",
       "      <th>pclass_3.0</th>\n",
       "      <th>sex_female</th>\n",
       "      <th>sex_male</th>\n",
       "      <th>sqrt_fare_pp</th>\n",
       "    </tr>\n",
       "    <tr>\n",
       "      <th>name</th>\n",
       "      <th></th>\n",
       "      <th></th>\n",
       "      <th></th>\n",
       "      <th></th>\n",
       "      <th></th>\n",
       "      <th></th>\n",
       "      <th></th>\n",
       "      <th></th>\n",
       "      <th></th>\n",
       "      <th></th>\n",
       "    </tr>\n",
       "  </thead>\n",
       "  <tbody>\n",
       "    <tr>\n",
       "      <th>Allen, Miss. Elisabeth Walton</th>\n",
       "      <td>29.0000</td>\n",
       "      <td>0.0</td>\n",
       "      <td>0.0</td>\n",
       "      <td>1</td>\n",
       "      <td>1</td>\n",
       "      <td>0</td>\n",
       "      <td>0</td>\n",
       "      <td>1</td>\n",
       "      <td>0</td>\n",
       "      <td>7.268726</td>\n",
       "    </tr>\n",
       "    <tr>\n",
       "      <th>Allison, Master. Hudson Trevor</th>\n",
       "      <td>0.9167</td>\n",
       "      <td>1.0</td>\n",
       "      <td>2.0</td>\n",
       "      <td>1</td>\n",
       "      <td>1</td>\n",
       "      <td>0</td>\n",
       "      <td>0</td>\n",
       "      <td>0</td>\n",
       "      <td>1</td>\n",
       "      <td>5.025767</td>\n",
       "    </tr>\n",
       "    <tr>\n",
       "      <th>Allison, Miss. Helen Loraine</th>\n",
       "      <td>2.0000</td>\n",
       "      <td>1.0</td>\n",
       "      <td>2.0</td>\n",
       "      <td>0</td>\n",
       "      <td>1</td>\n",
       "      <td>0</td>\n",
       "      <td>0</td>\n",
       "      <td>1</td>\n",
       "      <td>0</td>\n",
       "      <td>5.025767</td>\n",
       "    </tr>\n",
       "    <tr>\n",
       "      <th>Allison, Mr. Hudson Joshua Creighton</th>\n",
       "      <td>30.0000</td>\n",
       "      <td>1.0</td>\n",
       "      <td>2.0</td>\n",
       "      <td>0</td>\n",
       "      <td>1</td>\n",
       "      <td>0</td>\n",
       "      <td>0</td>\n",
       "      <td>0</td>\n",
       "      <td>1</td>\n",
       "      <td>5.025767</td>\n",
       "    </tr>\n",
       "    <tr>\n",
       "      <th>Allison, Mrs. Hudson J C (Bessie Waldo Daniels)</th>\n",
       "      <td>25.0000</td>\n",
       "      <td>1.0</td>\n",
       "      <td>2.0</td>\n",
       "      <td>0</td>\n",
       "      <td>1</td>\n",
       "      <td>0</td>\n",
       "      <td>0</td>\n",
       "      <td>1</td>\n",
       "      <td>0</td>\n",
       "      <td>5.025767</td>\n",
       "    </tr>\n",
       "  </tbody>\n",
       "</table>\n",
       "</div>"
      ],
      "text/plain": [
       "                                                     age  sibsp  parch  \\\n",
       "name                                                                     \n",
       "Allen, Miss. Elisabeth Walton                    29.0000    0.0    0.0   \n",
       "Allison, Master. Hudson Trevor                    0.9167    1.0    2.0   \n",
       "Allison, Miss. Helen Loraine                      2.0000    1.0    2.0   \n",
       "Allison, Mr. Hudson Joshua Creighton             30.0000    1.0    2.0   \n",
       "Allison, Mrs. Hudson J C (Bessie Waldo Daniels)  25.0000    1.0    2.0   \n",
       "\n",
       "                                                survived  pclass_1.0  \\\n",
       "name                                                                   \n",
       "Allen, Miss. Elisabeth Walton                          1           1   \n",
       "Allison, Master. Hudson Trevor                         1           1   \n",
       "Allison, Miss. Helen Loraine                           0           1   \n",
       "Allison, Mr. Hudson Joshua Creighton                   0           1   \n",
       "Allison, Mrs. Hudson J C (Bessie Waldo Daniels)        0           1   \n",
       "\n",
       "                                                 pclass_2.0  pclass_3.0  \\\n",
       "name                                                                      \n",
       "Allen, Miss. Elisabeth Walton                             0           0   \n",
       "Allison, Master. Hudson Trevor                            0           0   \n",
       "Allison, Miss. Helen Loraine                              0           0   \n",
       "Allison, Mr. Hudson Joshua Creighton                      0           0   \n",
       "Allison, Mrs. Hudson J C (Bessie Waldo Daniels)           0           0   \n",
       "\n",
       "                                                 sex_female  sex_male  \\\n",
       "name                                                                    \n",
       "Allen, Miss. Elisabeth Walton                             1         0   \n",
       "Allison, Master. Hudson Trevor                            0         1   \n",
       "Allison, Miss. Helen Loraine                              1         0   \n",
       "Allison, Mr. Hudson Joshua Creighton                      0         1   \n",
       "Allison, Mrs. Hudson J C (Bessie Waldo Daniels)           1         0   \n",
       "\n",
       "                                                 sqrt_fare_pp  \n",
       "name                                                           \n",
       "Allen, Miss. Elisabeth Walton                        7.268726  \n",
       "Allison, Master. Hudson Trevor                       5.025767  \n",
       "Allison, Miss. Helen Loraine                         5.025767  \n",
       "Allison, Mr. Hudson Joshua Creighton                 5.025767  \n",
       "Allison, Mrs. Hudson J C (Bessie Waldo Daniels)      5.025767  "
      ]
     },
     "execution_count": 31,
     "metadata": {},
     "output_type": "execute_result"
    }
   ],
   "source": [
    "# drop ticket, fare, unclipped fare_per_person\n",
    "titanic_dummies.drop(['ticket', 'ticket_count', 'fare', 'fare_per_person'], axis=1, inplace=True)\n",
    "titanic_dummies.head()"
   ]
  },
  {
   "cell_type": "markdown",
   "metadata": {},
   "source": [
    "### Consider the different algorithms I may use"
   ]
  },
  {
   "cell_type": "markdown",
   "metadata": {},
   "source": [
    "1) Trees <br>\n",
    "Model: Decision tree, gradient boosted decision tree, random forest <br>\n",
    "Data prep: deal with missing values\n",
    "\n",
    "\n",
    "2) knn <br>\n",
    "Model: k-nearest neighbours <br>\n",
    "Data prep: deal with missing values, convert categorical variables to numeric\n",
    "\n",
    "\n",
    "3) Linear models <br>\n",
    "Models: Logistic regression & Support vector machine <br>\n",
    "Data prep: deal with missing values, convert categorical variables to numeric\n"
   ]
  },
  {
   "cell_type": "markdown",
   "metadata": {},
   "source": [
    "### Prepare the data"
   ]
  },
  {
   "cell_type": "code",
   "execution_count": 32,
   "metadata": {},
   "outputs": [
    {
     "data": {
      "text/html": [
       "<div>\n",
       "<style scoped>\n",
       "    .dataframe tbody tr th:only-of-type {\n",
       "        vertical-align: middle;\n",
       "    }\n",
       "\n",
       "    .dataframe tbody tr th {\n",
       "        vertical-align: top;\n",
       "    }\n",
       "\n",
       "    .dataframe thead th {\n",
       "        text-align: right;\n",
       "    }\n",
       "</style>\n",
       "<table border=\"1\" class=\"dataframe\">\n",
       "  <thead>\n",
       "    <tr style=\"text-align: right;\">\n",
       "      <th></th>\n",
       "      <th>age</th>\n",
       "      <th>sibsp</th>\n",
       "      <th>parch</th>\n",
       "      <th>pclass_1.0</th>\n",
       "      <th>pclass_2.0</th>\n",
       "      <th>pclass_3.0</th>\n",
       "      <th>sex_female</th>\n",
       "      <th>sex_male</th>\n",
       "      <th>sqrt_fare_pp</th>\n",
       "    </tr>\n",
       "  </thead>\n",
       "  <tbody>\n",
       "    <tr>\n",
       "      <th>count</th>\n",
       "      <td>1308.000000</td>\n",
       "      <td>1308.000000</td>\n",
       "      <td>1308.000000</td>\n",
       "      <td>1308.000000</td>\n",
       "      <td>1308.000000</td>\n",
       "      <td>1308.000000</td>\n",
       "      <td>1308.000000</td>\n",
       "      <td>1308.000000</td>\n",
       "      <td>1308.000000</td>\n",
       "    </tr>\n",
       "    <tr>\n",
       "      <th>mean</th>\n",
       "      <td>29.479485</td>\n",
       "      <td>0.499235</td>\n",
       "      <td>0.385321</td>\n",
       "      <td>0.246942</td>\n",
       "      <td>0.211774</td>\n",
       "      <td>0.541284</td>\n",
       "      <td>0.356269</td>\n",
       "      <td>0.643731</td>\n",
       "      <td>3.560072</td>\n",
       "    </tr>\n",
       "    <tr>\n",
       "      <th>std</th>\n",
       "      <td>12.881658</td>\n",
       "      <td>1.041965</td>\n",
       "      <td>0.865826</td>\n",
       "      <td>0.431398</td>\n",
       "      <td>0.408722</td>\n",
       "      <td>0.498483</td>\n",
       "      <td>0.479079</td>\n",
       "      <td>0.479079</td>\n",
       "      <td>1.443990</td>\n",
       "    </tr>\n",
       "    <tr>\n",
       "      <th>min</th>\n",
       "      <td>0.166700</td>\n",
       "      <td>0.000000</td>\n",
       "      <td>0.000000</td>\n",
       "      <td>0.000000</td>\n",
       "      <td>0.000000</td>\n",
       "      <td>0.000000</td>\n",
       "      <td>0.000000</td>\n",
       "      <td>0.000000</td>\n",
       "      <td>0.000000</td>\n",
       "    </tr>\n",
       "    <tr>\n",
       "      <th>25%</th>\n",
       "      <td>22.000000</td>\n",
       "      <td>0.000000</td>\n",
       "      <td>0.000000</td>\n",
       "      <td>0.000000</td>\n",
       "      <td>0.000000</td>\n",
       "      <td>0.000000</td>\n",
       "      <td>0.000000</td>\n",
       "      <td>0.000000</td>\n",
       "      <td>2.747726</td>\n",
       "    </tr>\n",
       "    <tr>\n",
       "      <th>50%</th>\n",
       "      <td>28.000000</td>\n",
       "      <td>0.000000</td>\n",
       "      <td>0.000000</td>\n",
       "      <td>0.000000</td>\n",
       "      <td>0.000000</td>\n",
       "      <td>1.000000</td>\n",
       "      <td>0.000000</td>\n",
       "      <td>1.000000</td>\n",
       "      <td>2.837252</td>\n",
       "    </tr>\n",
       "    <tr>\n",
       "      <th>75%</th>\n",
       "      <td>35.000000</td>\n",
       "      <td>1.000000</td>\n",
       "      <td>0.000000</td>\n",
       "      <td>0.000000</td>\n",
       "      <td>0.000000</td>\n",
       "      <td>1.000000</td>\n",
       "      <td>1.000000</td>\n",
       "      <td>1.000000</td>\n",
       "      <td>3.874058</td>\n",
       "    </tr>\n",
       "    <tr>\n",
       "      <th>max</th>\n",
       "      <td>80.000000</td>\n",
       "      <td>8.000000</td>\n",
       "      <td>9.000000</td>\n",
       "      <td>1.000000</td>\n",
       "      <td>1.000000</td>\n",
       "      <td>1.000000</td>\n",
       "      <td>1.000000</td>\n",
       "      <td>1.000000</td>\n",
       "      <td>11.317345</td>\n",
       "    </tr>\n",
       "  </tbody>\n",
       "</table>\n",
       "</div>"
      ],
      "text/plain": [
       "               age        sibsp        parch   pclass_1.0   pclass_2.0  \\\n",
       "count  1308.000000  1308.000000  1308.000000  1308.000000  1308.000000   \n",
       "mean     29.479485     0.499235     0.385321     0.246942     0.211774   \n",
       "std      12.881658     1.041965     0.865826     0.431398     0.408722   \n",
       "min       0.166700     0.000000     0.000000     0.000000     0.000000   \n",
       "25%      22.000000     0.000000     0.000000     0.000000     0.000000   \n",
       "50%      28.000000     0.000000     0.000000     0.000000     0.000000   \n",
       "75%      35.000000     1.000000     0.000000     0.000000     0.000000   \n",
       "max      80.000000     8.000000     9.000000     1.000000     1.000000   \n",
       "\n",
       "        pclass_3.0   sex_female     sex_male  sqrt_fare_pp  \n",
       "count  1308.000000  1308.000000  1308.000000   1308.000000  \n",
       "mean      0.541284     0.356269     0.643731      3.560072  \n",
       "std       0.498483     0.479079     0.479079      1.443990  \n",
       "min       0.000000     0.000000     0.000000      0.000000  \n",
       "25%       0.000000     0.000000     0.000000      2.747726  \n",
       "50%       1.000000     0.000000     1.000000      2.837252  \n",
       "75%       1.000000     1.000000     1.000000      3.874058  \n",
       "max       1.000000     1.000000     1.000000     11.317345  "
      ]
     },
     "metadata": {},
     "output_type": "display_data"
    },
    {
     "name": "stdout",
     "output_type": "stream",
     "text": [
      "<class 'pandas.core.frame.DataFrame'>\n",
      "Index: 1308 entries, Allen, Miss. Elisabeth Walton to Zimmerman, Mr. Leo\n",
      "Data columns (total 10 columns):\n",
      " #   Column        Non-Null Count  Dtype   \n",
      "---  ------        --------------  -----   \n",
      " 0   age           1308 non-null   float64 \n",
      " 1   sibsp         1308 non-null   float64 \n",
      " 2   parch         1308 non-null   float64 \n",
      " 3   survived      1308 non-null   category\n",
      " 4   pclass_1.0    1308 non-null   uint8   \n",
      " 5   pclass_2.0    1308 non-null   uint8   \n",
      " 6   pclass_3.0    1308 non-null   uint8   \n",
      " 7   sex_female    1308 non-null   uint8   \n",
      " 8   sex_male      1308 non-null   uint8   \n",
      " 9   sqrt_fare_pp  1308 non-null   float64 \n",
      "dtypes: category(1), float64(4), uint8(5)\n",
      "memory usage: 58.9+ KB\n"
     ]
    },
    {
     "data": {
      "text/plain": [
       "None"
      ]
     },
     "metadata": {},
     "output_type": "display_data"
    }
   ],
   "source": [
    "# inspect data (eg waht's the range of values in each column, how many empty cells for each column)\n",
    "\n",
    "display(titanic_dummies.describe())\n",
    "display(titanic_dummies.info())\n",
    "# => all seems good\n",
    "# (though as we've seen, sometimes you can have, eg, a single null value somewhere\n",
    "# => need to actually look at the descriptors)"
   ]
  },
  {
   "cell_type": "code",
   "execution_count": null,
   "metadata": {},
   "outputs": [],
   "source": [
    "# deal with missing values (eg remove empty rows / columns)\n",
    "\n",
    "# => all good here, no need"
   ]
  },
  {
   "cell_type": "code",
   "execution_count": null,
   "metadata": {},
   "outputs": [],
   "source": [
    "# convert categorical variables to numeric for some algorithms (eg convert sex to 0 and 1)\n",
    "# could use label-encoding or, seems like a better idea, one-hot encoding\n",
    "\n",
    "# => all done already, yay"
   ]
  },
  {
   "cell_type": "markdown",
   "metadata": {},
   "source": [
    "### Try out ML classification algorithms"
   ]
  },
  {
   "cell_type": "code",
   "execution_count": 33,
   "metadata": {},
   "outputs": [],
   "source": [
    "# split data into train & test\n",
    "\n",
    "from sklearn.model_selection import train_test_split\n",
    "X_train, X_test, y_train, y_test = train_test_split(\n",
    "    titanic_dummies.loc[:, titanic_dummies.columns != 'survived'], titanic_dummies['survived'], random_state=0)"
   ]
  },
  {
   "cell_type": "code",
   "execution_count": 34,
   "metadata": {},
   "outputs": [
    {
     "name": "stdout",
     "output_type": "stream",
     "text": [
      "knn\n",
      "\n",
      "For 1 neighbours,\tthe train score is 0.95 and the test score is 0.72.\n",
      "For 3 neighbours,\tthe train score is 0.86 and the test score is 0.79.\n",
      "For 5 neighbours,\tthe train score is 0.83 and the test score is 0.79.\n",
      "For 10 neighbours,\tthe train score is 0.81 and the test score is 0.78.\n"
     ]
    }
   ],
   "source": [
    "# knn\n",
    "print(\"knn\\n\")\n",
    "\n",
    "from sklearn.neighbors import KNeighborsClassifier\n",
    "model = KNeighborsClassifier\n",
    "\n",
    "neighbours = [1, 3, 5, 10]\n",
    "\n",
    "for neighbour_no in neighbours:\n",
    "    clf = model(n_neighbors=neighbour_no).fit(X_train, y_train)\n",
    "    train_score = clf.score(X_train, y_train)\n",
    "    test_score = clf.score(X_test, y_test)\n",
    "    print(\"For {} neighbours,\\tthe train score is {:.2f} and the test score is {:.2f}.\".format(\n",
    "        neighbour_no, train_score, test_score))   "
   ]
  },
  {
   "cell_type": "code",
   "execution_count": 49,
   "metadata": {},
   "outputs": [
    {
     "name": "stdout",
     "output_type": "stream",
     "text": [
      "Logistic regression\n",
      "\n",
      "For C value of 0.01,\tthe train score is 0.77 and the test score is 0.79.\n",
      "Model.coef_ [[-0.02798344 -0.11194007  0.05666932  0.15706479  0.04872538 -0.20577704\n",
      "   0.55362156 -0.55360843  0.32546491]]\n",
      "For C value of 1,\tthe train score is 0.78 and the test score is 0.79.\n",
      "Model.coef_ [[-0.04163267 -0.26943747 -0.02800978  0.94361013 -0.01349189 -0.79662536\n",
      "   1.33226267 -1.19876979  0.1327841 ]]\n"
     ]
    },
    {
     "name": "stderr",
     "output_type": "stream",
     "text": [
      "/home/bkotryna/anaconda3/lib/python3.8/site-packages/sklearn/linear_model/_logistic.py:762: ConvergenceWarning: lbfgs failed to converge (status=1):\n",
      "STOP: TOTAL NO. of ITERATIONS REACHED LIMIT.\n",
      "\n",
      "Increase the number of iterations (max_iter) or scale the data as shown in:\n",
      "    https://scikit-learn.org/stable/modules/preprocessing.html\n",
      "Please also refer to the documentation for alternative solver options:\n",
      "    https://scikit-learn.org/stable/modules/linear_model.html#logistic-regression\n",
      "  n_iter_i = _check_optimize_result(\n"
     ]
    },
    {
     "name": "stdout",
     "output_type": "stream",
     "text": [
      "For C value of 10,\tthe train score is 0.78 and the test score is 0.78.\n",
      "Model.coef_ [[-0.0427573  -0.28654945 -0.03932849  1.16442329  0.09959306 -0.70152682\n",
      "   1.5721611  -1.00967157  0.11038361]]\n",
      "For C value of 100,\tthe train score is 0.78 and the test score is 0.78.\n",
      "Model.coef_ [[-0.04288076 -0.28696248 -0.04020346  1.17803933  0.10051356 -0.7051038\n",
      "   1.58005186 -1.00660277  0.10668062]]\n",
      "For C value of 1000000,\tthe train score is 0.78 and the test score is 0.78.\n",
      "Model.coef_ [[-0.04298061 -0.28641014 -0.04177405  1.18168374  0.10196567 -0.70639073\n",
      "   1.58300132 -1.00574263  0.10606777]]\n"
     ]
    }
   ],
   "source": [
    "# logistic regression\n",
    "print(\"Logistic regression\\n\")\n",
    "\n",
    "from sklearn.linear_model import LogisticRegression\n",
    "model = LogisticRegression\n",
    "\n",
    "c_values = [0.01, 1, 10, 100, 1000000]\n",
    "\n",
    "for c_value in c_values:\n",
    "    clf = model(C = c_value).fit(X_train, y_train)\n",
    "    \n",
    "    test_predictions = clf.predict(X_test)\n",
    "    # print(test_predictions)\n",
    "    \n",
    "    test_prob = clf.predict_proba(X_test)\n",
    "    # print(test_prob)\n",
    "    \n",
    "    train_score = clf.score(X_train, y_train)\n",
    "    test_score = clf.score(X_test, y_test)\n",
    "    print(\"For C value of {},\\tthe train score is {:.2f} and the test score is {:.2f}.\".format(\n",
    "        c_value, train_score, test_score))  \n",
    "    \n",
    "    print(\"Model.coef_\", clf.coef_)"
   ]
  },
  {
   "cell_type": "code",
   "execution_count": 36,
   "metadata": {},
   "outputs": [
    {
     "name": "stdout",
     "output_type": "stream",
     "text": [
      "Support vector machine\n",
      "\n",
      "For C value of 0.01,\tthe train score is 0.79 and the test score is 0.80.\n",
      "For C value of 1,\tthe train score is 0.78 and the test score is 0.80.\n"
     ]
    },
    {
     "name": "stderr",
     "output_type": "stream",
     "text": [
      "/home/bkotryna/anaconda3/lib/python3.8/site-packages/sklearn/svm/_base.py:976: ConvergenceWarning: Liblinear failed to converge, increase the number of iterations.\n",
      "  warnings.warn(\"Liblinear failed to converge, increase \"\n",
      "/home/bkotryna/anaconda3/lib/python3.8/site-packages/sklearn/svm/_base.py:976: ConvergenceWarning: Liblinear failed to converge, increase the number of iterations.\n",
      "  warnings.warn(\"Liblinear failed to converge, increase \"\n",
      "/home/bkotryna/anaconda3/lib/python3.8/site-packages/sklearn/svm/_base.py:976: ConvergenceWarning: Liblinear failed to converge, increase the number of iterations.\n",
      "  warnings.warn(\"Liblinear failed to converge, increase \"\n"
     ]
    },
    {
     "name": "stdout",
     "output_type": "stream",
     "text": [
      "For C value of 10,\tthe train score is 0.69 and the test score is 0.72.\n",
      "For C value of 100,\tthe train score is 0.69 and the test score is 0.72.\n"
     ]
    },
    {
     "name": "stderr",
     "output_type": "stream",
     "text": [
      "/home/bkotryna/anaconda3/lib/python3.8/site-packages/sklearn/svm/_base.py:976: ConvergenceWarning: Liblinear failed to converge, increase the number of iterations.\n",
      "  warnings.warn(\"Liblinear failed to converge, increase \"\n"
     ]
    }
   ],
   "source": [
    "# support vector machine\n",
    "print(\"Support vector machine\\n\")\n",
    "\n",
    "from sklearn.svm import LinearSVC\n",
    "model = LinearSVC\n",
    "\n",
    "c_values = [0.01, 1, 10, 100]\n",
    "\n",
    "for c_value in c_values:\n",
    "    clf = model(C = c_value, random_state=0).fit(X_train, y_train)\n",
    "    train_score = clf.score(X_train, y_train)\n",
    "    test_score = clf.score(X_test, y_test)\n",
    "    print(\"For C value of {},\\tthe train score is {:.2f} and the test score is {:.2f}.\".format(\n",
    "        c_value, train_score, test_score))  "
   ]
  },
  {
   "cell_type": "code",
   "execution_count": 38,
   "metadata": {},
   "outputs": [
    {
     "name": "stdout",
     "output_type": "stream",
     "text": [
      "Decision tree\n",
      "\n",
      "For max_depth of 1,\tthe train score is 0.78 and the test score is 0.79.\n",
      "For max_depth of 2,\tthe train score is 0.78 and the test score is 0.80.\n",
      "For max_depth of 5,\tthe train score is 0.83 and the test score is 0.80.\n",
      "For max_depth of 8,\tthe train score is 0.87 and the test score is 0.80.\n",
      "For max_depth of 32,\tthe train score is 0.97 and the test score is 0.78.\n"
     ]
    }
   ],
   "source": [
    "# Decission tree\n",
    "print(\"Decision tree\\n\")\n",
    "\n",
    "from sklearn.tree import DecisionTreeClassifier\n",
    "model = DecisionTreeClassifier\n",
    "\n",
    "depths = [1, 2, 5, 8, 32]\n",
    "\n",
    "for max_depth in depths:\n",
    "    clf = model(max_depth = max_depth, random_state=0).fit(X_train, y_train)\n",
    "    train_score = clf.score(X_train, y_train)\n",
    "    test_score = clf.score(X_test, y_test)\n",
    "    print(\"For max_depth of {},\\tthe train score is {:.2f} and the test score is {:.2f}.\".format(\n",
    "        max_depth, train_score, test_score)) "
   ]
  },
  {
   "cell_type": "code",
   "execution_count": 42,
   "metadata": {
    "scrolled": true
   },
   "outputs": [
    {
     "name": "stdout",
     "output_type": "stream",
     "text": [
      "Random forest\n",
      "\n",
      "Number of trees:\n",
      "For n_estimators of 10,\tthe train score is 0.95 and the test score is 0.79.\n",
      "For n_estimators of 100,\tthe train score is 0.97 and the test score is 0.80.\n",
      "For n_estimators of 1000,\tthe train score is 0.97 and the test score is 0.78.\n",
      "\n",
      "\n",
      "Number of features:\n",
      "For max_features of 1,\tthe train score is 0.95 and the test score is 0.78.\n",
      "For max_features of 3,\tthe train score is 0.95 and the test score is 0.79.\n",
      "For max_features of 6,\tthe train score is 0.95 and the test score is 0.76.\n",
      "For max_features of 9,\tthe train score is 0.95 and the test score is 0.77.\n"
     ]
    }
   ],
   "source": [
    "# Random forest\n",
    "print(\"Random forest\\n\")\n",
    "\n",
    "from sklearn.ensemble import RandomForestClassifier\n",
    "model = RandomForestClassifier\n",
    "\n",
    "# try out different number of trees\n",
    "print(\"Number of trees:\")\n",
    "estimators = [10, 100, 1000]\n",
    "\n",
    "for n_estimators in estimators:\n",
    "    clf = model(n_estimators = n_estimators, random_state=0).fit(X_train, y_train)\n",
    "    train_score = clf.score(X_train, y_train)\n",
    "    test_score = clf.score(X_test, y_test)\n",
    "    print(\"For n_estimators of {},\\tthe train score is {:.2f} and the test score is {:.2f}.\".format(\n",
    "        n_estimators, train_score, test_score)) \n",
    "    \n",
    "    \n",
    "# try out different number of features\n",
    "print(\"\\n\\nNumber of features:\")\n",
    "features = [1, 3, 6, 9]\n",
    "\n",
    "for max_features in features:\n",
    "    clf = model(max_features = max_features, n_estimators = 10, random_state=0).fit(X_train, y_train)\n",
    "    train_score = clf.score(X_train, y_train)\n",
    "    test_score = clf.score(X_test, y_test)\n",
    "    print(\"For max_features of {},\\tthe train score is {:.2f} and the test score is {:.2f}.\".format(\n",
    "        max_features, train_score, test_score)) "
   ]
  },
  {
   "cell_type": "code",
   "execution_count": 85,
   "metadata": {
    "scrolled": true
   },
   "outputs": [
    {
     "name": "stdout",
     "output_type": "stream",
     "text": [
      "Gradient boosted tree\n",
      "\n",
      "Learning rates\n",
      "\n",
      "For learning_rate of 0.001,\tthe train score is 0.61 and the test score is 0.63.\n",
      "clf.feature_importances_ [0.05593254 0.05464496 0.00582488 0.         0.         0.15720937\n",
      " 0.31162836 0.34985342 0.06490647]\n",
      "For learning_rate of 0.01,\tthe train score is 0.81 and the test score is 0.81.\n",
      "clf.feature_importances_ [0.0592755  0.05390956 0.01021982 0.         0.         0.15193778\n",
      " 0.29342463 0.35228386 0.07894885]\n",
      "For learning_rate of 0.1,\tthe train score is 0.88 and the test score is 0.80.\n",
      "clf.feature_importances_ [0.12293038 0.05898316 0.01626207 0.00239627 0.00146564 0.10595603\n",
      " 0.17508363 0.31139502 0.20552781]\n",
      "For learning_rate of 1,\tthe train score is 0.96 and the test score is 0.78.\n",
      "clf.feature_importances_ [0.17402284 0.05323014 0.01224606 0.00278779 0.00193035 0.08651351\n",
      " 0.01038764 0.37834088 0.2805408 ]\n",
      "\n",
      "Max depths\n",
      "\n",
      "For max_depth of 1,\tthe train score is 0.78 and the test score is 0.79.\n",
      "clf.feature_importances_ [0.         0.         0.         0.         0.         0.\n",
      " 0.57687176 0.34675267 0.07637557]\n",
      "For max_depth of 2,\tthe train score is 0.78 and the test score is 0.80.\n",
      "clf.feature_importances_ [0.05196705 0.         0.         0.         0.         0.16408857\n",
      " 0.3116915  0.42440734 0.04784553]\n",
      "For max_depth of 3,\tthe train score is 0.81 and the test score is 0.81.\n",
      "clf.feature_importances_ [0.0592755  0.05390956 0.01021982 0.         0.         0.15193778\n",
      " 0.29342463 0.35228386 0.07894885]\n",
      "For max_depth of 4,\tthe train score is 0.83 and the test score is 0.81.\n",
      "clf.feature_importances_ [9.10089760e-02 5.94666707e-02 1.54817410e-02 1.75263356e-04\n",
      " 6.21386180e-04 1.38687873e-01 2.30330702e-01 3.52466356e-01\n",
      " 1.11761033e-01]\n",
      "For max_depth of 8,\tthe train score is 0.91 and the test score is 0.80.\n",
      "clf.feature_importances_ [1.71518702e-01 5.74279587e-02 3.30391739e-02 1.77396053e-03\n",
      " 3.21218139e-05 9.88979034e-02 1.96940659e-01 2.04527507e-01\n",
      " 2.35842013e-01]\n",
      "For max_depth of 32,\tthe train score is 0.97 and the test score is 0.77.\n",
      "clf.feature_importances_ [0.22423917 0.06325511 0.03499477 0.00180682 0.0022508  0.07749892\n",
      " 0.14487618 0.15805377 0.29302446]\n"
     ]
    }
   ],
   "source": [
    "# Gradient boosted decision tree\n",
    "print(\"Gradient boosted tree\\n\")\n",
    "\n",
    "from sklearn.ensemble import GradientBoostingClassifier\n",
    "model = GradientBoostingClassifier\n",
    "\n",
    "# try out different learning rates\n",
    "print(\"Learning rates\\n\")\n",
    "learning_rates = [0.001, 0.01, 0.1, 1]\n",
    "\n",
    "for learning_rate in learning_rates:\n",
    "    clf = model(learning_rate = learning_rate, random_state=0).fit(X_train, y_train)\n",
    "    # n_estimators=100 by default\n",
    "    # max_dept=3 by default\n",
    "    train_score = clf.score(X_train, y_train)\n",
    "    test_score = clf.score(X_test, y_test)\n",
    "    print(\"For learning_rate of {},\\tthe train score is {:.2f} and the test score is {:.2f}.\".format(\n",
    "        learning_rate, train_score, test_score)) \n",
    "    print(\"clf.feature_importances_\", clf.feature_importances_)\n",
    "    \n",
    "# try out different depths\n",
    "print(\"\\nMax depths\\n\")\n",
    "depths = [1, 2, 3, 4, 8, 32]\n",
    "\n",
    "for max_depth in depths:\n",
    "    clf = model(max_depth = max_depth, learning_rate=0.01, random_state=0).fit(X_train, y_train)\n",
    "    # learning_rate=0.1 by default\n",
    "    train_score = clf.score(X_train, y_train)\n",
    "    test_score = clf.score(X_test, y_test)\n",
    "    print(\"For max_depth of {},\\tthe train score is {:.2f} and the test score is {:.2f}.\".format(\n",
    "        max_depth, train_score, test_score)) \n",
    "    print(\"clf.feature_importances_\", clf.feature_importances_)\n",
    "\n",
    "# could really do a grid-search for the hyperparameters here, Ig"
   ]
  },
  {
   "cell_type": "code",
   "execution_count": null,
   "metadata": {},
   "outputs": [],
   "source": []
  },
  {
   "cell_type": "code",
   "execution_count": 88,
   "metadata": {},
   "outputs": [
    {
     "name": "stdout",
     "output_type": "stream",
     "text": [
      "[[24.0222973   0.55945946  0.36216216  0.16486486  0.20675676  0.62837838\n",
      "   0.36081081  0.63918919  3.31741107]\n",
      " [46.9439834   0.406639    0.47302905  0.52282158  0.21161826  0.26556017\n",
      "   0.36514523  0.63485477  4.37032222]]\n",
      "[0 0 1 0 0 0 0 0 1 0 1 0 0 1 0 0 1 0 1 0 0 0 0 0 0 0 0 1 0 0 0 1 0 1 0 0 0\n",
      " 0 0 0 0 1 0 1 0 0 0 0 0 0 0 1 0 1 1 1 0 0 0 0 0 0 0 0 0 0 0 0 0 0 0 0 0 1\n",
      " 0 0 1 0 0 0 0 0 0 0 0 0 0 0 0 0 0 0 0 0 0 0 0 0 0 0 0 0 0 0 0 0 0 0 1 0 0\n",
      " 0 1 1 0 0 0 0 0 0 0 1 0 0 0 0 0 0 0 0 1 0 0 0 1 0 1 0 0 0 0 0 0 1 1 0 1 0\n",
      " 0 0 0 0 0 1 0 0 0 0 0 0 1 0 0 1 1 0 0 0 0 0 0 0 0 0 0 0 0 0 1 0 1 0 0 0 1\n",
      " 0 1 0 0 1 0 0 1 1 1 0 0 0 1 0 0 0 0 0 0 0 0 0 1 1 0 0 1 0 0 0 1 1 1 0 1 0\n",
      " 0 0 0 1 1 0 1 0 0 1 0 0 0 0 1 0 0 1 0 0 0 0 1 0 0 1 0 0 0 1 0 0 0 1 0 1 1\n",
      " 1 1 0 0 0 0 1 0 0 0 1 0 1 1 1 0 0 1 1 0 0 0 0 0 0 1 0 1 1 0 0 0 0 0 0 0 0\n",
      " 1 0 1 0 0 0 0 0 0 1 1 0 1 0 1 1 0 0 0 0 0 0 1 0 0 1 0 0 0 0 1 0 1 1 0 0 0\n",
      " 0 1 0 1 1 0 1 0 1 1 1 0 0 0 0 0 0 0 0 0 0 0 1 1 0 0 0 0 0 0 0 0 1 0 0 0 0\n",
      " 0 0 1 1 1 1 0 1 0 0 1 0 0 0 0 0 0 0 1 0 0 0 0 1 0 0 0 1 0 1 0 0 0 0 0 0 1\n",
      " 0 0 0 0 0 0 0 0 1 0 1 0 0 0 0 0 1 1 1 1 0 0 1 0 1 1 0 0 0 1 0 0 0 1 0 0 1\n",
      " 0 0 0 0 0 0 0 0 0 0 0 0 0 1 0 0 0 0 0 0 0 1 0 0 0 0 0 0 0 0 0 0 0 1 0 0 0\n",
      " 0 0 1 0 1 1 0 0 0 1 0 0 0 0 0 0 1 0 0 0 0 0 0 0 0 0 0 0 0 1 0 0 0 0 0 0 0\n",
      " 0 0 0 0 1 0 0 1 0 0 1 0 0 0 0 0 0 0 0 0 0 0 0 1 0 1 1 0 0 0 0 0 0 1 0 1 0\n",
      " 0 1 0 0 0 0 0 0 1 1 1 0 0 0 1 0 0 0 0 0 0 0 0 0 0 0 0 0 0 0 0 0 1 1 0 0 0\n",
      " 0 0 0 0 0 1 0 0 1 0 0 1 1 0 1 1 0 0 0 1 1 0 0 0 1 0 0 1 0 0 1 0 1 0 1 0 0\n",
      " 1 0 0 1 0 0 1 1 0 0 0 0 0 0 0 0 0 0 0 1 0 0 0 0 0 0 0 0 0 0 1 0 0 0 1 0 0\n",
      " 1 0 0 0 0 0 1 0 1 0 0 0 1 0 1 0 0 0 0 0 0 0 1 0 0 0 1 0 0 0 1 0 0 0 0 0 0\n",
      " 0 1 0 0 0 0 1 0 0 0 1 0 0 1 0 0 1 0 0 0 0 0 0 0 0 0 0 0 1 0 0 0 1 0 0 1 0\n",
      " 0 1 1 0 0 0 0 0 0 0 0 1 0 1 1 0 0 1 0 0 0 1 0 0 0 0 1 0 0 1 0 0 1 0 1 0 1\n",
      " 0 0 0 0 1 0 0 0 0 0 0 0 0 0 0 0 0 0 0 1 0 1 1 1 0 0 0 1 0 0 0 0 0 0 1 0 0\n",
      " 0 0 1 1 0 0 1 0 0 0 0 0 0 0 0 0 0 0 1 0 0 0 0 0 1 0 0 0 1 1 0 0 1 0 0 0 1\n",
      " 1 0 1 0 1 0 0 0 1 0 0 0 1 0 0 0 0 0 1 0 0 0 1 1 1 0 0 1 0 0 1 0 0 0 0 1 1\n",
      " 1 0 1 0 0 0 1 0 0 0 0 0 0 0 0 1 0 0 0 0 1 1 0 0 1 0 0 0 0 0 1 0 0 0 1 1 0\n",
      " 0 1 0 0 1 0 0 0 0 1 0 0 0 0 0 0 0 1 0 1 0 0 0 0 0 0 0 1 1 0 1 0 1 0 0 1 0\n",
      " 0 0 0 0 1 0 1 0 1 1 0 0 0 0 0 0 0 0 0]\n",
      "name\n",
      "Daly, Mr. Eugene Patrick                        1\n",
      "Lemberopolous, Mr. Peter L                      0\n",
      "Crosby, Miss. Harriet R                         1\n",
      "Nourney, Mr. Alfred ('Baron von Drachstedt')    1\n",
      "Hellstrom, Miss. Hilda Maria                    1\n",
      "                                               ..\n",
      "Dean, Miss. Elizabeth Gladys 'Millvina'         1\n",
      "Guest, Mr. Robert                               0\n",
      "Smyth, Miss. Julia                              1\n",
      "Sincock, Miss. Maude                            1\n",
      "Bourke, Mrs. John (Catherine)                   0\n",
      "Name: survived, Length: 981, dtype: category\n",
      "Categories (2, object): [0, 1]\n"
     ]
    }
   ],
   "source": [
    "# k means clustering\n",
    "\n",
    "from sklearn.cluster import KMeans\n",
    "model = KMeans(n_clusters=2, random_state=0, max_iter=300, n_init=10)\n",
    "# n_init => pick the one with the best result (eg \"smallest clusters\")\n",
    "\n",
    "\n",
    "model.fit(X_train)\n",
    "print(model.cluster_centers_)\n",
    "\n",
    "# assignments for X_train\n",
    "assignments = model.predict(X_train)\n",
    "\n",
    "print(assignments)\n",
    "print(y_train)"
   ]
  },
  {
   "cell_type": "code",
   "execution_count": 89,
   "metadata": {},
   "outputs": [
    {
     "data": {
      "text/plain": [
       "pandas.core.series.Series"
      ]
     },
     "execution_count": 89,
     "metadata": {},
     "output_type": "execute_result"
    }
   ],
   "source": [
    "type(assignments)\n",
    "ass_series = pd.Series(assignments)\n",
    "type(ass_series)"
   ]
  },
  {
   "cell_type": "code",
   "execution_count": 90,
   "metadata": {
    "scrolled": true
   },
   "outputs": [
    {
     "data": {
      "text/plain": [
       "pandas.core.series.Series"
      ]
     },
     "execution_count": 90,
     "metadata": {},
     "output_type": "execute_result"
    }
   ],
   "source": [
    "type(y_train)"
   ]
  },
  {
   "cell_type": "code",
   "execution_count": 95,
   "metadata": {},
   "outputs": [],
   "source": [
    "y_train = y_train.astype(int)"
   ]
  },
  {
   "cell_type": "code",
   "execution_count": 97,
   "metadata": {},
   "outputs": [
    {
     "name": "stdout",
     "output_type": "stream",
     "text": [
      "<class 'numpy.int32'> <class 'numpy.int64'>\n",
      "True\n"
     ]
    }
   ],
   "source": [
    "print(type(assignments[2]), type(y_train[2]))\n",
    "print(assignments[2]==y_train[2])"
   ]
  },
  {
   "cell_type": "code",
   "execution_count": 98,
   "metadata": {},
   "outputs": [
    {
     "name": "stdout",
     "output_type": "stream",
     "text": [
      "len(y_train) =  981\n",
      "pred_ratio =  0.5535168195718655\n"
     ]
    }
   ],
   "source": [
    "# Im \"prediction ratio\"\n",
    "# if 1 or -1 => all predicted correctly\n",
    "# if number close to 0 => many predicted incorrectly\n",
    "print(\"len(y_train) = \", len(y_train))\n",
    "\n",
    "pred_ratio = (assignments == y_train).value_counts().tolist()[0] / len(y_train)\n",
    "print(\"pred_ratio = \", pred_ratio)"
   ]
  },
  {
   "cell_type": "code",
   "execution_count": 99,
   "metadata": {},
   "outputs": [
    {
     "name": "stdout",
     "output_type": "stream",
     "text": [
      "True     198\n",
      "False    129\n",
      "Name: survived, dtype: int64\n",
      "len(y_test) =  327\n",
      "pred_ratio =  0.6055045871559633\n"
     ]
    }
   ],
   "source": [
    "# assignments for X_test\n",
    "\n",
    "assignments = model.predict(X_test)\n",
    "\n",
    "y_test = y_test.astype(int)\n",
    "print((assignments == y_test).value_counts())\n",
    "print(\"len(y_test) = \", len(y_test))\n",
    "\n",
    "pred_ratio = abs((assignments == y_test).value_counts().tolist()[0] / len(y_test)) # doesn't matter if the cluster naming is the opposite of our survival 0/1\n",
    "print(\"pred_ratio = \", pred_ratio)"
   ]
  },
  {
   "cell_type": "code",
   "execution_count": 80,
   "metadata": {
    "scrolled": false
   },
   "outputs": [
    {
     "data": {
      "text/plain": [
       "array([[24.0222973 ,  0.55945946,  0.36216216,  0.16486486,  0.20675676,\n",
       "         0.62837838,  0.36081081,  0.63918919,  3.31741107],\n",
       "       [46.9439834 ,  0.406639  ,  0.47302905,  0.52282158,  0.21161826,\n",
       "         0.26556017,  0.36514523,  0.63485477,  4.37032222]])"
      ]
     },
     "execution_count": 80,
     "metadata": {},
     "output_type": "execute_result"
    }
   ],
   "source": [
    "# just checking to see if cluster centres tell us anything interesting\n",
    "model.cluster_centers_"
   ]
  },
  {
   "cell_type": "code",
   "execution_count": 82,
   "metadata": {},
   "outputs": [
    {
     "name": "stdout",
     "output_type": "stream",
     "text": [
      "[[ 9.98762879e-01 -1.50363573e-02 -8.37449718e-03  1.29973728e-02\n",
      "  -1.67120512e-04 -1.28302523e-02 -9.41585980e-04  9.41585980e-04\n",
      "   4.29084865e-02]\n",
      " [-4.52731382e-02  3.44720849e-02  3.11413018e-02  2.37069949e-01\n",
      "  -1.75901628e-02 -2.19479786e-01  7.62746802e-02 -7.62746802e-02\n",
      "   9.37802555e-01]]\n",
      "[0.97192333 0.01211777]\n"
     ]
    }
   ],
   "source": [
    "# PCA\n",
    "# Hm, don't think this is informative\n",
    "\n",
    "from sklearn.decomposition import PCA\n",
    "model = PCA(n_components = 2)\n",
    "\n",
    "model.fit(X_train)\n",
    "\n",
    "print(model.components_)\n",
    "print(model.explained_variance_ratio_)"
   ]
  },
  {
   "cell_type": "code",
   "execution_count": 83,
   "metadata": {
    "scrolled": false
   },
   "outputs": [
    {
     "data": {
      "text/plain": [
       "array([[<matplotlib.axes._subplots.AxesSubplot object at 0x7f3d26a42cd0>,\n",
       "        <matplotlib.axes._subplots.AxesSubplot object at 0x7f3d5413d760>,\n",
       "        <matplotlib.axes._subplots.AxesSubplot object at 0x7f3d2018e0d0>,\n",
       "        <matplotlib.axes._subplots.AxesSubplot object at 0x7f3d201424c0>,\n",
       "        <matplotlib.axes._subplots.AxesSubplot object at 0x7f3d200ec880>,\n",
       "        <matplotlib.axes._subplots.AxesSubplot object at 0x7f3d20094c10>,\n",
       "        <matplotlib.axes._subplots.AxesSubplot object at 0x7f3d20094d00>,\n",
       "        <matplotlib.axes._subplots.AxesSubplot object at 0x7f3d200ca1f0>,\n",
       "        <matplotlib.axes._subplots.AxesSubplot object at 0x7f3d20025a00>],\n",
       "       [<matplotlib.axes._subplots.AxesSubplot object at 0x7f3d13390e50>,\n",
       "        <matplotlib.axes._subplots.AxesSubplot object at 0x7f3d133ca310>,\n",
       "        <matplotlib.axes._subplots.AxesSubplot object at 0x7f3d13374760>,\n",
       "        <matplotlib.axes._subplots.AxesSubplot object at 0x7f3d1331fbb0>,\n",
       "        <matplotlib.axes._subplots.AxesSubplot object at 0x7f3d1334d0a0>,\n",
       "        <matplotlib.axes._subplots.AxesSubplot object at 0x7f3d13305490>,\n",
       "        <matplotlib.axes._subplots.AxesSubplot object at 0x7f3d132b2910>,\n",
       "        <matplotlib.axes._subplots.AxesSubplot object at 0x7f3d1325ed90>,\n",
       "        <matplotlib.axes._subplots.AxesSubplot object at 0x7f3d13217220>],\n",
       "       [<matplotlib.axes._subplots.AxesSubplot object at 0x7f3d13242670>,\n",
       "        <matplotlib.axes._subplots.AxesSubplot object at 0x7f3d131efac0>,\n",
       "        <matplotlib.axes._subplots.AxesSubplot object at 0x7f3d1319bf10>,\n",
       "        <matplotlib.axes._subplots.AxesSubplot object at 0x7f3d13155400>,\n",
       "        <matplotlib.axes._subplots.AxesSubplot object at 0x7f3d13180850>,\n",
       "        <matplotlib.axes._subplots.AxesSubplot object at 0x7f3d1312dd00>,\n",
       "        <matplotlib.axes._subplots.AxesSubplot object at 0x7f3d130e5190>,\n",
       "        <matplotlib.axes._subplots.AxesSubplot object at 0x7f3d130915e0>,\n",
       "        <matplotlib.axes._subplots.AxesSubplot object at 0x7f3d130bda30>],\n",
       "       [<matplotlib.axes._subplots.AxesSubplot object at 0x7f3d13068e80>,\n",
       "        <matplotlib.axes._subplots.AxesSubplot object at 0x7f3d13023310>,\n",
       "        <matplotlib.axes._subplots.AxesSubplot object at 0x7f3d1304f7c0>,\n",
       "        <matplotlib.axes._subplots.AxesSubplot object at 0x7f3d12ffd820>,\n",
       "        <matplotlib.axes._subplots.AxesSubplot object at 0x7f3d12fa8fa0>,\n",
       "        <matplotlib.axes._subplots.AxesSubplot object at 0x7f3d12f5b790>,\n",
       "        <matplotlib.axes._subplots.AxesSubplot object at 0x7f3d12f85f10>,\n",
       "        <matplotlib.axes._subplots.AxesSubplot object at 0x7f3d12f3a6d0>,\n",
       "        <matplotlib.axes._subplots.AxesSubplot object at 0x7f3d12ee4e50>],\n",
       "       [<matplotlib.axes._subplots.AxesSubplot object at 0x7f3d12e99670>,\n",
       "        <matplotlib.axes._subplots.AxesSubplot object at 0x7f3d12ec1df0>,\n",
       "        <matplotlib.axes._subplots.AxesSubplot object at 0x7f3d12e765b0>,\n",
       "        <matplotlib.axes._subplots.AxesSubplot object at 0x7f3d12e20d30>,\n",
       "        <matplotlib.axes._subplots.AxesSubplot object at 0x7f3d12dd44f0>,\n",
       "        <matplotlib.axes._subplots.AxesSubplot object at 0x7f3d12dfcc70>,\n",
       "        <matplotlib.axes._subplots.AxesSubplot object at 0x7f3d12db3430>,\n",
       "        <matplotlib.axes._subplots.AxesSubplot object at 0x7f3d12d5bbb0>,\n",
       "        <matplotlib.axes._subplots.AxesSubplot object at 0x7f3d12d13370>],\n",
       "       [<matplotlib.axes._subplots.AxesSubplot object at 0x7f3d12d39af0>,\n",
       "        <matplotlib.axes._subplots.AxesSubplot object at 0x7f3d12cef2b0>,\n",
       "        <matplotlib.axes._subplots.AxesSubplot object at 0x7f3d12c9aa30>,\n",
       "        <matplotlib.axes._subplots.AxesSubplot object at 0x7f3d12c501f0>,\n",
       "        <matplotlib.axes._subplots.AxesSubplot object at 0x7f3d12c78970>,\n",
       "        <matplotlib.axes._subplots.AxesSubplot object at 0x7f3d12c2d130>,\n",
       "        <matplotlib.axes._subplots.AxesSubplot object at 0x7f3d2014af10>,\n",
       "        <matplotlib.axes._subplots.AxesSubplot object at 0x7f3d133516d0>,\n",
       "        <matplotlib.axes._subplots.AxesSubplot object at 0x7f3d1327fb80>],\n",
       "       [<matplotlib.axes._subplots.AxesSubplot object at 0x7f3d1313f490>,\n",
       "        <matplotlib.axes._subplots.AxesSubplot object at 0x7f3d26a3c400>,\n",
       "        <matplotlib.axes._subplots.AxesSubplot object at 0x7f3d12b2e1f0>,\n",
       "        <matplotlib.axes._subplots.AxesSubplot object at 0x7f3d12adb6a0>,\n",
       "        <matplotlib.axes._subplots.AxesSubplot object at 0x7f3d12b07af0>,\n",
       "        <matplotlib.axes._subplots.AxesSubplot object at 0x7f3d12ab3f40>,\n",
       "        <matplotlib.axes._subplots.AxesSubplot object at 0x7f3d12a6c3d0>,\n",
       "        <matplotlib.axes._subplots.AxesSubplot object at 0x7f3d12a19820>,\n",
       "        <matplotlib.axes._subplots.AxesSubplot object at 0x7f3d12a44c70>],\n",
       "       [<matplotlib.axes._subplots.AxesSubplot object at 0x7f3d129f0160>,\n",
       "        <matplotlib.axes._subplots.AxesSubplot object at 0x7f3d129aa610>,\n",
       "        <matplotlib.axes._subplots.AxesSubplot object at 0x7f3d12957a60>,\n",
       "        <matplotlib.axes._subplots.AxesSubplot object at 0x7f3d12982eb0>,\n",
       "        <matplotlib.axes._subplots.AxesSubplot object at 0x7f3d1293c340>,\n",
       "        <matplotlib.axes._subplots.AxesSubplot object at 0x7f3d128e7790>,\n",
       "        <matplotlib.axes._subplots.AxesSubplot object at 0x7f3d12892c10>,\n",
       "        <matplotlib.axes._subplots.AxesSubplot object at 0x7f3d128bf100>,\n",
       "        <matplotlib.axes._subplots.AxesSubplot object at 0x7f3d128764f0>],\n",
       "       [<matplotlib.axes._subplots.AxesSubplot object at 0x7f3d12823940>,\n",
       "        <matplotlib.axes._subplots.AxesSubplot object at 0x7f3d1284fd90>,\n",
       "        <matplotlib.axes._subplots.AxesSubplot object at 0x7f3d128092b0>,\n",
       "        <matplotlib.axes._subplots.AxesSubplot object at 0x7f3d127b4700>,\n",
       "        <matplotlib.axes._subplots.AxesSubplot object at 0x7f3d12760b50>,\n",
       "        <matplotlib.axes._subplots.AxesSubplot object at 0x7f3d1278dfa0>,\n",
       "        <matplotlib.axes._subplots.AxesSubplot object at 0x7f3d12745430>,\n",
       "        <matplotlib.axes._subplots.AxesSubplot object at 0x7f3d126f3880>,\n",
       "        <matplotlib.axes._subplots.AxesSubplot object at 0x7f3d1269dcd0>]],\n",
       "      dtype=object)"
      ]
     },
     "execution_count": 83,
     "metadata": {},
     "output_type": "execute_result"
    },
    {
     "data": {
      "image/png": "[encoded data removed]",
      "text/plain": [
       "<Figure size 2160x2160 with 81 Axes>"
      ]
     },
     "metadata": {
      "needs_background": "light"
     },
     "output_type": "display_data"
    }
   ],
   "source": [
    "# plot all pairwise comparisons\n",
    "# just to try\n",
    "\n",
    "pd.plotting.scatter_matrix(X_train, c=y_train, figsize=(30,30),\n",
    "                          marker='o', hist_kwds={'bins':20}, s=60, alpha=0.8)\n",
    "# hm, doesn't seem that informative"
   ]
  },
  {
   "cell_type": "code",
   "execution_count": null,
   "metadata": {},
   "outputs": [],
   "source": []
  },
  {
   "cell_type": "markdown",
   "metadata": {},
   "source": [
    "## Conclusions so far\n",
    "\n",
    "1. Gradient-boosted decision tree could reach 0.81 prediction accuracy.<br>\n",
    "(Doesn't seem like the best possible score, I guess there's lots of scope to improve)<br>\n",
    "\n",
    "    Learning_rate=0.01, max_depth=3<br>\n",
    "    Train score is 0.81 and Test score is 0.81.<br><br>\n",
    "    clf.feature_importances_ [0.0592755  0.05390956 0.01021982 0.         0.         0.15193778\n",
    "     0.29342463 0.35228386 0.07894885]<br>\n",
    "     => is_male is most important, then is_woman, then is_3rd_class\n"
   ]
  }
 ],
 "metadata": {
  "kernelspec": {
   "display_name": "Python 3",
   "language": "python",
   "name": "python3"
  },
  "language_info": {
   "codemirror_mode": {
    "name": "ipython",
    "version": 3
   },
   "file_extension": ".py",
   "mimetype": "text/x-python",
   "name": "python",
   "nbconvert_exporter": "python",
   "pygments_lexer": "ipython3",
   "version": "3.8.3"
  }
 },
 "nbformat": 4,
 "nbformat_minor": 4
}
