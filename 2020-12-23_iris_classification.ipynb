{
 "cells": [
  {
   "cell_type": "markdown",
   "metadata": {},
   "source": [
    "# Try out classifiers on iris data set & plot outcomes"
   ]
  },
  {
   "cell_type": "markdown",
   "metadata": {},
   "source": [
    "## Setting up: packages & data"
   ]
  },
  {
   "cell_type": "code",
   "execution_count": 1,
   "metadata": {},
   "outputs": [],
   "source": [
    "# show matplotlib plots nicely\n",
    "%matplotlib inline\n",
    "import matplotlib.pyplot as plt\n",
    "\n",
    "# import mglearn\n",
    "import mglearn\n",
    "\n",
    "import pandas as pd\n",
    "\n",
    "import numpy as np"
   ]
  },
  {
   "cell_type": "code",
   "execution_count": 2,
   "metadata": {},
   "outputs": [],
   "source": [
    "# get iris data\n",
    "\n",
    "from sklearn.datasets import load_iris\n",
    "iris_dataset = load_iris()"
   ]
  },
  {
   "cell_type": "code",
   "execution_count": 3,
   "metadata": {},
   "outputs": [
    {
     "name": "stdout",
     "output_type": "stream",
     "text": [
      "dict_keys(['data', 'target', 'frame', 'target_names', 'DESCR', 'feature_names', 'filename'])\n"
     ]
    }
   ],
   "source": [
    "# just to check that stuff is working\n",
    "\n",
    "print(iris_dataset.keys())"
   ]
  },
  {
   "cell_type": "code",
   "execution_count": 4,
   "metadata": {},
   "outputs": [],
   "source": [
    "# split data into train & test\n",
    "\n",
    "from sklearn.model_selection import train_test_split\n",
    "X_train, X_test, y_train, y_test = train_test_split(iris_dataset['data'], iris_dataset['target'], random_state=0)"
   ]
  },
  {
   "cell_type": "code",
   "execution_count": 5,
   "metadata": {},
   "outputs": [],
   "source": [
    "# define ML model - knn with n_neighbors=1\n",
    "\n",
    "from sklearn.neighbors import KNeighborsClassifier\n",
    "knn = KNeighborsClassifier(n_neighbors=1)"
   ]
  },
  {
   "cell_type": "code",
   "execution_count": 6,
   "metadata": {},
   "outputs": [
    {
     "data": {
      "text/plain": [
       "KNeighborsClassifier(n_neighbors=1)"
      ]
     },
     "execution_count": 6,
     "metadata": {},
     "output_type": "execute_result"
    }
   ],
   "source": [
    "# fit model\n",
    "\n",
    "knn.fit(X_train, y_train)"
   ]
  },
  {
   "cell_type": "code",
   "execution_count": 7,
   "metadata": {},
   "outputs": [
    {
     "data": {
      "text/plain": [
       "0.9736842105263158"
      ]
     },
     "execution_count": 7,
     "metadata": {},
     "output_type": "execute_result"
    }
   ],
   "source": [
    "# check model performance at predicting with test data\n",
    "\n",
    "knn.score(X_test, y_test)"
   ]
  },
  {
   "cell_type": "code",
   "execution_count": 8,
   "metadata": {
    "scrolled": true
   },
   "outputs": [
    {
     "data": {
      "text/plain": [
       "0      0\n",
       "1      0\n",
       "2      0\n",
       "3      0\n",
       "4      0\n",
       "      ..\n",
       "145    2\n",
       "146    2\n",
       "147    2\n",
       "148    2\n",
       "149    2\n",
       "Length: 150, dtype: int64"
      ]
     },
     "execution_count": 8,
     "metadata": {},
     "output_type": "execute_result"
    }
   ],
   "source": [
    "target_series = pd.Series(iris_dataset['target'])\n",
    "target_series"
   ]
  },
  {
   "cell_type": "code",
   "execution_count": 9,
   "metadata": {},
   "outputs": [
    {
     "data": {
      "text/html": [
       "<div>\n",
       "<style scoped>\n",
       "    .dataframe tbody tr th:only-of-type {\n",
       "        vertical-align: middle;\n",
       "    }\n",
       "\n",
       "    .dataframe tbody tr th {\n",
       "        vertical-align: top;\n",
       "    }\n",
       "\n",
       "    .dataframe thead th {\n",
       "        text-align: right;\n",
       "    }\n",
       "</style>\n",
       "<table border=\"1\" class=\"dataframe\">\n",
       "  <thead>\n",
       "    <tr style=\"text-align: right;\">\n",
       "      <th></th>\n",
       "      <th>0</th>\n",
       "      <th>1</th>\n",
       "      <th>2</th>\n",
       "      <th>3</th>\n",
       "      <th>target</th>\n",
       "    </tr>\n",
       "  </thead>\n",
       "  <tbody>\n",
       "    <tr>\n",
       "      <th>0</th>\n",
       "      <td>5.1</td>\n",
       "      <td>3.5</td>\n",
       "      <td>1.4</td>\n",
       "      <td>0.2</td>\n",
       "      <td>0</td>\n",
       "    </tr>\n",
       "    <tr>\n",
       "      <th>1</th>\n",
       "      <td>4.9</td>\n",
       "      <td>3.0</td>\n",
       "      <td>1.4</td>\n",
       "      <td>0.2</td>\n",
       "      <td>0</td>\n",
       "    </tr>\n",
       "    <tr>\n",
       "      <th>2</th>\n",
       "      <td>4.7</td>\n",
       "      <td>3.2</td>\n",
       "      <td>1.3</td>\n",
       "      <td>0.2</td>\n",
       "      <td>0</td>\n",
       "    </tr>\n",
       "    <tr>\n",
       "      <th>3</th>\n",
       "      <td>4.6</td>\n",
       "      <td>3.1</td>\n",
       "      <td>1.5</td>\n",
       "      <td>0.2</td>\n",
       "      <td>0</td>\n",
       "    </tr>\n",
       "    <tr>\n",
       "      <th>4</th>\n",
       "      <td>5.0</td>\n",
       "      <td>3.6</td>\n",
       "      <td>1.4</td>\n",
       "      <td>0.2</td>\n",
       "      <td>0</td>\n",
       "    </tr>\n",
       "    <tr>\n",
       "      <th>...</th>\n",
       "      <td>...</td>\n",
       "      <td>...</td>\n",
       "      <td>...</td>\n",
       "      <td>...</td>\n",
       "      <td>...</td>\n",
       "    </tr>\n",
       "    <tr>\n",
       "      <th>95</th>\n",
       "      <td>5.7</td>\n",
       "      <td>3.0</td>\n",
       "      <td>4.2</td>\n",
       "      <td>1.2</td>\n",
       "      <td>1</td>\n",
       "    </tr>\n",
       "    <tr>\n",
       "      <th>96</th>\n",
       "      <td>5.7</td>\n",
       "      <td>2.9</td>\n",
       "      <td>4.2</td>\n",
       "      <td>1.3</td>\n",
       "      <td>1</td>\n",
       "    </tr>\n",
       "    <tr>\n",
       "      <th>97</th>\n",
       "      <td>6.2</td>\n",
       "      <td>2.9</td>\n",
       "      <td>4.3</td>\n",
       "      <td>1.3</td>\n",
       "      <td>1</td>\n",
       "    </tr>\n",
       "    <tr>\n",
       "      <th>98</th>\n",
       "      <td>5.1</td>\n",
       "      <td>2.5</td>\n",
       "      <td>3.0</td>\n",
       "      <td>1.1</td>\n",
       "      <td>1</td>\n",
       "    </tr>\n",
       "    <tr>\n",
       "      <th>99</th>\n",
       "      <td>5.7</td>\n",
       "      <td>2.8</td>\n",
       "      <td>4.1</td>\n",
       "      <td>1.3</td>\n",
       "      <td>1</td>\n",
       "    </tr>\n",
       "  </tbody>\n",
       "</table>\n",
       "<p>100 rows × 5 columns</p>\n",
       "</div>"
      ],
      "text/plain": [
       "      0    1    2    3  target\n",
       "0   5.1  3.5  1.4  0.2       0\n",
       "1   4.9  3.0  1.4  0.2       0\n",
       "2   4.7  3.2  1.3  0.2       0\n",
       "3   4.6  3.1  1.5  0.2       0\n",
       "4   5.0  3.6  1.4  0.2       0\n",
       "..  ...  ...  ...  ...     ...\n",
       "95  5.7  3.0  4.2  1.2       1\n",
       "96  5.7  2.9  4.2  1.3       1\n",
       "97  6.2  2.9  4.3  1.3       1\n",
       "98  5.1  2.5  3.0  1.1       1\n",
       "99  5.7  2.8  4.1  1.3       1\n",
       "\n",
       "[100 rows x 5 columns]"
      ]
     },
     "execution_count": 9,
     "metadata": {},
     "output_type": "execute_result"
    }
   ],
   "source": [
    "# filter data to leave just two features and just two plant classes\n",
    "\n",
    "# join X and y into one pandas df\n",
    "all_data = pd.DataFrame(iris_dataset['data'])\n",
    "all_data.insert(4, 'target', target_series)\n",
    "all_data\n",
    "\n",
    "# extract two features (0 and 1)\n",
    "two_features = all_data.iloc[:, [0, 1, -1]]\n",
    "two_features\n",
    "\n",
    "# extract only two classes of iris plants (0 and 1)\n",
    "two_f_two_c = two_features.loc[two_features['target'].isin([0,1])]\n",
    "two_f_two_c\n",
    "\n",
    "# all four features, tow classes of iris plants\n",
    "four_f_two_c = all_data.loc[two_features['target'].isin([0,1])]\n",
    "four_f_two_c"
   ]
  },
  {
   "cell_type": "code",
   "execution_count": 10,
   "metadata": {},
   "outputs": [
    {
     "data": {
      "text/plain": [
       "array([[5.1, 3.5],\n",
       "       [4.9, 3. ],\n",
       "       [4.7, 3.2],\n",
       "       [4.6, 3.1],\n",
       "       [5. , 3.6],\n",
       "       [5.4, 3.9],\n",
       "       [4.6, 3.4],\n",
       "       [5. , 3.4],\n",
       "       [4.4, 2.9],\n",
       "       [4.9, 3.1],\n",
       "       [5.4, 3.7],\n",
       "       [4.8, 3.4],\n",
       "       [4.8, 3. ],\n",
       "       [4.3, 3. ],\n",
       "       [5.8, 4. ],\n",
       "       [5.7, 4.4],\n",
       "       [5.4, 3.9],\n",
       "       [5.1, 3.5],\n",
       "       [5.7, 3.8],\n",
       "       [5.1, 3.8],\n",
       "       [5.4, 3.4],\n",
       "       [5.1, 3.7],\n",
       "       [4.6, 3.6],\n",
       "       [5.1, 3.3],\n",
       "       [4.8, 3.4],\n",
       "       [5. , 3. ],\n",
       "       [5. , 3.4],\n",
       "       [5.2, 3.5],\n",
       "       [5.2, 3.4],\n",
       "       [4.7, 3.2],\n",
       "       [4.8, 3.1],\n",
       "       [5.4, 3.4],\n",
       "       [5.2, 4.1],\n",
       "       [5.5, 4.2],\n",
       "       [4.9, 3.1],\n",
       "       [5. , 3.2],\n",
       "       [5.5, 3.5],\n",
       "       [4.9, 3.6],\n",
       "       [4.4, 3. ],\n",
       "       [5.1, 3.4],\n",
       "       [5. , 3.5],\n",
       "       [4.5, 2.3],\n",
       "       [4.4, 3.2],\n",
       "       [5. , 3.5],\n",
       "       [5.1, 3.8],\n",
       "       [4.8, 3. ],\n",
       "       [5.1, 3.8],\n",
       "       [4.6, 3.2],\n",
       "       [5.3, 3.7],\n",
       "       [5. , 3.3],\n",
       "       [7. , 3.2],\n",
       "       [6.4, 3.2],\n",
       "       [6.9, 3.1],\n",
       "       [5.5, 2.3],\n",
       "       [6.5, 2.8],\n",
       "       [5.7, 2.8],\n",
       "       [6.3, 3.3],\n",
       "       [4.9, 2.4],\n",
       "       [6.6, 2.9],\n",
       "       [5.2, 2.7],\n",
       "       [5. , 2. ],\n",
       "       [5.9, 3. ],\n",
       "       [6. , 2.2],\n",
       "       [6.1, 2.9],\n",
       "       [5.6, 2.9],\n",
       "       [6.7, 3.1],\n",
       "       [5.6, 3. ],\n",
       "       [5.8, 2.7],\n",
       "       [6.2, 2.2],\n",
       "       [5.6, 2.5],\n",
       "       [5.9, 3.2],\n",
       "       [6.1, 2.8],\n",
       "       [6.3, 2.5],\n",
       "       [6.1, 2.8],\n",
       "       [6.4, 2.9],\n",
       "       [6.6, 3. ],\n",
       "       [6.8, 2.8],\n",
       "       [6.7, 3. ],\n",
       "       [6. , 2.9],\n",
       "       [5.7, 2.6],\n",
       "       [5.5, 2.4],\n",
       "       [5.5, 2.4],\n",
       "       [5.8, 2.7],\n",
       "       [6. , 2.7],\n",
       "       [5.4, 3. ],\n",
       "       [6. , 3.4],\n",
       "       [6.7, 3.1],\n",
       "       [6.3, 2.3],\n",
       "       [5.6, 3. ],\n",
       "       [5.5, 2.5],\n",
       "       [5.5, 2.6],\n",
       "       [6.1, 3. ],\n",
       "       [5.8, 2.6],\n",
       "       [5. , 2.3],\n",
       "       [5.6, 2.7],\n",
       "       [5.7, 3. ],\n",
       "       [5.7, 2.9],\n",
       "       [6.2, 2.9],\n",
       "       [5.1, 2.5],\n",
       "       [5.7, 2.8]])"
      ]
     },
     "metadata": {},
     "output_type": "display_data"
    },
    {
     "data": {
      "text/plain": [
       "array([0, 0, 0, 0, 0, 0, 0, 0, 0, 0, 0, 0, 0, 0, 0, 0, 0, 0, 0, 0, 0, 0,\n",
       "       0, 0, 0, 0, 0, 0, 0, 0, 0, 0, 0, 0, 0, 0, 0, 0, 0, 0, 0, 0, 0, 0,\n",
       "       0, 0, 0, 0, 0, 0, 1, 1, 1, 1, 1, 1, 1, 1, 1, 1, 1, 1, 1, 1, 1, 1,\n",
       "       1, 1, 1, 1, 1, 1, 1, 1, 1, 1, 1, 1, 1, 1, 1, 1, 1, 1, 1, 1, 1, 1,\n",
       "       1, 1, 1, 1, 1, 1, 1, 1, 1, 1, 1, 1])"
      ]
     },
     "metadata": {},
     "output_type": "display_data"
    }
   ],
   "source": [
    "X = two_f_two_c.iloc[:, :-1].to_numpy()\n",
    "y = two_f_two_c['target'].to_numpy()\n",
    "\n",
    "\n",
    "display(X)\n",
    "display(y)"
   ]
  },
  {
   "cell_type": "markdown",
   "metadata": {},
   "source": [
    "## Plotting: how knn classifier depends on n_neighbors"
   ]
  },
  {
   "cell_type": "code",
   "execution_count": 11,
   "metadata": {},
   "outputs": [
    {
     "data": {
      "text/plain": [
       "<matplotlib.legend.Legend at 0x7f6bc74ec4f0>"
      ]
     },
     "execution_count": 11,
     "metadata": {},
     "output_type": "execute_result"
    },
    {
     "data": {
      "image/png": "[encoded data removed]",
      "text/plain": [
       "<Figure size 720x216 with 3 Axes>"
      ]
     },
     "metadata": {},
     "output_type": "display_data"
    }
   ],
   "source": [
    "# make plots that show how knn behaviour depends on n_neighbors\n",
    "\n",
    "neighbor_values = [1, 3, 90]\n",
    "\n",
    "fig, axes = plt.subplots(1, 3, figsize=(10, 3))\n",
    "\n",
    "for n_neighbors, ax in zip(neighbor_values, axes):\n",
    "    clf = KNeighborsClassifier(n_neighbors = n_neighbors).fit(X, y)\n",
    "    mglearn.plots.plot_2d_separator(clf, X, fill=True, eps=0.5, ax=ax, alpha=0.4)\n",
    "    mglearn.discrete_scatter(X[:, 0], X[:,1], y, ax=ax)\n",
    "    ax.set_title(\"{} neighbor(s)\".format(n_neighbors))\n",
    "    ax.set_xlabel(\"feature 0\")\n",
    "    ax.set_ylabel('feature 1')\n",
    "axes[0].legend(loc=4)"
   ]
  },
  {
   "cell_type": "markdown",
   "metadata": {},
   "source": [
    "## Plotting: examples of SVM & LogisticRegression classifiers"
   ]
  },
  {
   "cell_type": "code",
   "execution_count": 12,
   "metadata": {
    "scrolled": true
   },
   "outputs": [
    {
     "data": {
      "text/plain": [
       "<matplotlib.legend.Legend at 0x7f6bc4553c70>"
      ]
     },
     "execution_count": 12,
     "metadata": {},
     "output_type": "execute_result"
    },
    {
     "data": {
      "image/png": "[encoded data removed]",
      "text/plain": [
       "<Figure size 720x216 with 2 Axes>"
      ]
     },
     "metadata": {},
     "output_type": "display_data"
    }
   ],
   "source": [
    "from sklearn.linear_model import LogisticRegression\n",
    "from sklearn.svm import LinearSVC\n",
    "\n",
    "fig, axes = plt.subplots(1, 2, figsize=(10,3))\n",
    "\n",
    "for model, ax in zip([LinearSVC(), LogisticRegression()], axes):\n",
    "    clf = model.fit(X, y)\n",
    "    mglearn.plots.plot_2d_separator(clf, X, fill=False, eps=0.5, ax=ax, alpha=0.7)\n",
    "    mglearn.discrete_scatter(X[:, 0], X[:, 1], y, ax=ax)\n",
    "    ax.set_title(clf.__class__.__name__)\n",
    "    ax.set_xlabel('Feature 0')\n",
    "    ax.set_ylabel('Feature 1')\n",
    "axes[0].legend(loc=4)"
   ]
  },
  {
   "cell_type": "markdown",
   "metadata": {},
   "source": [
    "## Plotting: how SVM classifier depends on C"
   ]
  },
  {
   "cell_type": "code",
   "execution_count": 13,
   "metadata": {
    "scrolled": true
   },
   "outputs": [
    {
     "name": "stderr",
     "output_type": "stream",
     "text": [
      "/home/bkotryna/anaconda3/lib/python3.8/site-packages/sklearn/svm/_base.py:976: ConvergenceWarning: Liblinear failed to converge, increase the number of iterations.\n",
      "  warnings.warn(\"Liblinear failed to converge, increase \"\n"
     ]
    },
    {
     "data": {
      "text/plain": [
       "<matplotlib.legend.Legend at 0x7f6bc445e8e0>"
      ]
     },
     "execution_count": 13,
     "metadata": {},
     "output_type": "execute_result"
    },
    {
     "data": {
      "image/png": "[encoded data removed]",
      "text/plain": [
       "<Figure size 720x216 with 3 Axes>"
      ]
     },
     "metadata": {},
     "output_type": "display_data"
    }
   ],
   "source": [
    "c_values = [0.001, 1, 1000]\n",
    "\n",
    "fig, axes = plt.subplots(1, 3, figsize=(10, 3))\n",
    "\n",
    "for c_value, ax in zip(c_values, axes):\n",
    "    clf = LinearSVC(C = c_value).fit(X, y)\n",
    "    mglearn.plots.plot_2d_separator(clf, X, fill=True, eps=0.5, ax=ax, alpha=0.4)\n",
    "    mglearn.discrete_scatter(X[:, 0], X[:,1], y, ax=ax)\n",
    "    ax.set_title(\"C = {}\".format(c_value))\n",
    "    ax.set_xlabel(\"feature 0\")\n",
    "    ax.set_ylabel('feature 1')\n",
    "axes[0].legend(loc=4)"
   ]
  },
  {
   "cell_type": "markdown",
   "metadata": {},
   "source": [
    "## Plotting: how LogisticRegression classifier depends on C"
   ]
  },
  {
   "cell_type": "code",
   "execution_count": 14,
   "metadata": {
    "scrolled": true
   },
   "outputs": [
    {
     "data": {
      "text/plain": [
       "<matplotlib.legend.Legend at 0x7f6bc43bbca0>"
      ]
     },
     "execution_count": 14,
     "metadata": {},
     "output_type": "execute_result"
    },
    {
     "data": {
      "image/png": "[encoded data removed]",
      "text/plain": [
       "<Figure size 720x216 with 3 Axes>"
      ]
     },
     "metadata": {},
     "output_type": "display_data"
    }
   ],
   "source": [
    "c_values = [0.001, 1, 1000000]\n",
    "\n",
    "fig, axes = plt.subplots(1, 3, figsize=(10, 3))\n",
    "\n",
    "for c_value, ax in zip(c_values, axes):\n",
    "    clf = LogisticRegression(C = c_value).fit(X, y)\n",
    "    mglearn.plots.plot_2d_separator(clf, X, fill=True, eps=0.5, ax=ax, alpha=0.4)\n",
    "    mglearn.discrete_scatter(X[:, 0], X[:,1], y, ax=ax)\n",
    "    ax.set_title(\"C = {}\".format(c_value))\n",
    "    ax.set_xlabel(\"feature 0\")\n",
    "    ax.set_ylabel('feature 1')\n",
    "axes[0].legend(loc=4)"
   ]
  },
  {
   "cell_type": "markdown",
   "metadata": {},
   "source": [
    "## Try out different classifiers & see which ones predict best"
   ]
  },
  {
   "cell_type": "code",
   "execution_count": 15,
   "metadata": {},
   "outputs": [],
   "source": [
    "# BTW use the full iris dataset\n",
    "# iris_dataset"
   ]
  },
  {
   "cell_type": "code",
   "execution_count": 38,
   "metadata": {},
   "outputs": [
    {
     "name": "stdout",
     "output_type": "stream",
     "text": [
      "knn\n",
      "\n",
      "For 1 neighbours,\tthe train score is 1.00 and the test score is 0.97.\n",
      "For 3 neighbours,\tthe train score is 0.96 and the test score is 0.97.\n",
      "For 5 neighbours,\tthe train score is 0.97 and the test score is 0.97.\n",
      "For 10 neighbours,\tthe train score is 0.97 and the test score is 0.97.\n"
     ]
    }
   ],
   "source": [
    "# knn\n",
    "print(\"knn\\n\")\n",
    "\n",
    "from sklearn.neighbors import KNeighborsClassifier\n",
    "model = KNeighborsClassifier\n",
    "\n",
    "neighbours = [1, 3, 5, 10]\n",
    "\n",
    "for neighbour_no in neighbours:\n",
    "    clf = model(n_neighbors=neighbour_no).fit(X_train, y_train)\n",
    "    train_score = clf.score(X_train, y_train)\n",
    "    test_score = clf.score(X_test, y_test)\n",
    "    print(\"For {} neighbours,\\tthe train score is {:.2f} and the test score is {:.2f}.\".format(\n",
    "        neighbour_no, train_score, test_score))   "
   ]
  },
  {
   "cell_type": "code",
   "execution_count": 53,
   "metadata": {},
   "outputs": [
    {
     "name": "stdout",
     "output_type": "stream",
     "text": [
      "Logistic regression\n",
      "\n",
      "[2 1 0 2 0 2 0 1 1 1 2 1 1 1 1 0 1 1 0 0 2 1 0 0 2 0 0 1 1 0 2 1 0 2 2 1 0\n",
      " 2]\n",
      "[[1.17926066e-04 5.61482720e-02 9.43733802e-01]\n",
      " [1.26287990e-02 9.60455321e-01 2.69158796e-02]\n",
      " [9.84397687e-01 1.56022746e-02 3.85683093e-08]\n",
      " [1.25184625e-06 2.31536364e-02 9.76845112e-01]\n",
      " [9.70234641e-01 2.97651964e-02 1.62620367e-07]\n",
      " [2.01672863e-06 5.94455596e-03 9.94053427e-01]\n",
      " [9.81899422e-01 1.81005075e-02 7.04528141e-08]\n",
      " [2.84241887e-03 7.47089212e-01 2.50068369e-01]\n",
      " [1.50915990e-03 7.38525752e-01 2.59965088e-01]\n",
      " [2.05287681e-02 9.35890967e-01 4.35802646e-02]\n",
      " [9.22454485e-05 1.59478652e-01 8.40429103e-01]\n",
      " [6.98628867e-03 8.09987640e-01 1.83026071e-01]\n",
      " [4.08220833e-03 7.93603381e-01 2.02314411e-01]\n",
      " [3.05682287e-03 7.60911461e-01 2.36031716e-01]\n",
      " [3.87700546e-03 7.10277137e-01 2.85845858e-01]\n",
      " [9.82815522e-01 1.71844211e-02 5.65532077e-08]\n",
      " [6.72902102e-03 7.56464814e-01 2.36806165e-01]\n",
      " [1.14291701e-02 8.45111483e-01 1.43459347e-01]\n",
      " [9.67581865e-01 3.24179203e-02 2.14259388e-07]\n",
      " [9.82872104e-01 1.71278360e-02 5.96963842e-08]\n",
      " [8.34504317e-04 1.93260383e-01 8.05905113e-01]\n",
      " [1.03255950e-02 7.11145365e-01 2.78529040e-01]\n",
      " [9.44128640e-01 5.58703118e-02 1.04849507e-06]\n",
      " [9.75498297e-01 2.45015357e-02 1.67538132e-07]\n",
      " [1.36908354e-03 4.26373185e-01 5.72257732e-01]\n",
      " [9.94203346e-01 5.79664406e-03 9.65427332e-09]\n",
      " [9.50240559e-01 4.97583081e-02 1.13254451e-06]\n",
      " [1.07122577e-02 9.00994530e-01 8.82932122e-02]\n",
      " [1.40884101e-01 8.52874920e-01 6.24097883e-03]\n",
      " [9.61491834e-01 3.85077164e-02 4.49565828e-07]\n",
      " [9.90745345e-05 1.15645135e-01 8.84255790e-01]\n",
      " [1.19870271e-02 6.84357178e-01 3.03655795e-01]\n",
      " [9.68058312e-01 3.19415377e-02 1.50165403e-07]\n",
      " [1.28526946e-03 3.57780243e-01 6.40934487e-01]\n",
      " [1.48839479e-05 3.38279179e-02 9.66157198e-01]\n",
      " [4.81304669e-02 8.80738825e-01 7.11307083e-02]\n",
      " [9.44629171e-01 5.53704381e-02 3.91172522e-07]\n",
      " [6.02632442e-04 3.11035410e-01 6.88361957e-01]]\n",
      "For C value of 1,\tthe train score is 0.98 and the test score is 0.97.\n"
     ]
    },
    {
     "name": "stderr",
     "output_type": "stream",
     "text": [
      "/home/bkotryna/anaconda3/lib/python3.8/site-packages/sklearn/linear_model/_logistic.py:762: ConvergenceWarning: lbfgs failed to converge (status=1):\n",
      "STOP: TOTAL NO. of ITERATIONS REACHED LIMIT.\n",
      "\n",
      "Increase the number of iterations (max_iter) or scale the data as shown in:\n",
      "    https://scikit-learn.org/stable/modules/preprocessing.html\n",
      "Please also refer to the documentation for alternative solver options:\n",
      "    https://scikit-learn.org/stable/modules/linear_model.html#logistic-regression\n",
      "  n_iter_i = _check_optimize_result(\n"
     ]
    }
   ],
   "source": [
    "# logistic regression\n",
    "print(\"Logistic regression\\n\")\n",
    "\n",
    "from sklearn.linear_model import LogisticRegression\n",
    "model = LogisticRegression\n",
    "\n",
    "c_values = [1]\n",
    "\n",
    "for c_value in c_values:\n",
    "    clf = model(C = c_value).fit(X_train, y_train)\n",
    "    \n",
    "    test_predictions = clf.predict(X_test)\n",
    "    print(test_predictions)\n",
    "    \n",
    "    test_prob = clf.predict_proba(X_test)\n",
    "    print(test_prob)\n",
    "    \n",
    "    train_score = clf.score(X_train, y_train)\n",
    "    test_score = clf.score(X_test, y_test)\n",
    "    print(\"For C value of {},\\tthe train score is {:.2f} and the test score is {:.2f}.\".format(\n",
    "        c_value, train_score, test_score))  "
   ]
  },
  {
   "cell_type": "code",
   "execution_count": 40,
   "metadata": {
    "scrolled": true
   },
   "outputs": [
    {
     "name": "stdout",
     "output_type": "stream",
     "text": [
      "Support vector machine\n",
      "\n",
      "For C value of 0.01,\tthe train score is 0.70 and the test score is 0.58.\n",
      "For C value of 1,\tthe train score is 0.98 and the test score is 0.92.\n",
      "For C value of 10,\tthe train score is 0.98 and the test score is 0.95.\n",
      "For C value of 100,\tthe train score is 0.94 and the test score is 0.92.\n"
     ]
    },
    {
     "name": "stderr",
     "output_type": "stream",
     "text": [
      "/home/bkotryna/anaconda3/lib/python3.8/site-packages/sklearn/svm/_base.py:976: ConvergenceWarning: Liblinear failed to converge, increase the number of iterations.\n",
      "  warnings.warn(\"Liblinear failed to converge, increase \"\n",
      "/home/bkotryna/anaconda3/lib/python3.8/site-packages/sklearn/svm/_base.py:976: ConvergenceWarning: Liblinear failed to converge, increase the number of iterations.\n",
      "  warnings.warn(\"Liblinear failed to converge, increase \"\n",
      "/home/bkotryna/anaconda3/lib/python3.8/site-packages/sklearn/svm/_base.py:976: ConvergenceWarning: Liblinear failed to converge, increase the number of iterations.\n",
      "  warnings.warn(\"Liblinear failed to converge, increase \"\n"
     ]
    }
   ],
   "source": [
    "# support vector machine\n",
    "print(\"Support vector machine\\n\")\n",
    "\n",
    "from sklearn.svm import LinearSVC\n",
    "model = LinearSVC\n",
    "\n",
    "c_values = [0.01, 1, 10, 100]\n",
    "\n",
    "for c_value in c_values:\n",
    "    clf = model(C = c_value, random_state=0).fit(X_train, y_train)\n",
    "    train_score = clf.score(X_train, y_train)\n",
    "    test_score = clf.score(X_test, y_test)\n",
    "    print(\"For C value of {},\\tthe train score is {:.2f} and the test score is {:.2f}.\".format(\n",
    "        c_value, train_score, test_score))  "
   ]
  },
  {
   "cell_type": "code",
   "execution_count": 43,
   "metadata": {},
   "outputs": [
    {
     "name": "stdout",
     "output_type": "stream",
     "text": [
      "Decision tree\n",
      "\n",
      "For max_depth of 1,\tthe train score is 0.70 and the test score is 0.58.\n",
      "For max_depth of 2,\tthe train score is 0.96 and the test score is 0.89.\n",
      "For max_depth of 8,\tthe train score is 1.00 and the test score is 0.97.\n",
      "For max_depth of 32,\tthe train score is 1.00 and the test score is 0.97.\n"
     ]
    }
   ],
   "source": [
    "# Decission tree\n",
    "print(\"Decision tree\\n\")\n",
    "\n",
    "from sklearn.tree import DecisionTreeClassifier\n",
    "model = DecisionTreeClassifier\n",
    "\n",
    "depths = [1, 2, 8, 32]\n",
    "\n",
    "for max_depth in depths:\n",
    "    clf = model(max_depth = max_depth, random_state=0).fit(X_train, y_train)\n",
    "    train_score = clf.score(X_train, y_train)\n",
    "    test_score = clf.score(X_test, y_test)\n",
    "    print(\"For max_depth of {},\\tthe train score is {:.2f} and the test score is {:.2f}.\".format(\n",
    "        max_depth, train_score, test_score)) "
   ]
  },
  {
   "cell_type": "code",
   "execution_count": 49,
   "metadata": {
    "scrolled": true
   },
   "outputs": [
    {
     "name": "stdout",
     "output_type": "stream",
     "text": [
      "Gradient boosted regression tree\n",
      "\n",
      "Learning rates\n",
      "\n",
      "For learning_rate of 0.001,\tthe train score is 0.98 and the test score is 0.97.\n",
      "For learning_rate of 0.01,\tthe train score is 1.00 and the test score is 0.97.\n",
      "For learning_rate of 0.1,\tthe train score is 1.00 and the test score is 0.97.\n",
      "For learning_rate of 1,\tthe train score is 1.00 and the test score is 0.97.\n",
      "\n",
      "Max depths\n",
      "\n",
      "For max_depth of 1,\tthe train score is 1.00 and the test score is 0.97.\n",
      "For max_depth of 2,\tthe train score is 1.00 and the test score is 0.97.\n",
      "For max_depth of 8,\tthe train score is 1.00 and the test score is 0.97.\n",
      "For max_depth of 32,\tthe train score is 1.00 and the test score is 0.97.\n"
     ]
    }
   ],
   "source": [
    "# Gradient boosted regression tree\n",
    "print(\"Gradient boosted tree\\n\")\n",
    "\n",
    "from sklearn.ensemble import GradientBoostingClassifier\n",
    "model = GradientBoostingClassifier\n",
    "\n",
    "# try out different learning rates\n",
    "print(\"Learning rates\\n\")\n",
    "learning_rates = [0.001, 0.01, 0.1, 1]\n",
    "\n",
    "for learning_rate in learning_rates:\n",
    "    clf = model(learning_rate = learning_rate, random_state=0).fit(X_train, y_train)\n",
    "    train_score = clf.score(X_train, y_train)\n",
    "    test_score = clf.score(X_test, y_test)\n",
    "    print(\"For learning_rate of {},\\tthe train score is {:.2f} and the test score is {:.2f}.\".format(\n",
    "        learning_rate, train_score, test_score)) \n",
    "    \n",
    "# try out different depths\n",
    "print(\"\\nMax depths\\n\")\n",
    "depths = [1, 2, 8, 32]\n",
    "\n",
    "for max_depth in depths:\n",
    "    clf = model(max_depth = max_depth, random_state=0).fit(X_train, y_train)\n",
    "    train_score = clf.score(X_train, y_train)\n",
    "    test_score = clf.score(X_test, y_test)\n",
    "    print(\"For max_depth of {},\\tthe train score is {:.2f} and the test score is {:.2f}.\".format(\n",
    "        max_depth, train_score, test_score)) "
   ]
  },
  {
   "cell_type": "code",
   "execution_count": 51,
   "metadata": {},
   "outputs": [
    {
     "name": "stdout",
     "output_type": "stream",
     "text": [
      "Random forest\n",
      "\n",
      "Number of trees\n",
      "\n",
      "For n_estimators of 10,\tthe train score is 1.00 and the test score is 0.97.\n",
      "For n_estimators of 100,\tthe train score is 1.00 and the test score is 0.97.\n",
      "For n_estimators of 1000,\tthe train score is 1.00 and the test score is 0.97.\n",
      "Number of features\n",
      "\n",
      "For max_features of 1,\tthe train score is 0.96 and the test score is 0.97.\n",
      "For max_features of 2,\tthe train score is 0.95 and the test score is 0.92.\n",
      "For max_features of 3,\tthe train score is 0.97 and the test score is 0.97.\n"
     ]
    }
   ],
   "source": [
    "# Random forest\n",
    "print(\"Random forest\\n\")\n",
    "\n",
    "from sklearn.ensemble import RandomForestClassifier\n",
    "model = RandomForestClassifier\n",
    "\n",
    "# try out different number of trees\n",
    "print(\"Number of trees\\n\")\n",
    "estimators = [10, 100, 1000]\n",
    "\n",
    "for n_estimators in estimators:\n",
    "    clf = model(n_estimators = n_estimators, random_state=0).fit(X_train, y_train)\n",
    "    train_score = clf.score(X_train, y_train)\n",
    "    test_score = clf.score(X_test, y_test)\n",
    "    print(\"For n_estimators of {},\\tthe train score is {:.2f} and the test score is {:.2f}.\".format(\n",
    "        n_estimators, train_score, test_score)) \n",
    "    \n",
    "    \n",
    "# try out different number of features\n",
    "print(\"Number of features\\n\")\n",
    "features = [1, 2, 3]\n",
    "\n",
    "for max_features in features:\n",
    "    clf = model(max_features = max_features, n_estimators = 2, random_state=0).fit(X_train, y_train)\n",
    "    train_score = clf.score(X_train, y_train)\n",
    "    test_score = clf.score(X_test, y_test)\n",
    "    print(\"For max_features of {},\\tthe train score is {:.2f} and the test score is {:.2f}.\".format(\n",
    "        max_features, train_score, test_score)) "
   ]
  },
  {
   "cell_type": "code",
   "execution_count": null,
   "metadata": {},
   "outputs": [],
   "source": []
  },
  {
   "cell_type": "code",
   "execution_count": null,
   "metadata": {},
   "outputs": [],
   "source": []
  },
  {
   "cell_type": "code",
   "execution_count": null,
   "metadata": {},
   "outputs": [],
   "source": []
  },
  {
   "cell_type": "code",
   "execution_count": 57,
   "metadata": {},
   "outputs": [
    {
     "name": "stdout",
     "output_type": "stream",
     "text": [
      "[[6.90588235 3.09705882 5.70294118 2.07058824]\n",
      " [4.9972973  3.38918919 1.45405405 0.24054054]\n",
      " [5.84390244 2.7097561  4.32926829 1.40731707]]\n",
      "[2 2 0 1 0 1 1 2 0 0 2 0 2 0 2 2 2 2 2 2 0 0 2 1 2 2 2 2 2 0 1 1 0 2 1 1 0\n",
      " 1 2 2 1 2 0 2 1 0 0 0 0 1 1 0 0 1 0 1 2 0 1 1 0 1 1 1 2 0 0 1 1 1 2 2 1 1\n",
      " 2 1 0 2 0 2 1 2 1 0 1 1 0 1 0 2 2 2 0 0 2 0 1 2 0 2 1 2 2 2 2 1 1 1 0 2 0\n",
      " 1]\n",
      "[1 1 2 0 2 0 0 1 2 2 2 2 1 2 1 1 2 2 2 2 1 2 1 0 2 1 1 1 1 2 0 0 2 1 0 0 1\n",
      " 0 2 1 0 1 2 1 0 2 2 2 2 0 0 2 2 0 2 0 2 2 0 0 2 0 0 0 1 2 2 0 0 0 1 1 0 0\n",
      " 1 0 2 1 2 1 0 2 0 2 0 0 2 0 2 1 1 1 2 2 1 1 0 1 2 2 0 1 1 1 1 0 0 0 2 1 2\n",
      " 0]\n"
     ]
    }
   ],
   "source": [
    "# k means clustering\n",
    "\n",
    "from sklearn.cluster import KMeans\n",
    "model = KMeans(n_clusters=3, random_state=0, max_iter=300, n_init=10)\n",
    "# n_init => pick the one with the best result (eg \"smallest clusters\")\n",
    "\n",
    "\n",
    "model.fit(X_train)\n",
    "print(model.cluster_centers_)\n",
    "\n",
    "assignments = model.predict(X_train)\n",
    "print(assignments)\n",
    "\n",
    "print(y_train)"
   ]
  },
  {
   "cell_type": "code",
   "execution_count": 65,
   "metadata": {},
   "outputs": [
    {
     "name": "stdout",
     "output_type": "stream",
     "text": [
      "[0.92743115 0.05245721]\n"
     ]
    }
   ],
   "source": [
    "# PCA\n",
    "\n",
    "from sklearn.decomposition import PCA\n",
    "model = PCA(n_components = 2)\n",
    "\n",
    "model.fit(X_train)\n",
    "\n",
    "#print(model.components_)\n",
    "\n",
    "datapoints_new_coord = model.transform(X_train)\n",
    "reconstruction = model.inverse_transform(datapoints_new_coord)\n",
    "#print (X_train[0:4], '\\n', reconstruction[0:4])\n",
    "\n",
    "print(model.explained_variance_ratio_)\n",
    "print(model.explained_variance_)"
   ]
  },
  {
   "cell_type": "markdown",
   "metadata": {},
   "source": [
    "## Variance\n",
    "\n",
    "The population variance (σ2), is defined as the sum of the squared distances of each term in the distribution from the mean (μ), divided by the number of terms in the distribution (N). \n",
    "\n",
    "variance = Sum [ (x_i - x_mean)^2 ] / n"
   ]
  },
  {
   "cell_type": "markdown",
   "metadata": {},
   "source": [
    "## Non-negative matrix factorisation\n",
    "\n",
    "Non-negative Matrix Factorization (NMF) is a state of the art feature extraction algorithm. NMF is useful when there are many attributes and the attributes are ambiguous or have weak predictability. By combining attributes, NMF can produce meaningful patterns, topics, or themes.<br>\n",
    "\n",
    "NMF is often useful in text mining. In a text document, the same word can occur in different places with different meanings. For example, \"hike\" can be applied to the outdoors or to interest rates. By combining attributes, NMF introduces context, which is essential for predictive power:<br>\n",
    "\n",
    "\"hike\" + \"mountain\" -> \"outdoor sports\"<br>\n",
    "\"hike\" + \"interest\" -> \"interest rates\"<br><br>\n",
    "\n",
    "NMF decomposes multivariate data by creating a user-defined number of features. Each feature is a linear combination of the original attribute set; the coefficients of these linear combinations are non-negative.<br>\n",
    "\n",
    "NMF decomposes a data matrix V into the product of two lower rank matrices W and H so that V is approximately equal to W times H. NMF uses an iterative procedure to modify the initial values of W and H so that the product approaches V. The procedure terminates when the approximation error converges or the specified number of iterations is reached.<br>\n",
    "\n",
    "During model apply, an NMF model maps the original data into the new set of attributes (features) discovered by the model."
   ]
  },
  {
   "cell_type": "markdown",
   "metadata": {},
   "source": []
  },
  {
   "cell_type": "code",
   "execution_count": 66,
   "metadata": {},
   "outputs": [
    {
     "name": "stdout",
     "output_type": "stream",
     "text": [
      "3.8.3\n"
     ]
    }
   ],
   "source": [
    "from platform import python_version\n",
    "\n",
    "print(python_version())"
   ]
  },
  {
   "cell_type": "code",
   "execution_count": 67,
   "metadata": {},
   "outputs": [
    {
     "name": "stdout",
     "output_type": "stream",
     "text": [
      "# packages in environment at /home/bkotryna/anaconda3:\r\n",
      "#\r\n",
      "# Name                    Version                   Build  Channel\r\n",
      "_ipyw_jlab_nb_ext_conf    0.1.0                    py38_0  \r\n",
      "_libgcc_mutex             0.1                        main    conda-forge\r\n",
      "alabaster                 0.7.12                     py_0    conda-forge\r\n",
      "anaconda                  2020.07                  py38_0  \r\n",
      "anaconda-client           1.7.2                    py38_0  \r\n",
      "anaconda-navigator        1.9.12                   py38_0  \r\n",
      "anaconda-project          0.8.4                      py_0  \r\n",
      "argh                      0.26.2                   py38_0  \r\n",
      "asn1crypto                1.3.0                    py38_0    conda-forge\r\n",
      "astroid                   2.4.2                    py38_0  \r\n",
      "astropy                   4.0.1.post1      py38h7b6447c_1  \r\n",
      "atomicwrites              1.4.0                      py_0  \r\n",
      "attrs                     19.3.0                     py_0    conda-forge\r\n",
      "autopep8                  1.5.3                      py_0  \r\n",
      "babel                     2.8.0                      py_0    conda-forge\r\n",
      "backcall                  0.2.0                      py_0  \r\n",
      "backports                 1.0                        py_2    conda-forge\r\n",
      "backports.functools_lru_cache 1.6.1                      py_0    conda-forge\r\n",
      "backports.shutil_get_terminal_size 1.0.0                    py38_2  \r\n",
      "backports.tempfile        1.0                        py_0    conda-forge\r\n",
      "backports.weakref         1.0.post1       py38h32f6830_1001    conda-forge\r\n",
      "beautifulsoup4            4.9.1                    py38_0  \r\n",
      "biopython                 1.77             py38h1e0a361_0    conda-forge\r\n",
      "bitarray                  1.4.0            py38h7b6447c_0  \r\n",
      "bkcharts                  0.2                      py38_0  \r\n",
      "blas                      1.0                         mkl  \r\n",
      "bleach                    3.1.5                      py_0  \r\n",
      "blosc                     1.19.0               hd408876_0  \r\n",
      "bokeh                     2.1.1                    py38_0  \r\n",
      "boto                      2.49.0                   py38_0  \r\n",
      "bottleneck                1.3.2            py38heb32a55_1  \r\n",
      "brotlipy                  0.7.0           py38h7b6447c_1000  \r\n",
      "bzip2                     1.0.8                h7b6447c_0  \r\n",
      "ca-certificates           2020.6.24                     0  \r\n",
      "cairo                     1.14.12              h8948797_3  \r\n",
      "certifi                   2020.6.20                py38_0  \r\n",
      "cffi                      1.14.0           py38he30daa8_1  \r\n",
      "chardet                   3.0.4                 py38_1003    conda-forge\r\n",
      "click                     7.1.2                      py_0  \r\n",
      "cloudpickle               1.5.0                      py_0    conda-forge\r\n",
      "clyent                    1.2.2                    py38_1  \r\n",
      "colorama                  0.4.3                      py_0    conda-forge\r\n",
      "conda                     4.8.5                    py38_0  \r\n",
      "conda-build               3.18.11                  py38_0  \r\n",
      "conda-env                 2.6.0                         1  \r\n",
      "conda-package-handling    1.6.0            py38h1e0a361_2    conda-forge\r\n",
      "conda-verify              3.4.2                      py_1  \r\n",
      "contextlib2               0.6.0.post1                py_0    conda-forge\r\n",
      "cryptography              2.9.2            py38h1ba5d50_0  \r\n",
      "curl                      7.71.1               hbc83047_1  \r\n",
      "cycler                    0.10.0                   py38_0  \r\n",
      "cython                    0.29.21          py38he6710b0_0  \r\n",
      "cytoolz                   0.10.1           py38h7b6447c_0  \r\n",
      "dask                      2.20.0                     py_0  \r\n",
      "dask-core                 2.20.0                     py_0  \r\n",
      "dbus                      1.13.16              hb2f20db_0  \r\n",
      "decorator                 4.4.2                      py_0    conda-forge\r\n",
      "defusedxml                0.6.0                      py_0    conda-forge\r\n",
      "diff-match-patch          20200713                   py_0  \r\n",
      "distributed               2.20.0                   py38_0  \r\n",
      "docutils                  0.16                     py38_1  \r\n",
      "docx2txt                  0.8                      pypi_0    pypi\r\n",
      "entrypoints               0.3                      py38_0  \r\n",
      "et_xmlfile                1.0.1                   py_1001    conda-forge\r\n",
      "expat                     2.2.9                he6710b0_2  \r\n",
      "fastcache                 1.1.0            py38h7b6447c_0  \r\n",
      "filelock                  3.0.12                     py_0  \r\n",
      "flake8                    3.8.3                      py_0  \r\n",
      "flask                     1.1.2                      py_0  \r\n",
      "fontconfig                2.13.0               h9420a91_0  \r\n",
      "freetype                  2.10.2               h5ab3b9f_0  \r\n",
      "fribidi                   1.0.9                h7b6447c_0  \r\n",
      "fsspec                    0.7.4                      py_0  \r\n",
      "future                    0.18.2                   py38_1  \r\n",
      "get_terminal_size         1.0.0                haa9412d_0  \r\n",
      "gevent                    20.6.2           py38h7b6447c_0  \r\n",
      "glib                      2.65.0               h3eb4bd4_0  \r\n",
      "glob2                     0.7                        py_0    conda-forge\r\n",
      "gmp                       6.1.2                h6c8ec71_1  \r\n",
      "gmpy2                     2.0.8            py38hd5f6e3b_3  \r\n",
      "graphite2                 1.3.14               h23475e2_0  \r\n",
      "greenlet                  0.4.16           py38h7b6447c_0  \r\n",
      "gst-plugins-base          1.14.0               hbbd80ab_1  \r\n",
      "gstreamer                 1.14.0               hb31296c_0  \r\n",
      "h5py                      2.10.0           py38h7918eee_0  \r\n",
      "harfbuzz                  2.4.0                hca77d97_1  \r\n",
      "hdf5                      1.10.4               hb1b8bf9_0  \r\n",
      "heapdict                  1.0.1                      py_0    conda-forge\r\n",
      "html5lib                  1.1                        py_0  \r\n",
      "icu                       58.2                 he6710b0_3  \r\n",
      "idna                      2.10                       py_0  \r\n",
      "imageio                   2.9.0                      py_0    conda-forge\r\n",
      "imagesize                 1.2.0                      py_0    conda-forge\r\n",
      "importlib-metadata        1.7.0                    py38_0  \r\n",
      "importlib_metadata        1.7.0                         0    conda-forge\r\n",
      "intel-openmp              2020.1                      217  \r\n",
      "intervaltree              3.0.2                      py_1  \r\n",
      "ipykernel                 5.3.2            py38h5ca1d4c_0  \r\n",
      "ipython                   7.16.1           py38h5ca1d4c_0  \r\n",
      "ipython_genutils          0.2.0                    py38_0  \r\n",
      "ipywidgets                7.5.1                      py_0    conda-forge\r\n",
      "isort                     4.3.21                   py38_0    conda-forge\r\n",
      "itsdangerous              1.1.0                      py_0    conda-forge\r\n",
      "jbig                      2.1                  hdba287a_0  \r\n",
      "jdcal                     1.4.1                      py_0    conda-forge\r\n",
      "jedi                      0.17.1                   py38_0  \r\n",
      "jeepney                   0.4.3                      py_0    conda-forge\r\n",
      "jinja2                    2.11.2                     py_0  \r\n",
      "joblib                    0.16.0                     py_0    conda-forge\r\n",
      "jpeg                      9b                   h024ee3a_2  \r\n",
      "json5                     0.9.5                      py_0  \r\n",
      "jsonschema                3.2.0                    py38_0    conda-forge\r\n",
      "jupyter                   1.0.0                    py38_7  \r\n",
      "jupyter_client            6.1.6                      py_0    conda-forge\r\n",
      "jupyter_console           6.1.0                      py_0  \r\n",
      "jupyter_core              4.6.3                    py38_0    conda-forge\r\n",
      "jupyterlab                2.1.5                      py_0  \r\n",
      "jupyterlab_server         1.2.0                      py_0    conda-forge\r\n",
      "keyring                   21.2.1                   py38_0  \r\n",
      "kiwisolver                1.2.0            py38hfd86e86_0  \r\n",
      "krb5                      1.18.2               h173b8e3_0  \r\n",
      "lazy-object-proxy         1.4.3            py38h7b6447c_0  \r\n",
      "lcms2                     2.11                 h396b838_0  \r\n",
      "ld_impl_linux-64          2.33.1               h53a641e_7  \r\n",
      "libarchive                3.4.2                h62408e4_0  \r\n",
      "libcurl                   7.71.1               h20c2e04_1  \r\n",
      "libedit                   3.1.20191231         h14c3975_1  \r\n",
      "libffi                    3.3                  he6710b0_2  \r\n",
      "libgcc-ng                 9.1.0                hdf63c60_0  \r\n",
      "libgfortran-ng            7.3.0                hdf63c60_0  \r\n",
      "liblief                   0.10.1               he6710b0_0  \r\n",
      "libllvm9                  9.0.1                h4a3c616_1  \r\n",
      "libpng                    1.6.37               hbc83047_0  \r\n",
      "libsodium                 1.0.18               h7b6447c_0  \r\n",
      "libspatialindex           1.9.3                he6710b0_0  \r\n",
      "libssh2                   1.9.0                h1ba5d50_1  \r\n",
      "libstdcxx-ng              9.1.0                hdf63c60_0  \r\n",
      "libtiff                   4.1.0                h2733197_1  \r\n",
      "libtool                   2.4.6                h7b6447c_5  \r\n",
      "libuuid                   1.0.3                h1bed415_2  \r\n",
      "libxcb                    1.14                 h7b6447c_0  \r\n",
      "libxml2                   2.9.10               he19cac6_1  \r\n",
      "libxslt                   1.1.34               hc22bd24_0  \r\n",
      "llvmlite                  0.33.0           py38hc6ec683_1  \r\n",
      "locket                    0.2.0                    py38_1  \r\n",
      "lxml                      4.5.2            py38hefd8a0e_0  \r\n",
      "lz4-c                     1.9.2                he6710b0_0  \r\n",
      "lzo                       2.10                 h7b6447c_2  \r\n",
      "markdown                  3.2.2                    pypi_0    pypi\r\n",
      "markupsafe                1.1.1            py38h7b6447c_0  \r\n",
      "matplotlib                3.2.2                         0  \r\n",
      "matplotlib-base           3.2.2            py38hef1b27d_0  \r\n",
      "mccabe                    0.6.1                    py38_1  \r\n",
      "mglearn                   0.1.9                    pypi_0    pypi\r\n",
      "mistune                   0.8.4           py38h7b6447c_1000  \r\n",
      "mkl                       2020.1                      217  \r\n",
      "mkl-service               2.3.0            py38he904b0f_0  \r\n",
      "mkl_fft                   1.1.0            py38h23d657b_0  \r\n",
      "mkl_random                1.1.1            py38h0573a6f_0  \r\n",
      "mock                      4.0.2                      py_0  \r\n",
      "more-itertools            8.4.0                      py_0    conda-forge\r\n",
      "mpc                       1.1.0                h10f8cd9_1  \r\n",
      "mpfr                      4.0.2                hb69a4c5_1  \r\n",
      "mpmath                    1.1.0                    py38_0  \r\n",
      "msgpack-python            1.0.0            py38hfd86e86_1  \r\n",
      "multipledispatch          0.6.0                    py38_0  \r\n",
      "navigator-updater         0.2.1                    py38_0  \r\n",
      "nb_conda                  2.2.1                    py38_1  \r\n",
      "nb_conda_kernels          2.2.3                    py38_0  \r\n",
      "nbconvert                 5.6.1                    py38_0    conda-forge\r\n",
      "nbformat                  5.0.7                      py_0    conda-forge\r\n",
      "ncurses                   6.2                  he6710b0_1  \r\n",
      "networkx                  2.4                        py_1    conda-forge\r\n",
      "nltk                      3.5                        py_0  \r\n",
      "nose                      1.3.7                    py38_2  \r\n",
      "notebook                  6.0.3                    py38_0  \r\n",
      "numba                     0.50.1           py38h0573a6f_1  \r\n",
      "numexpr                   2.7.1            py38h423224d_0  \r\n",
      "numpy                     1.18.5           py38ha1c710e_0  \r\n",
      "numpy-base                1.18.5           py38hde5b4d6_0  \r\n",
      "numpydoc                  1.1.0                      py_0  \r\n",
      "olefile                   0.46                       py_0    conda-forge\r\n",
      "openpyxl                  3.0.4                      py_0    conda-forge\r\n",
      "openssl                   1.1.1g               h7b6447c_0  \r\n",
      "packaging                 20.4                       py_0  \r\n",
      "pandas                    1.0.5            py38h0573a6f_0  \r\n",
      "pandas-bokeh              0.5                      pypi_0    pypi\r\n",
      "pandoc                    2.10                          0  \r\n",
      "pandocfilters             1.4.2                    py38_1  \r\n",
      "panel                     0.9.7                    pypi_0    pypi\r\n",
      "pango                     1.45.3               hd140c19_0  \r\n",
      "param                     1.9.3                    pypi_0    pypi\r\n",
      "parso                     0.7.0                      py_0  \r\n",
      "partd                     1.1.0                      py_0    conda-forge\r\n",
      "patchelf                  0.11                 he6710b0_0  \r\n",
      "path                      13.1.0                   py38_0  \r\n",
      "path.py                   12.4.0                        0  \r\n",
      "pathlib2                  2.3.5                    py38_0    conda-forge\r\n",
      "pathtools                 0.1.2                      py_1    conda-forge\r\n",
      "patsy                     0.5.1                    py38_0  \r\n",
      "pcre                      8.44                 he6710b0_0  \r\n",
      "pdfminer-six              20200104                 pypi_0    pypi\r\n",
      "pdfplumber                0.5.22                   pypi_0    pypi\r\n",
      "pep8                      1.7.1                    py38_0  \r\n",
      "pexpect                   4.8.0                    py38_0    conda-forge\r\n",
      "pickleshare               0.7.5                 py38_1000    conda-forge\r\n",
      "pillow                    7.2.0            py38hb39fc2d_0  \r\n",
      "pip                       20.1.1                   py38_1  \r\n",
      "pixman                    0.40.0               h7b6447c_0  \r\n",
      "pkginfo                   1.5.0.1                  py38_0  \r\n",
      "plotly                    4.11.0                     py_0    plotly\r\n",
      "pluggy                    0.13.1                   py38_0    conda-forge\r\n",
      "ply                       3.11                     py38_0  \r\n",
      "prometheus_client         0.8.0                      py_0  \r\n",
      "prompt-toolkit            3.0.5                      py_0    conda-forge\r\n",
      "prompt_toolkit            3.0.5                         0    conda-forge\r\n",
      "psutil                    5.7.0            py38h7b6447c_0  \r\n",
      "ptyprocess                0.6.0                    py38_0  \r\n",
      "py                        1.9.0                      py_0  \r\n",
      "py-lief                   0.10.1           py38h403a769_0  \r\n",
      "pycodestyle               2.6.0                      py_0  \r\n",
      "pycosat                   0.6.3            py38h7b6447c_1  \r\n",
      "pycparser                 2.20                       py_2  \r\n",
      "pycryptodome              3.9.8                    pypi_0    pypi\r\n",
      "pyct                      0.4.6                    pypi_0    pypi\r\n",
      "pycurl                    7.43.0.5         py38h1ba5d50_0  \r\n",
      "pydocstyle                5.0.2                      py_0    conda-forge\r\n",
      "pydotplus                 2.0.2                      py_1    conda-forge\r\n",
      "pyflakes                  2.2.0                      py_0  \r\n",
      "pygments                  2.6.1                      py_0    conda-forge\r\n",
      "pylint                    2.5.3                    py38_0  \r\n",
      "pyodbc                    4.0.30           py38he6710b0_0  \r\n",
      "pyopenssl                 19.1.0                     py_1    conda-forge\r\n",
      "pyparsing                 2.4.7                      py_0  \r\n",
      "pyqt                      5.9.2            py38h05f1152_4  \r\n",
      "pyrsistent                0.16.0           py38h7b6447c_0  \r\n",
      "pysocks                   1.7.1                    py38_0    conda-forge\r\n",
      "pytables                  3.6.1            py38h9fd0a39_0  \r\n",
      "pytest                    5.4.3                    py38_0  \r\n",
      "python                    3.8.3                hcff3b4d_2  \r\n",
      "python-dateutil           2.8.1                      py_0    conda-forge\r\n",
      "python-jsonrpc-server     0.3.4                      py_1  \r\n",
      "python-language-server    0.34.1                   py38_0  \r\n",
      "python-libarchive-c       2.9                        py_0  \r\n",
      "python_abi                3.8                      1_cp38    conda-forge\r\n",
      "pytz                      2020.1                     py_0  \r\n",
      "pyviz-comms               0.7.6                    pypi_0    pypi\r\n",
      "pywavelets                1.1.1            py38h7b6447c_0  \r\n",
      "pyxdg                     0.26                       py_0    conda-forge\r\n",
      "pyyaml                    5.3.1            py38h7b6447c_1  \r\n",
      "pyzmq                     19.0.1           py38he6710b0_1  \r\n",
      "qdarkstyle                2.8.1                      py_0  \r\n",
      "qt                        5.9.7                h5867ecd_1  \r\n",
      "qtawesome                 0.7.2                      py_0  \r\n",
      "qtconsole                 4.7.5                      py_0  \r\n",
      "qtpy                      1.9.0                      py_0    conda-forge\r\n",
      "readline                  8.0                  h7b6447c_0  \r\n",
      "regex                     2020.6.8         py38h7b6447c_0  \r\n",
      "requests                  2.24.0                     py_0  \r\n",
      "retrying                  1.3.3                      py_2  \r\n",
      "ripgrep                   11.0.2               he32d670_0  \r\n",
      "rope                      0.17.0                     py_0  \r\n",
      "rtree                     0.9.4                    py38_1  \r\n",
      "ruamel_yaml               0.15.87          py38h7b6447c_1  \r\n",
      "scikit-image              0.16.2           py38h0573a6f_0  \r\n",
      "scikit-learn              0.23.1           py38h423224d_0  \r\n",
      "scipy                     1.5.0            py38h0b6359f_0  \r\n",
      "seaborn                   0.10.1                     py_0    conda-forge\r\n",
      "secretstorage             3.1.2                    py38_0    conda-forge\r\n",
      "send2trash                1.5.0                    py38_0  \r\n",
      "setuptools                49.2.0                   py38_0  \r\n",
      "simplegeneric             0.8.1                    py38_2  \r\n",
      "singledispatch            3.4.0.3                  py38_0  \r\n",
      "sip                       4.19.13          py38he6710b0_0  \r\n",
      "six                       1.15.0                     py_0  \r\n",
      "snappy                    1.1.8                he6710b0_0  \r\n",
      "snowballstemmer           2.0.0                      py_0    conda-forge\r\n",
      "sortedcollections         1.2.1                      py_0  \r\n",
      "sortedcontainers          2.2.2                      py_0  \r\n",
      "soupsieve                 2.0.1                      py_0  \r\n",
      "sphinx                    3.1.2                      py_0    conda-forge\r\n",
      "sphinxcontrib             1.0                      py38_1  \r\n",
      "sphinxcontrib-applehelp   1.0.2                      py_0    conda-forge\r\n",
      "sphinxcontrib-devhelp     1.0.2                      py_0    conda-forge\r\n",
      "sphinxcontrib-htmlhelp    1.0.3                      py_0    conda-forge\r\n",
      "sphinxcontrib-jsmath      1.0.1                      py_0    conda-forge\r\n",
      "sphinxcontrib-qthelp      1.0.3                      py_0    conda-forge\r\n",
      "sphinxcontrib-serializinghtml 1.1.4                      py_0    conda-forge\r\n",
      "sphinxcontrib-websupport  1.2.3                      py_0  \r\n",
      "spyder                    4.1.4                    py38_0  \r\n",
      "spyder-kernels            1.9.2                    py38_0  \r\n",
      "sqlalchemy                1.3.18           py38h7b6447c_0  \r\n",
      "sqlite                    3.32.3               h62c20be_0  \r\n",
      "statsmodels               0.11.1           py38h7b6447c_0  \r\n",
      "sympy                     1.6.1                    py38_0  \r\n",
      "tbb                       2020.0               hfd86e86_0  \r\n",
      "tblib                     1.6.0                      py_0    conda-forge\r\n",
      "terminado                 0.8.3                    py38_0    conda-forge\r\n",
      "testpath                  0.4.4                      py_0    conda-forge\r\n",
      "threadpoolctl             2.1.0              pyh5ca1d4c_0    conda-forge\r\n",
      "tk                        8.6.10               hbc83047_0  \r\n",
      "toml                      0.10.1                     py_0  \r\n",
      "toolz                     0.10.0                     py_0    conda-forge\r\n",
      "tornado                   6.0.4            py38h7b6447c_1  \r\n",
      "tqdm                      4.47.0                     py_0  \r\n",
      "traitlets                 4.3.3                    py38_0    conda-forge\r\n",
      "typing_extensions         3.7.4.2                    py_0    conda-forge\r\n",
      "ujson                     1.35             py38h7b6447c_0  \r\n",
      "unicodecsv                0.14.1                   py38_0  \r\n",
      "unixodbc                  2.3.7                h14c3975_0  \r\n",
      "urllib3                   1.25.9                     py_0  \r\n",
      "wand                      0.6.2                    pypi_0    pypi\r\n",
      "watchdog                  0.10.3                   py38_0  \r\n",
      "wcwidth                   0.2.5                      py_0  \r\n",
      "webencodings              0.5.1                    py38_1  \r\n",
      "werkzeug                  1.0.1                      py_0  \r\n",
      "wheel                     0.34.2                   py38_0    conda-forge\r\n",
      "widgetsnbextension        3.5.1                    py38_0    conda-forge\r\n",
      "wrapt                     1.11.2           py38h7b6447c_0  \r\n",
      "wurlitzer                 2.0.1                    py38_0  \r\n",
      "xlrd                      1.2.0                      py_0    conda-forge\r\n",
      "xlsxwriter                1.2.9                      py_0  \r\n",
      "xlwt                      1.3.0                    py38_0  \r\n",
      "xmltodict                 0.12.0                     py_0    conda-forge\r\n",
      "xz                        5.2.5                h7b6447c_0  \r\n",
      "yaml                      0.2.5                h7b6447c_0  \r\n",
      "yapf                      0.30.0                     py_0  \r\n",
      "zeromq                    4.3.2                he6710b0_2  \r\n",
      "zict                      2.0.0                      py_0    conda-forge\r\n",
      "zipp                      3.1.0                      py_0    conda-forge\r\n",
      "zlib                      1.2.11               h7b6447c_3  \r\n",
      "zope                      1.0                      py38_1  \r\n",
      "zope.event                4.4                      py38_0  \r\n",
      "zope.interface            4.7.1            py38h7b6447c_0  \r\n",
      "zstd                      1.4.5                h0b5b093_0  \r\n"
     ]
    }
   ],
   "source": [
    "!conda list"
   ]
  },
  {
   "cell_type": "code",
   "execution_count": 1,
   "metadata": {},
   "outputs": [
    {
     "name": "stdout",
     "output_type": "stream",
     "text": [
      "Collecting package metadata (current_repodata.json): done\n",
      "Solving environment: done\n",
      "\n",
      "## Package Plan ##\n",
      "\n",
      "  environment location: /home/bkotryna/anaconda3\n",
      "\n",
      "  added / updated specs:\n",
      "    - nltk\n",
      "\n",
      "\n",
      "The following packages will be downloaded:\n",
      "\n",
      "    package                    |            build\n",
      "    ---------------------------|-----------------\n",
      "    _libgcc_mutex-0.1          |             main           3 KB\n",
      "    alabaster-0.7.12           |             py_0          16 KB\n",
      "    asn1crypto-1.3.0           |           py38_0         164 KB\n",
      "    backports-1.0              |             py_2         160 KB\n",
      "    backports.functools_lru_cache-1.6.1|     pyhd3eb1b0_0          12 KB\n",
      "    chardet-3.0.4              |        py38_1003         174 KB\n",
      "    conda-4.9.2                |   py38h06a4308_0         2.9 MB\n",
      "    conda-package-handling-1.7.2|   py38h03888b9_0         886 KB\n",
      "    contextlib2-0.6.0.post1    |             py_0          16 KB\n",
      "    decorator-4.4.2            |             py_0          14 KB\n",
      "    defusedxml-0.6.0           |             py_0          23 KB\n",
      "    et_xmlfile-1.0.1           |          py_1001          12 KB\n",
      "    glob2-0.7                  |             py_0          15 KB\n",
      "    heapdict-1.0.1             |             py_0           9 KB\n",
      "    imageio-2.9.0              |             py_0         3.0 MB\n",
      "    imagesize-1.2.0            |             py_0          10 KB\n",
      "    itsdangerous-1.1.0         |             py_0          17 KB\n",
      "    jdcal-1.4.1                |             py_0          11 KB\n",
      "    jsonschema-3.2.0           |           py38_0          96 KB\n",
      "    jupyter_core-4.6.3         |           py38_0          71 KB\n",
      "    jupyterlab_server-1.2.0    |             py_0          25 KB\n",
      "    nb_conda_kernels-2.3.1     |   py38h06a4308_0          28 KB\n",
      "    olefile-0.46               |             py_0          33 KB\n",
      "    partd-1.1.0                |             py_0          20 KB\n",
      "    pathlib2-2.3.5             |           py38_0          36 KB\n",
      "    pathtools-0.1.2            |             py_1          10 KB\n",
      "    pexpect-4.8.0              |           py38_0          81 KB\n",
      "    pickleshare-0.7.5          |        py38_1000          13 KB\n",
      "    pluggy-0.13.1              |           py38_0          33 KB\n",
      "    pysocks-1.7.1              |           py38_0          28 KB\n",
      "    python-dateutil-2.8.1      |             py_0         215 KB\n",
      "    qtpy-1.9.0                 |             py_0          38 KB\n",
      "    secretstorage-3.1.2        |           py38_0          25 KB\n",
      "    snowballstemmer-2.0.0      |             py_0          62 KB\n",
      "    sphinxcontrib-applehelp-1.0.2|             py_0          27 KB\n",
      "    sphinxcontrib-devhelp-1.0.2|             py_0          22 KB\n",
      "    sphinxcontrib-htmlhelp-1.0.3|             py_0          27 KB\n",
      "    sphinxcontrib-jsmath-1.0.1 |             py_0           9 KB\n",
      "    sphinxcontrib-qthelp-1.0.3 |             py_0          25 KB\n",
      "    sphinxcontrib-serializinghtml-1.1.4|             py_0          24 KB\n",
      "    testpath-0.4.4             |             py_0          82 KB\n",
      "    threadpoolctl-2.1.0        |     pyh5ca1d4c_0          17 KB\n",
      "    traitlets-4.3.3            |           py38_0         138 KB\n",
      "    wheel-0.34.2               |           py38_0          51 KB\n",
      "    widgetsnbextension-3.5.1   |           py38_0         866 KB\n",
      "    xmltodict-0.12.0           |             py_0          14 KB\n",
      "    zict-2.0.0                 |             py_0          13 KB\n",
      "    ------------------------------------------------------------\n",
      "                                           Total:         9.5 MB\n",
      "\n",
      "The following packages will be UPDATED:\n",
      "\n",
      "  backports.tempfile conda-forge::backports.tempfile-1.0-p~ --> pkgs/main::backports.tempfile-1.0-py_1\n",
      "  conda                                        4.8.5-py38_0 --> 4.9.2-py38h06a4308_0\n",
      "  conda-package-han~ conda-forge::conda-package-handling-1~ --> pkgs/main::conda-package-handling-1.7.2-py38h03888b9_0\n",
      "  nb_conda_kernels                             2.2.3-py38_0 --> 2.3.1-py38h06a4308_0\n",
      "\n",
      "The following packages will be SUPERSEDED by a higher-priority channel:\n",
      "\n",
      "  _libgcc_mutex                                 conda-forge --> pkgs/main\n",
      "  alabaster                                     conda-forge --> pkgs/main\n",
      "  asn1crypto                                    conda-forge --> pkgs/main\n",
      "  backports                                     conda-forge --> pkgs/main\n",
      "  backports.functoo~ conda-forge::backports.functools_lru_~ --> pkgs/main::backports.functools_lru_cache-1.6.1-pyhd3eb1b0_0\n",
      "  backports.weakref  conda-forge/linux-64::backports.weakr~ --> pkgs/main/noarch::backports.weakref-1.0.post1-py_1\n",
      "  chardet                                       conda-forge --> pkgs/main\n",
      "  contextlib2                                   conda-forge --> pkgs/main\n",
      "  decorator                                     conda-forge --> pkgs/main\n",
      "  defusedxml                                    conda-forge --> pkgs/main\n",
      "  et_xmlfile                                    conda-forge --> pkgs/main\n",
      "  glob2                                         conda-forge --> pkgs/main\n",
      "  heapdict                                      conda-forge --> pkgs/main\n",
      "  imageio                                       conda-forge --> pkgs/main\n",
      "  imagesize                                     conda-forge --> pkgs/main\n",
      "  itsdangerous                                  conda-forge --> pkgs/main\n",
      "  jdcal                                         conda-forge --> pkgs/main\n",
      "  jsonschema                                    conda-forge --> pkgs/main\n",
      "  jupyter_core                                  conda-forge --> pkgs/main\n",
      "  jupyterlab_server                             conda-forge --> pkgs/main\n",
      "  olefile                                       conda-forge --> pkgs/main\n",
      "  partd                                         conda-forge --> pkgs/main\n",
      "  pathlib2                                      conda-forge --> pkgs/main\n",
      "  pathtools                                     conda-forge --> pkgs/main\n",
      "  pexpect                                       conda-forge --> pkgs/main\n",
      "  pickleshare                                   conda-forge --> pkgs/main\n",
      "  pluggy                                        conda-forge --> pkgs/main\n",
      "  pysocks                                       conda-forge --> pkgs/main\n",
      "  python-dateutil                               conda-forge --> pkgs/main\n",
      "  qtpy                                          conda-forge --> pkgs/main\n",
      "  secretstorage                                 conda-forge --> pkgs/main\n",
      "  snowballstemmer                               conda-forge --> pkgs/main\n",
      "  sphinxcontrib-app~                            conda-forge --> pkgs/main\n",
      "  sphinxcontrib-dev~                            conda-forge --> pkgs/main\n",
      "  sphinxcontrib-htm~                            conda-forge --> pkgs/main\n",
      "  sphinxcontrib-jsm~                            conda-forge --> pkgs/main\n",
      "  sphinxcontrib-qth~                            conda-forge --> pkgs/main\n",
      "  sphinxcontrib-ser~                            conda-forge --> pkgs/main\n",
      "  testpath                                      conda-forge --> pkgs/main\n",
      "  threadpoolctl                                 conda-forge --> pkgs/main\n",
      "  traitlets                                     conda-forge --> pkgs/main\n",
      "  wheel                                         conda-forge --> pkgs/main\n",
      "  widgetsnbextension                            conda-forge --> pkgs/main\n",
      "  xmltodict                                     conda-forge --> pkgs/main\n",
      "  zict                                          conda-forge --> pkgs/main\n",
      "\n",
      "\n",
      "\n",
      "Downloading and Extracting Packages\n",
      "imagesize-1.2.0      | 10 KB     | ##################################### | 100% \n",
      "jdcal-1.4.1          | 11 KB     | ##################################### | 100% \n",
      "et_xmlfile-1.0.1     | 12 KB     | ##################################### | 100% \n",
      "pexpect-4.8.0        | 81 KB     | ##################################### | 100% \n",
      "defusedxml-0.6.0     | 23 KB     | ##################################### | 100% \n",
      "python-dateutil-2.8. | 215 KB    | ##################################### | 100% \n",
      "jupyter_core-4.6.3   | 71 KB     | ##################################### | 100% \n",
      "jsonschema-3.2.0     | 96 KB     | ##################################### | 100% \n",
      "imageio-2.9.0        | 3.0 MB    | ##################################### | 100% \n",
      "sphinxcontrib-htmlhe | 27 KB     | ##################################### | 100% \n",
      "contextlib2-0.6.0.po | 16 KB     | ##################################### | 100% \n",
      "backports.functools_ | 12 KB     | ##################################### | 100% \n",
      "traitlets-4.3.3      | 138 KB    | ##################################### | 100% \n",
      "decorator-4.4.2      | 14 KB     | ##################################### | 100% \n",
      "widgetsnbextension-3 | 866 KB    | ##################################### | 100% \n",
      "sphinxcontrib-jsmath | 9 KB      | ##################################### | 100% \n",
      "sphinxcontrib-qthelp | 25 KB     | ##################################### | 100% \n",
      "_libgcc_mutex-0.1    | 3 KB      | ##################################### | 100% \n",
      "pathlib2-2.3.5       | 36 KB     | ##################################### | 100% \n",
      "jupyterlab_server-1. | 25 KB     | ##################################### | 100% \n",
      "sphinxcontrib-appleh | 27 KB     | ##################################### | 100% \n",
      "testpath-0.4.4       | 82 KB     | ##################################### | 100% \n",
      "olefile-0.46         | 33 KB     | ##################################### | 100% \n",
      "asn1crypto-1.3.0     | 164 KB    | ##################################### | 100% \n",
      "itsdangerous-1.1.0   | 17 KB     | ##################################### | 100% \n",
      "snowballstemmer-2.0. | 62 KB     | ##################################### | 100% \n",
      "threadpoolctl-2.1.0  | 17 KB     | ##################################### | 100% \n",
      "pickleshare-0.7.5    | 13 KB     | ##################################### | 100% \n",
      "xmltodict-0.12.0     | 14 KB     | ##################################### | 100% \n",
      "sphinxcontrib-serial | 24 KB     | ##################################### | 100% \n",
      "conda-package-handli | 886 KB    | ##################################### | 100% \n",
      "wheel-0.34.2         | 51 KB     | ##################################### | 100% \n",
      "pluggy-0.13.1        | 33 KB     | ##################################### | 100% \n",
      "zict-2.0.0           | 13 KB     | ##################################### | 100% \n",
      "pysocks-1.7.1        | 28 KB     | ##################################### | 100% \n",
      "heapdict-1.0.1       | 9 KB      | ##################################### | 100% \n",
      "secretstorage-3.1.2  | 25 KB     | ##################################### | 100% \n",
      "pathtools-0.1.2      | 10 KB     | ##################################### | 100% \n",
      "partd-1.1.0          | 20 KB     | ##################################### | 100% \n",
      "conda-4.9.2          | 2.9 MB    | ##################################### | 100% \n",
      "nb_conda_kernels-2.3 | 28 KB     | ##################################### | 100% \n",
      "alabaster-0.7.12     | 16 KB     | ##################################### | 100% \n",
      "chardet-3.0.4        | 174 KB    | ##################################### | 100% \n",
      "qtpy-1.9.0           | 38 KB     | ##################################### | 100% \n",
      "sphinxcontrib-devhel | 22 KB     | ##################################### | 100% \n",
      "backports-1.0        | 160 KB    | ##################################### | 100% \n",
      "glob2-0.7            | 15 KB     | ##################################### | 100% \n",
      "Preparing transaction: done\n",
      "Verifying transaction: done\n",
      "Executing transaction: - Uninstalling jupyter-js-widgets jupyter-js-widgets/extension\n",
      "Removing: /home/bkotryna/anaconda3/share/jupyter/nbextensions/jupyter-js-widgets\n",
      "\n",
      "| Disabling nb_conda_kernels...\n",
      "Status: disabled\n",
      "\n",
      "\\ Enabling nb_conda_kernels...\n",
      "CONDA_PREFIX: /home/bkotryna/anaconda3\n",
      "Status: enabled\n",
      "\n",
      "done\n"
     ]
    }
   ],
   "source": [
    "# done\n",
    "# !conda update nltk --yes"
   ]
  }
 ],
 "metadata": {
  "kernelspec": {
   "display_name": "Python 3",
   "language": "python",
   "name": "python3"
  },
  "language_info": {
   "codemirror_mode": {
    "name": "ipython",
    "version": 3
   },
   "file_extension": ".py",
   "mimetype": "text/x-python",
   "name": "python",
   "nbconvert_exporter": "python",
   "pygments_lexer": "ipython3",
   "version": "3.8.3"
  }
 },
 "nbformat": 4,
 "nbformat_minor": 4
}
